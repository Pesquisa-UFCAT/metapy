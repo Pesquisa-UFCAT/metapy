{
 "cells": [
  {
   "cell_type": "code",
   "execution_count": null,
   "id": "2922389e",
   "metadata": {},
   "outputs": [],
   "source": [
    "import numpy as np\n",
    "from scipy import stats\n",
    "\n",
    "def initial_population_01(n_population: int, n_dimensions: int, x_lower: np.ndarray, x_upper: np.ndarray, seed: int = None, use_lhs: bool = True, scramble: bool = True):\n",
    "    \"\"\"\n",
    "    Generates an initial population of continuous variables within the specified bounds.  \n",
    "    If use_lhs=True: uses Latin Hypercube Sampling (scipy.stats.qmc.LatinHypercube).  \n",
    "    If use_lhs=False: uses numpy uniform RNG.\n",
    "\n",
    "    :param n_population: number of individuals in the population.\n",
    "    :param n_dimensions: number of dimensions (variables) in the problem.\n",
    "    :param x_lower: lower bounds per dimension (size n_dimensions).\n",
    "    :param x_upper: upper bounds per dimension (size n_dimensions).\n",
    "    :param seed: random seed for reproducibility. Default None.\n",
    "    :param use_lhs: True to use Latin Hypercube (default). False to use pure uniform sampling.\n",
    "    :param scramble: only for LHS — if True, enables scrambling (shuffling) in the LHS.\n",
    "\n",
    "    :return: generated population, format [n_population][n_dimensions].\n",
    "    \"\"\"\n",
    "    x_lower = np.asarray(x_lower, dtype=float)\n",
    "    x_upper = np.asarray(x_upper, dtype=float)\n",
    "\n",
    "    if x_lower.shape[0] != n_dimensions or x_upper.shape[0] != n_dimensions:\n",
    "        raise ValueError(\"x_lower and x_upper must have the same length as n_dimensions.\")\n",
    "\n",
    "    # Case: Latin Hypercube Sampling (Scipy)\n",
    "    if use_lhs:\n",
    "        # scipy.stats.qmc is available in scipy >= 1.7\n",
    "        qmc = stats.qmc\n",
    "        sampler = qmc.LatinHypercube(d=n_dimensions, scramble=bool(scramble), seed=seed)\n",
    "        # generate points in the unit hypercube [0,1]^d\n",
    "        sample_unit = sampler.random(n=n_population)  # shape (n_population, n_dimensions)\n",
    "        # scale to the provided bounds\n",
    "        sample_scaled = qmc.scale(sample_unit, x_lower, x_upper)\n",
    "        x_pop = sample_scaled.tolist()\n",
    "\n",
    "    else:\n",
    "        # Case: pure uniform sampling with numpy\n",
    "        rng = np.random.default_rng(seed)\n",
    "        # generate matrix shape (n_population, n_dimensions) with uniform [0,1)\n",
    "        u = rng.uniform(size=(n_population, n_dimensions))\n",
    "        # scale to [x_lower, x_upper]\n",
    "        sample = x_lower + (x_upper - x_lower) * u\n",
    "        x_pop = sample.tolist()\n",
    "\n",
    "    return x_pop\n"
   ]
  },
  {
   "cell_type": "code",
   "execution_count": 2,
   "id": "be3f3bf0",
   "metadata": {},
   "outputs": [
    {
     "name": "stdout",
     "output_type": "stream",
     "text": [
      "População (LHS):\n",
      "[0.5226043951444037, -2.4388784397520524, 19.141402080088618]\n",
      "[0.03026319709406361, -4.0941773478876495, 13.024377648363245]\n",
      "[0.9238860298009648, 4.213935694723046, 10.871886367324453]\n",
      "[0.8549614062104434, -1.370798024232581, 12.073235011151398]\n",
      "[0.6356134879919335, 2.1772383867291705, 18.55658580117267]\n",
      "[0.7772761278215223, 0.4454152129841651, 16.936182743895824]\n",
      "[0.11723688280074178, -0.631664399122065, 15.241912259914626]\n",
      "[0.26454740318701314, -3.9706980243949035, 17.106878878677804]\n",
      "[0.3221616502926238, 3.8053612921480315, 14.533278996272966]\n",
      "[0.49561962342127713, 1.845710507932452, 11.316951046757545]\n",
      "\n",
      "População (uniform):\n",
      "[0.7739560485559633, -0.6112156024794766, 18.585979199113822]\n",
      "[0.6973680290593639, -4.058226521123505, 19.75622351636756]\n",
      "[0.761139701990353, 2.8606430527695377, 11.281136326755458]\n",
      "[0.45038593789556713, -1.2920197576741876, 19.26764988848602]\n",
      "[0.6438651200806645, 3.227616132708299, 14.43414198827331]\n",
      "[0.2272387217847769, 0.5458478701583482, 10.638172561041753]\n",
      "[0.8276311719925821, 1.3166439912206487, 17.580877400853737]\n",
      "[0.35452596812986836, 4.706980243949033, 18.931211213221978]\n",
      "[0.7783834970737619, -3.0536129214803243, 14.667210037270342]\n",
      "[0.04380376578722878, -3.4571050793245215, 16.830489532424547]\n"
     ]
    }
   ],
   "source": [
    "# parâmetros do problema\n",
    "n_population = 10\n",
    "n_dimensions = 3\n",
    "x_lower = [0.0, -5.0, 10.0]\n",
    "x_upper = [1.0, 5.0, 20.0]\n",
    "seed = 42\n",
    "\n",
    "# 1) usando Latin Hypercube (recomendado para boa cobertura do espaço)\n",
    "pop_lhs = initial_population_01(n_population, n_dimensions, x_lower, x_upper,\n",
    "                                seed=seed, use_lhs=True, scramble=True)\n",
    "print(\"População (LHS):\")\n",
    "for p in pop_lhs:\n",
    "    print(p)\n",
    "\n",
    "# 2) usando uniforme puro (numpy)\n",
    "pop_uniform = initial_population_01(n_population, n_dimensions, x_lower, x_upper,\n",
    "                                    seed=seed, use_lhs=False)\n",
    "print(\"\\nPopulação (uniform):\")\n",
    "for p in pop_uniform:\n",
    "    print(p)\n"
   ]
  }
 ],
 "metadata": {
  "kernelspec": {
   "display_name": "env",
   "language": "python",
   "name": "python3"
  },
  "language_info": {
   "codemirror_mode": {
    "name": "ipython",
    "version": 3
   },
   "file_extension": ".py",
   "mimetype": "text/x-python",
   "name": "python",
   "nbconvert_exporter": "python",
   "pygments_lexer": "ipython3",
   "version": "3.12.10"
  }
 },
 "nbformat": 4,
 "nbformat_minor": 5
}
