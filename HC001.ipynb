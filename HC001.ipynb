{
 "cells": [
  {
   "cell_type": "code",
   "execution_count": 7,
   "id": "c8fb88ac",
   "metadata": {},
   "outputs": [],
   "source": [
    "import numpy as np\n",
    "from META_TOOLBOX import HILL_CLIMBING_001"
   ]
  },
  {
   "cell_type": "code",
   "execution_count": 9,
   "id": "73c79354",
   "metadata": {},
   "outputs": [
    {
     "name": "stdout",
     "output_type": "stream",
     "text": [
      "Progress: |██████████████████████████████████████████████████| 100.0% Complete\n",
      "Process Time: 3.02 Seconds \n",
      " Seconds per repetition: 0.30\n",
      "META_HC001_REP_0_BEST_0_20221027 211711.xlsx\n",
      "META_HC001_REP_1_BEST_1_20221027 211711.xlsx\n",
      "META_HC001_REP_2_BEST_2_20221027 211712.xlsx\n",
      "META_HC001_REP_3_BEST_3_20221027 211712.xlsx\n",
      "META_HC001_REP_4_BEST_4_20221027 211712.xlsx\n",
      "META_HC001_REP_5_BEST_5_20221027 211712.xlsx\n",
      "META_HC001_REP_6_BEST_6_20221027 211712.xlsx\n",
      "META_HC001_REP_7_BEST_7_20221027 211712.xlsx\n",
      "META_HC001_REP_8_BEST_8_20221027 211712.xlsx\n",
      "META_HC001_REP_9_BEST_9_20221027 211713.xlsx\n",
      "META_HC001_RESUME_20221027 211713.xlsx\n"
     ]
    }
   ],
   "source": [
    "# Input\n",
    "SETUP = {\n",
    "        'N_REP': 10,\n",
    "        'N_POP': 5,\n",
    "        'N_ITER': 1000,\n",
    "        'X_L': [-2, -2, -2],\n",
    "        'X_U': [2, 2, 2],\n",
    "        'D': 3,\n",
    "        'NULL_DIC': None,\n",
    "        'SIGMA': 0.10\n",
    "        }\n",
    "\n",
    "# OF statement\n",
    "def OF_FUNCTION(X, NULL_DIC):\n",
    "    X_0 = X[0]\n",
    "    X_1 = X[1]\n",
    "    X_2 = X[2]\n",
    "    OF = X_0 ** 2 + X_1 ** 2 + X_2 ** 2\n",
    "    return OF\n",
    "\n",
    "# Call algorithm\n",
    "RESULTS_REP, BEST_REP, AVERAGE_REP, WORST_REP, STATUS_PROCEDURE = HILL_CLIMBING_001(OF_FUNCTION, SETUP)"
   ]
  }
 ],
 "metadata": {
  "kernelspec": {
   "display_name": "Python 3.8.8 ('base')",
   "language": "python",
   "name": "python3"
  },
  "language_info": {
   "codemirror_mode": {
    "name": "ipython",
    "version": 3
   },
   "file_extension": ".py",
   "mimetype": "text/x-python",
   "name": "python",
   "nbconvert_exporter": "python",
   "pygments_lexer": "ipython3",
   "version": "3.8.8"
  },
  "vscode": {
   "interpreter": {
    "hash": "12eb6b6a99ebdaf40fea6d18052249e47d18a78868cec791600a2bb30324e5ce"
   }
  }
 },
 "nbformat": 4,
 "nbformat_minor": 5
}
