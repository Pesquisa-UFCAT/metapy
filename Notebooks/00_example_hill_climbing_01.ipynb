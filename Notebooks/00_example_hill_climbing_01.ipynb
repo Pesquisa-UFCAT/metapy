{
  "cells": [
    {
      "cell_type": "markdown",
      "metadata": {},
      "source": [
        "# Import library"
      ]
    },
    {
      "cell_type": "code",
      "execution_count": 12,
      "metadata": {},
      "outputs": [],
      "source": [
        "# pip install metapy-toolbox\n",
        "from metapy_toolbox import hill_climbing_01"
      ]
    },
    {
      "cell_type": "markdown",
      "metadata": {},
      "source": [
        "# Setup"
      ]
    },
    {
      "cell_type": "code",
      "execution_count": 13,
      "metadata": {},
      "outputs": [],
      "source": [
        "def my_function(x, none_variable):\n",
        "    \"\"\"Sphere function\"\"\"\n",
        "    return x[0]**2 + x[1]**2\n",
        "\n",
        "setup = {   \n",
        "            'number of iterations': 100,\n",
        "            'number of population': 2,\n",
        "            'number of dimensions': 2,\n",
        "            'x pop lower limit': [-5, -5],\n",
        "            'x pop upper limit': [5, 5],\n",
        "            'none variable': None,\n",
        "            'objective function': my_function,\n",
        "            'algorithm parameters': {'sigma': 20, 'pdf': 'gaussian'},\n",
        "        }\n",
        "\n",
        "init_pop = [[-0.744296104431692, 1.2756394501594848],\n",
        "                [3.584499004856184, -3.3267189715496515]]\n",
        "\n",
        "seed = None"
      ]
    },
    {
      "cell_type": "markdown",
      "metadata": {},
      "source": [
        "# Call function"
      ]
    },
    {
      "cell_type": "code",
      "execution_count": 14,
      "metadata": {},
      "outputs": [],
      "source": [
        "settings = [setup, init_pop, seed]\n",
        "df_all_results, df_resume, time_cost, report = hill_climbing_01(settings)"
      ]
    },
    {
      "cell_type": "markdown",
      "metadata": {},
      "source": [
        "# Output details"
      ]
    },
    {
      "cell_type": "code",
      "execution_count": null,
      "metadata": {},
      "outputs": [],
      "source": [
        "df_all_results"
      ]
    },
    {
      "cell_type": "code",
      "execution_count": null,
      "metadata": {},
      "outputs": [],
      "source": [
        "df_resume"
      ]
    },
    {
      "cell_type": "markdown",
      "metadata": {},
      "source": [
        "# Report"
      ]
    },
    {
      "cell_type": "code",
      "execution_count": 17,
      "metadata": {},
      "outputs": [],
      "source": [
        "# Nome do arquivo onde o relatório será salvo\n",
        "nome_arquivo = \"relatorio.txt\"\n",
        "\n",
        "# Escrevendo o relatório no arquivo de texto\n",
        "with open(nome_arquivo, \"w\") as arquivo:\n",
        "    arquivo.write(report)"
      ]
    }
  ],
  "metadata": {
    "kernelspec": {
      "display_name": "Python 3 (ipykernel)",
      "language": "python",
      "name": "python3"
    },
    "language_info": {
      "codemirror_mode": {
        "name": "ipython",
        "version": 3
      },
      "file_extension": ".py",
      "mimetype": "text/x-python",
      "name": "python",
      "nbconvert_exporter": "python",
      "pygments_lexer": "ipython3",
      "version": "3.11.7"
    },
    "vscode": {
      "interpreter": {
        "hash": "88279d2366fe020547cde40dd65aa0e3aa662a6ec1f3ca12d88834876c85e1a6"
      }
    }
  },
  "nbformat": 4,
  "nbformat_minor": 2
}
