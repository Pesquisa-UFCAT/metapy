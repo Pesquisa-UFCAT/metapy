{
  "nbformat": 4,
  "nbformat_minor": 0,
  "metadata": {
    "colab": {
      "name": "SA_example.ipynb",
      "provenance": [],
      "collapsed_sections": []
    },
    "kernelspec": {
      "name": "python3",
      "display_name": "Python 3"
    },
    "language_info": {
      "name": "python"
    }
  },
  "cells": [
    {
      "cell_type": "markdown",
      "metadata": {
        "id": "wvWlM5PlYH0S"
      },
      "source": [
        "**1.0 - INSTALL LIBRARY**"
      ]
    },
    {
      "cell_type": "code",
      "metadata": {
        "colab": {
          "base_uri": "https://localhost:8080/"
        },
        "id": "EzZ8rDBAWYzk",
        "outputId": "ff2c5681-f80b-4f80-8a43-d72c33f1dbf5"
      },
      "source": [
        "!pip install META-TOOLBOX"
      ],
      "execution_count": 1,
      "outputs": [
        {
          "output_type": "stream",
          "text": [
            "Requirement already satisfied: META-TOOLBOX in /usr/local/lib/python3.7/dist-packages (0.0.0)\n"
          ],
          "name": "stdout"
        }
      ]
    },
    {
      "cell_type": "markdown",
      "metadata": {
        "id": "twR6QYNCYONy"
      },
      "source": [
        "**2.0 - IMPORT OPTIMIZATION FUNCTION**"
      ]
    },
    {
      "cell_type": "code",
      "metadata": {
        "id": "xgnQ-VldW6Ah"
      },
      "source": [
        "# import 'SA_ALGORITHM_0001' function\n",
        "from META_TOOLBOX import SA_ALGORITHM_0001\n",
        "\n",
        "# Setup function SA algorithm\n",
        "SETUP = {'N_REP': 50,\n",
        "         'N_ITER': 100,\n",
        "         'N_POP': 1,\n",
        "         'D': 5,\n",
        "         'X_L': [-30] * 5,\n",
        "         'X_U': [30] * 5,\n",
        "         'SIGMA': 0.20,\n",
        "         'ALPHA': 0.98,\n",
        "         'TEMP': 100,\n",
        "         'STOP_CONTROL_TEMP': 2,\n",
        "         'NULL_DIC': None\n",
        "        }"
      ],
      "execution_count": 2,
      "outputs": []
    },
    {
      "cell_type": "code",
      "metadata": {
        "id": "H8uUPwGUW-B5"
      },
      "source": [
        "# Rosenbrock function\n",
        "def ROSENBROCK(X):\n",
        "    \"\"\"\n",
        "    Rosenbrock benchmark function D-dimension\n",
        "    \"\"\"\n",
        "    DIM = len(X)\n",
        "    SUM = 0\n",
        "    for I_COUNT in range(DIM - 1):\n",
        "        X_I = X[I_COUNT]\n",
        "        X_NEXT = X[I_COUNT + 1]\n",
        "        NEW = 100 * (X_NEXT - X_I ** 2) ** 2 + (X_I - 1) ** 2\n",
        "        SUM += NEW\n",
        "    Y = SUM\n",
        "    return Y\n",
        "\n",
        "# Objective function\n",
        "def OF_FUNCTION(X, NULL_DIC):\n",
        "    OF = ROSENBROCK(X)\n",
        "    return OF"
      ],
      "execution_count": 3,
      "outputs": []
    },
    {
      "cell_type": "markdown",
      "metadata": {
        "id": "lQi6LZoJYsdr"
      },
      "source": [
        "**3.0 - RUNNING THE SA ALGORITHM**"
      ]
    },
    {
      "cell_type": "code",
      "metadata": {
        "id": "0qLUX3TFW_ix"
      },
      "source": [
        "[RESULTS_REP, BEST_REP, AVERAGE_REP, WORST_REP, STATUS] = SA_ALGORITHM_0001(OF_FUNCTION, SETUP)"
      ],
      "execution_count": 4,
      "outputs": []
    },
    {
      "cell_type": "markdown",
      "metadata": {
        "id": "jf7CxzHvY5wR"
      },
      "source": [
        "**4.0 - VIEW RESULTS**"
      ]
    },
    {
      "cell_type": "code",
      "metadata": {
        "colab": {
          "base_uri": "https://localhost:8080/"
        },
        "id": "xdrpl-PzZOAC",
        "outputId": "b231765f-0edc-4966-f433-a6d9fbc0e78c"
      },
      "source": [
        "# Ordering of best procedures\n",
        "print(STATUS)"
      ],
      "execution_count": 5,
      "outputs": [
        {
          "output_type": "stream",
          "text": [
            "[36  9 35 21  7  6 47 12 39 18 34 40  4 11 38  5 23 25  0 22 16 28 44 19\n",
            " 14 48 27 15  1  8 30 26 42 41 10 17 33 29 45 43  3 32 24  2 49 20 37 31\n",
            " 46 13]\n"
          ],
          "name": "stdout"
        }
      ]
    },
    {
      "cell_type": "code",
      "metadata": {
        "colab": {
          "base_uri": "https://localhost:8080/"
        },
        "id": "kzjL0hPfXA0L",
        "outputId": "ca77f7e3-97be-45fe-b9e8-97a1ac73d6bf"
      },
      "source": [
        "# Results about best repetiton (seventh procedure ID: 6)\n",
        "BEST_REP[1]"
      ],
      "execution_count": 6,
      "outputs": [
        {
          "output_type": "execute_result",
          "data": {
            "text/plain": [
              "{'FIT': array([3.86576395e-08, 1.21640983e-07, 1.64212008e-07, 2.27094637e-07,\n",
              "        2.27094637e-07, 2.27094637e-07, 2.39966083e-07, 2.39966083e-07,\n",
              "        2.39966083e-07, 2.39966083e-07, 2.39966083e-07, 2.39966083e-07,\n",
              "        4.57852177e-07, 4.57852177e-07, 6.09406969e-07, 6.67452845e-07,\n",
              "        6.67452845e-07, 6.67452845e-07, 7.08296266e-07, 7.08296266e-07,\n",
              "        7.08296266e-07, 9.97141890e-07, 9.97141890e-07, 1.33886916e-06,\n",
              "        1.33886916e-06, 1.33886916e-06, 1.87992828e-06, 2.03357152e-06,\n",
              "        4.02376328e-06, 5.33072092e-06, 5.33072092e-06, 5.33072092e-06,\n",
              "        5.33072092e-06, 5.33072092e-06, 7.71128386e-06, 8.08342734e-06,\n",
              "        8.08342734e-06, 9.77368064e-06, 9.77368064e-06, 9.77368064e-06,\n",
              "        9.77368064e-06, 1.18857694e-05, 1.62178271e-05, 1.62178271e-05,\n",
              "        2.56559968e-05, 2.56559968e-05, 2.56559968e-05, 2.56559968e-05,\n",
              "        5.70191323e-05, 5.70191323e-05, 6.84843960e-05, 6.84843960e-05,\n",
              "        7.91157970e-05, 7.91157970e-05, 7.91157970e-05, 7.91157970e-05,\n",
              "        1.11365139e-04, 1.11365139e-04, 1.43099724e-04, 1.57115895e-04,\n",
              "        1.57115895e-04, 1.57115895e-04, 1.57115895e-04, 2.25906912e-04,\n",
              "        3.37050819e-04, 3.37050819e-04, 3.58981410e-04, 3.58981410e-04,\n",
              "        3.58981410e-04, 5.51694723e-04, 5.51694723e-04, 5.51694723e-04,\n",
              "        6.41443624e-04, 8.80546549e-04, 8.80546549e-04, 8.80546549e-04,\n",
              "        8.80546549e-04, 8.80546549e-04, 8.80546549e-04, 8.80546549e-04,\n",
              "        8.80546549e-04, 1.02339406e-03, 1.02339406e-03, 1.02339406e-03,\n",
              "        1.78727169e-03, 1.78727169e-03, 3.74986472e-03, 3.74986472e-03,\n",
              "        3.74986472e-03, 4.57496445e-03, 4.37719249e-03, 3.99983249e-03,\n",
              "        3.17418513e-03, 3.17418513e-03, 3.07189074e-03, 3.07189074e-03,\n",
              "        3.27016387e-03, 3.53884121e-03, 3.53884121e-03, 3.53884121e-03,\n",
              "        4.95958264e-03]),\n",
              " 'ID_PARTICLE': array([0., 0., 0., 0., 0., 0., 0., 0., 0., 0., 0., 0., 0., 0., 0., 0., 0.,\n",
              "        0., 0., 0., 0., 0., 0., 0., 0., 0., 0., 0., 0., 0., 0., 0., 0., 0.,\n",
              "        0., 0., 0., 0., 0., 0., 0., 0., 0., 0., 0., 0., 0., 0., 0., 0., 0.,\n",
              "        0., 0., 0., 0., 0., 0., 0., 0., 0., 0., 0., 0., 0., 0., 0., 0., 0.,\n",
              "        0., 0., 0., 0., 0., 0., 0., 0., 0., 0., 0., 0., 0., 0., 0., 0., 0.,\n",
              "        0., 0., 0., 0., 0., 0., 0., 0., 0., 0., 0., 0., 0., 0., 0., 0.]),\n",
              " 'NEOF': array([  1.,   2.,   3.,   4.,   5.,   6.,   7.,   8.,   9.,  10.,  11.,\n",
              "         12.,  13.,  14.,  15.,  16.,  17.,  18.,  19.,  20.,  21.,  22.,\n",
              "         23.,  24.,  25.,  26.,  27.,  28.,  29.,  30.,  31.,  32.,  33.,\n",
              "         34.,  35.,  36.,  37.,  38.,  39.,  40.,  41.,  42.,  43.,  44.,\n",
              "         45.,  46.,  47.,  48.,  49.,  50.,  51.,  52.,  53.,  54.,  55.,\n",
              "         56.,  57.,  58.,  59.,  60.,  61.,  62.,  63.,  64.,  65.,  66.,\n",
              "         67.,  68.,  69.,  70.,  71.,  72.,  73.,  74.,  75.,  76.,  77.,\n",
              "         78.,  79.,  80.,  81.,  82.,  83.,  84.,  85.,  86.,  87.,  88.,\n",
              "         89.,  90.,  91.,  92.,  93.,  94.,  95.,  96.,  97.,  98.,  99.,\n",
              "        100., 101.]),\n",
              " 'OF': array([2.58681071e+07, 8.22091253e+06, 6.08968765e+06, 4.40344953e+06,\n",
              "        4.40344953e+06, 4.40344953e+06, 4.16725458e+06, 4.16725458e+06,\n",
              "        4.16725458e+06, 4.16725458e+06, 4.16725458e+06, 4.16725458e+06,\n",
              "        2.18411005e+06, 2.18411005e+06, 1.64093855e+06, 1.49823218e+06,\n",
              "        1.49823218e+06, 1.49823218e+06, 1.41183759e+06, 1.41183759e+06,\n",
              "        1.41183759e+06, 1.00286530e+06, 1.00286530e+06, 7.46897972e+05,\n",
              "        7.46897972e+05, 7.46897972e+05, 5.31934187e+05, 4.91744676e+05,\n",
              "        2.48522566e+05, 1.87590888e+05, 1.87590888e+05, 1.87590888e+05,\n",
              "        1.87590888e+05, 1.87590888e+05, 1.29679092e+05, 1.23708901e+05,\n",
              "        1.23708901e+05, 1.02314600e+05, 1.02314600e+05, 1.02314600e+05,\n",
              "        1.02314600e+05, 8.41332250e+04, 6.16595413e+04, 6.16595413e+04,\n",
              "        3.89762422e+04, 3.89762422e+04, 3.89762422e+04, 3.89762422e+04,\n",
              "        1.75369729e+04, 1.75369729e+04, 1.46008664e+04, 1.46008664e+04,\n",
              "        1.26387008e+04, 1.26387008e+04, 1.26387008e+04, 1.26387008e+04,\n",
              "        8.97847068e+03, 8.97847068e+03, 6.98713367e+03, 6.36372842e+03,\n",
              "        6.36372842e+03, 6.36372842e+03, 6.36372842e+03, 4.42560205e+03,\n",
              "        2.96591165e+03, 2.96591165e+03, 2.78465957e+03, 2.78465957e+03,\n",
              "        2.78465957e+03, 1.81159664e+03, 1.81159664e+03, 1.81159664e+03,\n",
              "        1.55798346e+03, 1.13465830e+03, 1.13465830e+03, 1.13465830e+03,\n",
              "        1.13465830e+03, 1.13465830e+03, 1.13465830e+03, 1.13465830e+03,\n",
              "        1.13465830e+03, 9.76140713e+02, 9.76140713e+02, 9.76140713e+02,\n",
              "        5.58512025e+02, 5.58512025e+02, 2.65676287e+02, 2.65676287e+02,\n",
              "        2.65676287e+02, 2.17580933e+02, 2.27456939e+02, 2.49010470e+02,\n",
              "        3.14041485e+02, 3.14041485e+02, 3.24532411e+02, 3.24532411e+02,\n",
              "        3.04795073e+02, 2.81578375e+02, 2.81578375e+02, 2.81578375e+02,\n",
              "        2.00629869e+02]),\n",
              " 'SA_PARAMETERS': array([100.        ,  98.        ,  96.04      ,  94.1192    ,\n",
              "         92.236816  ,  90.39207968,  88.58423809,  86.81255332,\n",
              "         85.07630226,  83.37477621,  81.70728069,  80.07313507,\n",
              "         78.47167237,  76.90223893,  75.36419415,  73.85691026,\n",
              "         72.37977206,  70.93217662,  69.51353309,  68.12326242,\n",
              "         66.76079718,  65.42558123,  64.11706961,  62.83472822,\n",
              "         61.57803365,  60.34647298,  59.13954352,  57.95675265,\n",
              "         56.7976176 ,  55.66166524,  54.54843194,  53.4574633 ,\n",
              "         52.38831403,  51.34054775,  50.3137368 ,  49.30746206,\n",
              "         48.32131282,  47.35488656,  46.40778883,  45.47963306,\n",
              "         44.5700404 ,  43.67863959,  42.8050668 ,  41.94896546,\n",
              "         41.10998615,  40.28778643,  39.4820307 ,  38.69239008,\n",
              "         37.91854228,  37.16017144,  36.41696801,  35.68862865,\n",
              "         34.97485608,  34.27535895,  33.58985177,  32.91805474,\n",
              "         32.25969364,  31.61449977,  30.98220978,  30.36256558,\n",
              "         29.75531427,  29.16020798,  28.57700382,  28.00546375,\n",
              "         27.44535447,  26.89644738,  26.35851844,  25.83134807,\n",
              "         25.31472111,  24.80842668,  24.31225815,  23.82601299,\n",
              "         23.34949273,  22.88250287,  22.42485282,  21.97635576,\n",
              "         21.53682864,  21.10609207,  20.68397023,  20.27029082,\n",
              "         19.86488501,  19.46758731,  19.07823556,  18.69667085,\n",
              "         18.32273743,  17.95628268,  17.59715703,  17.24521389,\n",
              "         16.90030961,  16.56230342,  16.23105735,  15.90643621,\n",
              "         15.58830748,  15.27654133,  14.9710105 ,  14.67159029,\n",
              "         14.37815849,  14.09059532,  13.80878341,  13.53260774,\n",
              "         13.26195559]),\n",
              " 'X_POSITION': array([[-19.81380233,   5.41609247, -18.00929573,  -2.0032213 ,\n",
              "           9.83177613],\n",
              "        [-13.60668992,   4.72356991, -14.7537693 ,  -2.00712012,\n",
              "           8.491837  ],\n",
              "        [-12.23351637,   6.38345678, -13.81706911,  -2.4331971 ,\n",
              "           8.18462792],\n",
              "        [-14.0138516 ,   4.60117385,  -8.81972976,  -1.57985252,\n",
              "           9.58467262],\n",
              "        [-14.0138516 ,   4.60117385,  -8.81972976,  -1.57985252,\n",
              "           9.58467262],\n",
              "        [-14.0138516 ,   4.60117385,  -8.81972976,  -1.57985252,\n",
              "           9.58467262],\n",
              "        [-13.83327448,   5.40669109,  -8.54608217,  -1.82548897,\n",
              "          11.03578421],\n",
              "        [-13.83327448,   5.40669109,  -8.54608217,  -1.82548897,\n",
              "          11.03578421],\n",
              "        [-13.83327448,   5.40669109,  -8.54608217,  -1.82548897,\n",
              "          11.03578421],\n",
              "        [-13.83327448,   5.40669109,  -8.54608217,  -1.82548897,\n",
              "          11.03578421],\n",
              "        [-13.83327448,   5.40669109,  -8.54608217,  -1.82548897,\n",
              "          11.03578421],\n",
              "        [-13.83327448,   5.40669109,  -8.54608217,  -1.82548897,\n",
              "          11.03578421],\n",
              "        [-11.4875653 ,   4.84976855,  -8.127209  ,  -1.76820438,\n",
              "          12.0337224 ],\n",
              "        [-11.4875653 ,   4.84976855,  -8.127209  ,  -1.76820438,\n",
              "          12.0337224 ],\n",
              "        [-10.82539915,   6.18283   ,  -6.58513845,  -1.72067333,\n",
              "           9.58231881],\n",
              "        [ -8.60524145,   6.67358303,  -9.21819859,  -1.41322976,\n",
              "          11.36848362],\n",
              "        [ -8.60524145,   6.67358303,  -9.21819859,  -1.41322976,\n",
              "          11.36848362],\n",
              "        [ -8.60524145,   6.67358303,  -9.21819859,  -1.41322976,\n",
              "          11.36848362],\n",
              "        [ -9.24112361,   7.50552772,  -7.77590523,  -1.57612116,\n",
              "          11.95857202],\n",
              "        [ -9.24112361,   7.50552772,  -7.77590523,  -1.57612116,\n",
              "          11.95857202],\n",
              "        [ -9.24112361,   7.50552772,  -7.77590523,  -1.57612116,\n",
              "          11.95857202],\n",
              "        [ -7.93024724,   7.40386137,  -7.31078542,  -1.66723847,\n",
              "           9.89145167],\n",
              "        [ -7.93024724,   7.40386137,  -7.31078542,  -1.66723847,\n",
              "           9.89145167],\n",
              "        [ -7.08288129,   7.25284566,  -6.61648033,  -1.41197412,\n",
              "          10.74009009],\n",
              "        [ -7.08288129,   7.25284566,  -6.61648033,  -1.41197412,\n",
              "          10.74009009],\n",
              "        [ -7.08288129,   7.25284566,  -6.61648033,  -1.41197412,\n",
              "          10.74009009],\n",
              "        [ -6.65843311,   6.27279208,  -6.31452457,  -1.57979713,\n",
              "          10.60457891],\n",
              "        [ -6.82826908,   4.63557277,  -6.809066  ,  -1.71934208,\n",
              "           9.29505806],\n",
              "        [ -5.22123649,   5.93218484,  -4.40695719,  -1.71355167,\n",
              "           6.761608  ],\n",
              "        [ -5.30599938,   5.05415122,  -4.38646067,  -1.40862669,\n",
              "           6.35974055],\n",
              "        [ -5.30599938,   5.05415122,  -4.38646067,  -1.40862669,\n",
              "           6.35974055],\n",
              "        [ -5.30599938,   5.05415122,  -4.38646067,  -1.40862669,\n",
              "           6.35974055],\n",
              "        [ -5.30599938,   5.05415122,  -4.38646067,  -1.40862669,\n",
              "           6.35974055],\n",
              "        [ -5.30599938,   5.05415122,  -4.38646067,  -1.40862669,\n",
              "           6.35974055],\n",
              "        [ -5.33885162,   2.97975854,  -4.45212635,  -1.65165034,\n",
              "           5.11924146],\n",
              "        [ -5.05461877,   2.54361945,  -4.73692483,  -1.46610138,\n",
              "           5.31650215],\n",
              "        [ -5.05461877,   2.54361945,  -4.73692483,  -1.46610138,\n",
              "           5.31650215],\n",
              "        [ -4.70033085,   2.83400767,  -4.52972551,  -1.59116872,\n",
              "           4.74111258],\n",
              "        [ -4.70033085,   2.83400767,  -4.52972551,  -1.59116872,\n",
              "           4.74111258],\n",
              "        [ -4.70033085,   2.83400767,  -4.52972551,  -1.59116872,\n",
              "           4.74111258],\n",
              "        [ -4.70033085,   2.83400767,  -4.52972551,  -1.59116872,\n",
              "           4.74111258],\n",
              "        [ -4.88371533,   2.30146737,  -3.92258354,  -1.2588073 ,\n",
              "           5.35814018],\n",
              "        [ -4.37201622,   3.11310579,  -3.48625652,  -1.17053972,\n",
              "           4.33226545],\n",
              "        [ -4.37201622,   3.11310579,  -3.48625652,  -1.17053972,\n",
              "           4.33226545],\n",
              "        [ -4.06989877,   2.97963096,  -2.61122753,  -1.45291761,\n",
              "           4.18822945],\n",
              "        [ -4.06989877,   2.97963096,  -2.61122753,  -1.45291761,\n",
              "           4.18822945],\n",
              "        [ -4.06989877,   2.97963096,  -2.61122753,  -1.45291761,\n",
              "           4.18822945],\n",
              "        [ -4.06989877,   2.97963096,  -2.61122753,  -1.45291761,\n",
              "           4.18822945],\n",
              "        [ -3.09630292,   2.87734564,  -1.88803994,  -1.27091791,\n",
              "           3.41988399],\n",
              "        [ -3.09630292,   2.87734564,  -1.88803994,  -1.27091791,\n",
              "           3.41988399],\n",
              "        [ -2.89965261,   2.81138627,  -1.73787426,  -1.60242533,\n",
              "           2.73139217],\n",
              "        [ -2.89965261,   2.81138627,  -1.73787426,  -1.60242533,\n",
              "           2.73139217],\n",
              "        [ -1.77984883,   2.94094211,  -1.69663563,  -1.46560241,\n",
              "           2.57239317],\n",
              "        [ -1.77984883,   2.94094211,  -1.69663563,  -1.46560241,\n",
              "           2.57239317],\n",
              "        [ -1.77984883,   2.94094211,  -1.69663563,  -1.46560241,\n",
              "           2.57239317],\n",
              "        [ -1.77984883,   2.94094211,  -1.69663563,  -1.46560241,\n",
              "           2.57239317],\n",
              "        [ -1.25476423,   2.55337147,  -1.71719837,  -1.60648037,\n",
              "           2.69369112],\n",
              "        [ -1.25476423,   2.55337147,  -1.71719837,  -1.60648037,\n",
              "           2.69369112],\n",
              "        [ -0.95048864,   2.49368452,  -1.32243142,  -1.25124986,\n",
              "           2.7110173 ],\n",
              "        [ -1.02132751,   2.03135232,  -1.90288218,  -1.39562733,\n",
              "           2.92204711],\n",
              "        [ -1.02132751,   2.03135232,  -1.90288218,  -1.39562733,\n",
              "           2.92204711],\n",
              "        [ -1.02132751,   2.03135232,  -1.90288218,  -1.39562733,\n",
              "           2.92204711],\n",
              "        [ -1.02132751,   2.03135232,  -1.90288218,  -1.39562733,\n",
              "           2.92204711],\n",
              "        [ -0.74531946,   2.01856922,  -1.39896334,  -1.3059295 ,\n",
              "           2.87010116],\n",
              "        [ -1.34865645,   1.71074646,  -1.38011575,  -0.85180853,\n",
              "           2.5557587 ],\n",
              "        [ -1.34865645,   1.71074646,  -1.38011575,  -0.85180853,\n",
              "           2.5557587 ],\n",
              "        [ -1.28360192,   1.80472334,  -1.17698923,  -0.85456993,\n",
              "           2.46348899],\n",
              "        [ -1.28360192,   1.80472334,  -1.17698923,  -0.85456993,\n",
              "           2.46348899],\n",
              "        [ -1.28360192,   1.80472334,  -1.17698923,  -0.85456993,\n",
              "           2.46348899],\n",
              "        [ -1.33802473,   1.55012003,  -0.99771966,  -1.0516426 ,\n",
              "           2.57700411],\n",
              "        [ -1.33802473,   1.55012003,  -0.99771966,  -1.0516426 ,\n",
              "           2.57700411],\n",
              "        [ -1.33802473,   1.55012003,  -0.99771966,  -1.0516426 ,\n",
              "           2.57700411],\n",
              "        [ -1.54161417,   1.47094272,  -0.91748185,  -1.34720997,\n",
              "           2.37696297],\n",
              "        [ -1.54157915,   1.08508597,  -0.89792519,  -1.3254118 ,\n",
              "           2.57712257],\n",
              "        [ -1.54157915,   1.08508597,  -0.89792519,  -1.3254118 ,\n",
              "           2.57712257],\n",
              "        [ -1.54157915,   1.08508597,  -0.89792519,  -1.3254118 ,\n",
              "           2.57712257],\n",
              "        [ -1.54157915,   1.08508597,  -0.89792519,  -1.3254118 ,\n",
              "           2.57712257],\n",
              "        [ -1.54157915,   1.08508597,  -0.89792519,  -1.3254118 ,\n",
              "           2.57712257],\n",
              "        [ -1.54157915,   1.08508597,  -0.89792519,  -1.3254118 ,\n",
              "           2.57712257],\n",
              "        [ -1.54157915,   1.08508597,  -0.89792519,  -1.3254118 ,\n",
              "           2.57712257],\n",
              "        [ -1.54157915,   1.08508597,  -0.89792519,  -1.3254118 ,\n",
              "           2.57712257],\n",
              "        [ -1.53413885,   1.0735625 ,  -0.7481888 ,  -1.19128379,\n",
              "           2.55981567],\n",
              "        [ -1.53413885,   1.0735625 ,  -0.7481888 ,  -1.19128379,\n",
              "           2.55981567],\n",
              "        [ -1.53413885,   1.0735625 ,  -0.7481888 ,  -1.19128379,\n",
              "           2.55981567],\n",
              "        [ -1.48412682,   0.64400468,  -0.50248378,  -1.14637891,\n",
              "           1.78962378],\n",
              "        [ -1.48412682,   0.64400468,  -0.50248378,  -1.14637891,\n",
              "           1.78962378],\n",
              "        [ -0.80892527,   0.65817446,  -0.46936975,  -1.09597735,\n",
              "           1.10062572],\n",
              "        [ -0.80892527,   0.65817446,  -0.46936975,  -1.09597735,\n",
              "           1.10062572],\n",
              "        [ -0.80892527,   0.65817446,  -0.46936975,  -1.09597735,\n",
              "           1.10062572],\n",
              "        [ -0.79052877,   0.42411724,  -0.53904794,  -0.88758699,\n",
              "           1.1564261 ],\n",
              "        [ -0.82248474,   0.41634629,  -0.43374261,  -0.99891444,\n",
              "           1.57413745],\n",
              "        [ -0.9106479 ,   0.43632016,  -0.47105713,  -1.11335976,\n",
              "           1.14311342],\n",
              "        [ -0.92778459,   0.43096906,  -0.55383491,  -1.1724207 ,\n",
              "           1.04430451],\n",
              "        [ -0.92778459,   0.43096906,  -0.55383491,  -1.1724207 ,\n",
              "           1.04430451],\n",
              "        [ -0.92151068,   0.47624719,  -0.64241534,  -1.0780972 ,\n",
              "           1.02666693],\n",
              "        [ -0.92151068,   0.47624719,  -0.64241534,  -1.0780972 ,\n",
              "           1.02666693],\n",
              "        [ -0.96698841,   0.49216045,  -0.59244932,  -1.07825327,\n",
              "           1.21297887],\n",
              "        [ -0.9787895 ,   0.40886033,  -0.55952056,  -1.0563717 ,\n",
              "           1.077026  ],\n",
              "        [ -0.9787895 ,   0.40886033,  -0.55952056,  -1.0563717 ,\n",
              "           1.077026  ],\n",
              "        [ -0.9787895 ,   0.40886033,  -0.55952056,  -1.0563717 ,\n",
              "           1.077026  ],\n",
              "        [ -0.82546552,   0.36797845,  -0.53264769,  -0.8726333 ,\n",
              "           0.93107004]])}"
            ]
          },
          "metadata": {
            "tags": []
          },
          "execution_count": 6
        }
      ]
    },
    {
      "cell_type": "code",
      "metadata": {
        "colab": {
          "base_uri": "https://localhost:8080/",
          "height": 594
        },
        "id": "GKn3lf_cZqEK",
        "outputId": "b54d9c0b-324e-4055-c688-ead86565614d"
      },
      "source": [
        "# Plot\n",
        "\n",
        "# import 'META_PLOT_004' function\n",
        "from META_TOOLBOX import META_PLOT_004\n",
        "\n",
        "DATASET = {'DATASET': BEST_REP,\n",
        "           'NUMBER OF REPETITIONS': 50,\n",
        "           'DATA TYPE': 'OF'}\n",
        "\n",
        "PLOT_SETUP = {'NAME': 'WANDER',\n",
        "              'WIDTH': 0.40, \n",
        "              'HEIGHT': 0.20, \n",
        "              'X AXIS LABEL': 'OF',\n",
        "              'X AXIS SIZE': 20,\n",
        "              'Y AXIS SIZE': 20,\n",
        "              'AXISES COLOR': '#000000',\n",
        "              'LABELS SIZE': 16,\n",
        "              'LABELS COLOR': '#000000',  \n",
        "              'CHART COLOR': '#FEB625',\n",
        "              'KDE': False,\n",
        "              'BINS': 20,\n",
        "              'DPI': 600, \n",
        "              'EXTENSION': '.svg'}\n",
        "\n",
        "META_PLOT_004(DATASET, PLOT_SETUP)"
      ],
      "execution_count": 7,
      "outputs": [
        {
          "output_type": "stream",
          "text": [
            "/usr/local/lib/python3.7/dist-packages/seaborn/_decorators.py:43: FutureWarning: Pass the following variable as a keyword arg: x. From version 0.12, the only valid positional argument will be `data`, and passing other arguments without an explicit keyword will result in an error or misinterpretation.\n",
            "  FutureWarning\n",
            "findfont: Font family ['Arial'] not found. Falling back to DejaVu Sans.\n",
            "findfont: Font family ['Arial'] not found. Falling back to DejaVu Sans.\n"
          ],
          "name": "stderr"
        },
        {
          "output_type": "display_data",
          "data": {
            "image/png": "[encoded data removed]",
            "text/plain": [
              "<Figure size 1133.86x566.929 with 2 Axes>"
            ]
          },
          "metadata": {
            "tags": []
          }
        }
      ]
    }
  ]
}