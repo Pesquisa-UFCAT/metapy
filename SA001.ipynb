{
 "cells": [
  {
   "cell_type": "code",
   "execution_count": null,
   "metadata": {},
   "outputs": [],
   "source": [
    "import numpy as np\n",
    "from META_TOOLBOX import SIMULATED_ANNEALING_001"
   ]
  },
  {
   "cell_type": "code",
   "execution_count": null,
   "metadata": {},
   "outputs": [],
   "source": [
    "# Input\n",
    "\n",
    "PARAMETERS = {\n",
    "              'SIGMA': 0.15,\n",
    "              'SCHEDULE': 'LINEAR',\n",
    "              'TEMP_FACTOR': 0.98,\n",
    "              'T_0': None\n",
    "             }\n",
    "\n",
    "SETUP = {'N_REP': 30,\n",
    "         'N_ITER': 100,\n",
    "         'N_POP': 1,\n",
    "         'D': 4,\n",
    "         'X_L': [0.25, 0.05, 0.05, 1/6.0],\n",
    "         'X_U': [0.65, 0.15, 0.15, 1/3.5],\n",
    "         'NULL_DIC': None,\n",
    "         'PARAMETERS': PARAMETERS\n",
    "        }\n",
    "\n",
    "# OF statement\n",
    "def OF_FUNCTION(X, NULL_DIC):\n",
    "    X_0 = X[0]\n",
    "    X_1 = X[1]\n",
    "    X_2 = X[2]\n",
    "    OF = X_0 ** 2 + X_1 ** 2 + X_2 ** 2\n",
    "    return OF\n",
    "\n",
    "# Call algorithm\n",
    "[RESULTS_REP, BEST_REP, AVERAGE_REP, WORST_REP, STATUS] = SIMULATED_ANNEALING_001(OF_FUNCTION, SETUP)"
   ]
  }
 ],
 "metadata": {
  "kernelspec": {
   "display_name": "Python 3.8.8 ('base')",
   "language": "python",
   "name": "python3"
  },
  "language_info": {
   "codemirror_mode": {
    "name": "ipython",
    "version": 3
   },
   "file_extension": ".py",
   "mimetype": "text/x-python",
   "name": "python",
   "nbconvert_exporter": "python",
   "pygments_lexer": "ipython3",
   "version": "3.8.8"
  },
  "vscode": {
   "interpreter": {
    "hash": "12eb6b6a99ebdaf40fea6d18052249e47d18a78868cec791600a2bb30324e5ce"
   }
  }
 },
 "nbformat": 4,
 "nbformat_minor": 4
}
