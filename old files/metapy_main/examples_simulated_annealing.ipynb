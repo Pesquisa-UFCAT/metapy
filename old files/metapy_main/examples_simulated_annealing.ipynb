{
 "cells": [
  {
   "cell_type": "markdown",
   "metadata": {},
   "source": [
    "# Simulated annealing examples"
   ]
  },
  {
   "cell_type": "markdown",
   "metadata": {},
   "source": [
    "### `start_temperature`"
   ]
  },
  {
   "cell_type": "code",
   "execution_count": 1,
   "metadata": {},
   "outputs": [
    {
     "name": "stdout",
     "output_type": "stream",
     "text": [
      "t_0: 10.743808163308781\n"
     ]
    }
   ],
   "source": [
    "# Import \n",
    "from metapy_toolbox import initial_population_01, start_temperature # or import *\n",
    "\n",
    "# Data\n",
    "nPop = 10\n",
    "xL = [-5, -5]\n",
    "xU = [5, 5]\n",
    "d = len(xU) # or d = len(xL) or d = 2\n",
    "pdf = 'uniform'\n",
    "cov = 20\n",
    "none_variable = None\n",
    "\n",
    "# Objective function\n",
    "def obj_function(x, none_variable):\n",
    "    \"\"\"Example objective function\"\"\"\n",
    "    x0 = x[0]\n",
    "    x1 = x[1]\n",
    "    of = x0 ** 2 + x1 ** 2\n",
    "    return of\n",
    "\n",
    "# Calculate initial temperature\n",
    "xPop = initial_population_01(nPop, d, xL, xU)\n",
    "ofPop = [obj_function(x, none_variable) for x in xPop]\n",
    "t0Mean, report = start_temperature(nPop, obj_function, xPop, ofPop, xL, xU, d, pdf, cov, none_variable)\n",
    "\n",
    "# Output details\n",
    "print(f\"t_0: {t0Mean}\")"
   ]
  }
 ],
 "metadata": {
  "kernelspec": {
   "display_name": "Python 3",
   "language": "python",
   "name": "python3"
  },
  "language_info": {
   "codemirror_mode": {
    "name": "ipython",
    "version": 3
   },
   "file_extension": ".py",
   "mimetype": "text/x-python",
   "name": "python",
   "nbconvert_exporter": "python",
   "pygments_lexer": "ipython3",
   "version": "3.11.0"
  }
 },
 "nbformat": 4,
 "nbformat_minor": 2
}
