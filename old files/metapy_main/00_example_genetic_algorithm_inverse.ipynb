{
 "cells": [
  {
   "cell_type": "markdown",
   "metadata": {},
   "source": [
    "# Importando as bibliotecas"
   ]
  },
  {
   "cell_type": "code",
   "execution_count": 9,
   "metadata": {},
   "outputs": [],
   "source": [
    "#!pip install metapy-toolbox\n",
    "#!pip install --upgrade EASYPLOT-TOOLBOX\n",
    "#!pip install tqdm\n",
    "from metapy_toolbox import genetic_algorithm_01, loss_function_mse\n",
    "from my_example import my_function_diana_inverse_problem\n",
    "from scipy import interpolate\n",
    "import pandas as pd\n",
    "from EASYPLOT_TOOLBOX import *"
   ]
  },
  {
   "cell_type": "markdown",
   "metadata": {},
   "source": [
    "# Carregando o dataset experimental"
   ]
  },
  {
   "cell_type": "code",
   "execution_count": 5,
   "metadata": {},
   "outputs": [],
   "source": [
    "caminho = './DadosExperimentaisMed_F15.out'\n",
    "file = pd.read_csv(caminho, sep='\\s+', header=0, names=['Desl', 'P'], dtype={'Desl': float, 'P': float})\n",
    "x_exp = file['Desl'].tolist()\n",
    "y_exp = file['P'].tolist()\n",
    "none_variable = interpolate.interp1d(x_exp, y_exp)"
   ]
  },
  {
   "cell_type": "markdown",
   "metadata": {},
   "source": [
    "# Configuração do método"
   ]
  },
  {
   "cell_type": "code",
   "execution_count": 3,
   "metadata": {},
   "outputs": [],
   "source": [
    "setup = {   \n",
    "            'number of iterations': 20,\n",
    "            'number of population': 10,\n",
    "            'number of dimensions': 4,\n",
    "            'x pop lower limit': [0.50*3.93, 0.10*0.50*3.93, 0.0005, 0.006],\n",
    "            'x pop upper limit': [2.00*3.93, 3.93, 0.005, 0.0583],\n",
    "            'none variable': none_variable,\n",
    "            'objective function': my_function_diana_inverse_problem,\n",
    "            'algorithm parameters': {\n",
    "                                     'selection': {'type': 'roulette'},\n",
    "                                     'crossover': {'crossover rate (%)': 85, 'type':'linear'},\n",
    "                                     'mutation': {'mutation rate (%)': 15, 'type': 'hill climbing', 'cov (%)': 15, 'pdf': 'gaussian'},\n",
    "                                    }\n",
    "        }\n",
    "\n",
    "from metapy_toolbox import initial_population_01\n",
    "init_pop = initial_population_01(setup['number of population'],\n",
    "                                setup['number of dimensions'],\n",
    "                                setup['x pop lower limit'],\n",
    "                                setup['x pop upper limit'])\n",
    "\n",
    "# Seed\n",
    "seed = None"
   ]
  },
  {
   "cell_type": "markdown",
   "metadata": {},
   "source": [
    "# Rodando o método de otimização"
   ]
  },
  {
   "cell_type": "code",
   "execution_count": 4,
   "metadata": {},
   "outputs": [],
   "source": [
    "settings = [setup, init_pop, seed]\n",
    "df_all_results, df_resume, time_cost, report = genetic_algorithm_01(settings)"
   ]
  },
  {
   "cell_type": "markdown",
   "metadata": {},
   "source": [
    "# Relatórios"
   ]
  },
  {
   "cell_type": "code",
   "execution_count": 6,
   "metadata": {},
   "outputs": [
    {
     "data": {
      "text/html": [
       "<div>\n",
       "<style scoped>\n",
       "    .dataframe tbody tr th:only-of-type {\n",
       "        vertical-align: middle;\n",
       "    }\n",
       "\n",
       "    .dataframe tbody tr th {\n",
       "        vertical-align: top;\n",
       "    }\n",
       "\n",
       "    .dataframe thead th {\n",
       "        text-align: right;\n",
       "    }\n",
       "</style>\n",
       "<table border=\"1\" class=\"dataframe\">\n",
       "  <thead>\n",
       "    <tr style=\"text-align: right;\">\n",
       "      <th></th>\n",
       "      <th>X_0</th>\n",
       "      <th>X_1</th>\n",
       "      <th>X_2</th>\n",
       "      <th>X_3</th>\n",
       "      <th>OF BEST</th>\n",
       "      <th>FIT BET</th>\n",
       "      <th>ID BEST</th>\n",
       "      <th>X_0</th>\n",
       "      <th>X_1</th>\n",
       "      <th>X_2</th>\n",
       "      <th>X_3</th>\n",
       "      <th>OF WORST</th>\n",
       "      <th>FIT WORST</th>\n",
       "      <th>ID WORST</th>\n",
       "      <th>OF AVG</th>\n",
       "      <th>FIT AVG</th>\n",
       "      <th>ITERATION</th>\n",
       "      <th>neof</th>\n",
       "    </tr>\n",
       "  </thead>\n",
       "  <tbody>\n",
       "    <tr>\n",
       "      <th>16</th>\n",
       "      <td>7.86</td>\n",
       "      <td>0.60518</td>\n",
       "      <td>0.003009</td>\n",
       "      <td>0.6</td>\n",
       "      <td>0.000476</td>\n",
       "      <td>0.999524</td>\n",
       "      <td>5</td>\n",
       "      <td>7.86</td>\n",
       "      <td>0.256153</td>\n",
       "      <td>0.003518</td>\n",
       "      <td>0.984358</td>\n",
       "      <td>0.051419</td>\n",
       "      <td>0.951096</td>\n",
       "      <td>3</td>\n",
       "      <td>0.021107</td>\n",
       "      <td>0.979713</td>\n",
       "      <td>16</td>\n",
       "      <td>37</td>\n",
       "    </tr>\n",
       "    <tr>\n",
       "      <th>17</th>\n",
       "      <td>7.86</td>\n",
       "      <td>0.60518</td>\n",
       "      <td>0.003009</td>\n",
       "      <td>0.6</td>\n",
       "      <td>0.000476</td>\n",
       "      <td>0.999524</td>\n",
       "      <td>5</td>\n",
       "      <td>7.86</td>\n",
       "      <td>0.256153</td>\n",
       "      <td>0.003518</td>\n",
       "      <td>0.984358</td>\n",
       "      <td>0.051419</td>\n",
       "      <td>0.951096</td>\n",
       "      <td>3</td>\n",
       "      <td>0.021107</td>\n",
       "      <td>0.979713</td>\n",
       "      <td>17</td>\n",
       "      <td>37</td>\n",
       "    </tr>\n",
       "    <tr>\n",
       "      <th>18</th>\n",
       "      <td>7.86</td>\n",
       "      <td>0.60518</td>\n",
       "      <td>0.003009</td>\n",
       "      <td>0.6</td>\n",
       "      <td>0.000476</td>\n",
       "      <td>0.999524</td>\n",
       "      <td>5</td>\n",
       "      <td>7.86</td>\n",
       "      <td>0.256153</td>\n",
       "      <td>0.003518</td>\n",
       "      <td>0.984358</td>\n",
       "      <td>0.051419</td>\n",
       "      <td>0.951096</td>\n",
       "      <td>3</td>\n",
       "      <td>0.021107</td>\n",
       "      <td>0.979713</td>\n",
       "      <td>18</td>\n",
       "      <td>38</td>\n",
       "    </tr>\n",
       "    <tr>\n",
       "      <th>19</th>\n",
       "      <td>7.86</td>\n",
       "      <td>0.60518</td>\n",
       "      <td>0.003009</td>\n",
       "      <td>0.6</td>\n",
       "      <td>0.000476</td>\n",
       "      <td>0.999524</td>\n",
       "      <td>5</td>\n",
       "      <td>7.86</td>\n",
       "      <td>0.256153</td>\n",
       "      <td>0.003518</td>\n",
       "      <td>0.984358</td>\n",
       "      <td>0.051419</td>\n",
       "      <td>0.951096</td>\n",
       "      <td>3</td>\n",
       "      <td>0.021107</td>\n",
       "      <td>0.979713</td>\n",
       "      <td>19</td>\n",
       "      <td>38</td>\n",
       "    </tr>\n",
       "    <tr>\n",
       "      <th>20</th>\n",
       "      <td>7.86</td>\n",
       "      <td>0.60518</td>\n",
       "      <td>0.003009</td>\n",
       "      <td>0.6</td>\n",
       "      <td>0.000476</td>\n",
       "      <td>0.999524</td>\n",
       "      <td>5</td>\n",
       "      <td>7.86</td>\n",
       "      <td>0.256153</td>\n",
       "      <td>0.003518</td>\n",
       "      <td>0.984358</td>\n",
       "      <td>0.051419</td>\n",
       "      <td>0.951096</td>\n",
       "      <td>3</td>\n",
       "      <td>0.019413</td>\n",
       "      <td>0.981349</td>\n",
       "      <td>20</td>\n",
       "      <td>41</td>\n",
       "    </tr>\n",
       "  </tbody>\n",
       "</table>\n",
       "</div>"
      ],
      "text/plain": [
       "     X_0      X_1       X_2  X_3   OF BEST   FIT BET  ID BEST   X_0       X_1  \\\n",
       "16  7.86  0.60518  0.003009  0.6  0.000476  0.999524        5  7.86  0.256153   \n",
       "17  7.86  0.60518  0.003009  0.6  0.000476  0.999524        5  7.86  0.256153   \n",
       "18  7.86  0.60518  0.003009  0.6  0.000476  0.999524        5  7.86  0.256153   \n",
       "19  7.86  0.60518  0.003009  0.6  0.000476  0.999524        5  7.86  0.256153   \n",
       "20  7.86  0.60518  0.003009  0.6  0.000476  0.999524        5  7.86  0.256153   \n",
       "\n",
       "         X_2       X_3  OF WORST  FIT WORST  ID WORST    OF AVG   FIT AVG  \\\n",
       "16  0.003518  0.984358  0.051419   0.951096         3  0.021107  0.979713   \n",
       "17  0.003518  0.984358  0.051419   0.951096         3  0.021107  0.979713   \n",
       "18  0.003518  0.984358  0.051419   0.951096         3  0.021107  0.979713   \n",
       "19  0.003518  0.984358  0.051419   0.951096         3  0.021107  0.979713   \n",
       "20  0.003518  0.984358  0.051419   0.951096         3  0.019413  0.981349   \n",
       "\n",
       "    ITERATION  neof  \n",
       "16         16    37  \n",
       "17         17    37  \n",
       "18         18    38  \n",
       "19         19    38  \n",
       "20         20    41  "
      ]
     },
     "execution_count": 6,
     "metadata": {},
     "output_type": "execute_result"
    }
   ],
   "source": [
    "df_resume.tail(5)"
   ]
  },
  {
   "cell_type": "code",
   "execution_count": null,
   "metadata": {},
   "outputs": [],
   "source": [
    "x_best = list(df_resume.iloc[-1])[:setup['number of dimensions']]\n",
    "x_best"
   ]
  },
  {
   "cell_type": "markdown",
   "metadata": {},
   "source": [
    "# Salvando relatóiro"
   ]
  },
  {
   "cell_type": "markdown",
   "metadata": {},
   "source": [
    "### txt"
   ]
  },
  {
   "cell_type": "code",
   "execution_count": 7,
   "metadata": {},
   "outputs": [],
   "source": [
    "filename = \"report_genetic_algorithm_01.txt\"\n",
    "with open(filename, \"w\") as f:\n",
    "    f.write(report)"
   ]
  },
  {
   "cell_type": "markdown",
   "metadata": {},
   "source": [
    "### xlsx"
   ]
  },
  {
   "cell_type": "code",
   "execution_count": 8,
   "metadata": {},
   "outputs": [],
   "source": [
    "filename = \"report_genetic_algorithm_01.xlsx\"\n",
    "df_resume.to_excel(filename, index=False)"
   ]
  },
  {
   "cell_type": "markdown",
   "metadata": {},
   "source": [
    "# Análise gráfica da otm"
   ]
  },
  {
   "cell_type": "code",
   "execution_count": null,
   "metadata": {},
   "outputs": [],
   "source": [
    "# Data\n",
    "DF =  {'x0': df_resume['neof'],\n",
    "        'y0': df_resume['OF BEST']\n",
    "}\n",
    "\n",
    "# Chart setup\n",
    "CHART_CONFIG = {\n",
    "              'NAME': 'of_result_analise_inversa_2d',\n",
    "              'WIDTH': 20, \n",
    "              'HEIGHT': 10,\n",
    "              'MARKER': ['s'],\n",
    "              'MARKER SIZE': 3,\n",
    "              'LINE WIDTH': 4,\n",
    "              'LINE STYLE': ['--'],\n",
    "              'X AXIS LABEL': 'neof',\n",
    "              'X AXIS SIZE': 20,\n",
    "              'Y AXIS LABEL': 'dead load ($kN/m$)',\n",
    "              'Y AXIS SIZE': 20,\n",
    "              'AXISES COLOR': '#000000',\n",
    "              'LABELS SIZE': 20,\n",
    "              'LABELS COLOR': '#000000',\n",
    "              'CHART COLOR': ['#000000'],\n",
    "              'ON GRID?': True,\n",
    "              'LEGEND': [None], # or without legend 'LEGEND': [None]\n",
    "              'LOC LEGEND': 'upper right',\n",
    "              'SIZE LEGEND': 12,\n",
    "              'Y LOG': False,\n",
    "              'X LOG': False,\n",
    "              'DPI': 200, \n",
    "              'EXTENSION': 'png'\n",
    "             }\n",
    "\n",
    "# Data statement \n",
    "DATA = {'DATASET': DF}\n",
    "\n",
    "# Call function\n",
    "line_chart(DATASET = DATA, PLOT_SETUP = CHART_CONFIG)\n"
   ]
  },
  {
   "cell_type": "markdown",
   "metadata": {},
   "source": [
    "# Comparação gráfica"
   ]
  },
  {
   "cell_type": "code",
   "execution_count": 13,
   "metadata": {},
   "outputs": [
    {
     "data": {
      "text/plain": [
       "7.25"
      ]
     },
     "execution_count": 13,
     "metadata": {},
     "output_type": "execute_result"
    }
   ],
   "source": [
    "mse, x_num, y_num = my_function_diana_inverse_problem_2(x_best, none_variable)\n",
    "\n",
    "# Data\n",
    "DF =  {\n",
    "        'x0': x_num,\n",
    "        'y0': y_num,\n",
    "        'x1': x_exp,\n",
    "        'y1': y_exp,\n",
    "      }\n",
    "\n",
    "# Chart setup\n",
    "CHART_CONFIG = {\n",
    "              'NAME': 'resultado-comparacao',\n",
    "              'WIDTH': 20, \n",
    "              'HEIGHT': 10,\n",
    "              'MARKER': [None, None],\n",
    "              'MARKER SIZE': 3,\n",
    "              'LINE WIDTH': 3,\n",
    "              'LINE STYLE': ['-', '-'],\n",
    "              'X AXIS LABEL': 'displacement ($mm$)',\n",
    "              'X AXIS SIZE': 20,\n",
    "              'Y AXIS LABEL': 'Load ($kN$)',\n",
    "              'Y AXIS SIZE': 20,\n",
    "              'AXISES COLOR': '#000000',\n",
    "              'LABELS SIZE': 20,\n",
    "              'LABELS COLOR': '#000000',\n",
    "              'CHART COLOR': ['red', 'blue'],\n",
    "              'ON GRID?': True,\n",
    "              'LEGEND': ['numerical model', 'true data'], # or without legend 'LEGEND': [None]\n",
    "              'LOC LEGEND': 'upper right',\n",
    "              'SIZE LEGEND': 12,\n",
    "              'Y LOG': False,\n",
    "              'X LOG': False,\n",
    "              'DPI': 200, \n",
    "              'EXTENSION': 'png'\n",
    "             }\n",
    "\n",
    "# Data statement \n",
    "DATA = {'DATASET': DF}\n",
    "\n",
    "# Call function\n",
    "line_chart(DATASET = DATA, PLOT_SETUP = CHART_CONFIG)\n"
   ]
  }
 ],
 "metadata": {
  "kernelspec": {
   "display_name": "Python 3 (ipykernel)",
   "language": "python",
   "name": "python3"
  },
  "language_info": {
   "codemirror_mode": {
    "name": "ipython",
    "version": 3
   },
   "file_extension": ".py",
   "mimetype": "text/x-python",
   "name": "python",
   "nbconvert_exporter": "python",
   "pygments_lexer": "ipython3",
   "version": "3.11.8"
  },
  "vscode": {
   "interpreter": {
    "hash": "88279d2366fe020547cde40dd65aa0e3aa662a6ec1f3ca12d88834876c85e1a6"
   }
  }
 },
 "nbformat": 4,
 "nbformat_minor": 2
}
