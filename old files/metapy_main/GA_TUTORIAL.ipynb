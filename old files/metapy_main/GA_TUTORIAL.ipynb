{
  "cells": [
    {
      "cell_type": "code",
      "execution_count": 774,
      "id": "c4173653",
      "metadata": {},
      "outputs": [],
      "source": [
        "from OF_FUNCTION import *\n",
        "import META_TOOLBOX.META_CO_LIBRARY as META_CO\n",
        "import numpy as np"
      ]
    },
    {
      "cell_type": "code",
      "execution_count": 775,
      "id": "9a427352",
      "metadata": {},
      "outputs": [],
      "source": [
        "N_POP = 5\n",
        "N_ITER = 100\n",
        "X_L = [-10, -10, -10]\n",
        "X_U = [10, 10, 10]\n",
        "D = 3\n",
        "NULL_DIC = None"
      ]
    },
    {
      "cell_type": "markdown",
      "id": "d659847c",
      "metadata": {},
      "source": [
        "# Initial population"
      ]
    },
    {
      "cell_type": "code",
      "execution_count": 776,
      "id": "5ab49cb9",
      "metadata": {},
      "outputs": [
        {
          "data": {
            "text/plain": [
              "array([[ 7.90032255,  4.64520052,  0.05954577],\n",
              "       [-2.0472998 ,  5.26538799,  0.18463867],\n",
              "       [ 3.35524016, -0.10622866, -4.2489343 ],\n",
              "       [ 7.22147346,  8.74528814, -5.86088809],\n",
              "       [-4.97411175, -5.80439184,  6.53470834]])"
            ]
          },
          "execution_count": 776,
          "metadata": {},
          "output_type": "execute_result"
        }
      ],
      "source": [
        "X = META_CO.initial_population_01(N_POP, D, X_L, X_U)\n",
        "X"
      ]
    },
    {
      "cell_type": "markdown",
      "id": "e5b97f2d",
      "metadata": {},
      "source": [
        "# OF and FITNESS"
      ]
    },
    {
      "cell_type": "code",
      "execution_count": 777,
      "id": "bcc25afa",
      "metadata": {},
      "outputs": [],
      "source": [
        "OF = np.zeros((N_POP, 1))\n",
        "FIT = np.zeros((N_POP, 1))\n",
        "for I in range(N_POP):\n",
        "    OF[I, 0] = MY_FUNCTION(X[I,:], NULL_DIC)\n",
        "    FIT[I, 0] = META_CO.fit_value(OF[I, 0])"
      ]
    },
    {
      "cell_type": "code",
      "execution_count": 778,
      "id": "730e06f1",
      "metadata": {
        "scrolled": true
      },
      "outputs": [
        {
          "data": {
            "text/plain": [
              "array([[ 83.99652991],\n",
              "       [ 31.94983862],\n",
              "       [ 29.32236375],\n",
              "       [162.97975282],\n",
              "       [101.13516548]])"
            ]
          },
          "execution_count": 778,
          "metadata": {},
          "output_type": "execute_result"
        }
      ],
      "source": [
        "OF"
      ]
    },
    {
      "cell_type": "code",
      "execution_count": 779,
      "id": "860d9cd9",
      "metadata": {},
      "outputs": [
        {
          "data": {
            "text/plain": [
              "array([[0.01176519],\n",
              "       [0.03034916],\n",
              "       [0.03297896],\n",
              "       [0.00609831],\n",
              "       [0.00979095]])"
            ]
          },
          "execution_count": 779,
          "metadata": {},
          "output_type": "execute_result"
        }
      ],
      "source": [
        "FIT"
      ]
    },
    {
      "cell_type": "code",
      "execution_count": 780,
      "id": "ff84a49a",
      "metadata": {},
      "outputs": [
        {
          "name": "stdout",
          "output_type": "stream",
          "text": [
            "0 2\n",
            "[ 6.37028429  0.16387692 -0.73387952]\n"
          ]
        },
        {
          "ename": "IndexError",
          "evalue": "list assignment index out of range",
          "output_type": "error",
          "traceback": [
            "\u001b[1;31m---------------------------------------------------------------------------\u001b[0m",
            "\u001b[1;31mIndexError\u001b[0m                                Traceback (most recent call last)",
            "\u001b[1;32mc:\\Users\\wande\\Documents\\GitHub\\METApyDEV\\GA_TUTORIAL.ipynb Célula: 9\u001b[0m in \u001b[0;36m<cell line: 1>\u001b[1;34m()\u001b[0m\n\u001b[0;32m      <a href='vscode-notebook-cell:/c%3A/Users/wande/Documents/GitHub/METApyDEV/GA_TUTORIAL.ipynb#ch0000023?line=0'>1</a>\u001b[0m \u001b[39mfor\u001b[39;00m J \u001b[39min\u001b[39;00m \u001b[39mrange\u001b[39m(N_POP):\n\u001b[1;32m----> <a href='vscode-notebook-cell:/c%3A/Users/wande/Documents/GitHub/METApyDEV/GA_TUTORIAL.ipynb#ch0000023?line=1'>2</a>\u001b[0m     SELECTED_POS \u001b[39m=\u001b[39m ROULETE_WHEEL_SELECTION(FIT, N_POP, \u001b[39mint\u001b[39;49m(J))\n\u001b[0;32m      <a href='vscode-notebook-cell:/c%3A/Users/wande/Documents/GitHub/METApyDEV/GA_TUTORIAL.ipynb#ch0000023?line=2'>3</a>\u001b[0m     \u001b[39mprint\u001b[39m(J, SELECTED_POS)\n\u001b[0;32m      <a href='vscode-notebook-cell:/c%3A/Users/wande/Documents/GitHub/METApyDEV/GA_TUTORIAL.ipynb#ch0000023?line=3'>4</a>\u001b[0m     X[J, :], OF, FIT, NEOF \u001b[39m=\u001b[39m ARITHMETIC_CROSSOVER(X[J, :], X[SELECTED_POS, :], MY_FUNCTION)\n",
            "\u001b[1;32mc:\\Users\\wande\\Documents\\GitHub\\METApyDEV\\GA_TUTORIAL.ipynb Célula: 9\u001b[0m in \u001b[0;36mROULETE_WHEEL_SELECTION\u001b[1;34m(FIT, N_POP, I)\u001b[0m\n\u001b[0;32m      <a href='vscode-notebook-cell:/c%3A/Users/wande/Documents/GitHub/METApyDEV/GA_TUTORIAL.ipynb#ch0000023?line=5'>6</a>\u001b[0m POS \u001b[39m=\u001b[39m [\u001b[39mint\u001b[39m(C) \u001b[39mfor\u001b[39;00m C \u001b[39min\u001b[39;00m \u001b[39mlist\u001b[39m(np\u001b[39m.\u001b[39marange(\u001b[39m0\u001b[39m, N_POP, \u001b[39m1\u001b[39m, dtype \u001b[39m=\u001b[39m \u001b[39mint\u001b[39m))]\n\u001b[0;32m      <a href='vscode-notebook-cell:/c%3A/Users/wande/Documents/GitHub/METApyDEV/GA_TUTORIAL.ipynb#ch0000023?line=6'>7</a>\u001b[0m \u001b[39mdel\u001b[39;00m POS[I]\n\u001b[1;32m----> <a href='vscode-notebook-cell:/c%3A/Users/wande/Documents/GitHub/METApyDEV/GA_TUTORIAL.ipynb#ch0000023?line=7'>8</a>\u001b[0m \u001b[39mdel\u001b[39;00m FIT[I]\n\u001b[0;32m      <a href='vscode-notebook-cell:/c%3A/Users/wande/Documents/GitHub/METApyDEV/GA_TUTORIAL.ipynb#ch0000023?line=8'>9</a>\u001b[0m MAXIMUM \u001b[39m=\u001b[39m np\u001b[39m.\u001b[39msum(FIT)\n\u001b[0;32m     <a href='vscode-notebook-cell:/c%3A/Users/wande/Documents/GitHub/METApyDEV/GA_TUTORIAL.ipynb#ch0000023?line=9'>10</a>\u001b[0m SELECTION_PROBS \u001b[39m=\u001b[39m [VALUE \u001b[39m/\u001b[39m MAXIMUM \u001b[39mfor\u001b[39;00m VALUE \u001b[39min\u001b[39;00m FIT]\n",
            "\u001b[1;31mIndexError\u001b[0m: list assignment index out of range"
          ]
        }
      ],
      "source": [
        "for J in range(N_POP):\n",
        "    SELECTED_POS = ROULETE_WHEEL_SELECTION(FIT, N_POP, int(J))\n",
        "    print(J, SELECTED_POS)\n",
        "    \n",
        "    print(X[J, :])    "
      ]
    },
    {
      "cell_type": "code",
      "execution_count": null,
      "id": "9723b83d",
      "metadata": {},
      "outputs": [
        {
          "data": {
            "text/plain": [
              "2"
            ]
          },
          "execution_count": 769,
          "metadata": {},
          "output_type": "execute_result"
        }
      ],
      "source": [
        "SELECTED_POS = ROULETE_WHEEL_SELECTION(FIT, N_POP, 1)\n",
        "SELECTED_POS"
      ]
    },
    {
      "cell_type": "code",
      "execution_count": null,
      "id": "de09bddf",
      "metadata": {},
      "outputs": [
        {
          "name": "stdout",
          "output_type": "stream",
          "text": [
            "[-6.79451817 -3.66048976 -1.91943976] 63.248911384201854 0.01556446605017326 1\n"
          ]
        }
      ],
      "source": [
        "\n",
        "print(X, OF, FIT, NEOF)"
      ]
    },
    {
      "cell_type": "markdown",
      "id": "d99b83c9",
      "metadata": {},
      "source": [
        "# Internal Functions"
      ]
    },
    {
      "cell_type": "code",
      "execution_count": null,
      "id": "fdaca2f9",
      "metadata": {},
      "outputs": [],
      "source": []
    },
    {
      "cell_type": "markdown",
      "id": "baf0bde1",
      "metadata": {},
      "source": [
        "# Theory\n",
        "\n"
      ]
    },
    {
      "cell_type": "code",
      "execution_count": null,
      "id": "a2c1c675",
      "metadata": {},
      "outputs": [],
      "source": []
    },
    {
      "cell_type": "code",
      "execution_count": 7,
      "id": "fd12df9f",
      "metadata": {},
      "outputs": [],
      "source": []
    },
    {
      "cell_type": "code",
      "execution_count": 21,
      "id": "fe914e31",
      "metadata": {},
      "outputs": [],
      "source": [
        "\n",
        "\n"
      ]
    },
    {
      "cell_type": "code",
      "execution_count": 23,
      "id": "393badf0",
      "metadata": {},
      "outputs": [
        {
          "name": "stdout",
          "output_type": "stream",
          "text": [
            "[2.293902597834955, 7.159428610631746, -1.7239476719833693, 5.210799476463794, 6.98212643559399, 4.601854492958886, -4.009574321978727, -1.0718073241382777, 1.0971820804150965, -1.1057709418316026]\n"
          ]
        }
      ],
      "source": [
        "a = [0, 1, 2, 3 , 4, 5, 6, 7, 8, 9]\n",
        "b = [9, 8, 7, 6, 5, 4, 3, 2, 1, 0]\n",
        "\n",
        "RESULT = LINEAR_CROSSOVER(FATHER1=a, FATHER_2=b)\n",
        "\n",
        "#RESULT = BLX_ALPHA(FATHER1=a, FATHER_2=b)\n",
        "print(RESULT)\n"
      ]
    },
    {
      "cell_type": "code",
      "execution_count": null,
      "id": "c04317a1",
      "metadata": {},
      "outputs": [],
      "source": []
    }
  ],
  "metadata": {
    "kernelspec": {
      "display_name": "Python 3.9.12 ('base')",
      "language": "python",
      "name": "python3"
    },
    "language_info": {
      "codemirror_mode": {
        "name": "ipython",
        "version": 3
      },
      "file_extension": ".py",
      "mimetype": "text/x-python",
      "name": "python",
      "nbconvert_exporter": "python",
      "pygments_lexer": "ipython3",
      "version": "3.10.12"
    },
    "vscode": {
      "interpreter": {
        "hash": "88279d2366fe020547cde40dd65aa0e3aa662a6ec1f3ca12d88834876c85e1a6"
      }
    }
  },
  "nbformat": 4,
  "nbformat_minor": 5
}
