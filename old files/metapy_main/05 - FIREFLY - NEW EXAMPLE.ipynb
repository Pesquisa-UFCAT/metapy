{
 "cells": [
  {
   "cell_type": "code",
   "execution_count": 1,
   "metadata": {},
   "outputs": [],
   "source": [
    "# import numpy as np\n",
    "# from multiprocessing import Pool\n",
    "# import time\n",
    "# import pandas as pd\n",
    "# import sys\n",
    "from OF_FUNCTION import *\n",
    "from META_TOOLBOX import *\n",
    "from EASYPLOT_TOOLBOX import *"
   ]
  },
  {
   "cell_type": "code",
   "execution_count": 2,
   "metadata": {},
   "outputs": [
    {
     "name": "stdout",
     "output_type": "stream",
     "text": [
      " Optimization results: \n",
      "\n",
      " - Design Variables:  [-0.3939770136414191, -0.6188870495773091] \n",
      "\n",
      " - Of value:         -3.191819e-01 \n",
      "\n",
      " - Process time (s): 0.230650 \n",
      "\n"
     ]
    }
   ],
   "source": [
    "X_L = [-5, -5]\n",
    "X_U = [5, 5]\n",
    "D = 2\n",
    "SETUP = {\n",
    "            'ALGORITHM': 'FIREFLY ALGORITHM 01',\n",
    "            'N_REP': 10,\n",
    "            'N_POP': 10,\n",
    "            'N_ITER': 50,\n",
    "            'X_L': X_L,\n",
    "            'X_U': X_U,\n",
    "            'D': D,\n",
    "            'PARAMETERS': {\n",
    "                            'ATTRACTIVENESS (BETA_0)': 0.98,\n",
    "                            'MIN. RANDOM FACTOR (ALPHA_MIN)': 0.10,\n",
    "                            'MAX. RANDOM FACTOR (ALPHA_MAX)': 1.00,\n",
    "                            'LIGHT ABSORPTION (GAMMA)': GAMMA_ASSEMBLY(X_L, X_U, D, 2),\n",
    "                            'THETA': 0.98,\n",
    "                            'TYPE ALPHA UPDATE': 'YANG 0',\n",
    "                            'SCALING (S_D)': True\n",
    "                          },\n",
    "            'NULL_DIC': None,\n",
    "            'OF': MY_FUNCTION,\n",
    "        }\n",
    "\n",
    "RESULTS_REP, BEST_REP, AVERAGE_REP, WORST_REP, STATUS_PROCEDURE = META(SETUP)"
   ]
  },
  {
   "cell_type": "code",
   "execution_count": 3,
   "metadata": {},
   "outputs": [
    {
     "data": {
      "text/plain": [
       "array([5, 9, 1, 3, 0, 6, 7, 2, 8, 4])"
      ]
     },
     "execution_count": 3,
     "metadata": {},
     "output_type": "execute_result"
    }
   ],
   "source": [
    "STATUS_PROCEDURE"
   ]
  },
  {
   "cell_type": "code",
   "execution_count": 4,
   "metadata": {},
   "outputs": [
    {
     "data": {
      "text/plain": [
       "{'X_POSITION': array([[ 1.39444629,  1.70852392],\n",
       "        [-1.09381541, -2.94821717],\n",
       "        [ 0.44424272,  1.94976756],\n",
       "        [ 0.44424272,  1.94976756],\n",
       "        [-0.30072535,  0.03869761],\n",
       "        [-0.30072535,  0.03869761],\n",
       "        [-0.30072535,  0.03869761],\n",
       "        [-0.63429943, -1.30883784],\n",
       "        [-0.63429943, -1.30883784],\n",
       "        [-0.63429943, -1.30883784],\n",
       "        [-0.63429943, -1.30883784],\n",
       "        [-0.63429943, -1.30883784],\n",
       "        [-0.63429943, -1.30883784],\n",
       "        [-0.63429943, -1.30883784],\n",
       "        [-0.63429943, -1.30883784],\n",
       "        [-0.63429943, -1.30883784],\n",
       "        [-0.63429943, -1.30883784],\n",
       "        [-0.63429943, -1.30883784],\n",
       "        [-0.63429943, -1.30883784],\n",
       "        [-0.63429943, -1.30883784],\n",
       "        [-0.63429943, -1.30883784],\n",
       "        [-0.63429943, -1.30883784],\n",
       "        [-0.63429943, -1.30883784],\n",
       "        [-0.63429943, -1.30883784],\n",
       "        [-0.63429943, -1.30883784],\n",
       "        [-0.63429943, -1.30883784],\n",
       "        [-0.63429943, -1.30883784],\n",
       "        [-0.63429943, -1.30883784],\n",
       "        [-0.63429943, -1.30883784],\n",
       "        [-0.63429943, -1.30883784],\n",
       "        [-0.63429943, -1.30883784],\n",
       "        [-0.63429943, -1.30883784],\n",
       "        [-0.63429943, -1.30883784],\n",
       "        [-0.63429943, -1.30883784],\n",
       "        [-0.63429943, -1.30883784],\n",
       "        [-0.63429943, -1.30883784],\n",
       "        [-0.39397701, -0.61888705],\n",
       "        [-0.39397701, -0.61888705],\n",
       "        [-0.39397701, -0.61888705],\n",
       "        [-0.39397701, -0.61888705],\n",
       "        [-0.39397701, -0.61888705],\n",
       "        [-0.39397701, -0.61888705],\n",
       "        [-0.39397701, -0.61888705],\n",
       "        [-0.39397701, -0.61888705],\n",
       "        [-0.39397701, -0.61888705],\n",
       "        [-0.39397701, -0.61888705],\n",
       "        [-0.39397701, -0.61888705],\n",
       "        [-0.39397701, -0.61888705],\n",
       "        [-0.39397701, -0.61888705],\n",
       "        [-0.39397701, -0.61888705],\n",
       "        [-0.39397701, -0.61888705]]),\n",
       " 'OF': array([ 9.2095359 ,  8.23982839,  8.06903816,  8.06903816,  0.62941636,\n",
       "         0.62941636,  0.62941636,  0.44931514,  0.44931514,  0.44931514,\n",
       "         0.44931514,  0.44931514,  0.44931514,  0.44931514,  0.44931514,\n",
       "         0.44931514,  0.44931514,  0.44931514,  0.44931514,  0.44931514,\n",
       "         0.44931514,  0.44931514,  0.44931514,  0.44931514,  0.44931514,\n",
       "         0.44931514,  0.44931514,  0.44931514,  0.44931514,  0.44931514,\n",
       "         0.44931514,  0.44931514,  0.44931514,  0.44931514,  0.44931514,\n",
       "         0.44931514, -0.31918192, -0.31918192, -0.31918192, -0.31918192,\n",
       "        -0.31918192, -0.31918192, -0.31918192, -0.31918192, -0.31918192,\n",
       "        -0.31918192, -0.31918192, -0.31918192, -0.31918192, -0.31918192,\n",
       "        -0.31918192]),\n",
       " 'FIT': array([0.09794765, 0.10822712, 0.11026528, 0.11026528, 0.61371668,\n",
       "        0.61371668, 0.61371668, 0.68998106, 0.68998106, 0.68998106,\n",
       "        0.68998106, 0.68998106, 0.68998106, 0.68998106, 0.68998106,\n",
       "        0.68998106, 0.68998106, 0.68998106, 0.68998106, 0.68998106,\n",
       "        0.68998106, 0.68998106, 0.68998106, 0.68998106, 0.68998106,\n",
       "        0.68998106, 0.68998106, 0.68998106, 0.68998106, 0.68998106,\n",
       "        0.68998106, 0.68998106, 0.68998106, 0.68998106, 0.68998106,\n",
       "        0.68998106, 1.31918192, 1.31918192, 1.31918192, 1.31918192,\n",
       "        1.31918192, 1.31918192, 1.31918192, 1.31918192, 1.31918192,\n",
       "        1.31918192, 1.31918192, 1.31918192, 1.31918192, 1.31918192,\n",
       "        1.31918192]),\n",
       " 'NEOF': array([  10.,   55.,  100.,  145.,  190.,  235.,  280.,  325.,  370.,\n",
       "         415.,  460.,  505.,  550.,  595.,  640.,  685.,  730.,  775.,\n",
       "         820.,  865.,  910.,  955., 1000., 1045., 1090., 1135., 1180.,\n",
       "        1225., 1270., 1315., 1360., 1405., 1450., 1495., 1540., 1585.,\n",
       "        1630., 1675., 1720., 1765., 1810., 1855., 1900., 1945., 1990.,\n",
       "        2035., 2080., 2125., 2170., 2215., 2260.]),\n",
       " 'ID_PARTICLE': array([3., 2., 3., 0., 7., 0., 0., 5., 0., 0., 0., 0., 0., 0., 0., 0., 0.,\n",
       "        0., 0., 0., 0., 0., 0., 0., 0., 0., 0., 0., 0., 0., 0., 0., 0., 0.,\n",
       "        0., 0., 6., 0., 0., 0., 0., 0., 0., 0., 0., 0., 0., 0., 0., 0., 0.]),\n",
       " 'PARAMETERS': [{'TIME (s)': 0.0, 'ALPHA': 1.0},\n",
       "  {'TIME (s)': 0.002754688262939453, 'ALPHA': 1.0},\n",
       "  {'TIME (s)': 0.0024788379669189453, 'ALPHA': 0.982},\n",
       "  {'TIME (s)': 0.002443075180053711, 'ALPHA': 0.9643599999999999},\n",
       "  {'TIME (s)': 0.002444028854370117, 'ALPHA': 0.9470727999999999},\n",
       "  {'TIME (s)': 0.002439260482788086, 'ALPHA': 0.9301313439999999},\n",
       "  {'TIME (s)': 0.002445697784423828, 'ALPHA': 0.91352871712},\n",
       "  {'TIME (s)': 0.00244903564453125, 'ALPHA': 0.8972581427776},\n",
       "  {'TIME (s)': 0.002531766891479492, 'ALPHA': 0.8813129799220479},\n",
       "  {'TIME (s)': 0.002521991729736328, 'ALPHA': 0.8656867203236069},\n",
       "  {'TIME (s)': 0.002471446990966797, 'ALPHA': 0.8503729859171348},\n",
       "  {'TIME (s)': 0.002446413040161133, 'ALPHA': 0.835365526198792},\n",
       "  {'TIME (s)': 0.0024547576904296875, 'ALPHA': 0.8206582156748162},\n",
       "  {'TIME (s)': 0.0024917125701904297, 'ALPHA': 0.8062450513613199},\n",
       "  {'TIME (s)': 0.0024645328521728516, 'ALPHA': 0.7921201503340934},\n",
       "  {'TIME (s)': 0.0024530887603759766, 'ALPHA': 0.7782777473274115},\n",
       "  {'TIME (s)': 0.0024442672729492188, 'ALPHA': 0.7647121923808634},\n",
       "  {'TIME (s)': 0.002451658248901367, 'ALPHA': 0.7514179485332461},\n",
       "  {'TIME (s)': 0.0024518966674804688, 'ALPHA': 0.7383895895625812},\n",
       "  {'TIME (s)': 0.0024487972259521484, 'ALPHA': 0.7256217977713294},\n",
       "  {'TIME (s)': 0.002457857131958008, 'ALPHA': 0.7131093618159029},\n",
       "  {'TIME (s)': 0.0024449825286865234, 'ALPHA': 0.7008471745795848},\n",
       "  {'TIME (s)': 0.002429485321044922, 'ALPHA': 0.688830231087993},\n",
       "  {'TIME (s)': 0.002653360366821289, 'ALPHA': 0.6770536264662332},\n",
       "  {'TIME (s)': 0.0024101734161376953, 'ALPHA': 0.6655125539369086},\n",
       "  {'TIME (s)': 0.0024161338806152344, 'ALPHA': 0.6542023028581704},\n",
       "  {'TIME (s)': 0.0024340152740478516, 'ALPHA': 0.643118256801007},\n",
       "  {'TIME (s)': 0.002435445785522461, 'ALPHA': 0.6322558916649869},\n",
       "  {'TIME (s)': 0.002456188201904297, 'ALPHA': 0.6216107738316871},\n",
       "  {'TIME (s)': 0.0024368762969970703, 'ALPHA': 0.6111785583550533},\n",
       "  {'TIME (s)': 0.002421855926513672, 'ALPHA': 0.6009549871879523},\n",
       "  {'TIME (s)': 0.0024242401123046875, 'ALPHA': 0.5909358874441932},\n",
       "  {'TIME (s)': 0.002420663833618164, 'ALPHA': 0.5811171696953094},\n",
       "  {'TIME (s)': 0.002435922622680664, 'ALPHA': 0.5714948263014031},\n",
       "  {'TIME (s)': 0.0024492740631103516, 'ALPHA': 0.5620649297753751},\n",
       "  {'TIME (s)': 0.0024461746215820312, 'ALPHA': 0.5528236311798675},\n",
       "  {'TIME (s)': 0.0024261474609375, 'ALPHA': 0.5437671585562702},\n",
       "  {'TIME (s)': 0.0024306774139404297, 'ALPHA': 0.5348918153851449},\n",
       "  {'TIME (s)': 0.002421140670776367, 'ALPHA': 0.5261939790774419},\n",
       "  {'TIME (s)': 0.002681732177734375, 'ALPHA': 0.517670099495893},\n",
       "  {'TIME (s)': 0.002501249313354492, 'ALPHA': 0.5093166975059752},\n",
       "  {'TIME (s)': 0.002705812454223633, 'ALPHA': 0.5011303635558557},\n",
       "  {'TIME (s)': 0.002689361572265625, 'ALPHA': 0.4931077562847386},\n",
       "  {'TIME (s)': 0.002583026885986328, 'ALPHA': 0.4852456011590437},\n",
       "  {'TIME (s)': 0.002501964569091797, 'ALPHA': 0.4775406891358629},\n",
       "  {'TIME (s)': 0.0025796890258789062, 'ALPHA': 0.4699898753531456},\n",
       "  {'TIME (s)': 0.0025162696838378906, 'ALPHA': 0.46259007784608275},\n",
       "  {'TIME (s)': 0.0025293827056884766, 'ALPHA': 0.455338276289161},\n",
       "  {'TIME (s)': 0.002538919448852539, 'ALPHA': 0.44823151076337786},\n",
       "  {'TIME (s)': 0.0025076866149902344, 'ALPHA': 0.44126688054811025},\n",
       "  {'TIME (s)': 0.0024843215942382812, 'ALPHA': 0.4344415429371481}]}"
      ]
     },
     "execution_count": 4,
     "metadata": {},
     "output_type": "execute_result"
    }
   ],
   "source": [
    "BEST_REP[STATUS_PROCEDURE[0]]"
   ]
  },
  {
   "cell_type": "code",
   "execution_count": 5,
   "metadata": {},
   "outputs": [
    {
     "data": {
      "image/png": "[encoded data removed]",
      "text/plain": [
       "<Figure size 566.929x283.465 with 1 Axes>"
      ]
     },
     "metadata": {
      "needs_background": "light"
     },
     "output_type": "display_data"
    }
   ],
   "source": [
    "# Data\n",
    "LEGEND = ['Best rep.', 'Worst rep.']\n",
    "LINE_STY = ['-', '-']\n",
    "OF_VALUES = [\n",
    "            list(BEST_REP[STATUS_PROCEDURE[0]]['OF']),\n",
    "            list(BEST_REP[STATUS_PROCEDURE[-1]]['OF'])\n",
    "         ]\n",
    "EVALUATIONS = list(BEST_REP[STATUS_PROCEDURE[0]]['NEOF'])\n",
    "COLORS = ['blue','green']\n",
    "\n",
    "# Chart setup\n",
    "CHART_CONFIG = {\n",
    "              'NAME': 'figure5',\n",
    "              'WIDTH': 0.20, \n",
    "              'HEIGHT': 0.10,\n",
    "              'MARKER': None,\n",
    "              'MARKER SIZE': 3,\n",
    "              'LINE WIDTH': 4,\n",
    "              'LINE STYLE': LINE_STY,\n",
    "              'X AXIS LABEL': 'Function evaluations ($NEOF$)',\n",
    "              'X AXIS SIZE': 14,\n",
    "              'Y AXIS LABEL': '$OF$ value',\n",
    "              'Y AXIS SIZE': 14,\n",
    "              'AXISES COLOR': '#000000',\n",
    "              'LABELS SIZE': 14,\n",
    "              'LABELS COLOR': '#000000',\n",
    "              'CHART COLOR': COLORS,\n",
    "              'ON GRID?': True,\n",
    "              'LOC LEGEND': 'upper right',\n",
    "              'SIZE LEGEND': 14,\n",
    "              'Y LOG': False,\n",
    "              'X LOG': False,\n",
    "              'DPI': 600, \n",
    "              'EXTENSION': 'svg'\n",
    "             }\n",
    "\n",
    "# Data statement \n",
    "DATA = {'X': EVALUATIONS, 'Y': OF_VALUES, 'LEGEND': LEGEND}\n",
    "\n",
    "# Call function\n",
    "LINE_CHART(DATASET = DATA, PLOT_SETUP = CHART_CONFIG)"
   ]
  },
  {
   "cell_type": "code",
   "execution_count": 2,
   "metadata": {},
   "outputs": [
    {
     "name": "stdout",
     "output_type": "stream",
     "text": [
      "14.63760867048386\n"
     ]
    }
   ],
   "source": [
    "from metapy_toolbox import *\n",
    "from my_example import my_obj_function\n",
    "\n",
    "x_pop = [[-0.74, 1.25],\n",
    "        [3.58, -3.33]]\n",
    "\n",
    "of_pop = [2.11, 23.91]\n",
    "x_lower = [-5, -5],\n",
    "x_upper = [5, 5],\n",
    "\n",
    "oi, rep = start_temperature(2, my_obj_function, x_pop, of_pop, x_lower,\\\n",
    "                x_upper, 2, 'gaussian', 20, None)\n",
    "print(oi)"
   ]
  }
 ],
 "metadata": {
  "kernelspec": {
   "display_name": "Python 3 (ipykernel)",
   "language": "python",
   "name": "python3"
  },
  "language_info": {
   "codemirror_mode": {
    "name": "ipython",
    "version": 3
   },
   "file_extension": ".py",
   "mimetype": "text/x-python",
   "name": "python",
   "nbconvert_exporter": "python",
   "pygments_lexer": "ipython3",
   "version": "3.11.0"
  },
  "vscode": {
   "interpreter": {
    "hash": "88279d2366fe020547cde40dd65aa0e3aa662a6ec1f3ca12d88834876c85e1a6"
   }
  }
 },
 "nbformat": 4,
 "nbformat_minor": 2
}
