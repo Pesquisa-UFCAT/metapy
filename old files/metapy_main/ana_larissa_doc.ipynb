{
  "cells": [
    {
      "cell_type": "markdown",
      "metadata": {},
      "source": [
        "# Import library"
      ]
    },
    {
      "cell_type": "code",
      "execution_count": 9,
      "metadata": {},
      "outputs": [],
      "source": [
        "from ana_larissa import my_obj_function, my_obj_function2\n",
        "from metapy_toolbox import metaheuristic_optimizer"
      ]
    },
    {
      "cell_type": "markdown",
      "metadata": {},
      "source": [
        "# Setup and call function"
      ]
    },
    {
      "cell_type": "markdown",
      "metadata": {},
      "source": [
        "### Dataset"
      ]
    },
    {
      "cell_type": "code",
      "execution_count": 10,
      "metadata": {},
      "outputs": [],
      "source": [
        "# dataset\n",
        "t = [0.000,\n",
        "      14.322,\n",
        "      27.898,\n",
        "      41.326,\n",
        "      54.704,\n",
        "      68.060,\n",
        "      81.408,\n",
        "      94.750,\n",
        "      108.090,\n",
        "      121.430,\n",
        "      134.768,\n",
        "      148.108]\n",
        "\n",
        "y_true = [0.9192425608,\n",
        "        0.4453928987,\n",
        "        0.2606302352,\n",
        "        0.1634203618,\n",
        "        0.1062287865,\n",
        "        0.07053112696,\n",
        "        0.04745335461,\n",
        "        0.03220117156,\n",
        "        0.02197534577,\n",
        "        0.01505391878,\n",
        "        0.01033904465,\n",
        "        0.007113321483]"
      ]
    },
    {
      "cell_type": "code",
      "execution_count": 11,
      "metadata": {},
      "outputs": [
        {
          "name": "stdout",
          "output_type": "stream",
          "text": [
            " Optimization results: \n",
            "\n",
            " - Best repetition id:    14\n",
            " - Best of:               1.9261133855e-07\n",
            " - Design variables:      [0.05484464123045685, 0.17988888455319083]\n",
            " - Process time (s):      1.852263\n",
            " - Best process time (s): 0.003000\n"
          ]
        }
      ],
      "source": [
        "algorithm_setup = {   \n",
        "                'number of iterations': 100,\n",
        "                'number of population': 3,\n",
        "                'number of dimensions': 2,\n",
        "                'x pop lower limit': [0.01, 0.00],\n",
        "                'x pop upper limit': [0.10, 0.25],\n",
        "                'none variable': {'noise': True, 'noise level (%)': 2, 'x': t, 'y_true': y_true},\n",
        "                'objective function': my_obj_function,\n",
        "                'algorithm parameters': {\n",
        "                                        'selection': {'type': 'roulette'},\n",
        "                                        'crossover': {'crossover rate (%)': 82, 'type':'linear'},\n",
        "                                        'mutation': {'mutation rate (%)': 12, 'type': 'hill climbing', 'cov (%)': 15, 'pdf': 'gaussian'},\n",
        "                                        }\n",
        "        }\n",
        "\n",
        "# METApy settings\n",
        "general_setup = {   \n",
        "            'number of repetitions': 30,\n",
        "            'type code': 'real code',\n",
        "            'initial pop. seed': [None] * 30,\n",
        "            'algorithm': 'genetic_algorithm_01',\n",
        "        }\n",
        "\n",
        "df_all_reps, df_resume_all_reps, reports, status = metaheuristic_optimizer(algorithm_setup, general_setup)"
      ]
    },
    {
      "cell_type": "markdown",
      "metadata": {},
      "source": [
        "#### Best repetition"
      ]
    },
    {
      "cell_type": "code",
      "execution_count": 12,
      "metadata": {},
      "outputs": [
        {
          "data": {
            "text/plain": [
              "14"
            ]
          },
          "execution_count": 12,
          "metadata": {},
          "output_type": "execute_result"
        }
      ],
      "source": [
        "status"
      ]
    },
    {
      "cell_type": "markdown",
      "metadata": {},
      "source": [
        "##### All dataset"
      ]
    },
    {
      "cell_type": "code",
      "execution_count": 13,
      "metadata": {},
      "outputs": [
        {
          "data": {
            "text/html": [
              "<div>\n",
              "<style scoped>\n",
              "    .dataframe tbody tr th:only-of-type {\n",
              "        vertical-align: middle;\n",
              "    }\n",
              "\n",
              "    .dataframe tbody tr th {\n",
              "        vertical-align: top;\n",
              "    }\n",
              "\n",
              "    .dataframe thead th {\n",
              "        text-align: right;\n",
              "    }\n",
              "</style>\n",
              "<table border=\"1\" class=\"dataframe\">\n",
              "  <thead>\n",
              "    <tr style=\"text-align: right;\">\n",
              "      <th></th>\n",
              "      <th>X_0</th>\n",
              "      <th>X_1</th>\n",
              "      <th>OF BEST</th>\n",
              "      <th>FIT BET</th>\n",
              "      <th>ID BEST</th>\n",
              "      <th>X_0</th>\n",
              "      <th>X_1</th>\n",
              "      <th>OF WORST</th>\n",
              "      <th>FIT WORST</th>\n",
              "      <th>ID WORST</th>\n",
              "      <th>OF AVG</th>\n",
              "      <th>FIT AVG</th>\n",
              "      <th>ITERATION</th>\n",
              "      <th>neof</th>\n",
              "    </tr>\n",
              "  </thead>\n",
              "  <tbody>\n",
              "    <tr>\n",
              "      <th>0</th>\n",
              "      <td>0.069766</td>\n",
              "      <td>0.179401</td>\n",
              "      <td>4.265626e-04</td>\n",
              "      <td>0.999574</td>\n",
              "      <td>1</td>\n",
              "      <td>0.050548</td>\n",
              "      <td>0.099750</td>\n",
              "      <td>0.002156</td>\n",
              "      <td>0.997849</td>\n",
              "      <td>0</td>\n",
              "      <td>0.001116</td>\n",
              "      <td>0.998886</td>\n",
              "      <td>0</td>\n",
              "      <td>3</td>\n",
              "    </tr>\n",
              "    <tr>\n",
              "      <th>1</th>\n",
              "      <td>0.069766</td>\n",
              "      <td>0.179401</td>\n",
              "      <td>4.265626e-04</td>\n",
              "      <td>0.999574</td>\n",
              "      <td>1</td>\n",
              "      <td>0.050548</td>\n",
              "      <td>0.099750</td>\n",
              "      <td>0.002156</td>\n",
              "      <td>0.997849</td>\n",
              "      <td>0</td>\n",
              "      <td>0.001116</td>\n",
              "      <td>0.998886</td>\n",
              "      <td>1</td>\n",
              "      <td>7</td>\n",
              "    </tr>\n",
              "    <tr>\n",
              "      <th>2</th>\n",
              "      <td>0.054586</td>\n",
              "      <td>0.182058</td>\n",
              "      <td>7.179983e-06</td>\n",
              "      <td>0.999993</td>\n",
              "      <td>2</td>\n",
              "      <td>0.069766</td>\n",
              "      <td>0.179401</td>\n",
              "      <td>0.000427</td>\n",
              "      <td>0.999574</td>\n",
              "      <td>1</td>\n",
              "      <td>0.000155</td>\n",
              "      <td>0.999845</td>\n",
              "      <td>2</td>\n",
              "      <td>13</td>\n",
              "    </tr>\n",
              "    <tr>\n",
              "      <th>3</th>\n",
              "      <td>0.054586</td>\n",
              "      <td>0.182058</td>\n",
              "      <td>7.179983e-06</td>\n",
              "      <td>0.999993</td>\n",
              "      <td>2</td>\n",
              "      <td>0.062176</td>\n",
              "      <td>0.180730</td>\n",
              "      <td>0.000113</td>\n",
              "      <td>0.999887</td>\n",
              "      <td>1</td>\n",
              "      <td>0.000043</td>\n",
              "      <td>0.999957</td>\n",
              "      <td>3</td>\n",
              "      <td>22</td>\n",
              "    </tr>\n",
              "    <tr>\n",
              "      <th>4</th>\n",
              "      <td>0.054586</td>\n",
              "      <td>0.182058</td>\n",
              "      <td>7.179983e-06</td>\n",
              "      <td>0.999993</td>\n",
              "      <td>2</td>\n",
              "      <td>0.058845</td>\n",
              "      <td>0.151686</td>\n",
              "      <td>0.000047</td>\n",
              "      <td>0.999953</td>\n",
              "      <td>1</td>\n",
              "      <td>0.000021</td>\n",
              "      <td>0.999979</td>\n",
              "      <td>4</td>\n",
              "      <td>32</td>\n",
              "    </tr>\n",
              "    <tr>\n",
              "      <th>...</th>\n",
              "      <td>...</td>\n",
              "      <td>...</td>\n",
              "      <td>...</td>\n",
              "      <td>...</td>\n",
              "      <td>...</td>\n",
              "      <td>...</td>\n",
              "      <td>...</td>\n",
              "      <td>...</td>\n",
              "      <td>...</td>\n",
              "      <td>...</td>\n",
              "      <td>...</td>\n",
              "      <td>...</td>\n",
              "      <td>...</td>\n",
              "      <td>...</td>\n",
              "    </tr>\n",
              "    <tr>\n",
              "      <th>96</th>\n",
              "      <td>0.054845</td>\n",
              "      <td>0.179889</td>\n",
              "      <td>1.926113e-07</td>\n",
              "      <td>1.000000</td>\n",
              "      <td>0</td>\n",
              "      <td>0.057348</td>\n",
              "      <td>0.161240</td>\n",
              "      <td>0.000002</td>\n",
              "      <td>0.999998</td>\n",
              "      <td>1</td>\n",
              "      <td>0.000001</td>\n",
              "      <td>0.999999</td>\n",
              "      <td>96</td>\n",
              "      <td>733</td>\n",
              "    </tr>\n",
              "    <tr>\n",
              "      <th>97</th>\n",
              "      <td>0.054845</td>\n",
              "      <td>0.179889</td>\n",
              "      <td>1.926113e-07</td>\n",
              "      <td>1.000000</td>\n",
              "      <td>0</td>\n",
              "      <td>0.057348</td>\n",
              "      <td>0.161240</td>\n",
              "      <td>0.000002</td>\n",
              "      <td>0.999998</td>\n",
              "      <td>1</td>\n",
              "      <td>0.000001</td>\n",
              "      <td>0.999999</td>\n",
              "      <td>97</td>\n",
              "      <td>742</td>\n",
              "    </tr>\n",
              "    <tr>\n",
              "      <th>98</th>\n",
              "      <td>0.054845</td>\n",
              "      <td>0.179889</td>\n",
              "      <td>1.926113e-07</td>\n",
              "      <td>1.000000</td>\n",
              "      <td>0</td>\n",
              "      <td>0.057348</td>\n",
              "      <td>0.161240</td>\n",
              "      <td>0.000002</td>\n",
              "      <td>0.999998</td>\n",
              "      <td>1</td>\n",
              "      <td>0.000001</td>\n",
              "      <td>0.999999</td>\n",
              "      <td>98</td>\n",
              "      <td>748</td>\n",
              "    </tr>\n",
              "    <tr>\n",
              "      <th>99</th>\n",
              "      <td>0.054845</td>\n",
              "      <td>0.179889</td>\n",
              "      <td>1.926113e-07</td>\n",
              "      <td>1.000000</td>\n",
              "      <td>0</td>\n",
              "      <td>0.057348</td>\n",
              "      <td>0.161240</td>\n",
              "      <td>0.000002</td>\n",
              "      <td>0.999998</td>\n",
              "      <td>1</td>\n",
              "      <td>0.000001</td>\n",
              "      <td>0.999999</td>\n",
              "      <td>99</td>\n",
              "      <td>758</td>\n",
              "    </tr>\n",
              "    <tr>\n",
              "      <th>100</th>\n",
              "      <td>0.054845</td>\n",
              "      <td>0.179889</td>\n",
              "      <td>1.926113e-07</td>\n",
              "      <td>1.000000</td>\n",
              "      <td>0</td>\n",
              "      <td>0.057348</td>\n",
              "      <td>0.161240</td>\n",
              "      <td>0.000002</td>\n",
              "      <td>0.999998</td>\n",
              "      <td>1</td>\n",
              "      <td>0.000001</td>\n",
              "      <td>0.999999</td>\n",
              "      <td>100</td>\n",
              "      <td>764</td>\n",
              "    </tr>\n",
              "  </tbody>\n",
              "</table>\n",
              "<p>101 rows × 14 columns</p>\n",
              "</div>"
            ],
            "text/plain": [
              "          X_0       X_1       OF BEST   FIT BET  ID BEST       X_0       X_1  \\\n",
              "0    0.069766  0.179401  4.265626e-04  0.999574        1  0.050548  0.099750   \n",
              "1    0.069766  0.179401  4.265626e-04  0.999574        1  0.050548  0.099750   \n",
              "2    0.054586  0.182058  7.179983e-06  0.999993        2  0.069766  0.179401   \n",
              "3    0.054586  0.182058  7.179983e-06  0.999993        2  0.062176  0.180730   \n",
              "4    0.054586  0.182058  7.179983e-06  0.999993        2  0.058845  0.151686   \n",
              "..        ...       ...           ...       ...      ...       ...       ...   \n",
              "96   0.054845  0.179889  1.926113e-07  1.000000        0  0.057348  0.161240   \n",
              "97   0.054845  0.179889  1.926113e-07  1.000000        0  0.057348  0.161240   \n",
              "98   0.054845  0.179889  1.926113e-07  1.000000        0  0.057348  0.161240   \n",
              "99   0.054845  0.179889  1.926113e-07  1.000000        0  0.057348  0.161240   \n",
              "100  0.054845  0.179889  1.926113e-07  1.000000        0  0.057348  0.161240   \n",
              "\n",
              "     OF WORST  FIT WORST  ID WORST    OF AVG   FIT AVG  ITERATION  neof  \n",
              "0    0.002156   0.997849         0  0.001116  0.998886          0     3  \n",
              "1    0.002156   0.997849         0  0.001116  0.998886          1     7  \n",
              "2    0.000427   0.999574         1  0.000155  0.999845          2    13  \n",
              "3    0.000113   0.999887         1  0.000043  0.999957          3    22  \n",
              "4    0.000047   0.999953         1  0.000021  0.999979          4    32  \n",
              "..        ...        ...       ...       ...       ...        ...   ...  \n",
              "96   0.000002   0.999998         1  0.000001  0.999999         96   733  \n",
              "97   0.000002   0.999998         1  0.000001  0.999999         97   742  \n",
              "98   0.000002   0.999998         1  0.000001  0.999999         98   748  \n",
              "99   0.000002   0.999998         1  0.000001  0.999999         99   758  \n",
              "100  0.000002   0.999998         1  0.000001  0.999999        100   764  \n",
              "\n",
              "[101 rows x 14 columns]"
            ]
          },
          "execution_count": 13,
          "metadata": {},
          "output_type": "execute_result"
        }
      ],
      "source": [
        "df = df_resume_all_reps[status]\n",
        "df"
      ]
    },
    {
      "cell_type": "code",
      "execution_count": 14,
      "metadata": {},
      "outputs": [
        {
          "data": {
            "text/plain": [
              "[0.05484464123045685, 0.17988888455319083]"
            ]
          },
          "execution_count": 14,
          "metadata": {},
          "output_type": "execute_result"
        }
      ],
      "source": [
        "x_0 = list(df['X_0'].iloc[-1])[0]\n",
        "x_1 = list(df['X_1'].iloc[-1])[0]\n",
        "x_best = [x_0, x_1] \n",
        "x_best"
      ]
    },
    {
      "cell_type": "code",
      "execution_count": 15,
      "metadata": {},
      "outputs": [
        {
          "name": "stdout",
          "output_type": "stream",
          "text": [
            "True\n"
          ]
        }
      ],
      "source": [
        "y_true, y_pred, t = my_obj_function2(x_best, algorithm_setup['none variable'])"
      ]
    },
    {
      "cell_type": "code",
      "execution_count": 16,
      "metadata": {},
      "outputs": [
        {
          "data": {
            "image/png": "[encoded data removed]",
            "text/plain": [
              "<Figure size 640x480 with 1 Axes>"
            ]
          },
          "metadata": {},
          "output_type": "display_data"
        }
      ],
      "source": [
        "import matplotlib.pyplot as plt\n",
        "\n",
        "# Plotagem dos gráficos\n",
        "plt.plot(t, y_true, label='true data', color='blue')\n",
        "plt.plot(t, y_pred, label='numerical model', color='red')\n",
        "\n",
        "# Adicionando rótulos aos eixos\n",
        "plt.xlabel('Eixo X')\n",
        "plt.ylabel('Eixo Y')\n",
        "\n",
        "# Adicionando título ao gráfico\n",
        "plt.title('Dois Gráficos de Linha')\n",
        "\n",
        "# Adicionando legenda\n",
        "plt.legend()\n",
        "\n",
        "# Exibindo o gráfico\n",
        "plt.show()"
      ]
    }
  ],
  "metadata": {
    "kernelspec": {
      "display_name": "Python 3 (ipykernel)",
      "language": "python",
      "name": "python3"
    },
    "language_info": {
      "codemirror_mode": {
        "name": "ipython",
        "version": 3
      },
      "file_extension": ".py",
      "mimetype": "text/x-python",
      "name": "python",
      "nbconvert_exporter": "python",
      "pygments_lexer": "ipython3",
      "version": "3.11.8"
    },
    "vscode": {
      "interpreter": {
        "hash": "88279d2366fe020547cde40dd65aa0e3aa662a6ec1f3ca12d88834876c85e1a6"
      }
    }
  },
  "nbformat": 4,
  "nbformat_minor": 2
}
