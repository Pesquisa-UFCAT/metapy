{
  "cells": [
    {
      "cell_type": "markdown",
      "metadata": {},
      "source": [
        "# Import libraries"
      ]
    },
    {
      "cell_type": "code",
      "execution_count": 1,
      "metadata": {},
      "outputs": [],
      "source": [
        "import META_TOOLBOX.META_CO_LIBRARY as META_CO\n",
        "import META_TOOLBOX.META_HC_LIBRARY as META_HC\n",
        "import META_TOOLBOX.META_SA_LIBRARY as META_SA\n",
        "import META_TOOLBOX.META_FA_LIBRARY as META_FA\n",
        "import META_TOOLBOX.META_DE_LIBRARY as META_DE\n",
        "import META_TOOLBOX.META_GA_LIBRARY as META_GA\n",
        "import META_TOOLBOX.META_PSO_LIBRARY as META_PSO\n",
        "import META_TOOLBOX.META_ZERO_LIBRARY as META_ZERO\n",
        "from META_TOOLBOX.META import *\n",
        "from OF_FUNCTION import *"
      ]
    },
    {
      "cell_type": "markdown",
      "metadata": {},
      "source": [
        "# Algorithm setup"
      ]
    },
    {
      "cell_type": "code",
      "execution_count": 2,
      "metadata": {},
      "outputs": [],
      "source": [
        "SETUP = {\n",
        "            'ALGORITHM': 'GRADIENT 01',\n",
        "            'N_REP': 1,\n",
        "            'N_POP': 1,\n",
        "            'N_ITER': 5,\n",
        "            'X_L': [-5, -5],\n",
        "            'X_U': [5, 5],\n",
        "            'D': 2,\n",
        "            'PARAMETERS': {'DIRECTION_SEARCH': 'BFGS'},\n",
        "            'NULL_DIC': None,\n",
        "            'OF': MY_FUNCTION,\n",
        "            'FIRST ORDER DERIVATIVE': MY_FUNCTION_DERIVATIVE\n",
        "        }"
      ]
    },
    {
      "cell_type": "markdown",
      "metadata": {},
      "source": [
        "# Initial Population in list format"
      ]
    },
    {
      "cell_type": "code",
      "execution_count": 3,
      "metadata": {},
      "outputs": [
        {
          "data": {
            "text/plain": [
              "[array([[-4.06046986, -1.76100369]])]"
            ]
          },
          "execution_count": 3,
          "metadata": {},
          "output_type": "execute_result"
        }
      ],
      "source": [
        "# Initial population\n",
        "POP = META_CO.initial_pops(SETUP['N_REP'], SETUP['N_POP'], SETUP['D'], SETUP['X_L'], SETUP['X_U'])\n",
        "POP"
      ]
    },
    {
      "cell_type": "markdown",
      "metadata": {},
      "source": [
        "# Complete dataset"
      ]
    },
    {
      "cell_type": "code",
      "execution_count": 4,
      "metadata": {},
      "outputs": [
        {
          "data": {
            "text/plain": [
              "[{'ALGORITHM': 'GRADIENT 01',\n",
              "  'N_REP': 1,\n",
              "  'N_POP': 1,\n",
              "  'N_ITER': 5,\n",
              "  'X_L': [-5, -5],\n",
              "  'X_U': [5, 5],\n",
              "  'D': 2,\n",
              "  'PARAMETERS': {'DIRECTION_SEARCH': 'BFGS'},\n",
              "  'NULL_DIC': None,\n",
              "  'OF': <function OF_FUNCTION.MY_FUNCTION(X, NULL_DIC)>,\n",
              "  'FIRST ORDER DERIVATIVE': <function OF_FUNCTION.MY_FUNCTION_DERIVATIVE(X, NULL_DIC)>},\n",
              " array([[-4.06046986, -1.76100369]])]"
            ]
          },
          "execution_count": 4,
          "metadata": {},
          "output_type": "execute_result"
        }
      ],
      "source": [
        "INFO = [[SETUP, I] for I in POP]\n",
        "INFO[0]"
      ]
    },
    {
      "cell_type": "markdown",
      "metadata": {},
      "source": [
        "# Run algorithm"
      ]
    },
    {
      "cell_type": "code",
      "execution_count": 5,
      "metadata": {
        "scrolled": false
      },
      "outputs": [
        {
          "data": {
            "text/plain": [
              "{'X_POSITION': array([[-4.06046986, -1.76100369],\n",
              "        [-1.61045541, -2.90287019],\n",
              "        [-0.33333333, -0.5       ],\n",
              "        [-0.33333333, -0.5       ],\n",
              "        [-0.33333333, -0.5       ],\n",
              "        [-0.33333333, -0.5       ]]),\n",
              " 'OF': array([116.32655337,   5.50919405,  -0.33333333,  -0.33333333,\n",
              "         -0.33333333,  -0.33333333]),\n",
              " 'FIT': array([0.00852322, 0.15362885, 1.33333333, 1.33333333, 1.33333333,\n",
              "        1.33333333]),\n",
              " 'NEOF': array([1., 2., 3., 4., 5., 6.]),\n",
              " 'ID_PARTICLE': array([0., 0., 0., 0., 0., 0.]),\n",
              " 'PARAMETERS': [{'ITER': 0,\n",
              "   'TIME (s)': 0.0,\n",
              "   'X_(K)': array([[-4.06046986, -1.76100369]]),\n",
              "   'X_(K-1)': 0,\n",
              "   'BETA': None,\n",
              "   'S(K-1)': [0, 0],\n",
              "   'ERROR': 1000},\n",
              "  {'ITER': 1,\n",
              "   'TIME (s)': 0.0,\n",
              "   'X_(K)': array([[-4.06046986, -1.76100369]]),\n",
              "   'X_(K-1)': 0,\n",
              "   'BETA': None,\n",
              "   'S(K-1)': [0, 0],\n",
              "   'ALPHA': 0.03296608925716907,\n",
              "   'ERROR': 20.114985666173666},\n",
              "  {'ITER': 2,\n",
              "   'TIME (s)': 0.0010006427764892578,\n",
              "   'X_(K)': array([[-1.61045541, -2.90287019]]),\n",
              "   'X_(K-1)': array([[-4.06046986, -1.76100369]]),\n",
              "   'BETA': None,\n",
              "   'S(K-1)': array([[1., 0.],\n",
              "          [0., 1.]]),\n",
              "   'ALPHA': 0.6319625349192033,\n",
              "   'ERROR': 17.527582146285376},\n",
              "  {'ITER': 3,\n",
              "   'TIME (s)': 0.0,\n",
              "   'X_(K)': array([[-0.33333333, -0.5       ]]),\n",
              "   'X_(K-1)': array([[-1.61045541, -2.90287019]]),\n",
              "   'BETA': None,\n",
              "   'S(K-1)': array([[0.24795623, 0.40294408],\n",
              "          [0.40294408, 0.78776009]]),\n",
              "   'ALPHA': 0.14598749869208322,\n",
              "   'ERROR': 6.661338147750932e-16},\n",
              "  {'ITER': 4,\n",
              "   'TIME (s)': 0.0010008811950683594,\n",
              "   'X_(K)': array([[-0.33333333, -0.5       ]]),\n",
              "   'X_(K-1)': array([[-0.33333333, -0.5       ]]),\n",
              "   'BETA': None,\n",
              "   'S(K-1)': array([[0.16666667, 0.25      ],\n",
              "          [0.25      , 0.5       ]]),\n",
              "   'ALPHA': 0.37937064677342514,\n",
              "   'ERROR': 1.3322676295501882e-15},\n",
              "  {'ITER': 5,\n",
              "   'TIME (s)': 0.0009999275207519531,\n",
              "   'X_(K)': array([[-0.33333333, -0.5       ]]),\n",
              "   'X_(K-1)': array([[-0.33333333, -0.5       ]]),\n",
              "   'BETA': None,\n",
              "   'S(K-1)': array([[0.17018519, 0.24950617],\n",
              "          [0.24950617, 0.49909465]]),\n",
              "   'ALPHA': 0.3316300431669665,\n",
              "   'ERROR': 3.330669073875469e-16}]}"
            ]
          },
          "execution_count": 5,
          "metadata": {},
          "output_type": "execute_result"
        }
      ],
      "source": [
        "RESULTS_ITER, BEST_ITER, AVERAGE_ITER, WORST_ITER  = GRADIENT_001(INFO[0])\n",
        "BEST_ITER"
      ]
    }
  ],
  "metadata": {
    "kernelspec": {
      "display_name": "Python 3 (ipykernel)",
      "language": "python",
      "name": "python3"
    },
    "language_info": {
      "codemirror_mode": {
        "name": "ipython",
        "version": 3
      },
      "file_extension": ".py",
      "mimetype": "text/x-python",
      "name": "python",
      "nbconvert_exporter": "python",
      "pygments_lexer": "ipython3",
      "version": "3.10.12"
    },
    "vscode": {
      "interpreter": {
        "hash": "88279d2366fe020547cde40dd65aa0e3aa662a6ec1f3ca12d88834876c85e1a6"
      }
    }
  },
  "nbformat": 4,
  "nbformat_minor": 2
}
