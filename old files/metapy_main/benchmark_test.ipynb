{
  "cells": [
    {
      "cell_type": "markdown",
      "metadata": {},
      "source": [
        "# Import library"
      ]
    },
    {
      "cell_type": "code",
      "execution_count": 33,
      "metadata": {},
      "outputs": [],
      "source": [
        "from metapy_toolbox import metaheuristic_optmizer, sphere, rosenbrock, rastrigin, ackley, griewank, zakharov, easom, michalewicz, dixonPrice, goldsteinPrice, powell\n",
        "\n",
        "import math"
      ]
    },
    {
      "cell_type": "markdown",
      "metadata": {},
      "source": [
        "# Setup and call function"
      ]
    },
    {
      "cell_type": "code",
      "execution_count": 34,
      "metadata": {},
      "outputs": [
        {
          "name": "stdout",
          "output_type": "stream",
          "text": [
            "Error: isinstance() arg 2 must be a type or tuple of types\n"
          ]
        }
      ],
      "source": [
        "### Sphere\n",
        "\n",
        "setup = {   \n",
        "            'number of repetitions': 5,\n",
        "            'number of iterations': 20,\n",
        "            'number of population': 3,\n",
        "            'number of dimensions': 2,\n",
        "            'x pop lower limit': [-5.12, -5.12],\n",
        "            'x pop upper limit': [5.12, 5.12],\n",
        "            'none variable': None,\n",
        "            'objective function': sphere,\n",
        "            'algorithm': 'hill_climbing_01',\n",
        "            'algorithm parameters': {'sigma': 20.0, 'pdf': 'gaussian'},\n",
        "            'type code': 'real code',\n",
        "            'seed control': [None] * 30\n",
        "        }\n",
        "\n",
        "df_all_reps, df_resume_all_reps, reports, status = metaheuristic_optmizer(setup)"
      ]
    },
    {
      "cell_type": "code",
      "execution_count": 35,
      "metadata": {},
      "outputs": [
        {
          "name": "stdout",
          "output_type": "stream",
          "text": [
            "Error: isinstance() arg 2 must be a type or tuple of types\n"
          ]
        }
      ],
      "source": [
        "### Rosenbrock\n",
        "\n",
        "setup = {   \n",
        "            'number of repetitions': 5,\n",
        "            'number of iterations': 20,\n",
        "            'number of population': 3,\n",
        "            'number of dimensions': 2,\n",
        "            'x pop lower limit': [-5, -5],\n",
        "            'x pop upper limit': [10, 10],\n",
        "            'none variable': None,\n",
        "            'objective function': rosenbrock,\n",
        "            'algorithm': 'hill_climbing_01',\n",
        "            'algorithm parameters': {'sigma': 20.0, 'pdf': 'gaussian'},\n",
        "            'type code': 'real code',\n",
        "            'seed control': [None] * 30\n",
        "        }\n",
        "\n",
        "df_all_reps, df_resume_all_reps, reports, status = metaheuristic_optmizer(setup)"
      ]
    },
    {
      "cell_type": "code",
      "execution_count": 36,
      "metadata": {},
      "outputs": [
        {
          "name": "stdout",
          "output_type": "stream",
          "text": [
            "Error: isinstance() arg 2 must be a type or tuple of types\n"
          ]
        }
      ],
      "source": [
        "### Rastrigin\n",
        "\n",
        "setup = {   \n",
        "            'number of repetitions': 5,\n",
        "            'number of iterations': 20,\n",
        "            'number of population': 3,\n",
        "            'number of dimensions': 2,\n",
        "            'x pop lower limit': [-5.12, -5.12],\n",
        "            'x pop upper limit': [5.12, 5.12],\n",
        "            'none variable': None,\n",
        "            'objective function': rastrigin,\n",
        "            'algorithm': 'hill_climbing_01',\n",
        "            'algorithm parameters': {'sigma': 20.0, 'pdf': 'gaussian'},\n",
        "            'type code': 'real code',\n",
        "            'seed control': [None] * 30\n",
        "        }\n",
        "\n",
        "df_all_reps, df_resume_all_reps, reports, status = metaheuristic_optmizer(setup)"
      ]
    },
    {
      "cell_type": "code",
      "execution_count": 37,
      "metadata": {},
      "outputs": [
        {
          "name": "stdout",
          "output_type": "stream",
          "text": [
            "Error: isinstance() arg 2 must be a type or tuple of types\n"
          ]
        }
      ],
      "source": [
        "### Ackley\n",
        "\n",
        "setup = {   \n",
        "            'number of repetitions': 5,\n",
        "            'number of iterations': 20,\n",
        "            'number of population': 3,\n",
        "            'number of dimensions': 2,\n",
        "            'x pop lower limit': [-32.768, -32.768],\n",
        "            'x pop upper limit': [32.768, 32.768],\n",
        "            'none variable': None,\n",
        "            'objective function': ackley,\n",
        "            'algorithm': 'hill_climbing_01',\n",
        "            'algorithm parameters': {'sigma': 20.0, 'pdf': 'gaussian'},\n",
        "            'type code': 'real code',\n",
        "            'seed control': [None] * 30\n",
        "        }\n",
        "\n",
        "df_all_reps, df_resume_all_reps, reports, status = metaheuristic_optmizer(setup)"
      ]
    },
    {
      "cell_type": "code",
      "execution_count": 38,
      "metadata": {},
      "outputs": [
        {
          "name": "stdout",
          "output_type": "stream",
          "text": [
            "Error: isinstance() arg 2 must be a type or tuple of types\n"
          ]
        }
      ],
      "source": [
        "### Griewank\n",
        "\n",
        "setup = {   \n",
        "            'number of repetitions': 5,\n",
        "            'number of iterations': 20,\n",
        "            'number of population': 3,\n",
        "            'number of dimensions': 2,\n",
        "            'x pop lower limit': [-600, -600],\n",
        "            'x pop upper limit': [600, 600],\n",
        "            'none variable': None,\n",
        "            'objective function': griewank,\n",
        "            'algorithm': 'hill_climbing_01',\n",
        "            'algorithm parameters': {'sigma': 20.0, 'pdf': 'gaussian'},\n",
        "            'type code': 'real code',\n",
        "            'seed control': [None] * 30\n",
        "        }\n",
        "\n",
        "df_all_reps, df_resume_all_reps, reports, status = metaheuristic_optmizer(setup)"
      ]
    },
    {
      "cell_type": "code",
      "execution_count": 39,
      "metadata": {},
      "outputs": [
        {
          "name": "stdout",
          "output_type": "stream",
          "text": [
            "Error: isinstance() arg 2 must be a type or tuple of types\n"
          ]
        }
      ],
      "source": [
        "###  Zakharov\n",
        "\n",
        "setup = {   \n",
        "            'number of repetitions': 5,\n",
        "            'number of iterations': 20,\n",
        "            'number of population': 3,\n",
        "            'number of dimensions': 2,\n",
        "            'x pop lower limit': [-5, -5],\n",
        "            'x pop upper limit': [10, 10],\n",
        "            'none variable': None,\n",
        "            'objective function':  zakharov,\n",
        "            'algorithm': 'hill_climbing_01',\n",
        "            'algorithm parameters': {'sigma': 20.0, 'pdf': 'gaussian'},\n",
        "            'type code': 'real code',\n",
        "            'seed control': [None] * 30\n",
        "        }\n",
        "\n",
        "df_all_reps, df_resume_all_reps, reports, status = metaheuristic_optmizer(setup)"
      ]
    },
    {
      "cell_type": "code",
      "execution_count": 40,
      "metadata": {},
      "outputs": [
        {
          "name": "stdout",
          "output_type": "stream",
          "text": [
            "Error: isinstance() arg 2 must be a type or tuple of types\n"
          ]
        }
      ],
      "source": [
        "###  Easom\n",
        "\n",
        "setup = {   \n",
        "            'number of repetitions': 5,\n",
        "            'number of iterations': 20,\n",
        "            'number of population': 3,\n",
        "            'number of dimensions': 2,\n",
        "            'x pop lower limit': [-100, -100],\n",
        "            'x pop upper limit': [100, 100],\n",
        "            'none variable': None,\n",
        "            'objective function':  easom,\n",
        "            'algorithm': 'hill_climbing_01',\n",
        "            'algorithm parameters': {'sigma': 20.0, 'pdf': 'gaussian'},\n",
        "            'type code': 'real code',\n",
        "            'seed control': [None] * 30\n",
        "        }\n",
        "\n",
        "df_all_reps, df_resume_all_reps, reports, status = metaheuristic_optmizer(setup)"
      ]
    },
    {
      "cell_type": "code",
      "execution_count": 41,
      "metadata": {},
      "outputs": [
        {
          "name": "stdout",
          "output_type": "stream",
          "text": [
            "Error: isinstance() arg 2 must be a type or tuple of types\n"
          ]
        }
      ],
      "source": [
        "### Michalewicz\n",
        "\n",
        "setup = {   \n",
        "            'number of repetitions': 5,\n",
        "            'number of iterations': 20,\n",
        "            'number of population': 3,\n",
        "            'number of dimensions': 2,\n",
        "            'x pop lower limit': [0, 0],\n",
        "            'x pop upper limit': [math.pi, math.pi],\n",
        "            'none variable': None,\n",
        "            'objective function':   michalewicz,\n",
        "            'algorithm': 'hill_climbing_01',\n",
        "            'algorithm parameters': {'sigma': 20.0, 'pdf': 'gaussian'},\n",
        "            'type code': 'real code',\n",
        "            'seed control': [None] * 30\n",
        "        }\n",
        "\n",
        "df_all_reps, df_resume_all_reps, reports, status = metaheuristic_optmizer(setup)"
      ]
    },
    {
      "cell_type": "code",
      "execution_count": 42,
      "metadata": {},
      "outputs": [
        {
          "name": "stdout",
          "output_type": "stream",
          "text": [
            "Error: isinstance() arg 2 must be a type or tuple of types\n"
          ]
        }
      ],
      "source": [
        "### Dixon-Price\n",
        "\n",
        "setup = {   \n",
        "            'number of repetitions': 5,\n",
        "            'number of iterations': 20,\n",
        "            'number of population': 3,\n",
        "            'number of dimensions': 2,\n",
        "            'x pop lower limit': [-10, -10],\n",
        "            'x pop upper limit': [10, 10],\n",
        "            'none variable': None,\n",
        "            'objective function': dixonPrice,\n",
        "            'algorithm': 'hill_climbing_01',\n",
        "            'algorithm parameters': {'sigma': 20.0, 'pdf': 'gaussian'},\n",
        "            'type code': 'real code',\n",
        "            'seed control': [None] * 30\n",
        "        }\n",
        "\n",
        "df_all_reps, df_resume_all_reps, reports, status = metaheuristic_optmizer(setup)"
      ]
    },
    {
      "cell_type": "code",
      "execution_count": 43,
      "metadata": {},
      "outputs": [
        {
          "name": "stdout",
          "output_type": "stream",
          "text": [
            "Error: isinstance() arg 2 must be a type or tuple of types\n"
          ]
        }
      ],
      "source": [
        "### Goldstein-Price\n",
        "\n",
        "setup = {   \n",
        "            'number of repetitions': 5,\n",
        "            'number of iterations': 20,\n",
        "            'number of population': 3,\n",
        "            'number of dimensions': 2,\n",
        "            'x pop lower limit': [-2, -2],\n",
        "            'x pop upper limit': [2, 2],\n",
        "            'none variable': None,\n",
        "            'objective function': goldsteinPrice,\n",
        "            'algorithm': 'hill_climbing_01',\n",
        "            'algorithm parameters': {'sigma': 20.0, 'pdf': 'gaussian'},\n",
        "            'type code': 'real code',\n",
        "            'seed control': [None] * 30\n",
        "        }\n",
        "\n",
        "df_all_reps, df_resume_all_reps, reports, status = metaheuristic_optmizer(setup)"
      ]
    },
    {
      "cell_type": "code",
      "execution_count": 44,
      "metadata": {},
      "outputs": [
        {
          "name": "stdout",
          "output_type": "stream",
          "text": [
            "Error: isinstance() arg 2 must be a type or tuple of types\n"
          ]
        }
      ],
      "source": [
        "### Powell\n",
        "\n",
        "setup = {   \n",
        "            'number of repetitions': 5,\n",
        "            'number of iterations': 20,\n",
        "            'number of population': 3,\n",
        "            'number of dimensions': 2,\n",
        "            'x pop lower limit': [-4, -4],\n",
        "            'x pop upper limit': [5, 5],\n",
        "            'none variable': None,\n",
        "            'objective function': powell,\n",
        "            'algorithm': 'hill_climbing_01',\n",
        "            'algorithm parameters': {'sigma': 20.0, 'pdf': 'gaussian'},\n",
        "            'type code': 'real code',\n",
        "            'seed control': [None] * 30\n",
        "        }\n",
        "\n",
        "df_all_reps, df_resume_all_reps, reports, status = metaheuristic_optmizer(setup)"
      ]
    },
    {
      "cell_type": "code",
      "execution_count": 45,
      "metadata": {},
      "outputs": [
        {
          "data": {
            "text/plain": [
              "list"
            ]
          },
          "execution_count": 45,
          "metadata": {},
          "output_type": "execute_result"
        }
      ],
      "source": [
        "type(setup['seed control'])"
      ]
    }
  ],
  "metadata": {
    "kernelspec": {
      "display_name": "Python 3 (ipykernel)",
      "language": "python",
      "name": "python3"
    },
    "language_info": {
      "codemirror_mode": {
        "name": "ipython",
        "version": 3
      },
      "file_extension": ".py",
      "mimetype": "text/x-python",
      "name": "python",
      "nbconvert_exporter": "python",
      "pygments_lexer": "ipython3",
      "version": "3.9.12"
    },
    "vscode": {
      "interpreter": {
        "hash": "88279d2366fe020547cde40dd65aa0e3aa662a6ec1f3ca12d88834876c85e1a6"
      }
    }
  },
  "nbformat": 4,
  "nbformat_minor": 2
}
