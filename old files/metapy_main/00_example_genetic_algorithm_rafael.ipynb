{
  "cells": [
    {
      "cell_type": "markdown",
      "metadata": {},
      "source": [
        "# Import library"
      ]
    },
    {
      "cell_type": "code",
      "execution_count": 253,
      "metadata": {},
      "outputs": [],
      "source": [
        "# pip install metapy-toolbox\n",
        "from metapy_toolbox import genetic_algorithm_01\n",
        "from my_example import my_obj_function_rafael"
      ]
    },
    {
      "cell_type": "markdown",
      "metadata": {},
      "source": [
        "# Setup"
      ]
    },
    {
      "cell_type": "code",
      "execution_count": 254,
      "metadata": {},
      "outputs": [],
      "source": [
        "# Algorithm setup\n",
        "none_variable = {\n",
        "                    'd (m) - perfil original': 0.616,\n",
        "                    'b_f (m) - perfil original': 0.325,\n",
        "                    't_f (m) - perfil original': 0.0216,\n",
        "                    't_w (m) - perfil original': 0.014,\n",
        "                    'k (m) - perfil original': 1.45,\n",
        "                    'h_c (m) - perfil original': 0.05,\n",
        "                    'r_y (m) - perfil original': 0.016,\n",
        "                    'rho (kN/m3) - peso específico': 78.60,\n",
        "                    'vão da viga (m)': 12,\n",
        "                    'g_k (kN) - carga permanente': 18,\n",
        "                    'q_k1 (kN) - carga variável principal': 9.0,\n",
        "                    'q_k2 (kN) - carga variável secundária': 1.50,\n",
        "                    'f_yd (kN/m²) - resistência ao escoamento do aço': 345E3,\n",
        "                    'gamma_a1 - coeficiente de ponderação da resistência do aço': 1.10,\n",
        "                    'gamma_g - coeficiente de ponderação das ações permanentes': 1.50,\n",
        "                    'gamma_q1 - coeficiente de ponderação das ações var. princ.': 1.50,\n",
        "                    'gamma_q2 - coeficiente de ponderação das ações var. secun.': 1.25,\n",
        "                    'psi_0': 0.5,\n",
        "                    'psi_2': 0.3,\n",
        "                    'modulo E (kPa)': 200E6,\n",
        "                    'modulo G (kPa)': 77E6,\n",
        "                    'impressao': False\n",
        "                }\n",
        "    \n",
        "setup = {   \n",
        "            'number of iterations': 100,\n",
        "            'number of population': 20,\n",
        "            'number of dimensions': 2,\n",
        "            'x pop lower limit': [1.05, 0.80],\n",
        "            'x pop upper limit': [2.00, 2.00],\n",
        "            'none variable': none_variable,\n",
        "            'objective function': my_obj_function_rafael,\n",
        "            'algorithm parameters': {\n",
        "                                     'selection': {'type': 'roulette'},\n",
        "                                     'crossover': {'crossover rate (%)': 85, 'type':'linear'},\n",
        "                                     'mutation': {'mutation rate (%)': 15, 'type': 'hill climbing', 'cov (%)': 15, 'pdf': 'gaussian'},\n",
        "                                    }\n",
        "        }\n",
        "\n",
        "\n",
        "from metapy_toolbox import initial_population_01\n",
        "init_pop = initial_population_01(setup['number of population'],\n",
        "                                setup['number of dimensions'],\n",
        "                                setup['x pop lower limit'],\n",
        "                                setup['x pop upper limit'])\n",
        "\n",
        "# Seed\n",
        "seed = None"
      ]
    },
    {
      "cell_type": "markdown",
      "metadata": {},
      "source": [
        "# Call function"
      ]
    },
    {
      "cell_type": "code",
      "execution_count": 255,
      "metadata": {},
      "outputs": [
        {
          "name": "stderr",
          "output_type": "stream",
          "text": [
            "Progress:   0%|          | 0/100 [00:00<?, ?it/s]"
          ]
        },
        {
          "name": "stderr",
          "output_type": "stream",
          "text": [
            "Progress: 100%|██████████| 100/100 [00:01<00:00, 76.12it/s]\n"
          ]
        }
      ],
      "source": [
        "settings = [setup, init_pop, seed]\n",
        "df_all_results, df_resume, time_cost, report = genetic_algorithm_01(settings)"
      ]
    },
    {
      "cell_type": "markdown",
      "metadata": {},
      "source": [
        "# Output details"
      ]
    },
    {
      "cell_type": "code",
      "execution_count": 256,
      "metadata": {},
      "outputs": [
        {
          "data": {
            "text/html": [
              "<div>\n",
              "<style scoped>\n",
              "    .dataframe tbody tr th:only-of-type {\n",
              "        vertical-align: middle;\n",
              "    }\n",
              "\n",
              "    .dataframe tbody tr th {\n",
              "        vertical-align: top;\n",
              "    }\n",
              "\n",
              "    .dataframe thead th {\n",
              "        text-align: right;\n",
              "    }\n",
              "</style>\n",
              "<table border=\"1\" class=\"dataframe\">\n",
              "  <thead>\n",
              "    <tr style=\"text-align: right;\">\n",
              "      <th></th>\n",
              "      <th>X_0</th>\n",
              "      <th>X_1</th>\n",
              "      <th>OF</th>\n",
              "      <th>FIT</th>\n",
              "      <th>ITERATION</th>\n",
              "    </tr>\n",
              "  </thead>\n",
              "  <tbody>\n",
              "    <tr>\n",
              "      <th>0</th>\n",
              "      <td>1.510364</td>\n",
              "      <td>1.737053</td>\n",
              "      <td>5.134310e+07</td>\n",
              "      <td>1.947681e-08</td>\n",
              "      <td>0</td>\n",
              "    </tr>\n",
              "    <tr>\n",
              "      <th>1</th>\n",
              "      <td>1.846223</td>\n",
              "      <td>1.268497</td>\n",
              "      <td>2.420846e+08</td>\n",
              "      <td>4.130788e-09</td>\n",
              "      <td>0</td>\n",
              "    </tr>\n",
              "    <tr>\n",
              "      <th>2</th>\n",
              "      <td>1.250463</td>\n",
              "      <td>1.426173</td>\n",
              "      <td>2.806246e+06</td>\n",
              "      <td>3.563478e-07</td>\n",
              "      <td>0</td>\n",
              "    </tr>\n",
              "    <tr>\n",
              "      <th>3</th>\n",
              "      <td>1.117201</td>\n",
              "      <td>1.777143</td>\n",
              "      <td>5.600385e+06</td>\n",
              "      <td>1.785591e-07</td>\n",
              "      <td>0</td>\n",
              "    </tr>\n",
              "    <tr>\n",
              "      <th>4</th>\n",
              "      <td>1.939069</td>\n",
              "      <td>1.336358</td>\n",
              "      <td>1.324452e+12</td>\n",
              "      <td>7.550290e-13</td>\n",
              "      <td>0</td>\n",
              "    </tr>\n",
              "    <tr>\n",
              "      <th>...</th>\n",
              "      <td>...</td>\n",
              "      <td>...</td>\n",
              "      <td>...</td>\n",
              "      <td>...</td>\n",
              "      <td>...</td>\n",
              "    </tr>\n",
              "    <tr>\n",
              "      <th>2015</th>\n",
              "      <td>1.215501</td>\n",
              "      <td>1.317515</td>\n",
              "      <td>1.633878e+00</td>\n",
              "      <td>3.796683e-01</td>\n",
              "      <td>100</td>\n",
              "    </tr>\n",
              "    <tr>\n",
              "      <th>2016</th>\n",
              "      <td>1.215501</td>\n",
              "      <td>1.317515</td>\n",
              "      <td>1.633878e+00</td>\n",
              "      <td>3.796683e-01</td>\n",
              "      <td>100</td>\n",
              "    </tr>\n",
              "    <tr>\n",
              "      <th>2017</th>\n",
              "      <td>1.215501</td>\n",
              "      <td>1.317515</td>\n",
              "      <td>1.633878e+00</td>\n",
              "      <td>3.796683e-01</td>\n",
              "      <td>100</td>\n",
              "    </tr>\n",
              "    <tr>\n",
              "      <th>2018</th>\n",
              "      <td>1.588075</td>\n",
              "      <td>1.642440</td>\n",
              "      <td>2.980149e+06</td>\n",
              "      <td>3.355536e-07</td>\n",
              "      <td>100</td>\n",
              "    </tr>\n",
              "    <tr>\n",
              "      <th>2019</th>\n",
              "      <td>1.215501</td>\n",
              "      <td>1.317515</td>\n",
              "      <td>1.633878e+00</td>\n",
              "      <td>3.796683e-01</td>\n",
              "      <td>100</td>\n",
              "    </tr>\n",
              "  </tbody>\n",
              "</table>\n",
              "<p>2020 rows × 5 columns</p>\n",
              "</div>"
            ],
            "text/plain": [
              "           X_0       X_1            OF           FIT  ITERATION\n",
              "0     1.510364  1.737053  5.134310e+07  1.947681e-08          0\n",
              "1     1.846223  1.268497  2.420846e+08  4.130788e-09          0\n",
              "2     1.250463  1.426173  2.806246e+06  3.563478e-07          0\n",
              "3     1.117201  1.777143  5.600385e+06  1.785591e-07          0\n",
              "4     1.939069  1.336358  1.324452e+12  7.550290e-13          0\n",
              "...        ...       ...           ...           ...        ...\n",
              "2015  1.215501  1.317515  1.633878e+00  3.796683e-01        100\n",
              "2016  1.215501  1.317515  1.633878e+00  3.796683e-01        100\n",
              "2017  1.215501  1.317515  1.633878e+00  3.796683e-01        100\n",
              "2018  1.588075  1.642440  2.980149e+06  3.355536e-07        100\n",
              "2019  1.215501  1.317515  1.633878e+00  3.796683e-01        100\n",
              "\n",
              "[2020 rows x 5 columns]"
            ]
          },
          "execution_count": 256,
          "metadata": {},
          "output_type": "execute_result"
        }
      ],
      "source": [
        "df_all_results"
      ]
    },
    {
      "cell_type": "code",
      "execution_count": 257,
      "metadata": {},
      "outputs": [
        {
          "data": {
            "text/html": [
              "<div>\n",
              "<style scoped>\n",
              "    .dataframe tbody tr th:only-of-type {\n",
              "        vertical-align: middle;\n",
              "    }\n",
              "\n",
              "    .dataframe tbody tr th {\n",
              "        vertical-align: top;\n",
              "    }\n",
              "\n",
              "    .dataframe thead th {\n",
              "        text-align: right;\n",
              "    }\n",
              "</style>\n",
              "<table border=\"1\" class=\"dataframe\">\n",
              "  <thead>\n",
              "    <tr style=\"text-align: right;\">\n",
              "      <th></th>\n",
              "      <th>X_0</th>\n",
              "      <th>X_1</th>\n",
              "      <th>OF BEST</th>\n",
              "      <th>FIT BET</th>\n",
              "      <th>ID BEST</th>\n",
              "      <th>X_0</th>\n",
              "      <th>X_1</th>\n",
              "      <th>OF WORST</th>\n",
              "      <th>FIT WORST</th>\n",
              "      <th>ID WORST</th>\n",
              "      <th>OF AVG</th>\n",
              "      <th>FIT AVG</th>\n",
              "      <th>ITERATION</th>\n",
              "      <th>neof</th>\n",
              "    </tr>\n",
              "  </thead>\n",
              "  <tbody>\n",
              "    <tr>\n",
              "      <th>96</th>\n",
              "      <td>1.215501</td>\n",
              "      <td>1.317515</td>\n",
              "      <td>1.633878</td>\n",
              "      <td>0.379668</td>\n",
              "      <td>0</td>\n",
              "      <td>2.0</td>\n",
              "      <td>1.525186</td>\n",
              "      <td>336488.390827</td>\n",
              "      <td>0.000003</td>\n",
              "      <td>11</td>\n",
              "      <td>26997.996464</td>\n",
              "      <td>0.341702</td>\n",
              "      <td>96</td>\n",
              "      <td>5300</td>\n",
              "    </tr>\n",
              "    <tr>\n",
              "      <th>97</th>\n",
              "      <td>1.215501</td>\n",
              "      <td>1.317515</td>\n",
              "      <td>1.633878</td>\n",
              "      <td>0.379668</td>\n",
              "      <td>5</td>\n",
              "      <td>2.0</td>\n",
              "      <td>1.525186</td>\n",
              "      <td>336488.390827</td>\n",
              "      <td>0.000003</td>\n",
              "      <td>11</td>\n",
              "      <td>26997.996464</td>\n",
              "      <td>0.341702</td>\n",
              "      <td>97</td>\n",
              "      <td>5351</td>\n",
              "    </tr>\n",
              "    <tr>\n",
              "      <th>98</th>\n",
              "      <td>1.215501</td>\n",
              "      <td>1.317515</td>\n",
              "      <td>1.633878</td>\n",
              "      <td>0.379668</td>\n",
              "      <td>1</td>\n",
              "      <td>2.0</td>\n",
              "      <td>1.525186</td>\n",
              "      <td>336488.390827</td>\n",
              "      <td>0.000003</td>\n",
              "      <td>11</td>\n",
              "      <td>26997.996464</td>\n",
              "      <td>0.341702</td>\n",
              "      <td>98</td>\n",
              "      <td>5400</td>\n",
              "    </tr>\n",
              "    <tr>\n",
              "      <th>99</th>\n",
              "      <td>1.215501</td>\n",
              "      <td>1.317515</td>\n",
              "      <td>1.633878</td>\n",
              "      <td>0.379668</td>\n",
              "      <td>1</td>\n",
              "      <td>2.0</td>\n",
              "      <td>1.525186</td>\n",
              "      <td>336488.390827</td>\n",
              "      <td>0.000003</td>\n",
              "      <td>11</td>\n",
              "      <td>26997.996464</td>\n",
              "      <td>0.341702</td>\n",
              "      <td>99</td>\n",
              "      <td>5451</td>\n",
              "    </tr>\n",
              "    <tr>\n",
              "      <th>100</th>\n",
              "      <td>1.215501</td>\n",
              "      <td>1.317515</td>\n",
              "      <td>1.633878</td>\n",
              "      <td>0.379668</td>\n",
              "      <td>8</td>\n",
              "      <td>2.0</td>\n",
              "      <td>1.525186</td>\n",
              "      <td>336488.390827</td>\n",
              "      <td>0.000003</td>\n",
              "      <td>11</td>\n",
              "      <td>26997.996464</td>\n",
              "      <td>0.341702</td>\n",
              "      <td>100</td>\n",
              "      <td>5508</td>\n",
              "    </tr>\n",
              "  </tbody>\n",
              "</table>\n",
              "</div>"
            ],
            "text/plain": [
              "          X_0       X_1   OF BEST   FIT BET  ID BEST  X_0       X_1  \\\n",
              "96   1.215501  1.317515  1.633878  0.379668        0  2.0  1.525186   \n",
              "97   1.215501  1.317515  1.633878  0.379668        5  2.0  1.525186   \n",
              "98   1.215501  1.317515  1.633878  0.379668        1  2.0  1.525186   \n",
              "99   1.215501  1.317515  1.633878  0.379668        1  2.0  1.525186   \n",
              "100  1.215501  1.317515  1.633878  0.379668        8  2.0  1.525186   \n",
              "\n",
              "          OF WORST  FIT WORST  ID WORST        OF AVG   FIT AVG  ITERATION  \\\n",
              "96   336488.390827   0.000003        11  26997.996464  0.341702         96   \n",
              "97   336488.390827   0.000003        11  26997.996464  0.341702         97   \n",
              "98   336488.390827   0.000003        11  26997.996464  0.341702         98   \n",
              "99   336488.390827   0.000003        11  26997.996464  0.341702         99   \n",
              "100  336488.390827   0.000003        11  26997.996464  0.341702        100   \n",
              "\n",
              "     neof  \n",
              "96   5300  \n",
              "97   5351  \n",
              "98   5400  \n",
              "99   5451  \n",
              "100  5508  "
            ]
          },
          "execution_count": 257,
          "metadata": {},
          "output_type": "execute_result"
        }
      ],
      "source": [
        "df_resume.tail()"
      ]
    },
    {
      "cell_type": "markdown",
      "metadata": {},
      "source": [
        "# Report"
      ]
    },
    {
      "cell_type": "markdown",
      "metadata": {},
      "source": [
        "### txt"
      ]
    },
    {
      "cell_type": "code",
      "execution_count": 258,
      "metadata": {},
      "outputs": [],
      "source": [
        "filename = \"report_genetic_algorithm_01.txt\"\n",
        "with open(filename, \"w\") as f:\n",
        "    f.write(report)"
      ]
    },
    {
      "cell_type": "markdown",
      "metadata": {},
      "source": [
        "### xlsx"
      ]
    },
    {
      "cell_type": "code",
      "execution_count": 259,
      "metadata": {},
      "outputs": [],
      "source": [
        "filename = \"report_genetic_algorithm_01.xlsx\"\n",
        "df_resume.to_excel(filename, index=False)"
      ]
    },
    {
      "cell_type": "markdown",
      "metadata": {},
      "source": [
        "# Graphical analysis"
      ]
    },
    {
      "cell_type": "code",
      "execution_count": 260,
      "metadata": {},
      "outputs": [],
      "source": [
        "from EASYPLOT_TOOLBOX import *"
      ]
    },
    {
      "cell_type": "code",
      "execution_count": 261,
      "metadata": {},
      "outputs": [
        {
          "data": {
            "image/png": "[encoded data removed]",
            "text/plain": [
              "<Figure size 787.402x393.701 with 1 Axes>"
            ]
          },
          "metadata": {},
          "output_type": "display_data"
        },
        {
          "data": {
            "text/plain": [
              "<Figure size 640x480 with 0 Axes>"
            ]
          },
          "metadata": {},
          "output_type": "display_data"
        }
      ],
      "source": [
        "# Data\n",
        "DF =  {'x0': df_resume['neof'],\n",
        "                    'y0': df_resume['OF BEST']\n",
        "}\n",
        "\n",
        "# Chart setup\n",
        "CHART_CONFIG = {\n",
        "              'NAME': 'figure5',\n",
        "              'WIDTH': 20, \n",
        "              'HEIGHT': 10,\n",
        "              'MARKER': ['s'],\n",
        "              'MARKER SIZE': [3],\n",
        "              'LINE WIDTH': [4],\n",
        "              'LINE STYLE': ['--'],\n",
        "              'X AXIS LABEL': 'neof',\n",
        "              'X AXIS SIZE': 20,\n",
        "              'Y AXIS LABEL': 'dead load ($kN/m$)',\n",
        "              'Y AXIS SIZE': 20,\n",
        "              'AXISES COLOR': '#000000',\n",
        "              'LABELS SIZE': 20,\n",
        "              'LABELS COLOR': '#000000',\n",
        "              'CHART COLOR': ['#000000'],\n",
        "              'x limit': None,\n",
        "              'y limit': None,\n",
        "              'ON GRID?': True,\n",
        "              'LEGEND': [None], # or without legend 'LEGEND': [None]\n",
        "              'legend location': 'upper right',\n",
        "              'SIZE LEGEND': 12,\n",
        "              'Y LOG': False,\n",
        "              'X LOG': False,\n",
        "              'dots per inch': 200, \n",
        "              'EXTENSION': 'svg'\n",
        "             }\n",
        "\n",
        "# Data statement \n",
        "DATA = {'DATASET': DF}\n",
        "\n",
        "# Call function\n",
        "line_chart(dataset=DATA, plot_setup=CHART_CONFIG)\n"
      ]
    }
  ],
  "metadata": {
    "kernelspec": {
      "display_name": "Python 3 (ipykernel)",
      "language": "python",
      "name": "python3"
    },
    "language_info": {
      "codemirror_mode": {
        "name": "ipython",
        "version": 3
      },
      "file_extension": ".py",
      "mimetype": "text/x-python",
      "name": "python",
      "nbconvert_exporter": "python",
      "pygments_lexer": "ipython3",
      "version": "3.11.8"
    },
    "vscode": {
      "interpreter": {
        "hash": "88279d2366fe020547cde40dd65aa0e3aa662a6ec1f3ca12d88834876c85e1a6"
      }
    }
  },
  "nbformat": 4,
  "nbformat_minor": 2
}
