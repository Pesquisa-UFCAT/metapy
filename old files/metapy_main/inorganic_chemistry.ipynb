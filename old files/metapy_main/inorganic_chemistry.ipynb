{
 "cells": [
  {
   "cell_type": "code",
   "execution_count": 25,
   "metadata": {},
   "outputs": [],
   "source": [
    "from metapy_toolbox import initial_population_01, id_selection"
   ]
  },
  {
   "cell_type": "code",
   "execution_count": 30,
   "metadata": {},
   "outputs": [
    {
     "name": "stdout",
     "output_type": "stream",
     "text": [
      "population:  [[1.9931777036914253, 3.586370311025151, 3.7295179989755], [2.680499854905583, 1.7003199664723063, 3.7719156617505014], [3.985927311077826, 3.652359843599819, 3.5191615780120156], [1.232216188914661, 1.2098723025138076, 3.275862469145058], [3.741610438455896, 3.1780422869472593, 2.5187856390484606]]\n",
      "population:  [[2.0308332809257137, 1.2076930817773626, 3.713735634794216], [1.4648556300984719, 2.86505640767688, 2.4258237018499766], [1.148025503623237, 2.5052157739647694, 3.3809010594843083], [2.8896766884177163, 2.304321146645041, 2.1285741217012943], [1.3886819274954112, 1.5147336491577714, 3.826931275227107]]\n",
      "population:  [[1.1457111623919, 3.129894999283231, 2.37734343985253], [1.780127517137584, 3.0501756890930363, 2.102875370259619], [1.9358832596400677, 2.284885770736648, 3.5338990512023476], [1.008257561712275, 3.044889437136833, 3.470029753256977], [2.6026442841809754, 3.5304241414780435, 2.3470377978408057]]\n",
      "x_new antes:  [1.9931777036914253, 3.586370311025151, 3.7295179989755]\n",
      "x_new depois:  [1.7097369633866548, 3.586370311025151, 3.7295179989755]\n",
      "x_new antes:  [2.680499854905583, 1.7003199664723063, 3.7719156617505014]\n",
      "x_new depois:  [2.680499854905583, 1.6481135914966962, 3.7719156617505014]\n",
      "x_new antes:  [3.985927311077826, 3.652359843599819, 3.5191615780120156]\n",
      "x_new depois:  [3.985927311077826, 3.8647285933395654, 3.5191615780120156]\n",
      "x_new antes:  [1.232216188914661, 1.2098723025138076, 3.275862469145058]\n",
      "x_new depois:  [-0.3062467110643542, 1.2098723025138076, 3.275862469145058]\n",
      "x_new antes:  [3.741610438455896, 3.1780422869472593, 2.5187856390484606]\n",
      "x_new depois:  [4.481772953347502, 3.1780422869472593, 2.5187856390484606]\n"
     ]
    }
   ],
   "source": [
    "# Data\n",
    "nPop = 5\n",
    "xL = [1, 1, 2]\n",
    "xU = [4, 4, 4]\n",
    "d = len(xU) # or d = len(xL) or d = 3\n",
    "\n",
    "# Call function\n",
    "population_x = initial_population_01(nPop, d, xL, xU)\n",
    "population_y = initial_population_01(nPop, d, xL, xU)\n",
    "population_z = initial_population_01(nPop, d, xL, xU)\n",
    "\n",
    "# Output details\n",
    "print('population: ', population_x)\n",
    "print('population: ', population_y)\n",
    "print('population: ', population_z)\n",
    "\n",
    "# Movement\n",
    "for i in range(nPop):\n",
    "    x_new = population_x[i].copy()\n",
    "    print('x_new antes: ', x_new)\n",
    "    selected, report = id_selection(d, 1)\n",
    "    phi = np.random.uniform(low=0, high=1)\n",
    "    eta = np.random.uniform(low=0, high=1)\n",
    "    x_new[selected[0]] = population_x[i][selected[0]] - phi*population_y[i][selected[0]] + eta*population_z[i][selected[0]]\n",
    "    print('x_new depois: ', x_new)"
   ]
  },
  {
   "cell_type": "code",
   "execution_count": 29,
   "metadata": {},
   "outputs": [
    {
     "data": {
      "text/plain": [
       "0.35281993073157336"
      ]
     },
     "execution_count": 29,
     "metadata": {},
     "output_type": "execute_result"
    }
   ],
   "source": [
    "phi = np.random.uniform(low=0, high=1)\n",
    "phi"
   ]
  },
  {
   "cell_type": "code",
   "execution_count": null,
   "metadata": {},
   "outputs": [],
   "source": []
  }
 ],
 "metadata": {
  "kernelspec": {
   "display_name": "Python 3",
   "language": "python",
   "name": "python3"
  },
  "language_info": {
   "codemirror_mode": {
    "name": "ipython",
    "version": 3
   },
   "file_extension": ".py",
   "mimetype": "text/x-python",
   "name": "python",
   "nbconvert_exporter": "python",
   "pygments_lexer": "ipython3",
   "version": "3.11.9"
  }
 },
 "nbformat": 4,
 "nbformat_minor": 2
}
