{
  "cells": [
    {
      "cell_type": "code",
      "execution_count": 1,
      "metadata": {},
      "outputs": [],
      "source": [
        "from META_TOOLBOX import *"
      ]
    },
    {
      "cell_type": "code",
      "execution_count": 2,
      "metadata": {},
      "outputs": [],
      "source": [
        "NULL_DIC = None\n",
        "\n",
        "def MY_FUNCTION(X, NULL_DIC):\n",
        "    X_0 = X[0]\n",
        "    X_1 = X[1]\n",
        "    X_2 = X[2]\n",
        "    X_3 = X[3]\n",
        "    X_4 = X[4]\n",
        "    OF = X_0 ** 2 + X_1 ** 2 + X_2 ** 2 + X_3 ** 2 + X_4 ** 2\n",
        "    return OF\n",
        "\n",
        "# Derivatives of the objective function\n",
        "def MY_FUNCTION_DERIVATIVE(X, NULL_DIC):\n",
        "    X_0 = X[0]\n",
        "    X_1 = X[1]\n",
        "    X_2 = X[2]\n",
        "    X_3 = X[3]\n",
        "    X_4 = X[4]\n",
        "    OF_DIFF_0 = 2 * X_0\n",
        "    OF_DIFF_1 = 2 * X_1\n",
        "    OF_DIFF_2 = 2 * X_2\n",
        "    OF_DIFF_3 = 2 * X_3\n",
        "    OF_DIFF_4 = 2 * X_4\n",
        "    OF_DIFF = [OF_DIFF_0, OF_DIFF_1, OF_DIFF_2, OF_DIFF_3, OF_DIFF_4]\n",
        "    return OF_DIFF"
      ]
    },
    {
      "cell_type": "code",
      "execution_count": 3,
      "metadata": {},
      "outputs": [
        {
          "data": {
            "text/plain": [
              "array([[-1.68992846, -1.85867825, -1.06176198,  1.40726336,  0.11185765]])"
            ]
          },
          "execution_count": 3,
          "metadata": {},
          "output_type": "execute_result"
        }
      ],
      "source": [
        "# Load the package\n",
        "N_POP = 1\n",
        "D = 5\n",
        "X_L = [-2, -2, -2, -2, -2]\n",
        "X_U = [2, 2, 2, 2, 2]\n",
        "# Initial population\n",
        "X = META_CO.initial_population_01(N_POP, D, X_L, X_U)\n",
        "X = np.array([[-1.68992846, -1.85867825, -1.06176198,  1.40726336,  0.11185765]])\n",
        "X"
      ]
    },
    {
      "cell_type": "code",
      "execution_count": 4,
      "metadata": {},
      "outputs": [
        {
          "name": "stdout",
          "output_type": "stream",
          "text": [
            "[-1.68992846 -1.85867825 -1.06176198  1.40726336  0.11185765] [3.37985692, 3.7173565, 2.12352396, -2.81452672, -0.2237153]\n",
            "0.5\n"
          ]
        },
        {
          "data": {
            "text/plain": [
              "(array([0., 0., 0., 0., 0.]), 0.0, 1.0, 1)"
            ]
          },
          "execution_count": 4,
          "metadata": {},
          "output_type": "execute_result"
        }
      ],
      "source": [
        "METHOD_TYPE = \"SD\" \n",
        "\n",
        "\n",
        "MATEUS = GRADIENT_MOVEMENT(X[0,:], X[0,:], MY_FUNCTION, MY_FUNCTION_DERIVATIVE, METHOD_TYPE, X_L, X_U, NULL_DIC)\n",
        "MATEUS\n"
      ]
    },
    {
      "cell_type": "code",
      "execution_count": 5,
      "metadata": {},
      "outputs": [
        {
          "ename": "NameError",
          "evalue": "name 'OF_FUNCTION' is not defined",
          "output_type": "error",
          "traceback": [
            "\u001b[1;31m---------------------------------------------------------------------------\u001b[0m",
            "\u001b[1;31mNameError\u001b[0m                                 Traceback (most recent call last)",
            "Cell \u001b[1;32mIn[5], line 1\u001b[0m\n\u001b[1;32m----> 1\u001b[0m WANDER \u001b[39m=\u001b[39m GRADIENT_MOVEMENT(MATEUS, OF_FUNCTION, OF_FUNCTION_DERIVATIVE, NULL_DIC) \n\u001b[0;32m      2\u001b[0m WANDER \n",
            "\u001b[1;31mNameError\u001b[0m: name 'OF_FUNCTION' is not defined"
          ]
        }
      ],
      "source": [
        "WANDER = GRADIENT_MOVEMENT(MATEUS, OF_FUNCTION, OF_FUNCTION_DERIVATIVE, NULL_DIC) \n",
        "WANDER "
      ]
    },
    {
      "cell_type": "code",
      "execution_count": null,
      "metadata": {},
      "outputs": [
        {
          "name": "stdout",
          "output_type": "stream",
          "text": [
            "X_I_NEW [-4.837052061767386, 4.368796825441044, 4.727383751779685]\n",
            "X_I [-4.8437644595577725, 4.3762263483376005, 4.734251421229957]\n",
            "S [6.712397790386564, -7.429522896556619, -6.8676694502721665]\n"
          ]
        },
        {
          "data": {
            "text/plain": [
              "[-4.837052061767386, 4.368796825441044, 4.727383751779685]"
            ]
          },
          "execution_count": 84,
          "metadata": {},
          "output_type": "execute_result"
        }
      ],
      "source": [
        "SERGIO = GRADIENT_MOVEMENT(WANDER, OF_FUNCTION, OF_FUNCTION_DERIVATIVE, NULL_DIC) \n",
        "SERGIO "
      ]
    }
  ],
  "metadata": {
    "kernelspec": {
      "display_name": "Python 3.9.12 ('base')",
      "language": "python",
      "name": "python3"
    },
    "language_info": {
      "codemirror_mode": {
        "name": "ipython",
        "version": 3
      },
      "file_extension": ".py",
      "mimetype": "text/x-python",
      "name": "python",
      "nbconvert_exporter": "python",
      "pygments_lexer": "ipython3",
      "version": "3.11.0"
    },
    "orig_nbformat": 4,
    "vscode": {
      "interpreter": {
        "hash": "88279d2366fe020547cde40dd65aa0e3aa662a6ec1f3ca12d88834876c85e1a6"
      }
    }
  },
  "nbformat": 4,
  "nbformat_minor": 2
}
