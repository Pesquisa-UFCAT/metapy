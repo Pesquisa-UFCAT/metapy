{
 "cells": [
  {
   "cell_type": "code",
   "execution_count": 5,
   "id": "c8fb88ac",
   "metadata": {},
   "outputs": [],
   "source": [
    "from META_TOOLBOX import FIREFLY_ALGORITHM_001 # or from META_TOOLBOX import *\n",
    "from META_TOOLBOX import GAMMA_ASSEMBLY"
   ]
  },
  {
   "cell_type": "code",
   "execution_count": 6,
   "id": "73c79354",
   "metadata": {},
   "outputs": [
    {
     "name": "stdout",
     "output_type": "stream",
     "text": [
      "Progress: |██████████████████████████████████████████████████| 100.0% Complete\n",
      "Process Time: 0.80 Seconds \n",
      " Seconds per repetition: 0.08\n",
      "META_FA001_REP_0_BEST_0_20230210 214404.xlsx\n",
      "META_FA001_REP_1_BEST_1_20230210 214404.xlsx\n",
      "META_FA001_REP_2_BEST_2_20230210 214404.xlsx\n",
      "META_FA001_REP_3_BEST_3_20230210 214404.xlsx\n",
      "META_FA001_REP_4_BEST_4_20230210 214404.xlsx\n",
      "META_FA001_REP_5_BEST_5_20230210 214404.xlsx\n",
      "META_FA001_REP_6_BEST_6_20230210 214404.xlsx\n",
      "META_FA001_REP_7_BEST_7_20230210 214404.xlsx\n",
      "META_FA001_REP_8_BEST_8_20230210 214404.xlsx\n",
      "META_FA001_REP_9_BEST_9_20230210 214404.xlsx\n",
      "META_FA001_RESUME_20230210 214404.xlsx\n"
     ]
    }
   ],
   "source": [
    "# Input\n",
    "X_L = [-2, -2, -2]\n",
    "X_U = [2, 2, 2]\n",
    "D = 3\n",
    "GAMMA = GAMMA_ASSEMBLY(X_L, X_U, D, 2)\n",
    "\n",
    "PARAMETERS = {\n",
    "              'ATTRACTIVENESS (BETA_0)': 0.98,\n",
    "              'MIN. RANDOM FACTOR (ALPHA_MIN)': 0.20,\n",
    "              'MAX. RANDOM FACTOR (ALPHA_MAX)': 0.95,\n",
    "              'LIGHT ABSORPTION (GAMMA)': GAMMA,\n",
    "              'THETA': 0.98,\n",
    "              'TYPE ALPHA UPDATE': 'YANG 0',\n",
    "              'SCALING (S_D)': True\n",
    "             }\n",
    "\n",
    "SETUP = {\n",
    "        'N_REP': 10,\n",
    "        'N_POP': 5,\n",
    "        'N_ITER': 100,\n",
    "        'X_L': X_L,\n",
    "        'X_U': X_U,\n",
    "        'D': D,\n",
    "        'NULL_DIC': {'KNAPSACK INFO': 'F1-LOWKP-10D', 'R_P': 10 ** 6, 'DISCRETE SOLUTION TABLE': DISCRETE_OPTIONS_DATASET},\n",
    "        'PARAMETERS': PARAMETERS\n",
    "        }\n",
    "\n",
    "# OF statement\n",
    "def OF_FUNCTION(X, NULL_DIC):\n",
    "    \n",
    "    DATA_DISCRETE = NULL_DIC['DISCRETE SOLUTION TABLE']\n",
    "    X_NEW = CONVERT_CONTINUOUS_DISCRETE(X, DATA_DISCRETE)\n",
    "    INSTANCE = NULL_DIC['KNAPSACK INFO']\n",
    "    RP = NULL_DIC['R_P']\n",
    "    G, PROFIT = KNAPSACK(X_NEW, INSTANCE)\n",
    "\n",
    "    OF = PROFIT + R_P * G ** 2\n",
    "\n",
    "    return OF\n",
    "\n",
    "# Call algorithm\n",
    "RESULTS_REP, BEST_REP, AVERAGE_REP, WORST_REP, STATUS_PROCEDURE = FIREFLY_ALGORITHM_001(OF_FUNCTION, SETUP)"
   ]
  }
 ],
 "metadata": {
  "kernelspec": {
   "display_name": "Python 3 (ipykernel)",
   "language": "python",
   "name": "python3"
  },
  "language_info": {
   "codemirror_mode": {
    "name": "ipython",
    "version": 3
   },
   "file_extension": ".py",
   "mimetype": "text/x-python",
   "name": "python",
   "nbconvert_exporter": "python",
   "pygments_lexer": "ipython3",
   "version": "3.10.12"
  },
  "vscode": {
   "interpreter": {
    "hash": "88279d2366fe020547cde40dd65aa0e3aa662a6ec1f3ca12d88834876c85e1a6"
   }
  }
 },
 "nbformat": 4,
 "nbformat_minor": 5
}
