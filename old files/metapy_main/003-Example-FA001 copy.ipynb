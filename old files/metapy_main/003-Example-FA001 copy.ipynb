{
 "cells": [
  {
   "cell_type": "code",
   "execution_count": 4,
   "id": "c8fb88ac",
   "metadata": {},
   "outputs": [],
   "source": [
    "from META_TOOLBOX import FIREFLY_ALGORITHM_001 # or from META_TOOLBOX import *\n",
    "from META_TOOLBOX import *\n",
    "import numpy as np"
   ]
  },
  {
   "cell_type": "code",
   "execution_count": 5,
   "id": "73c79354",
   "metadata": {},
   "outputs": [
    {
     "name": "stdout",
     "output_type": "stream",
     "text": [
      "Progress: |██████████████████████████████████████████████████| 100.0% Complete\n",
      "Process Time: 540.15 Seconds \n",
      " Seconds per repetition: 270.08\n",
      "META_FA001_REP_0_BEST_0_20230327 155202.xlsx\n",
      "META_FA001_REP_1_BEST_1_20230327 155202.xlsx\n",
      "META_FA001_RESUME_20230327 155202.xlsx\n"
     ]
    }
   ],
   "source": [
    "# Input\n",
    "D = 6\n",
    "X_L = [-5] * D\n",
    "X_U = [5] * D\n",
    "GAMMA = GAMMA_ASSEMBLY(X_L, X_U, D, 2)\n",
    "\n",
    "PARAMETERS = {\n",
    "              'ATTRACTIVENESS (BETA_0)': 0.98,\n",
    "              'MIN. RANDOM FACTOR (ALPHA_MIN)': 0.20,\n",
    "              'MAX. RANDOM FACTOR (ALPHA_MAX)': 0.95,\n",
    "              'LIGHT ABSORPTION (GAMMA)': GAMMA,\n",
    "              'THETA': 0.98,\n",
    "              'TYPE ALPHA UPDATE': 'YANG 0',\n",
    "              'SCALING (S_D)': True\n",
    "             }\n",
    "\n",
    "T = np.linspace(0, 10, 500)\n",
    "Y_EXP = np.cos(T) + np.random.normal(0, 0.2, 500) \n",
    "\n",
    "NULL_DIC = {\n",
    "            'T': T,\n",
    "            'Y_EXP': Y_EXP\n",
    "}\n",
    "\n",
    "SETUP = {\n",
    "        'N_REP': 2,\n",
    "        'N_POP': 20,\n",
    "        'N_ITER': 1000,\n",
    "        'X_L': X_L,\n",
    "        'X_U': X_U,\n",
    "        'D': D,\n",
    "        'NULL_DIC': NULL_DIC,\n",
    "        'PARAMETERS': PARAMETERS\n",
    "        }\n",
    "\n",
    "def F(x, w):\n",
    "  return w[0] + w[1]*x + w[2]*(x**2) + w[3]*(x**3) + w[4]*(x**4) + w[5]*(x**5)\n",
    "\n",
    "# OF statement\n",
    "def OF_FUNCTION(X, NULL_DIC):\n",
    "\n",
    "    T = NULL_DIC['T']\n",
    "    Y_EXP = NULL_DIC['Y_EXP']\n",
    "    Y_NUM = []\n",
    "\n",
    "    for I in T:\n",
    "        Y_NUM.append(F(I, X))\n",
    "\n",
    "    OF = LOSS_FUNCTION_5(Y_EXP, Y_NUM)\n",
    "\n",
    "    return OF\n",
    "\n",
    "# Call algorithm\n",
    "RESULTS_REP, BEST_REP, AVERAGE_REP, WORST_REP, STATUS_PROCEDURE = FIREFLY_ALGORITHM_001(OF_FUNCTION, SETUP)"
   ]
  },
  {
   "cell_type": "code",
   "execution_count": 6,
   "id": "ad6239bc",
   "metadata": {},
   "outputs": [
    {
     "data": {
      "text/plain": [
       "[4.223136995706019,\n",
       " 1.235021032264384,\n",
       " -2.7061983570966386,\n",
       " 0.6740807901200488,\n",
       " -0.02764495254897889,\n",
       " -0.0018734665177736493]"
      ]
     },
     "execution_count": 6,
     "metadata": {},
     "output_type": "execute_result"
    }
   ],
   "source": [
    "# Melhor resultado para as dimensões desejadas\n",
    "BESTBEST = STATUS_PROCEDURE[0]\n",
    "BEST = BEST_REP[BESTBEST]\n",
    "AVERAGE = AVERAGE_REP[BESTBEST]\n",
    "WORST = WORST_REP[BESTBEST]\n",
    "DIMENSOES = list(BEST['X_POSITION'][-1,:])\n",
    "DIMENSOES"
   ]
  }
 ],
 "metadata": {
  "kernelspec": {
   "display_name": "Python 3 (ipykernel)",
   "language": "python",
   "name": "python3"
  },
  "language_info": {
   "codemirror_mode": {
    "name": "ipython",
    "version": 3
   },
   "file_extension": ".py",
   "mimetype": "text/x-python",
   "name": "python",
   "nbconvert_exporter": "python",
   "pygments_lexer": "ipython3",
   "version": "3.10.9"
  },
  "vscode": {
   "interpreter": {
    "hash": "88279d2366fe020547cde40dd65aa0e3aa662a6ec1f3ca12d88834876c85e1a6"
   }
  }
 },
 "nbformat": 4,
 "nbformat_minor": 5
}
