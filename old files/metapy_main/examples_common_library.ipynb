{
 "cells": [
  {
   "cell_type": "markdown",
   "metadata": {
    "id": "QSn3RYAz6y2d"
   },
   "source": [
    "# Common library examples\n",
    "\n",
    "This section describes documentation of functions commonly used in optimization methods."
   ]
  },
  {
   "cell_type": "markdown",
   "metadata": {},
   "source": [
    "### `initial_population_01`"
   ]
  },
  {
   "cell_type": "markdown",
   "metadata": {},
   "source": [
    "#### **Example 1**"
   ]
  },
  {
   "cell_type": "markdown",
   "metadata": {},
   "source": [
    "Use the `initial_population_01` function to generate a new population (five agents) considering the limits $ \\mathbf{x}_L = \\left[1,\\;1,\\;2\\right] $ and $ \\mathbf{x}_U = \\left[4,\\;4,\\;4\\right] $."
   ]
  },
  {
   "cell_type": "code",
   "execution_count": 24,
   "metadata": {
    "colab": {
     "base_uri": "https://localhost:8080/"
    },
    "id": "uTgi5SW6koUk",
    "outputId": "bae24460-589f-4ea4-d280-abb658b2568e"
   },
   "outputs": [
    {
     "name": "stdout",
     "output_type": "stream",
     "text": [
      "particle 0:  [1.8383786609458725, 1.1014651931313675, 2.5087983700827516]\n",
      "particle 1:  [3.006564119263829, 3.2797572418622245, 2.4520288285332335]\n",
      "particle 2:  [2.8355487679766234, 3.7367682529558572, 3.0832212565600274]\n",
      "particle 3:  [2.1218352687285877, 1.0396018766946986, 3.658635389042643]\n",
      "particle 4:  [3.4496845831407343, 1.2391603532686593, 2.3433505953543294]\n"
     ]
    }
   ],
   "source": [
    "# Import\n",
    "# pip install metapy-toolbox or pip install --upgrade metapy-toolbox\n",
    "from metapy_toolbox import initial_population_01 # or import *\n",
    "\n",
    "# Data\n",
    "nPop = 5\n",
    "xL = [1, 1, 2]\n",
    "xU = [4, 4, 4]\n",
    "d = len(xU) # or d = len(xL) or d = 3\n",
    "\n",
    "# Call function\n",
    "population = initial_population_01(nPop, d, xL, xU)\n",
    "\n",
    "# Output details\n",
    "print('particle 0: ', population[0])\n",
    "print('particle 1: ', population[1])\n",
    "print('particle 2: ', population[2])\n",
    "print('particle 3: ', population[3])\n",
    "print('particle 4: ', population[4])"
   ]
  },
  {
   "cell_type": "markdown",
   "metadata": {
    "id": "Tbvx1NOG6HX_"
   },
   "source": [
    "### `initial_population_02`"
   ]
  },
  {
   "cell_type": "markdown",
   "metadata": {},
   "source": [
    "#### **Example 1**\n",
    "\n",
    "Use the `initial_population_02` function to generate a new population (five agents) considering the three dimensional combinatorial problem. "
   ]
  },
  {
   "cell_type": "code",
   "execution_count": 25,
   "metadata": {
    "colab": {
     "base_uri": "https://localhost:8080/"
    },
    "id": "zyZWby326RWd",
    "outputId": "c9acd178-aaca-49b7-c933-c0a588ebaed4"
   },
   "outputs": [
    {
     "name": "stdout",
     "output_type": "stream",
     "text": [
      "particle 0:  [0, 1, 2]\n",
      "particle 1:  [2, 1, 0]\n",
      "particle 2:  [0, 2, 1]\n",
      "particle 3:  [2, 0, 1]\n",
      "particle 4:  [2, 0, 1]\n"
     ]
    }
   ],
   "source": [
    "# Import\n",
    "# pip install metapy-toolbox or pip install --upgrade metapy-toolbox\n",
    "from metapy_toolbox import initial_population_02 # or import *\n",
    "\n",
    "# Data\n",
    "nPop = 5\n",
    "d = 3\n",
    "\n",
    "# Call function\n",
    "population = initial_population_02(nPop, d)\n",
    "\n",
    "# Output details\n",
    "print('particle 0: ', population[0])\n",
    "print('particle 1: ', population[1])\n",
    "print('particle 2: ', population[2])\n",
    "print('particle 3: ', population[3])\n",
    "print('particle 4: ', population[4])"
   ]
  },
  {
   "cell_type": "markdown",
   "metadata": {
    "id": "qYwn8nv_ietb"
   },
   "source": [
    "### `initial_pops`"
   ]
  },
  {
   "cell_type": "markdown",
   "metadata": {},
   "source": [
    "#### **Example 1**\n",
    "\n",
    "Use the `initial_pops` function to randomly initialize the population required for four repetitions of the optimization procedure, where each solution set has two agents, and each has three dimensions. The design variables limits are $\\mathbf{x}_L = \\left[1,\\;1,\\;1\\right]$ and $\\mathbf{x}_U = \\left[3,\\;3,\\;3\\right]$. Use \"seed without control\" in your setup."
   ]
  },
  {
   "cell_type": "code",
   "execution_count": 26,
   "metadata": {
    "colab": {
     "base_uri": "https://localhost:8080/"
    },
    "id": "II4nwXmwinix",
    "outputId": "94af1e38-1bc1-46b4-9143-bfb0888e3c0b"
   },
   "outputs": [
    {
     "name": "stdout",
     "output_type": "stream",
     "text": [
      "population repetition ID = 0:  [[1.744492024848236, 2.5169546111964074, 1.1421470249248162], [2.243690737901957, 2.4414280612462895, 1.0836172382424591]]\n",
      "population repetition ID = 1:  [[1.790483636527265, 1.3226776469103834, 1.552166169955317], [1.4530066466262892, 1.609367860610164, 1.2724667622439025]]\n",
      "population repetition ID = 2:  [[2.388500115197104, 1.1057324039670495, 2.1628766016267487], [1.3594562572644955, 2.0133827011182373, 1.5630376737368536]]\n",
      "population repetition ID = 3:  [[1.7401537552985855, 2.009057825949741, 1.2446624225823546], [1.2613283980788612, 2.688828512975439, 1.7843970934961386]]\n",
      "\n",
      "Agent example:\n",
      "init. population rep. ID = 0 - pop = 0:  [1.744492024848236, 2.5169546111964074, 1.1421470249248162]\n",
      "init. population rep. ID = 0 - pop = 1:  [2.243690737901957, 2.4414280612462895, 1.0836172382424591]\n"
     ]
    }
   ],
   "source": [
    "# Import\n",
    "# pip install metapy-toolbox or pip install --upgrade metapy-toolbox\n",
    "from metapy_toolbox import initial_pops # or import *\n",
    "\n",
    "# Data\n",
    "nRep = 4\n",
    "nPop = 2\n",
    "d = 3\n",
    "xL = [1, 1, 1]\n",
    "xU = [3, 3, 3]\n",
    "typeCode = 'real code'\n",
    "seeds = [None, None, None, None]\n",
    "\n",
    "# Call function\n",
    "pops = initial_pops(nRep, nPop, d, xL, xU, typeCode, seeds)\n",
    "\n",
    "# Output details\n",
    "print('population repetition ID = 0: ', pops[0])\n",
    "print('population repetition ID = 1: ', pops[1])\n",
    "print('population repetition ID = 2: ', pops[2])\n",
    "print('population repetition ID = 3: ', pops[3])\n",
    "print('\\nAgent example:')\n",
    "print('init. population rep. ID = 0 - pop = 0: ', pops[0][0])\n",
    "print('init. population rep. ID = 0 - pop = 1: ', pops[0][1])"
   ]
  },
  {
   "cell_type": "markdown",
   "metadata": {},
   "source": [
    "#### **Example 2**\n",
    "\n",
    "Use the `initial_pops` function to randomly initialize the population required for four repetitions of the optimization procedure, where each solution set has two agents, and each has three dimensions. The design variables limits are $\\mathbf{x}_L = \\left[1,\\;1,\\;1\\right]$ and $\\mathbf{x}_U = \\left[3,\\;3,\\;3\\right]$. Use \"seed control\" in your setup. Suggest: $\\mathbf{seed} = \\left[ 10,\\;11,\\;12,\\;13 \\right]$."
   ]
  },
  {
   "cell_type": "code",
   "execution_count": 27,
   "metadata": {},
   "outputs": [
    {
     "name": "stdout",
     "output_type": "stream",
     "text": [
      "population repetition ID = 0:  [[2.5426412865334918, 1.041503898718803, 2.2672964698525506], [2.4976077650772237, 1.9970140246051808, 1.4495932910616953]]\n",
      "population repetition ID = 1:  [[1.3605393777535384, 1.0389504829752492, 1.9264370529966892], [2.4498678583842954, 1.8404072091754549, 1.9708541963355648]]\n",
      "population repetition ID = 2:  [[1.3083256847593447, 2.4800993930308097, 1.5266300303702693], [2.0674787867605957, 1.0291499249708393, 2.83749401619977]]\n",
      "population repetition ID = 3:  [[2.5554048211476403, 1.4750824400698246, 2.648557065322737], [2.9314983960859995, 2.9452022278097867, 1.9068984948346244]]\n",
      "\n",
      "Agent example:\n",
      "init. population rep. ID = 0 - pop = 0:  [2.5426412865334918, 1.041503898718803, 2.2672964698525506]\n",
      "init. population rep. ID = 0 - pop = 1:  [2.4976077650772237, 1.9970140246051808, 1.4495932910616953]\n"
     ]
    }
   ],
   "source": [
    "# Import\n",
    "# pip install metapy-toolbox or pip install --upgrade metapy-toolbox \n",
    "from metapy_toolbox import initial_pops # or import *\n",
    "\n",
    "# Data\n",
    "nRep = 4\n",
    "nPop = 2\n",
    "d = 3\n",
    "xL = [1, 1, 1]\n",
    "xU = [3, 3, 3]\n",
    "typeCode = 'real code'\n",
    "seeds = [10, 11, 12, 13]\n",
    "\n",
    "# Call function\n",
    "pops = initial_pops(nRep, nPop, d, xL, xU, typeCode, seeds)\n",
    "\n",
    "# Output details\n",
    "print('population repetition ID = 0: ', pops[0])\n",
    "print('population repetition ID = 1: ', pops[1])\n",
    "print('population repetition ID = 2: ', pops[2])\n",
    "print('population repetition ID = 3: ', pops[3])\n",
    "print('\\nAgent example:')\n",
    "print('init. population rep. ID = 0 - pop = 0: ', pops[0][0])\n",
    "print('init. population rep. ID = 0 - pop = 1: ', pops[0][1])"
   ]
  },
  {
   "cell_type": "markdown",
   "metadata": {},
   "source": [
    "#### **Example 3**\n",
    "\n",
    "Use the `initial_pops` function to randomly initialize the population required for four repetitions of the optimization procedure, where each solution set has two agents, and each has three dimensions. Use the combinatorial process to generate an initial guess. Use \"seed without control\" in your setup."
   ]
  },
  {
   "cell_type": "code",
   "execution_count": 28,
   "metadata": {},
   "outputs": [
    {
     "name": "stdout",
     "output_type": "stream",
     "text": [
      "population repetition ID = 0:  [[3, 9, 0, 1, 8, 5, 7, 6, 2, 4], [4, 9, 2, 1, 7, 6, 8, 5, 3, 0]]\n",
      "population repetition ID = 1:  [[7, 9, 0, 1, 3, 5, 4, 2, 6, 8], [9, 6, 4, 3, 2, 7, 0, 1, 5, 8]]\n",
      "population repetition ID = 2:  [[1, 4, 2, 5, 0, 8, 6, 7, 9, 3], [8, 2, 7, 1, 0, 5, 3, 9, 4, 6]]\n",
      "population repetition ID = 3:  [[6, 5, 0, 7, 8, 1, 2, 3, 4, 9], [4, 7, 9, 6, 3, 2, 0, 8, 1, 5]]\n",
      "\n",
      " Agent example:\n",
      "init. population rep. ID = 0 - pop = 0:  [3, 9, 0, 1, 8, 5, 7, 6, 2, 4]\n",
      "init. population rep. ID = 0 - pop = 1:  [4, 9, 2, 1, 7, 6, 8, 5, 3, 0]\n"
     ]
    }
   ],
   "source": [
    "# Import\n",
    "# pip install metapy-toolbox or pip install --upgrade metapy-toolbox \n",
    "from metapy_toolbox import initial_pops # or import *\n",
    "\n",
    "# Data\n",
    "nRep = 4\n",
    "nPop = 2\n",
    "d = 10\n",
    "xL = None\n",
    "xU = None\n",
    "typeCode = 'combinatorial code'\n",
    "seeds = [None, None, None, None]\n",
    "\n",
    "# Call function\n",
    "pops = initial_pops(nRep, nPop, d, xL, xU, typeCode, seeds)\n",
    "\n",
    "# Output details\n",
    "print('population repetition ID = 0: ', pops[0])\n",
    "print('population repetition ID = 1: ', pops[1])\n",
    "print('population repetition ID = 2: ', pops[2])\n",
    "print('population repetition ID = 3: ', pops[3])\n",
    "print('\\n Agent example:')\n",
    "print('init. population rep. ID = 0 - pop = 0: ', pops[0][0])\n",
    "print('init. population rep. ID = 0 - pop = 1: ', pops[0][1])"
   ]
  },
  {
   "cell_type": "markdown",
   "metadata": {
    "id": "YANHLfL9jp66"
   },
   "source": [
    "### `fit_value`"
   ]
  },
  {
   "cell_type": "markdown",
   "metadata": {},
   "source": [
    "#### **Example 1**\n",
    "\n",
    "Use the `fit_value` function to generate the fitness of the agent. The objective function value is 1."
   ]
  },
  {
   "cell_type": "code",
   "execution_count": 29,
   "metadata": {
    "colab": {
     "base_uri": "https://localhost:8080/"
    },
    "id": "vFv9vzUXjt94",
    "outputId": "43032256-3044-46b8-d28a-1b7799c1d27f"
   },
   "outputs": [
    {
     "name": "stdout",
     "output_type": "stream",
     "text": [
      "fit value i agent when OF = 1 is 0.5\n"
     ]
    }
   ],
   "source": [
    "# Import\n",
    "# pip install metapy-toolbox or pip install --upgrade metapy-toolbox \n",
    "from metapy_toolbox import fit_value # or import *\n",
    "\n",
    "# Data\n",
    "ofI = 1\n",
    "\n",
    "# Call function\n",
    "fitI = fit_value(ofI)\n",
    "\n",
    "# Output details\n",
    "print(f'fit value i agent when OF = {ofI} is {fitI}')"
   ]
  },
  {
   "cell_type": "markdown",
   "metadata": {},
   "source": [
    "#### **Example 2**\n",
    "\n",
    "Use the `fit_value` function to generate the fitness of the agent. The objective function value is -1."
   ]
  },
  {
   "cell_type": "code",
   "execution_count": 30,
   "metadata": {},
   "outputs": [
    {
     "name": "stdout",
     "output_type": "stream",
     "text": [
      "fit value i agent when OF = -1 is 2\n"
     ]
    }
   ],
   "source": [
    "# Import\n",
    "# pip install metapy-toolbox or pip install --upgrade metapy-toolbox \n",
    "from metapy_toolbox import fit_value # or import *\n",
    "\n",
    "# Data\n",
    "ofI = -1\n",
    "\n",
    "# Call function\n",
    "fitI = fit_value(ofI)\n",
    "\n",
    "# Output details\n",
    "print(f'fit value i agent when OF = {ofI} is {fitI}')"
   ]
  },
  {
   "cell_type": "markdown",
   "metadata": {
    "id": "wDsxGDTekbZB"
   },
   "source": [
    "### `best_values`"
   ]
  },
  {
   "cell_type": "markdown",
   "metadata": {},
   "source": [
    "#### **Example 1**\n",
    "\n",
    "Use the `best_values` function to find the best and worst values in the pop array:  \n",
    "$\\mathbf{x}_0 = \\left[1,\\;2,\\;3\\right]$, $of_0 = 10$ and $fit_0 = 0.09$  \n",
    "$\\mathbf{x}_1 = \\left[4,\\;5,\\;6\\right]$, $of_1 = 5$ and $fit_1 = 0.17$  \n",
    "$\\mathbf{x}_2 = \\left[7,\\;8,\\;9\\right]$, $of_2 = 8$ and $fit_2 = 0.11$"
   ]
  },
  {
   "cell_type": "code",
   "execution_count": 31,
   "metadata": {
    "colab": {
     "base_uri": "https://localhost:8080/"
    },
    "id": "-_vwmgLJkihp",
    "outputId": "7507246d-b760-4473-f6cd-3648292add5d"
   },
   "outputs": [
    {
     "name": "stdout",
     "output_type": "stream",
     "text": [
      "Best position in the population: 1\n",
      "Worst position in the population: 0\n",
      "Best value of X: [4, 5, 6]\n",
      "Worst value of X: [1, 2, 3]\n",
      "Best OF: 5\n",
      "Worst OF: 10\n",
      "Best FIT: 0.17\n",
      "Worst FIT: 0.09\n",
      "Average OF: 7.666666666666667\n",
      "Average FIT: 0.12333333333333334\n"
     ]
    }
   ],
   "source": [
    "# Import\n",
    "# pip install metapy-toolbox or pip install --upgrade metapy-toolbox \n",
    "from metapy_toolbox import best_values # or import *\n",
    "\n",
    "# Data\n",
    "xPop = [[1, 2, 3], [4, 5, 6], [7, 8, 9]]\n",
    "ofPop = [10, 5, 8]\n",
    "fitPop = [0.09, 0.17, 0.11]\n",
    "\n",
    "# Call function\n",
    "bestPos, worstPos, xBest, xWorst, ofBest, ofWorst, fitBest, fitWorst, \\\n",
    "    ofAverage, fitAverage = best_values(xPop, ofPop, fitPop)\n",
    "\n",
    "# Output details\n",
    "print(\"Best position in the population:\", bestPos)\n",
    "print(\"Worst position in the population:\", worstPos)\n",
    "print(\"Best value of X:\", xBest)\n",
    "print(\"Worst value of X:\", xWorst)\n",
    "print(\"Best OF:\", ofBest)\n",
    "print(\"Worst OF:\", ofWorst)\n",
    "print(\"Best FIT:\", fitBest)\n",
    "print(\"Worst FIT:\", fitWorst)\n",
    "print(\"Average OF:\", ofAverage)\n",
    "print(\"Average FIT:\", fitAverage)"
   ]
  },
  {
   "cell_type": "code",
   "execution_count": null,
   "metadata": {},
   "outputs": [
    {
     "name": "stdout",
     "output_type": "stream",
     "text": [
      "fit value i agent when OF = -1 is 2\n"
     ]
    }
   ],
   "source": [
    "# Import\n",
    "# pip install metapy-toolbox or pip install --upgrade metapy-toolbox \n",
    "from metapy_toolbox import fit_value # or import *\n",
    "\n",
    "# Data\n",
    "ofI = -1\n",
    "\n",
    "# Call function\n",
    "fitI = fit_value(ofI)\n",
    "\n",
    "# Output details\n",
    "print(f'fit value i agent when OF = {ofI} is {fitI}')"
   ]
  },
  {
   "cell_type": "markdown",
   "metadata": {
    "id": "BppYim8XkFTC"
   },
   "source": [
    "### `check_interval_01`"
   ]
  },
  {
   "cell_type": "markdown",
   "metadata": {},
   "source": [
    "#### **Example 1**\n",
    "\n",
    "Use the `check_interval_01` function to generate a new list with the values inside the range $\\mathbf{x}_L = [1, 2, 3]$ and $\\mathbf{x}_U = [5, 5, 5]$. Consider current solution $\\mathbf{x}_i = [6, -1, 2.5]$."
   ]
  },
  {
   "cell_type": "code",
   "execution_count": 32,
   "metadata": {
    "colab": {
     "base_uri": "https://localhost:8080/"
    },
    "id": "4wc42fVDkJBJ",
    "outputId": "786d1257-7c09-4610-d4aa-05b56e2b8456"
   },
   "outputs": [
    {
     "name": "stdout",
     "output_type": "stream",
     "text": [
      "[5.0, 2.0, 3.0] <class 'list'>\n"
     ]
    }
   ],
   "source": [
    "# Import\n",
    "# pip install metapy-toolbox or pip install --upgrade metapy-toolbox \n",
    "from metapy_toolbox import check_interval_01 # or import *\n",
    "\n",
    "# Data\n",
    "xL = [1, 2, 3]\n",
    "xU = [5, 5, 5]\n",
    "xI = [6, -1, 2.5]\n",
    "\n",
    "# Call function\n",
    "xINew = check_interval_01(xI, xL, xU)\n",
    "\n",
    "# Output details\n",
    "print(xINew, type(xINew))"
   ]
  },
  {
   "cell_type": "markdown",
   "metadata": {},
   "source": [
    "#### **Example 2**\n",
    "\n",
    "Use the `check_interval_01` function to generate a new list with the values inside the range $\\mathbf{x}_L = [1, 2, 3]$ and $\\mathbf{x}_U = [5, 5, 5]$. Consider current solution $\\mathbf{x}_i = [6, 6, 6]$."
   ]
  },
  {
   "cell_type": "code",
   "execution_count": 33,
   "metadata": {},
   "outputs": [
    {
     "name": "stdout",
     "output_type": "stream",
     "text": [
      "[5, 5, 5] <class 'list'>\n"
     ]
    }
   ],
   "source": [
    "# Import\n",
    "# pip install metapy-toolbox or pip install --upgrade metapy-toolbox \n",
    "from metapy_toolbox import check_interval_01 # or import *\n",
    "\n",
    "# Data\n",
    "xL = [1, 2, 3]\n",
    "xU = [5, 5, 5]\n",
    "xI = [6, 6, 6]\n",
    "\n",
    "# Call function\n",
    "xINew = check_interval_01(xI, xL, xU)\n",
    "\n",
    "# Output details\n",
    "print(xINew, type(xINew))"
   ]
  },
  {
   "cell_type": "markdown",
   "metadata": {},
   "source": [
    "#### **Example 3**\n",
    "\n",
    "Use the `check_interval_01` function to generate a new list with the values inside the range $\\mathbf{x}_L = [1, 2, 3]$ and $\\mathbf{x}_U = [5, 5, 5]$. Consider current solution $\\mathbf{x}_i = [-1, -1, -1]$."
   ]
  },
  {
   "cell_type": "code",
   "execution_count": 34,
   "metadata": {},
   "outputs": [
    {
     "name": "stdout",
     "output_type": "stream",
     "text": [
      "[1, 2, 3] <class 'list'>\n"
     ]
    }
   ],
   "source": [
    "# Import\n",
    "# pip install metapy-toolbox or pip install --upgrade metapy-toolbox \n",
    "from metapy_toolbox import check_interval_01 # or import *\n",
    "\n",
    "# Data\n",
    "xL = [1, 2, 3]\n",
    "xU = [5, 5, 5]\n",
    "xI = [-1, -1, -1]\n",
    "\n",
    "# Call function\n",
    "xINew = check_interval_01(xI, xL, xU)\n",
    "\n",
    "# Output details\n",
    "print(xINew, type(xINew))"
   ]
  },
  {
   "cell_type": "markdown",
   "metadata": {},
   "source": [
    "### `id_selection`"
   ]
  },
  {
   "cell_type": "markdown",
   "metadata": {},
   "source": [
    "#### **Example 1**\n",
    "\n",
    "Select three dimension from five dimensions, except dimension 2 ($k=2$)."
   ]
  },
  {
   "cell_type": "code",
   "execution_count": 35,
   "metadata": {},
   "outputs": [
    {
     "name": "stdout",
     "output_type": "stream",
     "text": [
      "selected ids from dimensions: [4 3 0] \n",
      "\n",
      "    Selection dimension operator\n",
      "    probs = [0.25, 0.25, 0.0, 0.25, 0.25]\n",
      "    the selected dimensions = [4 3 0]\n",
      "\n"
     ]
    }
   ],
   "source": [
    "# Import\n",
    "# pip install metapy-toolbox or pip install --upgrade metapy-toolbox \n",
    "from metapy_toolbox import id_selection # or import *\n",
    "\n",
    "# Data\n",
    "nDimensions = 5 \n",
    "n = 3\n",
    "excludedDimension = 2\n",
    "\n",
    "# Call function\n",
    "selected, report = id_selection(nDimensions, n, excludedDimension)\n",
    "print(f'selected ids from dimensions: {selected} \\n')\n",
    "print(report)"
   ]
  },
  {
   "cell_type": "markdown",
   "metadata": {},
   "source": [
    "#### **Example 2**\n",
    "\n",
    "Select three dimension from five dimensions."
   ]
  },
  {
   "cell_type": "code",
   "execution_count": 36,
   "metadata": {},
   "outputs": [
    {
     "name": "stdout",
     "output_type": "stream",
     "text": [
      "selected ids from dimensions: [2 0 4] \n",
      "\n",
      "    Selection dimension operator\n",
      "    probs = [0.2, 0.2, 0.2, 0.2, 0.2]\n",
      "    the selected dimensions = [2 0 4]\n",
      "\n"
     ]
    }
   ],
   "source": [
    "# Import\n",
    "# pip install metapy-toolbox or pip install --upgrade metapy-toolbox\n",
    "from metapy_toolbox import id_selection # or import *\n",
    "\n",
    "# Data\n",
    "nDimensions = 5 \n",
    "n = 3\n",
    "\n",
    "# Call function\n",
    "selected, report = id_selection(nDimensions, n)\n",
    "print(f'selected ids from dimensions: {selected} \\n')\n",
    "print(report)"
   ]
  },
  {
   "cell_type": "markdown",
   "metadata": {},
   "source": [
    "### `agent_selection`"
   ]
  },
  {
   "cell_type": "markdown",
   "metadata": {},
   "source": [
    "#### **Example 1**\n",
    "\n",
    "Select three agents from population $n_{pop} = 5$, except agent $i=2$."
   ]
  },
  {
   "cell_type": "code",
   "execution_count": 37,
   "metadata": {},
   "outputs": [
    {
     "name": "stdout",
     "output_type": "stream",
     "text": [
      "selected ids from population: [1 0 3] \n",
      "\n",
      "    Selection population operator\n",
      "    probs = [0.25, 0.25, 0.0, 0.25, 0.25]\n",
      "    the selected agents = [1 0 3]\n",
      "\n"
     ]
    }
   ],
   "source": [
    "# Import\n",
    "# pip install metapy-toolbox or pip install --upgrade metapy-toolbox\n",
    "from metapy_toolbox import agent_selection # or import *\n",
    "\n",
    "# Data\n",
    "nPop = 5\n",
    "n = 3\n",
    "excludedAgent = 2\n",
    "\n",
    "# Call function\n",
    "selected, report = agent_selection(nPop, n, excludedAgent)\n",
    "print(f'selected ids from population: {selected} \\n')\n",
    "print(report)"
   ]
  },
  {
   "cell_type": "markdown",
   "metadata": {},
   "source": [
    "#### **Example 2**\n",
    "\n",
    "Select three agents from population $n_{pop} = 5$."
   ]
  },
  {
   "cell_type": "code",
   "execution_count": 38,
   "metadata": {},
   "outputs": [
    {
     "name": "stdout",
     "output_type": "stream",
     "text": [
      "selected ids from population: [3 4 1] \n",
      "\n",
      "    Selection population operator\n",
      "    probs = [0.2, 0.2, 0.2, 0.2, 0.2]\n",
      "    the selected agents = [3 4 1]\n",
      "\n"
     ]
    }
   ],
   "source": [
    "# Import\n",
    "# pip install metapy-toolbox or pip install --upgrade metapy-toolbox\n",
    "from metapy_toolbox import agent_selection # or import *\n",
    "\n",
    "# Data\n",
    "nPop = 5\n",
    "n = 3\n",
    "\n",
    "# Call function\n",
    "selected, report = agent_selection(nPop, n)\n",
    "print(f'selected ids from population: {selected} \\n')\n",
    "print(report)"
   ]
  },
  {
   "cell_type": "markdown",
   "metadata": {
    "id": "yOlJpM4xmD_Y"
   },
   "source": [
    "### `mutation_01_hill_movement`"
   ]
  },
  {
   "cell_type": "markdown",
   "metadata": {},
   "source": [
    "#### **Example 1**\n",
    "\n",
    "Use the `mutation_01_hill_movement` function to generate a new solution from an existing solution, applying a coefficient of variation of 15% in current design variables. Use the range $\\mathbf{x}_L = [1.0, 1.0]$ and $\\mathbf{x}_L = [5.0, 5.0]$. Consider current solution $\\mathbf{x}_i = [2.0, 2.0]$. Use a uniform distribution to generate."
   ]
  },
  {
   "cell_type": "code",
   "execution_count": 39,
   "metadata": {
    "colab": {
     "base_uri": "https://localhost:8080/"
    },
    "id": "qibgiHQkmGB4",
    "outputId": "ae6de841-5d2c-4aae-e349-55bbd2c626ab"
   },
   "outputs": [
    {
     "name": "stdout",
     "output_type": "stream",
     "text": [
      "x New:  [1.7640679963962254, 2.247927684193786]\n",
      "of New:  8.16511476927423\n",
      "fit New:  0.10910938107970779\n",
      "number of evalutions objective function:  1\n",
      "\n",
      "     current x = [2, 2]\n",
      "    Dimension 0: mean = 2, sigma = 0.3, neighbor = 1.7640679963962254\n",
      "    Dimension 1: mean = 2, sigma = 0.3, neighbor = 2.247927684193786\n",
      "    update x = [1.7640679963962254, 2.247927684193786], of = 8.16511476927423, fit = 0.10910938107970779\n",
      "\n"
     ]
    }
   ],
   "source": [
    "# Import\n",
    "# pip install metapy-toolbox or pip install --upgrade metapy-toolbox\n",
    "from metapy_toolbox import mutation_01_hill_movement # or import *\n",
    "\n",
    "# Data\n",
    "xL = [-5.0, -5.0]\n",
    "xU = [5.0, 5.0]\n",
    "d = len(xL)\n",
    "sigma = 15 # 15%\n",
    "xI = [2, 2]\n",
    "pdf = 'uniform'\n",
    "\n",
    "# Objective function\n",
    "def obj_function(x, _):\n",
    "    \"\"\"Example objective function\"\"\"\n",
    "    x0 = x[0]\n",
    "    x1 = x[1]\n",
    "    of = x0 ** 2 + x1 ** 2\n",
    "    return of\n",
    "\n",
    "# Call function\n",
    "xII, ofINew, fitINew,\\\n",
    "    neof, report = mutation_01_hill_movement(obj_function,\n",
    "                                             xI, xL, xU,\n",
    "                                             d, pdf, sigma)\n",
    "\n",
    "# Output details\n",
    "print('x New: ', xII)\n",
    "print('of New: ', ofINew)\n",
    "print('fit New: ', fitINew)\n",
    "print('number of evalutions objective function: ', neof)\n",
    "print('\\n', report)"
   ]
  },
  {
   "cell_type": "markdown",
   "metadata": {},
   "source": [
    "### `mutation_02_chaos_movement`"
   ]
  },
  {
   "cell_type": "markdown",
   "metadata": {},
   "source": [
    "#### **Example 1**\n",
    "\n",
    "Use the `mutation_01_hill_movement` function to generate a new solution from an existing solution, applying a coefficient of variation of 15% in current design variables. Use the range $\\mathbf{x}_L = [1.0, 1.0]$ and $\\mathbf{x}_L = [5.0, 5.0]$. Consider current solution $\\mathbf{x}_i = [2.0, 2.0]$. Use a $\\alpha = 4$ to control the chaotic map. The total iterations optimization method is 10, and the current iteration is 1."
   ]
  },
  {
   "cell_type": "code",
   "execution_count": 40,
   "metadata": {},
   "outputs": [
    {
     "name": "stdout",
     "output_type": "stream",
     "text": [
      "x New:  [-1.35084039113715, -1.35084039113715]\n",
      "of New:  3.649539524655137\n",
      "fit New:  0.21507506166950402\n",
      "number of evalutions objective function:  5\n",
      "\n",
      "     Try 0 -> current x = [2.0, 2.0], fit best = 0.1111111111111111\n",
      "    Dimension 0: epsilon = 1.0, ch = 0.364915960886285, chaos value = -1.35084039113715, neighbor = -1.35084039113715\n",
      "    Dimension 1: epsilon = 1.0, ch = 0.364915960886285, chaos value = -1.35084039113715, neighbor = -1.35084039113715\n",
      "    temporary move x = [-1.35084039113715, -1.35084039113715], of = 3.649539524655137, fit = 0.21507506166950402\n",
      "    fit_i_temp 0.21507506166950402 > fit_pop[pop] 0.1111111111111111 - accept this solution\n",
      "    update x = [-1.35084039113715, -1.35084039113715], of = 3.649539524655137, fit = 0.21507506166950402\n",
      "    Try 1 -> current x = [-1.35084039113715, -1.35084039113715], fit best = 0.21507506166950402\n",
      "    Dimension 0: epsilon = 1.0, ch = 0.9270092095068972, chaos value = 4.270092095068973, neighbor = 4.270092095068973\n",
      "    Dimension 1: epsilon = 1.0, ch = 0.9270092095068972, chaos value = 4.270092095068973, neighbor = 4.270092095068973\n",
      "    temporary move x = [4.270092095068973, 4.270092095068973], of = 36.46737300074106, fit = 0.026689888292414338\n",
      "    fit_i_temp 0.026689888292414338 < fit_pop[pop] 0.21507506166950402 - not accept this solution\n",
      "    update x = [-1.35084039113715, -1.35084039113715], of = 3.649539524655137, fit = 0.21507506166950402\n",
      "    Try 2 -> current x = [-1.35084039113715, -1.35084039113715], fit best = 0.21507506166950402\n",
      "    Dimension 0: epsilon = 1.0, ch = 0.2706525399851789, chaos value = -2.293474600148211, neighbor = -2.293474600148211\n",
      "    Dimension 1: epsilon = 1.0, ch = 0.2706525399851789, chaos value = -2.293474600148211, neighbor = -2.293474600148211\n",
      "    temporary move x = [-2.293474600148211, -2.293474600148211], of = 10.520051483049992, fit = 0.08680516762198054\n",
      "    fit_i_temp 0.08680516762198054 < fit_pop[pop] 0.21507506166950402 - not accept this solution\n",
      "    update x = [-1.35084039113715, -1.35084039113715], of = 3.649539524655137, fit = 0.21507506166950402\n",
      "    Try 3 -> current x = [-1.35084039113715, -1.35084039113715], fit best = 0.21507506166950402\n",
      "    Dimension 0: epsilon = 1.0, ch = 0.7895989703390002, chaos value = 2.8959897033900015, neighbor = 2.8959897033900015\n",
      "    Dimension 1: epsilon = 1.0, ch = 0.7895989703390002, chaos value = 2.8959897033900015, neighbor = 2.8959897033900015\n",
      "    temporary move x = [2.8959897033900015, 2.8959897033900015], of = 16.77351272428182, fit = 0.056263498134154426\n",
      "    fit_i_temp 0.056263498134154426 < fit_pop[pop] 0.21507506166950402 - not accept this solution\n",
      "    update x = [-1.35084039113715, -1.35084039113715], of = 3.649539524655137, fit = 0.21507506166950402\n",
      "    Try 4 -> current x = [-1.35084039113715, -1.35084039113715], fit best = 0.21507506166950402\n",
      "    Dimension 0: epsilon = 1.0, ch = 0.6645297455143636, chaos value = 1.645297455143636, neighbor = 1.645297455143636\n",
      "    Dimension 1: epsilon = 1.0, ch = 0.6645297455143636, chaos value = 1.645297455143636, neighbor = 1.645297455143636\n",
      "    temporary move x = [1.645297455143636, 1.645297455143636], of = 5.414007431804249, fit = 0.1559087685245637\n",
      "    fit_i_temp 0.1559087685245637 < fit_pop[pop] 0.21507506166950402 - not accept this solution\n",
      "    update x = [-1.35084039113715, -1.35084039113715], of = 3.649539524655137, fit = 0.21507506166950402\n",
      "\n"
     ]
    }
   ],
   "source": [
    "# Import\n",
    "# pip install metapy-toolbox or pip install --upgrade metapy-toolbox\n",
    "from metapy_toolbox import mutation_02_chaos_movement, fit_value # or import *\n",
    "\n",
    "# Data\n",
    "xI = [2.0, 2.0]\n",
    "xL = [-5.0, -5.0]\n",
    "xU = [5.0, 5.0]\n",
    "d = len(xL)\n",
    "alpha = 4\n",
    "nTries = 5\n",
    "iteration = 1\n",
    "nIter = 10\n",
    "\n",
    "# Objective function\n",
    "def objFunction(x, _):\n",
    "    \"\"\"Example objective function\"\"\"\n",
    "    x0 = x[0]\n",
    "    x1 = x[1]\n",
    "    of = x0 ** 2 + x1 ** 2\n",
    "    return of\n",
    "\n",
    "# OF and fit value\n",
    "ofI = objFunction(xI, None)\n",
    "fitI = fit_value(ofI)\n",
    "\n",
    "# Call function\n",
    "xNew, ofNew, fitNew,\\\n",
    "    neof, report = mutation_02_chaos_movement(objFunction, xI,\n",
    "                                              ofI, fitI, xL, xU,\n",
    "                                              d, alpha, nTries,\n",
    "                                              iteration, nIter)\n",
    "\n",
    "# Output details\n",
    "print('x New: ', xNew)\n",
    "print('of New: ', ofNew)\n",
    "print('fit New: ', fitNew)\n",
    "print('number of evalutions objective function: ', neof)\n",
    "print('\\n', report)"
   ]
  },
  {
   "cell_type": "markdown",
   "metadata": {},
   "source": [
    "### `mutation_03_de_movement`"
   ]
  },
  {
   "cell_type": "markdown",
   "metadata": {},
   "source": [
    "#### **Example 1**\n",
    "\n",
    "Use the `mutation_03_de_movement` function to generate a new solution from three existing solutions. Use the range $\\mathbf{x}_L = [1.0, 1.0]$ and $\\mathbf{x}_U = [5.0, 5.0]$. Consider current solutions $\\mathbf{x}_{r0} = [2.0, 3.0]$, $\\mathbf{x}_{r1} = [4.0, 5.0]$ and $\\mathbf{x}_{r2} = [3.6, 2.8]$. Use a scale factor equals 2.0."
   ]
  },
  {
   "cell_type": "code",
   "execution_count": 41,
   "metadata": {},
   "outputs": [
    {
     "name": "stdout",
     "output_type": "stream",
     "text": [
      "x New:  [2.48, 5.0]\n",
      "of New:  31.1504\n",
      "fit New:  0.031103812083208913\n",
      "number of evalutions objective function:  1\n",
      "\n",
      "     current xr0 = [2.0, 3.0]\n",
      "    current xr1 = [4.0, 5.0]\n",
      "    current xr2 = [3.6, 2.8]\n",
      "    Dimension 0: rij = 0.3999999999999999, neighbor = 2.48\n",
      "    Dimension 1: rij = 2.2, neighbor = 5.640000000000001\n",
      "    update x = [2.48, 5.0], of = 31.1504, fit = 0.031103812083208913\n",
      "\n"
     ]
    }
   ],
   "source": [
    "# Import \n",
    "# pip install metapy-toolbox or pip install --upgrade metapy-toolbox\n",
    "from metapy_toolbox import mutation_03_de_movement # or import *\n",
    "\n",
    "# Data\n",
    "xR0 = [2.0, 3.0]\n",
    "xR1 = [4.0, 5.0]\n",
    "xR2 = [3.6, 2.8]\n",
    "xL = [-5.0, -5.0]\n",
    "xU = [5.0, 5.0]\n",
    "d = len(xL)\n",
    "f = 1.2\n",
    "\n",
    "# Objective function\n",
    "def objFunction(x, _):\n",
    "    \"\"\"Example objective function\"\"\"\n",
    "    x0 = x[0]\n",
    "    x1 = x[1]\n",
    "    of = x0 ** 2 + x1 ** 2\n",
    "    return of\n",
    "\n",
    "# Call function\n",
    "xNew, ofNew, fitNew,\\\n",
    "    neof, report = mutation_03_de_movement(objFunction, xR0,\n",
    "                                           xR1, xR2, xL, xU,\n",
    "                                           d, f)\n",
    "\n",
    "# Output details\n",
    "print('x New: ', xNew) \n",
    "print('of New: ', ofNew)\n",
    "print('fit New: ', fitNew)\n",
    "print('number of evalutions objective function: ', neof)\n",
    "print('\\n', report)"
   ]
  },
  {
   "cell_type": "markdown",
   "metadata": {},
   "source": [
    "### `mutation_04_de_movement`"
   ]
  },
  {
   "cell_type": "code",
   "execution_count": 42,
   "metadata": {},
   "outputs": [
    {
     "name": "stdout",
     "output_type": "stream",
     "text": [
      "x New:  [2.96, 5.0]\n",
      "of New:  33.7616\n",
      "fit New:  0.028767375494798856\n",
      "number of evalutions objective function:  1\n",
      "\n",
      "     current xr0 = [2.0, 3.0]\n",
      "    current xr1 = [4.0, 5.0]\n",
      "    current xr2 = [3.6, 2.8]\n",
      "    current xr3 = [3.0, 4.0]\n",
      "    current xr4 = [2.6, 3.7]\n",
      "    Dimension 0: rij_1 = 0.3999999999999999, rij_2 = 0.3999999999999999, neighbor = 2.96\n",
      "    Dimension 1: rij_1 = 2.2, rij_2 = 0.2999999999999998, neighbor = 6.0\n",
      "    update x = [2.96, 5.0], of = 33.7616, fit = 0.028767375494798856\n",
      "\n"
     ]
    }
   ],
   "source": [
    "# Import \n",
    "# pip install metapy-toolbox or pip install --upgrade metapy-toolbox\n",
    "from metapy_toolbox import mutation_04_de_movement # or import *\n",
    "\n",
    "# Data\n",
    "xR0 = [2.0, 3.0]\n",
    "xR1 = [4.0, 5.0]\n",
    "xR2 = [3.6, 2.8]\n",
    "xR3 = [3.0, 4.0]\n",
    "xR4 = [2.6, 3.7]\n",
    "xL = [-5.0, -5.0]\n",
    "xU = [5.0, 5.0]\n",
    "d = len(xL)\n",
    "f = 1.2\n",
    "\n",
    "# Objective function\n",
    "def objFunction(x, _):\n",
    "    \"\"\"Example objective function\"\"\"\n",
    "    x0 = x[0]\n",
    "    x1 = x[1]\n",
    "    of = x0 ** 2 + x1 ** 2\n",
    "    return of\n",
    "\n",
    "# Call function\n",
    "xNew, ofNew, fitNew,\\\n",
    "    neof, report = mutation_04_de_movement(objFunction, xR0,\n",
    "                                           xR1, xR2, xR3, xR4,\n",
    "                                           xL, xU, d, f)\n",
    "\n",
    "# Output details\n",
    "print('x New: ', xNew)\n",
    "print('of New: ', ofNew)\n",
    "print('fit New: ', fitNew)\n",
    "print('number of evalutions objective function: ', neof)\n",
    "print('\\n', report)"
   ]
  },
  {
   "cell_type": "markdown",
   "metadata": {},
   "source": [
    "### `mutation_05_de_movement`"
   ]
  },
  {
   "cell_type": "code",
   "execution_count": 43,
   "metadata": {},
   "outputs": [
    {
     "name": "stdout",
     "output_type": "stream",
     "text": [
      "x New:  [0.42000000000000015, -1.2600000000000002]\n",
      "of New:  1.7640000000000007\n",
      "fit New:  0.36179450072358893\n",
      "number of evalutions objective function:  1\n",
      "\n",
      "     current xr0 = [1.9, 2.1]\n",
      "    current xr1 = [2.8, 4.4]\n",
      "    current x_best = [1.5, 1.5]\n",
      "    Dimension 0: rij = -0.8999999999999999, neighbor = 0.42000000000000015\n",
      "    Dimension 1: rij = -2.3000000000000003, neighbor = -1.2600000000000002\n",
      "    update x = [0.42000000000000015, -1.2600000000000002], of = 1.7640000000000007, fit = 0.36179450072358893\n",
      "\n"
     ]
    }
   ],
   "source": [
    "# Import \n",
    "# pip install metapy-toolbox or pip install --upgrade metapy-toolbox\n",
    "from metapy_toolbox import mutation_05_de_movement # or import *\n",
    "\n",
    "# Data\n",
    "xR0 = [1.9, 2.1]\n",
    "xR1 = [2.8, 4.4]\n",
    "xBest = [1.5, 1.5]\n",
    "xL = [-5.0, -5.0]\n",
    "xU = [5.0, 5.0]\n",
    "d = len(xL)\n",
    "f = 1.2\n",
    "\n",
    "# Objective function\n",
    "def objFunction(x, _):\n",
    "    \"\"\"Example objective function\"\"\"\n",
    "    x0 = x[0]\n",
    "    x1 = x[1]\n",
    "    of = x0 ** 2 + x1 ** 2\n",
    "    return of\n",
    "\n",
    "# Call function\n",
    "xNew, ofNew, fitNew,\\\n",
    "    neof, report = mutation_05_de_movement(objFunction, xR0, xR1,\n",
    "                                           xBest, xL, xU, d, f)\n",
    "\n",
    "# Output details\n",
    "print('x New: ', xNew)\n",
    "print('of New: ', ofNew)\n",
    "print('fit New: ', fitNew)\n",
    "print('number of evalutions objective function: ', neof)\n",
    "print('\\n', report)"
   ]
  },
  {
   "cell_type": "markdown",
   "metadata": {},
   "source": [
    "### `mutation_06_de_movement`"
   ]
  },
  {
   "cell_type": "code",
   "execution_count": 44,
   "metadata": {},
   "outputs": [
    {
     "name": "stdout",
     "output_type": "stream",
     "text": [
      "x New:  [-0.17999999999999983, -2.34]\n",
      "of New:  5.507999999999999\n",
      "fit New:  0.15365703749231716\n",
      "number of evalutions objective function:  1\n",
      "\n",
      "     current xr0 = [2.0, 3.0]\n",
      "    current xr1 = [4.0, 5.0]\n",
      "    current xr2 = [3.6, 2.8]\n",
      "    current xr3 = [3.0, 4.0]\n",
      "    current x_best = [1.5, 1.5]\n",
      "    Dimension 0: rij_1 = -2.0, rij_2 = 0.6000000000000001, neighbor = -0.17999999999999983\n",
      "    Dimension 1: rij_1 = -2.0, rij_2 = -1.2000000000000002, neighbor = -2.34\n",
      "    update x = [-0.17999999999999983, -2.34], of = 5.507999999999999, fit = 0.15365703749231716\n",
      "\n"
     ]
    }
   ],
   "source": [
    "# Import \n",
    "# pip install metapy-toolbox or pip install --upgrade metapy-toolbox\n",
    "from metapy_toolbox import mutation_06_de_movement # or import *\n",
    "\n",
    "# Data\n",
    "xR0 = [2.0, 3.0]\n",
    "xR1 = [4.0, 5.0]\n",
    "xR2 = [3.6, 2.8]\n",
    "xR3 = [3.0, 4.0]\n",
    "xBest = [1.5, 1.5]\n",
    "xL = [-5.0, -5.0]\n",
    "xU = [5.0, 5.0]\n",
    "d = len(xL)\n",
    "f = 1.2\n",
    "\n",
    "# Objective function\n",
    "def objFunction(x, _):\n",
    "    \"\"\"Example objective function\"\"\"\n",
    "    x0 = x[0]\n",
    "    x1 = x[1]\n",
    "    of = x0 ** 2 + x1 ** 2\n",
    "    return of\n",
    "\n",
    "# Call function\n",
    "xNew, ofNew, fitNew,\\\n",
    "    neof, report = mutation_06_de_movement(objFunction, xR0, xR1,\n",
    "                                           xR2, xR3, xBest, xL,\n",
    "                                           xU, d, f)\n",
    "\n",
    "# Output details\n",
    "print('x New: ', xNew)\n",
    "print('of New: ', ofNew)\n",
    "print('fit New: ', fitNew)\n",
    "print('number of evalutions objective function: ', neof)\n",
    "print('\\n', report)"
   ]
  },
  {
   "cell_type": "markdown",
   "metadata": {},
   "source": [
    "### `mutation_07_de_movement`"
   ]
  },
  {
   "cell_type": "code",
   "execution_count": 45,
   "metadata": {},
   "outputs": [
    {
     "name": "stdout",
     "output_type": "stream",
     "text": [
      "x New:  [1.8800000000000001, 1.1600000000000001]\n",
      "of New:  4.880000000000001\n",
      "fit New:  0.17006802721088432\n",
      "number of evalutions objective function:  1\n",
      "\n",
      "     current xi = [2.0, 2.0]\n",
      "    current xr0 = [1.4, 2.6]\n",
      "    current xr1 = [3.1, 4.7]\n",
      "    current xr2 = [3.0, 4.0]\n",
      "    current x_best = [1.2, 1.2]\n",
      "    Dimension 0: rij_1 = -0.19999999999999996, rij_2 = 0.10000000000000009, neighbor = 1.8800000000000001\n",
      "    Dimension 1: rij_1 = -1.4000000000000001, rij_2 = 0.7000000000000002, neighbor = 1.1600000000000001\n",
      "    update x = [1.8800000000000001, 1.1600000000000001], of = 4.880000000000001, fit = 0.17006802721088432\n",
      "\n"
     ]
    }
   ],
   "source": [
    "# Import \n",
    "# pip install metapy-toolbox or pip install --upgrade metapy-toolbox\n",
    "from metapy_toolbox import mutation_07_de_movement # or import *\n",
    "\n",
    "# Data\n",
    "xI = [2.0, 2.0]\n",
    "xR0 = [1.4, 2.6]\n",
    "xR1 = [3.1, 4.7]\n",
    "xR2 = [2.1, 4.9]\n",
    "xBest = [1.2, 1.2]\n",
    "xL = [-5.0, -5.0]\n",
    "xU = [5.0, 5.0]\n",
    "d = len(xL)\n",
    "f = 1.2\n",
    "\n",
    "# Objective function\n",
    "def objFunction(x, _):\n",
    "    \"\"\"Example objective function\"\"\"\n",
    "    x0 = x[0]\n",
    "    x1 = x[1]\n",
    "    of = x0 ** 2 + x1 ** 2\n",
    "    return of\n",
    "\n",
    "# Call function\n",
    "xNew, ofNew, fitNew,\\\n",
    "    neof, report = mutation_07_de_movement(objFunction, xI, xR0,\n",
    "                                           xR1, xR3, xBest, xL,\n",
    "                                           xU, d, f)\n",
    "\n",
    "# Output details\n",
    "print('x New: ', xNew)\n",
    "print('of New: ', ofNew)\n",
    "print('fit New: ', fitNew)\n",
    "print('number of evalutions objective function: ', neof)\n",
    "print('\\n', report)"
   ]
  },
  {
   "cell_type": "markdown",
   "metadata": {},
   "source": [
    "Quasi Oppositional"
   ]
  },
  {
   "cell_type": "code",
   "execution_count": 46,
   "metadata": {},
   "outputs": [
    {
     "ename": "TypeError",
     "evalue": "'>=' not supported between instances of 'list' and 'int'",
     "output_type": "error",
     "traceback": [
      "\u001b[1;31m---------------------------------------------------------------------------\u001b[0m",
      "\u001b[1;31mTypeError\u001b[0m                                 Traceback (most recent call last)",
      "Cell \u001b[1;32mIn[46], line 26\u001b[0m\n\u001b[0;32m     22\u001b[0m         of_population\u001b[38;5;241m.\u001b[39mappend(of)\n\u001b[0;32m     24\u001b[0m     \u001b[38;5;28;01mreturn\u001b[39;00m of_population\n\u001b[1;32m---> 26\u001b[0m new_pop \u001b[38;5;241m=\u001b[39m \u001b[43mquasi_oppositional_population_initialization\u001b[49m\u001b[43m(\u001b[49m\u001b[43mobj_function\u001b[49m\u001b[43m,\u001b[49m\u001b[43m \u001b[49m\u001b[43mn_pop\u001b[49m\u001b[43m,\u001b[49m\u001b[43m \u001b[49m\u001b[43mn_dimension\u001b[49m\u001b[43m,\u001b[49m\u001b[43m \u001b[49m\u001b[43minitial_pop\u001b[49m\u001b[43m,\u001b[49m\u001b[43m \u001b[49m\u001b[43mx_lower\u001b[49m\u001b[43m,\u001b[49m\u001b[43m \u001b[49m\u001b[43mx_upper\u001b[49m\u001b[43m,\u001b[49m\u001b[43m \u001b[49m\u001b[43mnone_variable\u001b[49m\u001b[43m \u001b[49m\u001b[38;5;241;43m=\u001b[39;49m\u001b[43m \u001b[49m\u001b[38;5;28;43;01mNone\u001b[39;49;00m\u001b[43m)\u001b[49m\n\u001b[0;32m     27\u001b[0m \u001b[38;5;28mprint\u001b[39m(\u001b[38;5;124m\"\u001b[39m\u001b[38;5;124mnew pop\u001b[39m\u001b[38;5;124m\"\u001b[39m, new_pop)\n",
      "File \u001b[1;32mc:\\Users\\wander\\Documents\\GitHub\\METAPYDEV\\metapy_toolbox\\common_library.py:834\u001b[0m, in \u001b[0;36mquasi_oppositional_population_initialization\u001b[1;34m(obj_function, n_pop, n_dimension, initial_pop, x_lower, x_upper, none_variable)\u001b[0m\n\u001b[0;32m    831\u001b[0m obj_values \u001b[38;5;241m=\u001b[39m obj_function(combined_population, none_variable)\n\u001b[0;32m    833\u001b[0m \u001b[38;5;66;03m# Calculate fitness values ​​for all individuals in the combined population\u001b[39;00m\n\u001b[1;32m--> 834\u001b[0m fit_new_pop \u001b[38;5;241m=\u001b[39m \u001b[43mfit_value\u001b[49m\u001b[43m(\u001b[49m\u001b[43mobj_values\u001b[49m\u001b[43m)\u001b[49m\n\u001b[0;32m    836\u001b[0m \u001b[38;5;66;03m# Sorts the indices of individuals in the combined population based on fitness values ​​(in descending order)\u001b[39;00m\n\u001b[0;32m    837\u001b[0m sorted_indices \u001b[38;5;241m=\u001b[39m np\u001b[38;5;241m.\u001b[39margsort(fit_new_pop)[::\u001b[38;5;241m-\u001b[39m\u001b[38;5;241m1\u001b[39m]\n",
      "File \u001b[1;32mc:\\Users\\wander\\Documents\\GitHub\\METAPYDEV\\metapy_toolbox\\common_library.py:118\u001b[0m, in \u001b[0;36mfit_value\u001b[1;34m(of_i_value)\u001b[0m\n\u001b[0;32m    107\u001b[0m \u001b[38;5;124;03m\"\"\" \u001b[39;00m\n\u001b[0;32m    108\u001b[0m \u001b[38;5;124;03mThis function calculates the fitness of the i agent.\u001b[39;00m\n\u001b[0;32m    109\u001b[0m \u001b[38;5;124;03m\u001b[39;00m\n\u001b[1;32m   (...)\u001b[0m\n\u001b[0;32m    114\u001b[0m \u001b[38;5;124;03m    fit_i_value (Float): Fitness value of the i agent\u001b[39;00m\n\u001b[0;32m    115\u001b[0m \u001b[38;5;124;03m\"\"\"\u001b[39;00m\n\u001b[0;32m    117\u001b[0m \u001b[38;5;66;03m# Positive or zero OF value\u001b[39;00m\n\u001b[1;32m--> 118\u001b[0m \u001b[38;5;28;01mif\u001b[39;00m \u001b[43mof_i_value\u001b[49m\u001b[43m \u001b[49m\u001b[38;5;241;43m>\u001b[39;49m\u001b[38;5;241;43m=\u001b[39;49m\u001b[43m \u001b[49m\u001b[38;5;241;43m0\u001b[39;49m:\n\u001b[0;32m    119\u001b[0m     fit_i_value \u001b[38;5;241m=\u001b[39m \u001b[38;5;241m1\u001b[39m \u001b[38;5;241m/\u001b[39m (\u001b[38;5;241m1\u001b[39m \u001b[38;5;241m+\u001b[39m of_i_value)\n\u001b[0;32m    120\u001b[0m \u001b[38;5;66;03m# Negative OF value\u001b[39;00m\n",
      "\u001b[1;31mTypeError\u001b[0m: '>=' not supported between instances of 'list' and 'int'"
     ]
    }
   ],
   "source": [
    "#import\n",
    "import numpy as np\n",
    "from metapy_toolbox import quasi_oppositional_population_initialization\n",
    "\n",
    "#Data\n",
    "n_pop = 10\n",
    "n_dimension = 2\n",
    "initial_pop = np.random.uniform(low=0, high=1, size=(n_pop, n_dimension))\n",
    "x_lower = [-5,-5]\n",
    "x_upper =[5,5]\n",
    "\n",
    "# Objective function\n",
    "def obj_function(x_population, _):\n",
    "    \"\"\"Example objective function\"\"\"\n",
    "    \n",
    "    of_population = []\n",
    "\n",
    "    for x in x_population:\n",
    "        x0 = x[0]\n",
    "        x1 = x[1]\n",
    "        of = x0 ** 2 + x1 ** 2\n",
    "        of_population.append(of)\n",
    "\n",
    "    return of_population\n",
    "\n",
    "new_pop = quasi_oppositional_population_initialization(obj_function, n_pop, n_dimension, initial_pop, x_lower, x_upper, none_variable = None)\n",
    "print(\"new pop\", new_pop)"
   ]
  }
 ],
 "metadata": {
  "colab": {
   "provenance": []
  },
  "kernelspec": {
   "display_name": "Python 3 (ipykernel)",
   "language": "python",
   "name": "python3"
  },
  "language_info": {
   "codemirror_mode": {
    "name": "ipython",
    "version": 3
   },
   "file_extension": ".py",
   "mimetype": "text/x-python",
   "name": "python",
   "nbconvert_exporter": "python",
   "pygments_lexer": "ipython3",
   "version": "3.11.0"
  }
 },
 "nbformat": 4,
 "nbformat_minor": 4
}
