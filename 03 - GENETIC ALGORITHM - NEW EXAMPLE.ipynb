{
  "cells": [
    {
      "cell_type": "code",
      "execution_count": 1,
      "metadata": {},
      "outputs": [],
      "source": [
        "# import numpy as np\n",
        "# from multiprocessing import Pool\n",
        "# import time\n",
        "# import pandas as pd\n",
        "# import sys\n",
        "from OF_FUNCTION import *\n",
        "from META_TOOLBOX import *\n",
        "from EASYPLOT_TOOLBOX import *"
      ]
    },
    {
      "cell_type": "code",
      "execution_count": 2,
      "metadata": {},
      "outputs": [
        {
          "ename": "KeyError",
          "evalue": "'TYPE CODE'",
          "output_type": "error",
          "traceback": [
            "\u001b[1;31m---------------------------------------------------------------------------\u001b[0m",
            "\u001b[1;31mKeyError\u001b[0m                                  Traceback (most recent call last)",
            "\u001b[1;32mc:\\Users\\wande\\Documents\\GitHub\\METApyDEV\\03 - GENETIC ALGORITHM - NEW EXAMPLE.ipynb Cell 2\u001b[0m line \u001b[0;36m<cell line: 14>\u001b[1;34m()\u001b[0m\n\u001b[0;32m      <a href='vscode-notebook-cell:/c%3A/Users/wande/Documents/GitHub/METApyDEV/03%20-%20GENETIC%20ALGORITHM%20-%20NEW%20EXAMPLE.ipynb#W1sZmlsZQ%3D%3D?line=0'>1</a>\u001b[0m SETUP \u001b[39m=\u001b[39m {\n\u001b[0;32m      <a href='vscode-notebook-cell:/c%3A/Users/wande/Documents/GitHub/METApyDEV/03%20-%20GENETIC%20ALGORITHM%20-%20NEW%20EXAMPLE.ipynb#W1sZmlsZQ%3D%3D?line=1'>2</a>\u001b[0m             \u001b[39m'\u001b[39m\u001b[39mALGORITHM\u001b[39m\u001b[39m'\u001b[39m: \u001b[39m'\u001b[39m\u001b[39mGENETIC ALGORITHM 01\u001b[39m\u001b[39m'\u001b[39m,\n\u001b[0;32m      <a href='vscode-notebook-cell:/c%3A/Users/wande/Documents/GitHub/METApyDEV/03%20-%20GENETIC%20ALGORITHM%20-%20NEW%20EXAMPLE.ipynb#W1sZmlsZQ%3D%3D?line=2'>3</a>\u001b[0m             \u001b[39m'\u001b[39m\u001b[39mN_REP\u001b[39m\u001b[39m'\u001b[39m: \u001b[39m10\u001b[39m,\n\u001b[1;32m   (...)\u001b[0m\n\u001b[0;32m     <a href='vscode-notebook-cell:/c%3A/Users/wande/Documents/GitHub/METApyDEV/03%20-%20GENETIC%20ALGORITHM%20-%20NEW%20EXAMPLE.ipynb#W1sZmlsZQ%3D%3D?line=10'>11</a>\u001b[0m             \u001b[39m'\u001b[39m\u001b[39mOF\u001b[39m\u001b[39m'\u001b[39m: MY_FUNCTION\n\u001b[0;32m     <a href='vscode-notebook-cell:/c%3A/Users/wande/Documents/GitHub/METApyDEV/03%20-%20GENETIC%20ALGORITHM%20-%20NEW%20EXAMPLE.ipynb#W1sZmlsZQ%3D%3D?line=11'>12</a>\u001b[0m         }\n\u001b[1;32m---> <a href='vscode-notebook-cell:/c%3A/Users/wande/Documents/GitHub/METApyDEV/03%20-%20GENETIC%20ALGORITHM%20-%20NEW%20EXAMPLE.ipynb#W1sZmlsZQ%3D%3D?line=13'>14</a>\u001b[0m RESULTS_REP, BEST_REP, AVERAGE_REP, WORST_REP, STATUS_PROCEDURE \u001b[39m=\u001b[39m META(SETUP)\n",
            "File \u001b[1;32mc:\\Users\\wande\\Documents\\GitHub\\METApyDEV\\META_TOOLBOX\\META.py:27\u001b[0m, in \u001b[0;36mMETA\u001b[1;34m(SETUP)\u001b[0m\n\u001b[0;32m     24\u001b[0m AVERAGE_REP \u001b[39m=\u001b[39m []\n\u001b[0;32m     26\u001b[0m \u001b[39m# Initial population\u001b[39;00m\n\u001b[1;32m---> 27\u001b[0m POP \u001b[39m=\u001b[39m META_CO\u001b[39m.\u001b[39minitial_pops(SETUP[\u001b[39m'\u001b[39m\u001b[39mN_REP\u001b[39m\u001b[39m'\u001b[39m], SETUP[\u001b[39m'\u001b[39m\u001b[39mN_POP\u001b[39m\u001b[39m'\u001b[39m], SETUP[\u001b[39m'\u001b[39m\u001b[39mD\u001b[39m\u001b[39m'\u001b[39m], SETUP[\u001b[39m'\u001b[39m\u001b[39mX_L\u001b[39m\u001b[39m'\u001b[39m], SETUP[\u001b[39m'\u001b[39m\u001b[39mX_U\u001b[39m\u001b[39m'\u001b[39m], SETUP[\u001b[39m'\u001b[39;49m\u001b[39mTYPE CODE\u001b[39;49m\u001b[39m'\u001b[39;49m])\n\u001b[0;32m     29\u001b[0m \u001b[39m# Algorithm selection and general results\u001b[39;00m\n\u001b[0;32m     30\u001b[0m \u001b[39mif\u001b[39;00m SETUP[\u001b[39m'\u001b[39m\u001b[39mALGORITHM\u001b[39m\u001b[39m'\u001b[39m] \u001b[39m==\u001b[39m \u001b[39m'\u001b[39m\u001b[39mHILL CLIMBING 01\u001b[39m\u001b[39m'\u001b[39m:\n\u001b[0;32m     31\u001b[0m     \u001b[39m# Define the name of the model\u001b[39;00m\n",
            "\u001b[1;31mKeyError\u001b[0m: 'TYPE CODE'"
          ]
        }
      ],
      "source": [
        "SETUP = {\n",
        "            'ALGORITHM': 'GENETIC ALGORITHM 01',\n",
        "            'N_REP': 10,\n",
        "            'N_POP': 10,\n",
        "            'N_ITER': 50,\n",
        "            'X_L': [-5, -5],\n",
        "            'X_U': [5, 5],\n",
        "            'D': 2,\n",
        "            'PARAMETERS': {'SELECTION': 'TOURNAMENT-5', 'CROSSOVER': 'BINOMIAL CROSSOVER (C)-20', 'MUTATION RATE (%)': 50},\n",
        "            'NULL_DIC': None,\n",
        "            'OF': MY_FUNCTION\n",
        "        }\n",
        "\n",
        "RESULTS_REP, BEST_REP, AVERAGE_REP, WORST_REP, STATUS_PROCEDURE = META(SETUP)"
      ]
    },
    {
      "cell_type": "code",
      "execution_count": null,
      "metadata": {},
      "outputs": [
        {
          "data": {
            "text/plain": [
              "array([2, 7, 0, 8, 1, 3, 4, 6, 5, 9])"
            ]
          },
          "execution_count": 3,
          "metadata": {},
          "output_type": "execute_result"
        }
      ],
      "source": [
        "STATUS_PROCEDURE"
      ]
    },
    {
      "cell_type": "code",
      "execution_count": null,
      "metadata": {},
      "outputs": [
        {
          "data": {
            "text/plain": [
              "{'X_POSITION': array([[-0.97110263, -2.28539973],\n",
              "        [-1.00541087, -2.28231181],\n",
              "        [-1.09705214, -2.22851917],\n",
              "        [-1.01954173, -1.93711956],\n",
              "        [-0.91576441, -1.88543643],\n",
              "        [-0.90511819, -1.83945074],\n",
              "        [-0.92653402, -1.66496955],\n",
              "        [-0.93856129, -1.57730893],\n",
              "        [-0.93856129, -1.57730893],\n",
              "        [-0.85329533, -1.53904966],\n",
              "        [-0.8806386 , -1.40255711],\n",
              "        [-0.87101519, -1.39993339],\n",
              "        [-0.81030869, -1.3278694 ],\n",
              "        [-0.78816064, -1.31308543],\n",
              "        [-0.7877745 , -1.30802705],\n",
              "        [-0.72969243, -1.26367921],\n",
              "        [-0.75617045, -1.18980396],\n",
              "        [-0.75617045, -1.18980396],\n",
              "        [-0.70158972, -1.17759975],\n",
              "        [-0.70158972, -1.17759975],\n",
              "        [-0.70526882, -1.16429789],\n",
              "        [-0.68592241, -1.13102698],\n",
              "        [-0.68973909, -1.09935482],\n",
              "        [-0.64325427, -1.06612365],\n",
              "        [-0.64325427, -1.06612365],\n",
              "        [-0.63481126, -0.99608261],\n",
              "        [-0.61289739, -0.97094654],\n",
              "        [-0.61289739, -0.97094654],\n",
              "        [-0.55191984, -0.95445531],\n",
              "        [-0.58145328, -0.94671847],\n",
              "        [-0.58339604, -0.94140702],\n",
              "        [-0.588049  , -0.9293955 ],\n",
              "        [-0.588049  , -0.9293955 ],\n",
              "        [-0.53823183, -0.82367988],\n",
              "        [-0.47741454, -0.779537  ],\n",
              "        [-0.47741454, -0.779537  ],\n",
              "        [-0.44424203, -0.75143058],\n",
              "        [-0.46446145, -0.72587147],\n",
              "        [-0.43189173, -0.67330565],\n",
              "        [-0.42408359, -0.62911207],\n",
              "        [-0.40378701, -0.58286777],\n",
              "        [-0.3947797 , -0.57875205],\n",
              "        [-0.37417765, -0.59053712],\n",
              "        [-0.37591501, -0.55863018],\n",
              "        [-0.36489899, -0.55639681],\n",
              "        [-0.36489899, -0.55639681],\n",
              "        [-0.36262352, -0.53939597],\n",
              "        [-0.36262352, -0.53939597],\n",
              "        [-0.3374946 , -0.48848926],\n",
              "        [-0.3374946 , -0.48848926],\n",
              "        [-0.33606533, -0.50522037]]),\n",
              " 'OF': array([ 3.63419397,  3.41924603,  2.77574658,  1.74453864,  1.7320598 ,\n",
              "         1.57590308,  1.0251987 ,  0.88044555,  0.88044555,  0.74629316,\n",
              "         0.59192957,  0.56887417,  0.39972391,  0.3557514 ,  0.35008975,\n",
              "         0.25240239,  0.2153828 ,  0.2153828 ,  0.13622032,  0.13622032,\n",
              "         0.12695398,  0.0813569 ,  0.06451013, -0.00418041, -0.00418041,\n",
              "        -0.05296971, -0.08821472, -0.08821472, -0.12590768, -0.12641883,\n",
              "        -0.12814962, -0.12973563, -0.12973563, -0.20631619, -0.25496921,\n",
              "        -0.25496921, -0.26748517, -0.27834386, -0.30159757, -0.30842976,\n",
              "        -0.31636049, -0.32128625, -0.32490147, -0.32778381, -0.33001667,\n",
              "        -0.33001667, -0.33067717, -0.33067717, -0.33202076, -0.33202076,\n",
              "        -0.3333059 ]),\n",
              " 'FIT': array([0.21578726, 0.22628294, 0.26484828, 0.36435996, 0.3660242 ,\n",
              "        0.38821336, 0.49377871, 0.53178886, 0.53178886, 0.57264154,\n",
              "        0.62816849, 0.63739975, 0.71442661, 0.73759835, 0.7406915 ,\n",
              "        0.79846542, 0.82278604, 0.82278604, 0.880111  , 0.880111  ,\n",
              "        0.88734768, 0.92476406, 0.93939924, 1.00418041, 1.00418041,\n",
              "        1.05296971, 1.08821472, 1.08821472, 1.12590768, 1.12641883,\n",
              "        1.12814962, 1.12973563, 1.12973563, 1.20631619, 1.25496921,\n",
              "        1.25496921, 1.26748517, 1.27834386, 1.30159757, 1.30842976,\n",
              "        1.31636049, 1.32128625, 1.32490147, 1.32778381, 1.33001667,\n",
              "        1.33001667, 1.33067717, 1.33067717, 1.33202076, 1.33202076,\n",
              "        1.3333059 ]),\n",
              " 'NEOF': array([ 10.,  26.,  39.,  55.,  67.,  81.,  99., 112., 126., 140., 157.,\n",
              "        170., 186., 201., 215., 231., 245., 261., 276., 292., 306., 321.,\n",
              "        334., 350., 364., 381., 393., 407., 422., 436., 451., 467., 484.,\n",
              "        502., 515., 533., 549., 565., 578., 592., 607., 622., 638., 656.,\n",
              "        673., 690., 708., 722., 738., 750., 763.]),\n",
              " 'ID_PARTICLE': array([8., 7., 5., 5., 8., 9., 8., 6., 1., 9., 9., 2., 7., 9., 6., 9., 9.,\n",
              "        6., 2., 2., 6., 4., 3., 6., 0., 5., 4., 0., 7., 4., 1., 3., 3., 6.,\n",
              "        8., 8., 6., 3., 1., 2., 8., 8., 2., 3., 3., 3., 8., 4., 5., 0., 4.]),\n",
              " 'PARAMETERS': [{'TIME (s)': 0.0},\n",
              "  {'TIME (s)': 0.014649629592895508},\n",
              "  {'TIME (s)': 0.021557331085205078},\n",
              "  {'TIME (s)': 0.012584686279296875},\n",
              "  {'TIME (s)': 0.008127212524414062},\n",
              "  {'TIME (s)': 0.01198267936706543},\n",
              "  {'TIME (s)': 0.008864402770996094},\n",
              "  {'TIME (s)': 0.0071489810943603516},\n",
              "  {'TIME (s)': 0.007887601852416992},\n",
              "  {'TIME (s)': 0.007242918014526367},\n",
              "  {'TIME (s)': 0.010188817977905273},\n",
              "  {'TIME (s)': 0.009879350662231445},\n",
              "  {'TIME (s)': 0.00982975959777832},\n",
              "  {'TIME (s)': 0.007704973220825195},\n",
              "  {'TIME (s)': 0.009278535842895508},\n",
              "  {'TIME (s)': 0.007828474044799805},\n",
              "  {'TIME (s)': 0.008880853652954102},\n",
              "  {'TIME (s)': 0.009836673736572266},\n",
              "  {'TIME (s)': 0.007588386535644531},\n",
              "  {'TIME (s)': 0.009742975234985352},\n",
              "  {'TIME (s)': 0.0073702335357666016},\n",
              "  {'TIME (s)': 0.008567333221435547},\n",
              "  {'TIME (s)': 0.007281780242919922},\n",
              "  {'TIME (s)': 0.007733583450317383},\n",
              "  {'TIME (s)': 0.007796049118041992},\n",
              "  {'TIME (s)': 0.009358882904052734},\n",
              "  {'TIME (s)': 0.00812077522277832},\n",
              "  {'TIME (s)': 0.008334875106811523},\n",
              "  {'TIME (s)': 0.0076406002044677734},\n",
              "  {'TIME (s)': 0.00787043571472168},\n",
              "  {'TIME (s)': 0.007390499114990234},\n",
              "  {'TIME (s)': 0.0065021514892578125},\n",
              "  {'TIME (s)': 0.0036606788635253906},\n",
              "  {'TIME (s)': 0.004372596740722656},\n",
              "  {'TIME (s)': 0.0035865306854248047},\n",
              "  {'TIME (s)': 0.004335880279541016},\n",
              "  {'TIME (s)': 0.004256248474121094},\n",
              "  {'TIME (s)': 0.003534078598022461},\n",
              "  {'TIME (s)': 0.0040628910064697266},\n",
              "  {'TIME (s)': 0.0037276744842529297},\n",
              "  {'TIME (s)': 0.004170894622802734},\n",
              "  {'TIME (s)': 0.003592252731323242},\n",
              "  {'TIME (s)': 0.005495309829711914},\n",
              "  {'TIME (s)': 0.0049304962158203125},\n",
              "  {'TIME (s)': 0.0038030147552490234},\n",
              "  {'TIME (s)': 0.004372358322143555},\n",
              "  {'TIME (s)': 0.004590034484863281},\n",
              "  {'TIME (s)': 0.0043141841888427734},\n",
              "  {'TIME (s)': 0.004137516021728516},\n",
              "  {'TIME (s)': 0.0034532546997070312},\n",
              "  {'TIME (s)': 0.0037200450897216797}]}"
            ]
          },
          "execution_count": 4,
          "metadata": {},
          "output_type": "execute_result"
        }
      ],
      "source": [
        "BEST_REP[STATUS_PROCEDURE[0]]"
      ]
    },
    {
      "cell_type": "code",
      "execution_count": null,
      "metadata": {},
      "outputs": [
        {
          "data": {
            "image/png": "[encoded data removed]",
            "text/plain": [
              "<Figure size 566.929x283.465 with 1 Axes>"
            ]
          },
          "metadata": {
            "needs_background": "light"
          },
          "output_type": "display_data"
        }
      ],
      "source": [
        "# Data\n",
        "LEGEND = ['Best rep.', 'Worst rep.']\n",
        "LINE_STY = ['-', '-']\n",
        "OF_VALUES = [\n",
        "            list(BEST_REP[STATUS_PROCEDURE[0]]['OF']),\n",
        "            list(BEST_REP[STATUS_PROCEDURE[-1]]['OF'])\n",
        "         ]\n",
        "EVALUATIONS = list(BEST_REP[STATUS_PROCEDURE[0]]['NEOF'])\n",
        "COLORS = ['blue','green']\n",
        "\n",
        "# Chart setup\n",
        "CHART_CONFIG = {\n",
        "              'NAME': 'figure5',\n",
        "              'WIDTH': 0.20, \n",
        "              'HEIGHT': 0.10,\n",
        "              'MARKER': None,\n",
        "              'MARKER SIZE': 3,\n",
        "              'LINE WIDTH': 4,\n",
        "              'LINE STYLE': LINE_STY,\n",
        "              'X AXIS LABEL': 'Function evaluations ($NEOF$)',\n",
        "              'X AXIS SIZE': 14,\n",
        "              'Y AXIS LABEL': '$OF$ value',\n",
        "              'Y AXIS SIZE': 14,\n",
        "              'AXISES COLOR': '#000000',\n",
        "              'LABELS SIZE': 14,\n",
        "              'LABELS COLOR': '#000000',\n",
        "              'CHART COLOR': COLORS,\n",
        "              'ON GRID?': True,\n",
        "              'LOC LEGEND': 'upper right',\n",
        "              'SIZE LEGEND': 14,\n",
        "              'Y LOG': False,\n",
        "              'X LOG': False,\n",
        "              'DPI': 600, \n",
        "              'EXTENSION': 'svg'\n",
        "             }\n",
        "\n",
        "# Data statement \n",
        "DATA = {'X': EVALUATIONS, 'Y': OF_VALUES, 'LEGEND': LEGEND}\n",
        "\n",
        "# Call function\n",
        "LINE_CHART(DATASET = DATA, PLOT_SETUP = CHART_CONFIG)"
      ]
    }
  ],
  "metadata": {
    "kernelspec": {
      "display_name": "Python 3 (ipykernel)",
      "language": "python",
      "name": "python3"
    },
    "language_info": {
      "codemirror_mode": {
        "name": "ipython",
        "version": 3
      },
      "file_extension": ".py",
      "mimetype": "text/x-python",
      "name": "python",
      "nbconvert_exporter": "python",
      "pygments_lexer": "ipython3",
      "version": "3.9.12"
    },
    "vscode": {
      "interpreter": {
        "hash": "88279d2366fe020547cde40dd65aa0e3aa662a6ec1f3ca12d88834876c85e1a6"
      }
    }
  },
  "nbformat": 4,
  "nbformat_minor": 2
}
