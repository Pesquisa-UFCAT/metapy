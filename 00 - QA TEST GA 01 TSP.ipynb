{
  "cells": [
    {
      "cell_type": "markdown",
      "metadata": {},
      "source": [
        "# Import libraries"
      ]
    },
    {
      "cell_type": "code",
      "execution_count": 1,
      "metadata": {},
      "outputs": [],
      "source": [
        "from META_TOOLBOX.META import *\n",
        "import META_TOOLBOX.META_CO_LIBRARY as META_CO\n",
        "import META_TOOLBOX.META_HC_LIBRARY as META_HC\n",
        "import META_TOOLBOX.META_SA_LIBRARY as META_SA\n",
        "import META_TOOLBOX.META_FA_LIBRARY as META_FA\n",
        "import META_TOOLBOX.META_DE_LIBRARY as META_DE\n",
        "import META_TOOLBOX.META_GA_LIBRARY as META_GA\n",
        "import META_TOOLBOX.META_PSO_LIBRARY as META_PSO\n",
        "import META_TOOLBOX.META_ZERO_LIBRARY as META_ZERO\n",
        "from OF_FUNCTION import *"
      ]
    },
    {
      "cell_type": "markdown",
      "metadata": {},
      "source": [
        "# Algorithm setup"
      ]
    },
    {
      "cell_type": "code",
      "execution_count": 2,
      "metadata": {},
      "outputs": [],
      "source": [
        "SETUP = {\n",
        "            'ALGORITHM': 'GENETIC ALGORTIHM 01 COMB',\n",
        "            'N_REP': 1,\n",
        "            'N_POP': 3,\n",
        "            'N_ITER': 50,\n",
        "            'D': 5,\n",
        "            'X_L': None,\n",
        "            'X_U': None,\n",
        "            'PARAMETERS': {'SELECTION': 'TOURNAMENT-5', 'CROSSOVER': 'MULTI POINT CROSSOVER', 'MUTATION RATE (%)': 20},\n",
        "            'NULL_DIC': None,\n",
        "            'OF': MY_FUNCTION_TSP,\n",
        "            'TYPE CODE': 'COMBINATORIAL CODE'\n",
        "        }"
      ]
    },
    {
      "cell_type": "markdown",
      "metadata": {},
      "source": [
        "# Initial Population in list format"
      ]
    },
    {
      "cell_type": "code",
      "execution_count": 3,
      "metadata": {},
      "outputs": [
        {
          "data": {
            "text/plain": [
              "[array([[3., 1., 0., 4., 2.],\n",
              "        [3., 4., 1., 2., 0.],\n",
              "        [0., 4., 1., 3., 2.]])]"
            ]
          },
          "execution_count": 3,
          "metadata": {},
          "output_type": "execute_result"
        }
      ],
      "source": [
        "# Initial population\n",
        "POP = META_CO.initial_pops(SETUP['N_REP'], SETUP['N_POP'], SETUP['D'], SETUP['X_L'], SETUP['X_U'], SETUP['TYPE CODE'])\n",
        "POP"
      ]
    },
    {
      "cell_type": "markdown",
      "metadata": {},
      "source": [
        "# Complete dataset"
      ]
    },
    {
      "cell_type": "code",
      "execution_count": 4,
      "metadata": {},
      "outputs": [
        {
          "data": {
            "text/plain": [
              "[{'ALGORITHM': 'GENETIC ALGORTIHM 01 COMB',\n",
              "  'N_REP': 1,\n",
              "  'N_POP': 3,\n",
              "  'N_ITER': 50,\n",
              "  'D': 5,\n",
              "  'X_L': None,\n",
              "  'X_U': None,\n",
              "  'PARAMETERS': {'SELECTION': 'TOURNAMENT-5',\n",
              "   'CROSSOVER': 'MULTI POINT CROSSOVER',\n",
              "   'MUTATION RATE (%)': 20},\n",
              "  'NULL_DIC': None,\n",
              "  'OF': <function OF_FUNCTION.MY_FUNCTION_TSP(X, NULL_DIC)>,\n",
              "  'TYPE CODE': 'COMBINATORIAL CODE'},\n",
              " array([[3., 1., 0., 4., 2.],\n",
              "        [3., 4., 1., 2., 0.],\n",
              "        [0., 4., 1., 3., 2.]])]"
            ]
          },
          "execution_count": 4,
          "metadata": {},
          "output_type": "execute_result"
        }
      ],
      "source": [
        "INFO = [[SETUP, I] for I in POP]\n",
        "INFO[0]"
      ]
    },
    {
      "cell_type": "markdown",
      "metadata": {},
      "source": [
        "# Run algorithm"
      ]
    },
    {
      "cell_type": "code",
      "execution_count": 5,
      "metadata": {
        "scrolled": true
      },
      "outputs": [
        {
          "data": {
            "text/plain": [
              "{'X_POSITION': array([[3., 4., 1., 2., 0.],\n",
              "        [3., 4., 1., 2., 0.],\n",
              "        [3., 4., 1., 2., 0.],\n",
              "        [3., 4., 1., 2., 0.],\n",
              "        [3., 4., 1., 2., 0.],\n",
              "        [3., 4., 1., 2., 0.],\n",
              "        [3., 4., 1., 2., 0.],\n",
              "        [3., 4., 1., 2., 0.],\n",
              "        [3., 4., 1., 2., 0.],\n",
              "        [3., 4., 1., 2., 0.],\n",
              "        [3., 4., 1., 2., 0.],\n",
              "        [3., 4., 1., 2., 0.],\n",
              "        [3., 4., 1., 2., 0.],\n",
              "        [3., 4., 1., 2., 0.],\n",
              "        [3., 4., 1., 2., 0.],\n",
              "        [3., 4., 1., 2., 0.],\n",
              "        [3., 4., 1., 2., 0.],\n",
              "        [3., 4., 1., 2., 0.],\n",
              "        [3., 4., 1., 2., 0.],\n",
              "        [3., 4., 1., 2., 0.],\n",
              "        [3., 4., 1., 2., 0.],\n",
              "        [3., 4., 1., 2., 0.],\n",
              "        [3., 4., 1., 2., 0.],\n",
              "        [3., 4., 1., 2., 0.],\n",
              "        [3., 4., 1., 2., 0.],\n",
              "        [3., 4., 1., 2., 0.],\n",
              "        [3., 4., 1., 2., 0.],\n",
              "        [3., 4., 1., 2., 0.],\n",
              "        [3., 4., 1., 2., 0.],\n",
              "        [3., 4., 1., 2., 0.],\n",
              "        [3., 4., 1., 2., 0.],\n",
              "        [3., 4., 1., 2., 0.],\n",
              "        [3., 4., 1., 2., 0.],\n",
              "        [3., 4., 1., 2., 0.],\n",
              "        [3., 4., 1., 2., 0.],\n",
              "        [3., 4., 1., 2., 0.],\n",
              "        [3., 4., 1., 2., 0.],\n",
              "        [3., 4., 1., 2., 0.],\n",
              "        [3., 4., 1., 2., 0.],\n",
              "        [3., 4., 1., 2., 0.],\n",
              "        [3., 4., 1., 2., 0.],\n",
              "        [3., 4., 1., 2., 0.],\n",
              "        [3., 4., 1., 2., 0.],\n",
              "        [3., 4., 1., 2., 0.],\n",
              "        [3., 4., 1., 2., 0.],\n",
              "        [3., 4., 1., 2., 0.],\n",
              "        [3., 4., 1., 2., 0.],\n",
              "        [3., 4., 1., 2., 0.],\n",
              "        [3., 4., 1., 2., 0.],\n",
              "        [3., 4., 1., 2., 0.],\n",
              "        [3., 4., 1., 2., 0.]]),\n",
              " 'OF': array([19., 19., 19., 19., 19., 19., 19., 19., 19., 19., 19., 19., 19.,\n",
              "        19., 19., 19., 19., 19., 19., 19., 19., 19., 19., 19., 19., 19.,\n",
              "        19., 19., 19., 19., 19., 19., 19., 19., 19., 19., 19., 19., 19.,\n",
              "        19., 19., 19., 19., 19., 19., 19., 19., 19., 19., 19., 19.]),\n",
              " 'FIT': array([0.05, 0.05, 0.05, 0.05, 0.05, 0.05, 0.05, 0.05, 0.05, 0.05, 0.05,\n",
              "        0.05, 0.05, 0.05, 0.05, 0.05, 0.05, 0.05, 0.05, 0.05, 0.05, 0.05,\n",
              "        0.05, 0.05, 0.05, 0.05, 0.05, 0.05, 0.05, 0.05, 0.05, 0.05, 0.05,\n",
              "        0.05, 0.05, 0.05, 0.05, 0.05, 0.05, 0.05, 0.05, 0.05, 0.05, 0.05,\n",
              "        0.05, 0.05, 0.05, 0.05, 0.05, 0.05, 0.05]),\n",
              " 'NEOF': array([  3.,  10.,  17.,  25.,  31.,  39.,  46.,  52.,  59.,  65.,  73.,\n",
              "         80.,  87.,  93.,  99., 105., 112., 118., 124., 131., 138., 145.,\n",
              "        152., 159., 165., 171., 178., 185., 192., 198., 205., 211., 217.,\n",
              "        225., 231., 239., 245., 251., 259., 265., 271., 277., 283., 289.,\n",
              "        297., 305., 312., 320., 327., 335., 342.]),\n",
              " 'ID_PARTICLE': array([1., 0., 0., 0., 0., 0., 0., 0., 0., 0., 0., 0., 0., 0., 0., 0., 0.,\n",
              "        0., 0., 0., 0., 0., 0., 0., 0., 0., 0., 0., 0., 0., 0., 0., 0., 0.,\n",
              "        0., 0., 0., 0., 0., 0., 0., 0., 0., 0., 0., 0., 0., 0., 0., 0., 0.]),\n",
              " 'PARAMETERS': [{'TIME (s)': 0.0},\n",
              "  {'TIME (s)': 0.012002944946289062},\n",
              "  {'TIME (s)': 0.0020003318786621094},\n",
              "  {'TIME (s)': 0.00099945068359375},\n",
              "  {'TIME (s)': 0.0020017623901367188},\n",
              "  {'TIME (s)': 0.0019989013671875},\n",
              "  {'TIME (s)': 0.002001047134399414},\n",
              "  {'TIME (s)': 0.0010001659393310547},\n",
              "  {'TIME (s)': 0.0020003318786621094},\n",
              "  {'TIME (s)': 0.0010001659393310547},\n",
              "  {'TIME (s)': 0.0020003318786621094},\n",
              "  {'TIME (s)': 0.0020017623901367188},\n",
              "  {'TIME (s)': 0.0019998550415039062},\n",
              "  {'TIME (s)': 0.0010006427764892578},\n",
              "  {'TIME (s)': 0.0009996891021728516},\n",
              "  {'TIME (s)': 0.002000093460083008},\n",
              "  {'TIME (s)': 0.0010008811950683594},\n",
              "  {'TIME (s)': 0.0020008087158203125},\n",
              "  {'TIME (s)': 0.0010006427764892578},\n",
              "  {'TIME (s)': 0.0010001659393310547},\n",
              "  {'TIME (s)': 0.0019989013671875},\n",
              "  {'TIME (s)': 0.002000570297241211},\n",
              "  {'TIME (s)': 0.0020008087158203125},\n",
              "  {'TIME (s)': 0.0009996891021728516},\n",
              "  {'TIME (s)': 0.001001119613647461},\n",
              "  {'TIME (s)': 0.0010004043579101562},\n",
              "  {'TIME (s)': 0.0010004043579101562},\n",
              "  {'TIME (s)': 0.002000093460083008},\n",
              "  {'TIME (s)': 0.0010006427764892578},\n",
              "  {'TIME (s)': 0.0009996891021728516},\n",
              "  {'TIME (s)': 0.00099945068359375},\n",
              "  {'TIME (s)': 0.0010004043579101562},\n",
              "  {'TIME (s)': 0.0010001659393310547},\n",
              "  {'TIME (s)': 0.0020017623901367188},\n",
              "  {'TIME (s)': 0.00099945068359375},\n",
              "  {'TIME (s)': 0.0019998550415039062},\n",
              "  {'TIME (s)': 0.0010004043579101562},\n",
              "  {'TIME (s)': 0.0010001659393310547},\n",
              "  {'TIME (s)': 0.0009999275207519531},\n",
              "  {'TIME (s)': 0.0010004043579101562},\n",
              "  {'TIME (s)': 0.0010001659393310547},\n",
              "  {'TIME (s)': 0.0010004043579101562},\n",
              "  {'TIME (s)': 0.0009999275207519531},\n",
              "  {'TIME (s)': 0.0010001659393310547},\n",
              "  {'TIME (s)': 0.0010004043579101562},\n",
              "  {'TIME (s)': 0.001001119613647461},\n",
              "  {'TIME (s)': 0.0019996166229248047},\n",
              "  {'TIME (s)': 0.0010006427764892578},\n",
              "  {'TIME (s)': 0.0010004043579101562},\n",
              "  {'TIME (s)': 0.0019998550415039062},\n",
              "  {'TIME (s)': 0.0010013580322265625}]}"
            ]
          },
          "execution_count": 5,
          "metadata": {},
          "output_type": "execute_result"
        }
      ],
      "source": [
        "RESULTS_ITER, BEST_ITER, AVERAGE_ITER, WORST_ITER  = GENETIC_ALGORITHM_001_COMB(INFO[0])\n",
        "BEST_ITER"
      ]
    },
    {
      "cell_type": "code",
      "execution_count": 7,
      "metadata": {},
      "outputs": [
        {
          "data": {
            "text/plain": [
              "array([3., 4., 1., 2., 0.])"
            ]
          },
          "execution_count": 7,
          "metadata": {},
          "output_type": "execute_result"
        }
      ],
      "source": [
        "BEST_ITER['X_POSITION'][-1]"
      ]
    },
    {
      "cell_type": "code",
      "execution_count": 8,
      "metadata": {},
      "outputs": [
        {
          "data": {
            "text/plain": [
              "19.0"
            ]
          },
          "execution_count": 8,
          "metadata": {},
          "output_type": "execute_result"
        }
      ],
      "source": [
        "BEST_ITER['OF'][-1]"
      ]
    }
  ],
  "metadata": {
    "kernelspec": {
      "display_name": "Python 3 (ipykernel)",
      "language": "python",
      "name": "python3"
    },
    "language_info": {
      "codemirror_mode": {
        "name": "ipython",
        "version": 3
      },
      "file_extension": ".py",
      "mimetype": "text/x-python",
      "name": "python",
      "nbconvert_exporter": "python",
      "pygments_lexer": "ipython3",
      "version": "3.9.12"
    },
    "vscode": {
      "interpreter": {
        "hash": "88279d2366fe020547cde40dd65aa0e3aa662a6ec1f3ca12d88834876c85e1a6"
      }
    }
  },
  "nbformat": 4,
  "nbformat_minor": 2
}
