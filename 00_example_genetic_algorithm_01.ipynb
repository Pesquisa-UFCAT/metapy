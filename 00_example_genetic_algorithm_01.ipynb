{
 "cells": [
  {
   "cell_type": "markdown",
   "metadata": {},
   "source": [
    "# Import library"
   ]
  },
  {
   "cell_type": "code",
   "execution_count": 1,
   "metadata": {},
   "outputs": [],
   "source": [
    "from metapy_toolbox import genetic_algorithm_01\n",
    "from my_example import my_obj_function"
   ]
  },
  {
   "cell_type": "markdown",
   "metadata": {},
   "source": [
    "# Setup"
   ]
  },
  {
   "cell_type": "code",
   "execution_count": 2,
   "metadata": {},
   "outputs": [],
   "source": [
    "# Algorithm setup\n",
    "setup = {   \n",
    "            'number of iterations': 100,\n",
    "            'number of population': 10,\n",
    "            'number of dimensions': 2,\n",
    "            'x pop lower limit': [-5, -5],\n",
    "            'x pop upper limit': [5, 5],\n",
    "            'none variable': None,\n",
    "            'objective function': my_obj_function,\n",
    "            'algorithm parameters': {\n",
    "                                     'selection': {'type': 'roulette'},\n",
    "                                     'crossover': {'crossover rate (%)': 82, 'type':'linear'},\n",
    "                                     'mutation': {'mutation rate (%)': 12, 'type': 'hill climbing', 'cov (%)': 15, 'pdf': 'gaussian'},\n",
    "                                    }\n",
    "        }\n",
    "\n",
    "# Initial guess\n",
    "from metapy_toolbox import initial_population_01\n",
    "init_pop = initial_population_01(setup['number of population'],\n",
    "                                setup['number of dimensions'],\n",
    "                                setup['x pop lower limit'],\n",
    "                                setup['x pop upper limit'])\n",
    "\n",
    "# Seed\n",
    "seed = None"
   ]
  },
  {
   "cell_type": "markdown",
   "metadata": {},
   "source": [
    "# Call function"
   ]
  },
  {
   "cell_type": "code",
   "execution_count": 3,
   "metadata": {},
   "outputs": [
    {
     "name": "stderr",
     "output_type": "stream",
     "text": [
      "Progress:   0%|          | 0/100 [00:00<?, ?it/s]"
     ]
    },
    {
     "name": "stderr",
     "output_type": "stream",
     "text": [
      "Progress: 100%|██████████| 100/100 [00:00<00:00, 156.30it/s]\n"
     ]
    }
   ],
   "source": [
    "settings = [setup, init_pop, seed]\n",
    "df_all_results, df_resume, time_cost, report = genetic_algorithm_01(settings)"
   ]
  },
  {
   "cell_type": "markdown",
   "metadata": {},
   "source": [
    "# Report"
   ]
  },
  {
   "cell_type": "code",
   "execution_count": 4,
   "metadata": {},
   "outputs": [
    {
     "data": {
      "text/html": [
       "<div>\n",
       "<style scoped>\n",
       "    .dataframe tbody tr th:only-of-type {\n",
       "        vertical-align: middle;\n",
       "    }\n",
       "\n",
       "    .dataframe tbody tr th {\n",
       "        vertical-align: top;\n",
       "    }\n",
       "\n",
       "    .dataframe thead th {\n",
       "        text-align: right;\n",
       "    }\n",
       "</style>\n",
       "<table border=\"1\" class=\"dataframe\">\n",
       "  <thead>\n",
       "    <tr style=\"text-align: right;\">\n",
       "      <th></th>\n",
       "      <th>X_0</th>\n",
       "      <th>X_1</th>\n",
       "      <th>OF</th>\n",
       "      <th>FIT</th>\n",
       "      <th>ITERATION</th>\n",
       "    </tr>\n",
       "  </thead>\n",
       "  <tbody>\n",
       "    <tr>\n",
       "      <th>0</th>\n",
       "      <td>1.446310e+00</td>\n",
       "      <td>-4.153971e+00</td>\n",
       "      <td>1.934729e+01</td>\n",
       "      <td>0.049147</td>\n",
       "      <td>0</td>\n",
       "    </tr>\n",
       "    <tr>\n",
       "      <th>1</th>\n",
       "      <td>4.922197e+00</td>\n",
       "      <td>-4.851064e+00</td>\n",
       "      <td>4.776085e+01</td>\n",
       "      <td>0.020508</td>\n",
       "      <td>0</td>\n",
       "    </tr>\n",
       "    <tr>\n",
       "      <th>2</th>\n",
       "      <td>-3.839588e+00</td>\n",
       "      <td>-1.029620e+00</td>\n",
       "      <td>1.580255e+01</td>\n",
       "      <td>0.059515</td>\n",
       "      <td>0</td>\n",
       "    </tr>\n",
       "    <tr>\n",
       "      <th>3</th>\n",
       "      <td>4.584599e-01</td>\n",
       "      <td>1.041192e+00</td>\n",
       "      <td>1.294266e+00</td>\n",
       "      <td>0.435869</td>\n",
       "      <td>0</td>\n",
       "    </tr>\n",
       "    <tr>\n",
       "      <th>4</th>\n",
       "      <td>-4.804414e+00</td>\n",
       "      <td>-2.057679e+00</td>\n",
       "      <td>2.731643e+01</td>\n",
       "      <td>0.035315</td>\n",
       "      <td>0</td>\n",
       "    </tr>\n",
       "    <tr>\n",
       "      <th>...</th>\n",
       "      <td>...</td>\n",
       "      <td>...</td>\n",
       "      <td>...</td>\n",
       "      <td>...</td>\n",
       "      <td>...</td>\n",
       "    </tr>\n",
       "    <tr>\n",
       "      <th>1005</th>\n",
       "      <td>-6.067374e-09</td>\n",
       "      <td>-1.086790e-09</td>\n",
       "      <td>3.799414e-17</td>\n",
       "      <td>1.000000</td>\n",
       "      <td>100</td>\n",
       "    </tr>\n",
       "    <tr>\n",
       "      <th>1006</th>\n",
       "      <td>6.425220e-09</td>\n",
       "      <td>3.051263e-09</td>\n",
       "      <td>5.059365e-17</td>\n",
       "      <td>1.000000</td>\n",
       "      <td>100</td>\n",
       "    </tr>\n",
       "    <tr>\n",
       "      <th>1007</th>\n",
       "      <td>2.244948e-09</td>\n",
       "      <td>-1.277092e-09</td>\n",
       "      <td>6.670755e-18</td>\n",
       "      <td>1.000000</td>\n",
       "      <td>100</td>\n",
       "    </tr>\n",
       "    <tr>\n",
       "      <th>1008</th>\n",
       "      <td>5.410837e-09</td>\n",
       "      <td>2.040148e-09</td>\n",
       "      <td>3.343937e-17</td>\n",
       "      <td>1.000000</td>\n",
       "      <td>100</td>\n",
       "    </tr>\n",
       "    <tr>\n",
       "      <th>1009</th>\n",
       "      <td>2.682314e-09</td>\n",
       "      <td>-1.797017e-10</td>\n",
       "      <td>7.227099e-18</td>\n",
       "      <td>1.000000</td>\n",
       "      <td>100</td>\n",
       "    </tr>\n",
       "  </tbody>\n",
       "</table>\n",
       "<p>1010 rows × 5 columns</p>\n",
       "</div>"
      ],
      "text/plain": [
       "               X_0           X_1            OF       FIT  ITERATION\n",
       "0     1.446310e+00 -4.153971e+00  1.934729e+01  0.049147          0\n",
       "1     4.922197e+00 -4.851064e+00  4.776085e+01  0.020508          0\n",
       "2    -3.839588e+00 -1.029620e+00  1.580255e+01  0.059515          0\n",
       "3     4.584599e-01  1.041192e+00  1.294266e+00  0.435869          0\n",
       "4    -4.804414e+00 -2.057679e+00  2.731643e+01  0.035315          0\n",
       "...            ...           ...           ...       ...        ...\n",
       "1005 -6.067374e-09 -1.086790e-09  3.799414e-17  1.000000        100\n",
       "1006  6.425220e-09  3.051263e-09  5.059365e-17  1.000000        100\n",
       "1007  2.244948e-09 -1.277092e-09  6.670755e-18  1.000000        100\n",
       "1008  5.410837e-09  2.040148e-09  3.343937e-17  1.000000        100\n",
       "1009  2.682314e-09 -1.797017e-10  7.227099e-18  1.000000        100\n",
       "\n",
       "[1010 rows x 5 columns]"
      ]
     },
     "execution_count": 4,
     "metadata": {},
     "output_type": "execute_result"
    }
   ],
   "source": [
    "df_all_results"
   ]
  },
  {
   "cell_type": "code",
   "execution_count": 5,
   "metadata": {},
   "outputs": [
    {
     "data": {
      "text/html": [
       "<div>\n",
       "<style scoped>\n",
       "    .dataframe tbody tr th:only-of-type {\n",
       "        vertical-align: middle;\n",
       "    }\n",
       "\n",
       "    .dataframe tbody tr th {\n",
       "        vertical-align: top;\n",
       "    }\n",
       "\n",
       "    .dataframe thead th {\n",
       "        text-align: right;\n",
       "    }\n",
       "</style>\n",
       "<table border=\"1\" class=\"dataframe\">\n",
       "  <thead>\n",
       "    <tr style=\"text-align: right;\">\n",
       "      <th></th>\n",
       "      <th>X_0_BEST</th>\n",
       "      <th>X_1_BEST</th>\n",
       "      <th>OF BEST</th>\n",
       "      <th>FIT BET</th>\n",
       "      <th>ID BEST</th>\n",
       "      <th>X_0_WORST</th>\n",
       "      <th>X_1_WORST</th>\n",
       "      <th>OF WORST</th>\n",
       "      <th>FIT WORST</th>\n",
       "      <th>ID WORST</th>\n",
       "      <th>OF AVG</th>\n",
       "      <th>FIT AVG</th>\n",
       "      <th>ITERATION</th>\n",
       "      <th>neof</th>\n",
       "    </tr>\n",
       "  </thead>\n",
       "  <tbody>\n",
       "    <tr>\n",
       "      <th>96</th>\n",
       "      <td>1.064594e-09</td>\n",
       "      <td>3.628704e-09</td>\n",
       "      <td>1.430085e-17</td>\n",
       "      <td>1.0</td>\n",
       "      <td>8</td>\n",
       "      <td>-7.627894e-09</td>\n",
       "      <td>6.805815e-09</td>\n",
       "      <td>1.045039e-16</td>\n",
       "      <td>1.0</td>\n",
       "      <td>1</td>\n",
       "      <td>6.863225e-17</td>\n",
       "      <td>1.0</td>\n",
       "      <td>96</td>\n",
       "      <td>2506</td>\n",
       "    </tr>\n",
       "    <tr>\n",
       "      <th>97</th>\n",
       "      <td>1.064594e-09</td>\n",
       "      <td>3.628704e-09</td>\n",
       "      <td>1.430085e-17</td>\n",
       "      <td>1.0</td>\n",
       "      <td>8</td>\n",
       "      <td>-7.627894e-09</td>\n",
       "      <td>6.805815e-09</td>\n",
       "      <td>1.045039e-16</td>\n",
       "      <td>1.0</td>\n",
       "      <td>1</td>\n",
       "      <td>6.863225e-17</td>\n",
       "      <td>1.0</td>\n",
       "      <td>97</td>\n",
       "      <td>2538</td>\n",
       "    </tr>\n",
       "    <tr>\n",
       "      <th>98</th>\n",
       "      <td>1.064594e-09</td>\n",
       "      <td>3.628704e-09</td>\n",
       "      <td>1.430085e-17</td>\n",
       "      <td>1.0</td>\n",
       "      <td>8</td>\n",
       "      <td>-7.627894e-09</td>\n",
       "      <td>6.805815e-09</td>\n",
       "      <td>1.045039e-16</td>\n",
       "      <td>1.0</td>\n",
       "      <td>1</td>\n",
       "      <td>6.863225e-17</td>\n",
       "      <td>1.0</td>\n",
       "      <td>98</td>\n",
       "      <td>2566</td>\n",
       "    </tr>\n",
       "    <tr>\n",
       "      <th>99</th>\n",
       "      <td>1.064594e-09</td>\n",
       "      <td>3.628704e-09</td>\n",
       "      <td>1.430085e-17</td>\n",
       "      <td>1.0</td>\n",
       "      <td>8</td>\n",
       "      <td>-7.627894e-09</td>\n",
       "      <td>6.805815e-09</td>\n",
       "      <td>1.045039e-16</td>\n",
       "      <td>1.0</td>\n",
       "      <td>1</td>\n",
       "      <td>6.863225e-17</td>\n",
       "      <td>1.0</td>\n",
       "      <td>99</td>\n",
       "      <td>2594</td>\n",
       "    </tr>\n",
       "    <tr>\n",
       "      <th>100</th>\n",
       "      <td>1.064594e-09</td>\n",
       "      <td>3.628704e-09</td>\n",
       "      <td>1.430085e-17</td>\n",
       "      <td>1.0</td>\n",
       "      <td>8</td>\n",
       "      <td>-7.627894e-09</td>\n",
       "      <td>6.805815e-09</td>\n",
       "      <td>1.045039e-16</td>\n",
       "      <td>1.0</td>\n",
       "      <td>1</td>\n",
       "      <td>6.863225e-17</td>\n",
       "      <td>1.0</td>\n",
       "      <td>100</td>\n",
       "      <td>2627</td>\n",
       "    </tr>\n",
       "  </tbody>\n",
       "</table>\n",
       "</div>"
      ],
      "text/plain": [
       "         X_0_BEST      X_1_BEST       OF BEST  FIT BET  ID BEST     X_0_WORST  \\\n",
       "96   1.064594e-09  3.628704e-09  1.430085e-17      1.0        8 -7.627894e-09   \n",
       "97   1.064594e-09  3.628704e-09  1.430085e-17      1.0        8 -7.627894e-09   \n",
       "98   1.064594e-09  3.628704e-09  1.430085e-17      1.0        8 -7.627894e-09   \n",
       "99   1.064594e-09  3.628704e-09  1.430085e-17      1.0        8 -7.627894e-09   \n",
       "100  1.064594e-09  3.628704e-09  1.430085e-17      1.0        8 -7.627894e-09   \n",
       "\n",
       "        X_1_WORST      OF WORST  FIT WORST  ID WORST        OF AVG  FIT AVG  \\\n",
       "96   6.805815e-09  1.045039e-16        1.0         1  6.863225e-17      1.0   \n",
       "97   6.805815e-09  1.045039e-16        1.0         1  6.863225e-17      1.0   \n",
       "98   6.805815e-09  1.045039e-16        1.0         1  6.863225e-17      1.0   \n",
       "99   6.805815e-09  1.045039e-16        1.0         1  6.863225e-17      1.0   \n",
       "100  6.805815e-09  1.045039e-16        1.0         1  6.863225e-17      1.0   \n",
       "\n",
       "     ITERATION  neof  \n",
       "96          96  2506  \n",
       "97          97  2538  \n",
       "98          98  2566  \n",
       "99          99  2594  \n",
       "100        100  2627  "
      ]
     },
     "execution_count": 5,
     "metadata": {},
     "output_type": "execute_result"
    }
   ],
   "source": [
    "df_resume.tail()"
   ]
  },
  {
   "cell_type": "code",
   "execution_count": 6,
   "metadata": {},
   "outputs": [
    {
     "data": {
      "text/plain": [
       "[1.064593774865303e-09, 3.628703980592907e-09]"
      ]
     },
     "execution_count": 6,
     "metadata": {},
     "output_type": "execute_result"
    }
   ],
   "source": [
    "x_best = list(df_resume.iloc[-1])[:setup['number of dimensions']]\n",
    "x_best"
   ]
  },
  {
   "cell_type": "markdown",
   "metadata": {},
   "source": [
    "# Report"
   ]
  },
  {
   "cell_type": "markdown",
   "metadata": {},
   "source": [
    "### txt"
   ]
  },
  {
   "cell_type": "code",
   "execution_count": 7,
   "metadata": {},
   "outputs": [],
   "source": [
    "filename = \"report_genetic_algorithm_01.txt\"\n",
    "with open(filename, \"w\") as f:\n",
    "    f.write(report)"
   ]
  },
  {
   "cell_type": "markdown",
   "metadata": {},
   "source": [
    "### xlsx"
   ]
  },
  {
   "cell_type": "code",
   "execution_count": 8,
   "metadata": {},
   "outputs": [],
   "source": [
    "filename = \"report_genetic_algorithm_01.xlsx\"\n",
    "df_resume.to_excel(filename, index=False)"
   ]
  }
 ],
 "metadata": {
  "kernelspec": {
   "display_name": "env",
   "language": "python",
   "name": "python3"
  },
  "language_info": {
   "codemirror_mode": {
    "name": "ipython",
    "version": 3
   },
   "file_extension": ".py",
   "mimetype": "text/x-python",
   "name": "python",
   "nbconvert_exporter": "python",
   "pygments_lexer": "ipython3",
   "version": "3.13.0"
  }
 },
 "nbformat": 4,
 "nbformat_minor": 2
}
