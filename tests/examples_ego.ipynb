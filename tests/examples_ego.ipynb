{
 "cells": [
  {
   "cell_type": "markdown",
   "id": "ec523b69",
   "metadata": {},
   "source": [
    "# Libraries"
   ]
  },
  {
   "cell_type": "code",
   "execution_count": 1,
   "id": "100ec761",
   "metadata": {},
   "outputs": [],
   "source": [
    "import sys\n",
    "my_framework_path = '/home/wmpjrufg/Documents/metapy' # PC prof. wanderlei at umn\n",
    "my_framework_path = r'C:\\git-projetos\\metapy' # PC prof. wanderlei\n",
    "sys.path.append(my_framework_path)\n",
    "from metapy_toolbox import *"
   ]
  },
  {
   "cell_type": "markdown",
   "id": "801a98e8",
   "metadata": {},
   "source": [
    "# EGO tests"
   ]
  },
  {
   "cell_type": "code",
   "execution_count": 2,
   "id": "768eee9e",
   "metadata": {},
   "outputs": [
    {
     "name": "stdout",
     "output_type": "stream",
     "text": [
      "   ID  ITER   X_0         OF       FIT  OF EVALUATIONS  TIME CONSUMPTION (s)  \\\n",
      "0   0     0   0.0   3.141276  0.241471               1              0.000066   \n",
      "1   1     0   7.0   3.141276  0.241471               1              0.000052   \n",
      "2   2     0  25.0  11.429195  0.080456               1              0.000043   \n",
      "\n",
      "  REPORT  \n",
      "0         \n",
      "1         \n",
      "2         \n"
     ]
    }
   ],
   "source": [
    "x_ini = [\n",
    "            [0.0],\n",
    "            [7.0],\n",
    "            [25.]\n",
    "        ]\n",
    "paras = {\n",
    "            'selection': 'roulette wheel',\n",
    "            'crossover': {'type': 'blx-alpha', 'crossover rate (%)': 90},\n",
    "            'mutation': {'type': 'random walk', 'mutation rate (%)': 20, 'params': {'pdf': 'gaussian', 'cov (%)': 10}}\n",
    "        }\n",
    "n_gen = 10\n",
    "ego_01(active_learning_example, n_gen, paras, x_ini, [0], [25])"
   ]
  }
 ],
 "metadata": {
  "kernelspec": {
   "display_name": "myenv",
   "language": "python",
   "name": "python3"
  },
  "language_info": {
   "codemirror_mode": {
    "name": "ipython",
    "version": 3
   },
   "file_extension": ".py",
   "mimetype": "text/x-python",
   "name": "python",
   "nbconvert_exporter": "python",
   "pygments_lexer": "ipython3",
   "version": "3.10.11"
  }
 },
 "nbformat": 4,
 "nbformat_minor": 5
}
