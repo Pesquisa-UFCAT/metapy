{
 "cells": [
  {
   "cell_type": "code",
   "execution_count": 3,
   "id": "344a15b5",
   "metadata": {},
   "outputs": [],
   "source": [
    "import sys\n",
    "my_framework_path = '/home/wmpjrufg/Documents/metapy' # PC prof. wanderlei at umn\n",
    "#my_framework_path = r'C:\\git-projetos\\metapy' # PC prof. wanderlei\n",
    "sys.path.append(my_framework_path)\n",
    "from metapy_toolbox import *"
   ]
  },
  {
   "cell_type": "code",
   "execution_count": null,
   "id": "a25fd40e",
   "metadata": {},
   "outputs": [],
   "source": [
    "params_pso = {\n",
    "    'inertia weight': {'w_start': 0.9, 'w_end': 0.4},\n",
    "    'cognitive': {'c1': 2.05},\n",
    "    'social': {'c2': 2.05},\n",
    "    'velocity': {'type': 'random', 'vmin': -5, 'vmax': 5} # Exemplo de inicialização de velocidade\n",
    "}\n",
    "\n",
    "x_ini = [\n",
    "    [0.0],\n",
    "    [7.0],\n",
    "    [25.0]\n",
    "]\n",
    "n_gen = 20\n",
    "\n",
    "df, df_resume, report = particle_swarm_optimization_01(\n",
    "    obj=active_learning_example,\n",
    "    n_gen=n_gen,\n",
    "    params=params_pso,\n",
    "    initial_population=x_ini,\n",
    "    x_lower=[0.0],\n",
    "    x_upper=[25.0]\n",
    ")"
   ]
  }
 ],
 "metadata": {
  "kernelspec": {
   "display_name": "base",
   "language": "python",
   "name": "python3"
  },
  "language_info": {
   "codemirror_mode": {
    "name": "ipython",
    "version": 3
   },
   "file_extension": ".py",
   "mimetype": "text/x-python",
   "name": "python",
   "nbconvert_exporter": "python",
   "pygments_lexer": "ipython3",
   "version": "3.13.2"
  }
 },
 "nbformat": 4,
 "nbformat_minor": 5
}
