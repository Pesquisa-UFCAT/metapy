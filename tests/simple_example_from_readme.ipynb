{
 "cells": [
  {
   "cell_type": "markdown",
   "id": "5580a81c",
   "metadata": {},
   "source": [
    "# Run into METApy toolbox folder"
   ]
  },
  {
   "cell_type": "code",
   "execution_count": 3,
   "id": "3f059887",
   "metadata": {},
   "outputs": [],
   "source": [
    "import sys\n",
    "my_framework_path = '/home/wmpjrufg/Documents/metapy'\n",
    "sys.path.append(my_framework_path)\n",
    "from metapy_toolbox import *"
   ]
  },
  {
   "cell_type": "markdown",
   "id": "b90901d4",
   "metadata": {},
   "source": [
    "# Run a function"
   ]
  },
  {
   "cell_type": "code",
   "execution_count": 6,
   "id": "5a188750",
   "metadata": {},
   "outputs": [
    {
     "data": {
      "text/plain": [
       "0"
      ]
     },
     "execution_count": 6,
     "metadata": {},
     "output_type": "execute_result"
    }
   ],
   "source": [
    "x=[1,1]\n",
    "rosenbrock(x)"
   ]
  },
  {
   "cell_type": "code",
   "execution_count": 4,
   "id": "03367633",
   "metadata": {},
   "outputs": [
    {
     "data": {
      "text/plain": [
       "8"
      ]
     },
     "execution_count": 4,
     "metadata": {},
     "output_type": "execute_result"
    }
   ],
   "source": [
    "x=[2,2]\n",
    "sphere(x)"
   ]
  }
 ],
 "metadata": {
  "kernelspec": {
   "display_name": "myenv",
   "language": "python",
   "name": "python3"
  },
  "language_info": {
   "codemirror_mode": {
    "name": "ipython",
    "version": 3
   },
   "file_extension": ".py",
   "mimetype": "text/x-python",
   "name": "python",
   "nbconvert_exporter": "python",
   "pygments_lexer": "ipython3",
   "version": "3.12.3"
  }
 },
 "nbformat": 4,
 "nbformat_minor": 5
}
