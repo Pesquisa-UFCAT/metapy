{
 "cells": [
  {
   "cell_type": "markdown",
   "metadata": {},
   "source": [
    "# Fibonacci notebook\n",
    "\n",
    "Import library"
   ]
  },
  {
   "cell_type": "code",
   "execution_count": 1,
   "metadata": {},
   "outputs": [],
   "source": [
    "from META_TOOLBOX import FIBONACCI_ALGORITHM"
   ]
  },
  {
   "cell_type": "markdown",
   "metadata": {},
   "source": [
    "## Setup"
   ]
  },
  {
   "cell_type": "code",
   "execution_count": 2,
   "metadata": {},
   "outputs": [],
   "source": [
    "SETUP = {\n",
    "        'N_ITER': 25,\n",
    "        'X_L': -2.5,\n",
    "        'X_U': 2.5,\n",
    "        'NULL_DIC': None,\n",
    "        }"
   ]
  },
  {
   "cell_type": "markdown",
   "metadata": {},
   "source": [
    "## OF statement "
   ]
  },
  {
   "cell_type": "code",
   "execution_count": 3,
   "metadata": {},
   "outputs": [],
   "source": [
    "def OF_FUNCTION(X, NULL_DIC):\n",
    "    OF = X ** 5 - 5 * X ** 3 - 20 * X + 5\n",
    "    return OF"
   ]
  },
  {
   "cell_type": "markdown",
   "metadata": {},
   "source": [
    "## Call algorithm"
   ]
  },
  {
   "cell_type": "code",
   "execution_count": 4,
   "metadata": {},
   "outputs": [
    {
     "name": "stdout",
     "output_type": "stream",
     "text": [
      "\r",
      "Progress: |██████████████████████████████████████████████████| 100.0% Complete\r\n",
      "Process Time: 0.01 Seconds \n",
      " Seconds per repetition: 0.01\n",
      "META_FIBONACCI_REP_0_BEST_0_20230628 185216.xlsx\n",
      "META_FIBONACCI_RESUME_20230628 185216.xlsx\n"
     ]
    }
   ],
   "source": [
    "BEST_REP = FIBONACCI_ALGORITHM(OF_FUNCTION, SETUP)"
   ]
  },
  {
   "cell_type": "markdown",
   "metadata": {},
   "source": [
    "## Best result"
   ]
  },
  {
   "cell_type": "code",
   "execution_count": 13,
   "metadata": {},
   "outputs": [
    {
     "name": "stdout",
     "output_type": "stream",
     "text": [
      " x*:      1.9999000333222259 \n",
      " of(x*):  -42.99999950036813\n"
     ]
    }
   ],
   "source": [
    "BEST = BEST_REP[0]\n",
    "DIMENSIONS = list(BEST['X_POSITION'][-1,:])\n",
    "print(' x*:     ', DIMENSIONS[-1], \n",
    "      '\\n of(x*): ', BEST['OF'][-1])"
   ]
  },
  {
   "cell_type": "markdown",
   "metadata": {},
   "source": [
    "## Chart\n",
    "\n",
    "Using **[Easy Plot Toolboox](https://wmpjrufg.github.io/EASYPLOT_TOOLBOX/)**"
   ]
  },
  {
   "cell_type": "code",
   "execution_count": 22,
   "metadata": {},
   "outputs": [
    {
     "data": {
      "image/png": "[encoded data removed]",
      "text/plain": [
       "<Figure size 590.551x295.276 with 1 Axes>"
      ]
     },
     "metadata": {},
     "output_type": "display_data"
    }
   ],
   "source": [
    "from EASYPLOT_TOOLBOX import LINE_CHART\n",
    "\n",
    "# Data\n",
    "LEGEND = ['Fibonacci']\n",
    "LINE_STY = ['-']\n",
    "Y = [list(BEST['OF'])]\n",
    "X = list(BEST['NEOF'])\n",
    "COLORS = ['#000000']\n",
    "\n",
    "# Setup figure\n",
    "PLOT_SETUP = {\n",
    "              'NAME': 'line chart',\n",
    "              'WIDTH': 0.15, \n",
    "              'HEIGHT': 0.075,\n",
    "              'MARKER': 's',\n",
    "              'MARKER SIZE': 3,\n",
    "              'LINE WIDTH': 4,\n",
    "              'LINE STYLE': LINE_STY,\n",
    "              'Y AXIS LABEL': '$OF$',\n",
    "              'Y AXIS SIZE': 14,\n",
    "              'X AXIS LABEL': '$NEOF$',\n",
    "              'X AXIS SIZE': 14,\n",
    "              'AXISES COLOR': '#000000',\n",
    "              'LABELS SIZE': 14,\n",
    "              'LABELS COLOR': '#000000',\n",
    "              'CHART COLOR': COLORS,\n",
    "              'ON GRID?': True,\n",
    "              'LOC LEGEND': 'upper right',\n",
    "              'SIZE LEGEND': 12,\n",
    "              'Y LOG': False,\n",
    "              'X LOG': False,\n",
    "              'DPI': 600, \n",
    "              'EXTENSION': 'svg'\n",
    "             }\n",
    "\n",
    "# Data statement \n",
    "DATASET = {'X': X, 'Y': Y, 'LEGEND': LEGEND}\n",
    "\n",
    "# Call function\n",
    "LINE_CHART(DATASET, PLOT_SETUP)"
   ]
  }
 ],
 "metadata": {
  "kernelspec": {
   "display_name": "Python 3 (ipykernel)",
   "language": "python",
   "name": "python3"
  },
  "language_info": {
   "codemirror_mode": {
    "name": "ipython",
    "version": 3
   },
   "file_extension": ".py",
   "mimetype": "text/x-python",
   "name": "python",
   "nbconvert_exporter": "python",
   "pygments_lexer": "ipython3",
   "version": "3.10.9"
  },
  "vscode": {
   "interpreter": {
    "hash": "88279d2366fe020547cde40dd65aa0e3aa662a6ec1f3ca12d88834876c85e1a6"
   }
  }
 },
 "nbformat": 4,
 "nbformat_minor": 2
}
