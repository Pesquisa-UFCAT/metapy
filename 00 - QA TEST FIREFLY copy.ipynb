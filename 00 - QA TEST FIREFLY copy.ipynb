{
  "cells": [
    {
      "cell_type": "code",
      "execution_count": 11,
      "metadata": {},
      "outputs": [],
      "source": [
        "from META_TOOLBOX.META import *\n",
        "import META_TOOLBOX.META_CO_LIBRARY as META_CO\n",
        "import META_TOOLBOX.META_HC_LIBRARY as META_HC\n",
        "import META_TOOLBOX.META_SA_LIBRARY as META_SA\n",
        "import META_TOOLBOX.META_FA_LIBRARY as META_FA\n",
        "import META_TOOLBOX.META_DE_LIBRARY as META_DE\n",
        "import META_TOOLBOX.META_GA_LIBRARY as META_GA\n",
        "import META_TOOLBOX.META_PSO_LIBRARY as META_PSO\n",
        "import META_TOOLBOX.META_ZERO_LIBRARY as META_ZERO\n",
        "from OF_FUNCTION import *\n",
        "from META_TOOLBOX import GAMMA_ASSEMBLY"
      ]
    },
    {
      "cell_type": "markdown",
      "metadata": {},
      "source": [
        "# Estudo de caso Lets make\n",
        "\n",
        "O estudo de caso envolve a proposição de uma cesta de produto em função do custo total proposto pelo lojista. As simulações terão como base o preço de custo de cada produto e também o lucro obtido com a venda do mesmo. O algorimto empregado será a colônia de vagalumes e o máximo de gasto permitido será R$ 38.00 por produto.\n",
        "\n",
        "A tabela hipótetica de **custo** _versus_ **lucro** é descrita abaixo:    \n",
        "   \n",
        "| Produto de Beleza       | Custo (Reais) | Lucro (Reais) |\n",
        "|-------------------------|----------------------|------------|\n",
        "| Batom                   | 5,00                 | 5,00       |\n",
        "| Máscara de Cílios       | 4,50                 | 5,50       |\n",
        "| Esmalte                 | 2,50                 | 7,50       |\n",
        "| Sombra para Olhos       | 6,00                 | 4,00       |\n",
        "| Blush                   | 5,50                 | 4,50       |\n",
        "| Pincel de Maquiagem     | 7,00                 | 3,00       |\n",
        "| Shampoo                 | 4,00                 | 6,00       |\n",
        "| Condicionador           | 4,20                 | 5,80       |\n",
        "| Sabonete Líquido        | 3,80                 | 6,20       |\n",
        "| Creme Hidratante        | 6,50                 | 3,50       |\n",
        "| Perfume                 | 9,00                 | 1,00       |\n",
        "| Loção Corporal          | 5,80                 | 4,20       |\n",
        "| Removedor de Maquiagem  | 3,50                 | 6,50       |  \n",
        "  \n",
        "\n",
        "No caso a cesta exemplo terá um total de 13 produtos conforme especificação do cliente."
      ]
    },
    {
      "cell_type": "code",
      "execution_count": 12,
      "metadata": {},
      "outputs": [
        {
          "name": "stdout",
          "output_type": "stream",
          "text": [
            "Custo total da possível cesta: R$  67.3\n",
            "Lucro total da possível cesta: R$  62.7\n",
            "Ganho percentual com a venda de todos produtos:  93.16493313521546  %\n"
          ]
        }
      ],
      "source": [
        "COST =   [5.0, 4.5, 2.5, 6.0, 5.5, 7.0, 4.0, 4.2, 3.8, 6.5, 9.0, 5.8, 3.5]\n",
        "PROFIT = [5.0, 5.5, 7.5, 4.0, 4.5, 3.0, 6.0, 5.8, 6.2, 3.5, 1.0, 4.2, 6.5]\n",
        "print('Custo total da possível cesta: R$ ', sum(COST))\n",
        "print('Lucro total da possível cesta: R$ ', sum(PROFIT))\n",
        "print('Ganho percentual com a venda de todos produtos: ', sum(PROFIT) / sum(COST) * 100, ' %')"
      ]
    },
    {
      "cell_type": "code",
      "execution_count": 13,
      "metadata": {},
      "outputs": [],
      "source": [
        "USER_INSTANCE = 'LETS'\n",
        "D = 13\n",
        "X_L = [0.0] * D\n",
        "X_U = [1.0] * D\n",
        "VARS = []\n",
        "for I in range(D):\n",
        "    VARS.append({'X': [0, 1]})"
      ]
    },
    {
      "cell_type": "code",
      "execution_count": 14,
      "metadata": {},
      "outputs": [],
      "source": [
        "SETUP = {\n",
        "            'ALGORITHM': 'FIREFLY ALGORITHM 01',\n",
        "            'N_REP': 1,\n",
        "            'N_POP': 20,\n",
        "            'N_ITER': 10000,\n",
        "            'X_L': X_L,\n",
        "            'X_U': X_U,\n",
        "            'D': D,\n",
        "            'PARAMETERS': {\n",
        "                            'ATTRACTIVENESS (BETA_0)': 0.98,\n",
        "                            'MIN. RANDOM FACTOR (ALPHA_MIN)': 0.10,\n",
        "                            'MAX. RANDOM FACTOR (ALPHA_MAX)': 1.00,\n",
        "                            'LIGHT ABSORPTION (GAMMA)': GAMMA_ASSEMBLY(X_L, X_U, D, 2),\n",
        "                            'THETA': 0.98,\n",
        "                            'TYPE ALPHA UPDATE': 'YANG 0',\n",
        "                            'SCALING (S_D)': True\n",
        "                          },\n",
        "            'NULL_DIC': {'X': VARS, 'INSTANCE': USER_INSTANCE, 'R_P': 10 ** 6},\n",
        "            'OF': LETS_MAKE,\n",
        "            'TYPE CODE': 'REAL CODE'\n",
        "        }\n",
        "\n",
        "POP = META_CO.initial_pops(SETUP['N_REP'], SETUP['N_POP'], SETUP['D'], SETUP['X_L'], SETUP['X_U'], SETUP['TYPE CODE'])\n",
        "INFO = [[SETUP, I] for I in POP]\n",
        "RESULTS_ITER, BEST_ITER, AVERAGE_ITER, WORST_ITER  = FIREFLY_001(INFO[0])"
      ]
    },
    {
      "cell_type": "code",
      "execution_count": 15,
      "metadata": {},
      "outputs": [
        {
          "name": "stdout",
          "output_type": "stream",
          "text": [
            "Batom é considerado um produto.\n",
            "Máscara de Cílios não é considerado um produto.\n",
            "Esmalte é considerado um produto.\n",
            "Sombra para Olhos não é considerado um produto.\n",
            "Blush não é considerado um produto.\n",
            "Pincel de Maquiagem não é considerado um produto.\n",
            "Shampoo é considerado um produto.\n",
            "Condicionador é considerado um produto.\n",
            "Sabonete Líquido é considerado um produto.\n",
            "Creme Hidratante não é considerado um produto.\n",
            "Perfume não é considerado um produto.\n",
            "Loção Corporal não é considerado um produto.\n",
            "Removedor de Maquiagem é considerado um produto.\n"
          ]
        }
      ],
      "source": [
        "X = list(BEST_ITER['X_POSITION'][-1])\n",
        "lista_produtos = []\n",
        "for I in range(len(X)):\n",
        "    AUX = round(X[I])\n",
        "    lista_produtos.append(AUX)\n",
        "\n",
        "# Cria uma lista de descrições para os itens\n",
        "itens = [\n",
        "    \"Batom\",\n",
        "    \"Máscara de Cílios\",\n",
        "    \"Esmalte\",\n",
        "    \"Sombra para Olhos\",\n",
        "    \"Blush\",\n",
        "    \"Pincel de Maquiagem\",\n",
        "    \"Shampoo\",\n",
        "    \"Condicionador\",\n",
        "    \"Sabonete Líquido\",\n",
        "    \"Creme Hidratante\",\n",
        "    \"Perfume\",\n",
        "    \"Loção Corporal\",\n",
        "    \"Removedor de Maquiagem\"\n",
        "]\n",
        "\n",
        "# Percorre a lista e imprime o nome do item e se é considerado produto ou não\n",
        "for i in range(len(lista_produtos)):\n",
        "    produto = lista_produtos[i]\n",
        "    descricao = itens[i]\n",
        "\n",
        "    if produto == 1:\n",
        "        print(f\"{descricao} é considerado um produto.\")\n",
        "    else:\n",
        "        print(f\"{descricao} não é considerado um produto.\")\n"
      ]
    },
    {
      "cell_type": "code",
      "execution_count": 16,
      "metadata": {},
      "outputs": [
        {
          "data": {
            "text/plain": [
              "[<matplotlib.lines.Line2D at 0x125055c4430>]"
            ]
          },
          "execution_count": 16,
          "metadata": {},
          "output_type": "execute_result"
        },
        {
          "data": {
            "image/png": "[encoded data removed]",
            "text/plain": [
              "<Figure size 432x288 with 1 Axes>"
            ]
          },
          "metadata": {
            "needs_background": "light"
          },
          "output_type": "display_data"
        }
      ],
      "source": [
        "import matplotlib.pyplot as plt\n",
        "OF_VALUES = [-I for I in list(BEST_ITER['OF'])]\n",
        "EVALUATIONS = list(BEST_ITER['NEOF'])\n",
        "plt.plot(EVALUATIONS, OF_VALUES)"
      ]
    },
    {
      "cell_type": "code",
      "execution_count": 17,
      "metadata": {},
      "outputs": [
        {
          "name": "stdout",
          "output_type": "stream",
          "text": [
            "Ganho percentual com a venda de todos produtos:  97.36842105263158  %\n"
          ]
        }
      ],
      "source": [
        "print('Ganho percentual com a venda de todos produtos: ', OF_VALUES[-1] / 38 * 100, ' %')"
      ]
    },
    {
      "cell_type": "code",
      "execution_count": 62,
      "metadata": {},
      "outputs": [
        {
          "name": "stdout",
          "output_type": "stream",
          "text": [
            "[0, 1, 2] <class 'list'>\n"
          ]
        }
      ],
      "source": [
        "import numpy as np\n",
        "\n",
        "numbers = np.random.choice(3, size=3, replace=False)\n",
        "print(sorted(numbers), type(sorted(numbers)))"
      ]
    },
    {
      "cell_type": "code",
      "execution_count": 360,
      "metadata": {},
      "outputs": [
        {
          "data": {
            "text/plain": [
              "array([1, 0, 2])"
            ]
          },
          "execution_count": 360,
          "metadata": {},
          "output_type": "execute_result"
        }
      ],
      "source": [
        "d = 3\n"
      ]
    },
    {
      "cell_type": "code",
      "execution_count": 535,
      "metadata": {},
      "outputs": [
        {
          "name": "stdout",
          "output_type": "stream",
          "text": [
            "[0.33333333333333337, 0.33333333333333337, 0.33333333333333337] \n",
            " [1, 2, 3]\n"
          ]
        }
      ],
      "source": [
        "d = 3\n",
        "\n",
        "print(probs,'\\n', pos)"
      ]
    },
    {
      "cell_type": "code",
      "execution_count": 852,
      "metadata": {},
      "outputs": [
        {
          "data": {
            "text/plain": [
              "[0, 1, 2]"
            ]
          },
          "execution_count": 852,
          "metadata": {},
          "output_type": "execute_result"
        }
      ],
      "source": [
        "n_dimensions = 3\n",
        "pos = [int(c+1) for c in range(n_dimensions)]\n",
        "probs = [100/n_dimensions/100 for c in range(n_dimensions)]\n",
        "number_cuts = np.random.choice(pos, 1, replace=False, p=probs)[0]\n",
        "point_cuts = np.random.choice(n_dimensions, size=number_cuts, replace=False)\n",
        "point_cuts = sorted(point_cuts)\n",
        "point_cuts"
      ]
    },
    {
      "cell_type": "code",
      "execution_count": 780,
      "metadata": {},
      "outputs": [
        {
          "data": {
            "text/plain": [
              "[0, 1, 1]"
            ]
          },
          "execution_count": 780,
          "metadata": {},
          "output_type": "execute_result"
        }
      ],
      "source": [
        "mask = [0 for _ in range(n_dimensions)]\n",
        "for p in point_cuts:\n",
        "    mask[p] = 1\n",
        "\n",
        "for i in range(n_dimensions):\n",
        "    "
      ]
    }
  ],
  "metadata": {
    "kernelspec": {
      "display_name": "Python 3 (ipykernel)",
      "language": "python",
      "name": "python3"
    },
    "language_info": {
      "codemirror_mode": {
        "name": "ipython",
        "version": 3
      },
      "file_extension": ".py",
      "mimetype": "text/x-python",
      "name": "python",
      "nbconvert_exporter": "python",
      "pygments_lexer": "ipython3",
      "version": "3.11.8"
    },
    "vscode": {
      "interpreter": {
        "hash": "88279d2366fe020547cde40dd65aa0e3aa662a6ec1f3ca12d88834876c85e1a6"
      }
    }
  },
  "nbformat": 4,
  "nbformat_minor": 2
}
