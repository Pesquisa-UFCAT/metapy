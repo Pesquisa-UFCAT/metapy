{
 "cells": [
  {
   "cell_type": "code",
   "execution_count": 1,
   "metadata": {},
   "outputs": [],
   "source": [
    "import numpy as np\n",
    "from META import SA_ALGORITHM_0001\n",
    "from META import FA_ALGORITHM_0002\n",
    "from META_GRAPHICS_LIBRARY import *\n",
    "from META_BENCHMARK_FUNCTIONS import *\n",
    "from META_FA_ALGORITHM_LIBRARY import *\n",
    "# https://sci-hub.se/https://doi.org/10.1016/j.ins.2016.12.024"
   ]
  },
  {
   "cell_type": "code",
   "execution_count": 2,
   "metadata": {},
   "outputs": [
    {
     "data": {
      "text/plain": [
       "\"\\n# Algorithm Setup\\nN_REP = 1                               # Number of repetitions\\nN_ITER = 5                            # Number of iterations\\nN_POP = 1                               # Number of population\\nD = 3                                   # Number of dimensions\\nSIGMA = 0.30                            # Standard deviation (SA internal parameter)\\nALPHA = 0.98                            # Annealing schedule (linear decay)\\nTYPE_BOOT = 'UNIFORM'                   # Initial population distribution\\nX_L = [0.05, 0.25, 2]                       # Lower bound [X_0, X_1, X_2, ..., X_NPOP-2, X_NPOP-1]\\nX_U = [1, 1.3, 15]                             # Upper bound [X_0, X_1, X_2, ..., X_NPOP-2, X_NPOP-1]\\n\\n# Objective Function setup \\ndef OBJ(X, NULL_DIC):\\n    # Assigning X Design Variables\\n    X_0 = X[0]                          # Assigning the value of X_0\\n    X_1 = X[1]                          # Assigning the value of X_1\\n    # Obj. Function\\n    OF = X_0 ** 2 + X_1 ** 2            # OBJ function\\n    return OF\\n\\n# Call SA Algorithm \\nRESULTS_REP, BEST_REP, MEAN_REP, WORST_REP = SA_ALGORITHM_0001(OBJ, N_REP, N_ITER, N_POP, D, TYPE_BOOT, X_L, X_U, SIGMA, ALPHA, STOP_CONTROL_TEMP = 100)\\n\""
      ]
     },
     "execution_count": 2,
     "metadata": {},
     "output_type": "execute_result"
    }
   ],
   "source": [
    "\"\"\"\n",
    "# Algorithm Setup\n",
    "N_REP = 1                               # Number of repetitions\n",
    "N_ITER = 5                            # Number of iterations\n",
    "N_POP = 1                               # Number of population\n",
    "D = 3                                   # Number of dimensions\n",
    "SIGMA = 0.30                            # Standard deviation (SA internal parameter)\n",
    "ALPHA = 0.98                            # Annealing schedule (linear decay)\n",
    "TYPE_BOOT = 'UNIFORM'                   # Initial population distribution\n",
    "X_L = [0.05, 0.25, 2]                       # Lower bound [X_0, X_1, X_2, ..., X_NPOP-2, X_NPOP-1]\n",
    "X_U = [1, 1.3, 15]                             # Upper bound [X_0, X_1, X_2, ..., X_NPOP-2, X_NPOP-1]\n",
    "\n",
    "# Objective Function setup \n",
    "def OBJ(X, NULL_DIC):\n",
    "    # Assigning X Design Variables\n",
    "    X_0 = X[0]                          # Assigning the value of X_0\n",
    "    X_1 = X[1]                          # Assigning the value of X_1\n",
    "    # Obj. Function\n",
    "    OF = X_0 ** 2 + X_1 ** 2            # OBJ function\n",
    "    return OF\n",
    "\n",
    "# Call SA Algorithm \n",
    "RESULTS_REP, BEST_REP, MEAN_REP, WORST_REP = SA_ALGORITHM_0001(OBJ, N_REP, N_ITER, N_POP, D, TYPE_BOOT, X_L, X_U, SIGMA, ALPHA, STOP_CONTROL_TEMP = 100)\n",
    "\"\"\""
   ]
  },
  {
   "cell_type": "code",
   "execution_count": 3,
   "metadata": {},
   "outputs": [
    {
     "ename": "SyntaxError",
     "evalue": "invalid syntax (<ipython-input-3-f0eae1eb01b2>, line 18)",
     "output_type": "error",
     "traceback": [
      "\u001b[1;36m  File \u001b[1;32m\"<ipython-input-3-f0eae1eb01b2>\"\u001b[1;36m, line \u001b[1;32m18\u001b[0m\n\u001b[1;33m    OF = obj_1 * lambda + obj_2 * (1 - lambda)\u001b[0m\n\u001b[1;37m                      ^\u001b[0m\n\u001b[1;31mSyntaxError\u001b[0m\u001b[1;31m:\u001b[0m invalid syntax\n"
     ]
    }
   ],
   "source": [
    "# FUNÇÃO ROSENBROCK\n",
    "def ROSENBROCK(X):\n",
    "    \"\"\"\n",
    "    Rosenbrock benchmark function D-dimension\n",
    "    \"\"\"\n",
    "    DIM = len(X)\n",
    "    SUM = 0\n",
    "    for I_COUNT in range(DIM - 1):\n",
    "        X_I = X[I_COUNT]\n",
    "        X_NEXT = X[I_COUNT + 1]\n",
    "        NEW = 100 * (X_NEXT - X_I ** 2) ** 2 + (X_I - 1) ** 2\n",
    "        SUM += NEW\n",
    "    Y = SUM\n",
    "    return Y\n",
    "\n",
    "def OBJ(X, NULL_DIC):\n",
    "    OF = ROSENBROCK(X)\n",
    "    OF = obj_1 * lambda + obj_2 * (1 - lambda)\n",
    "    return OF"
   ]
  },
  {
   "cell_type": "code",
   "execution_count": null,
   "metadata": {
    "scrolled": true
   },
   "outputs": [],
   "source": [
    "# Algorithm Setup\n",
    "N_REP = 5                                      # Number of repetitions\n",
    "N_ITER = 50                                 # Number of iterations\n",
    "N_POPMALE = 10                                  # Number of male population\n",
    "N_POPFEMALE = 10                                # Number of female population\n",
    "D = 10                                       # Number of dimensions\n",
    "TYPE_BOOT = 'UNIFORM'                          # Initial population distribution\n",
    "X_L = [0] * 10                            # Lower bound [X_0, X_1, X_2, ..., X_NPOP-2, X_NPOP-1]\n",
    "X_U = [10] * 10                                 # Upper bound [X_0, X_1, X_2, ..., X_NPOP-2, X_NPOP-1]\n",
    "BETA_0 = 0.98                                  # Attractiveness at rij = 0 (FA internal parameter)\n",
    "GAMMA = GAMMA_ASSEMBLY(X_L, X_U, D, 2)         # Light absorption coefficient\n",
    "N_CHAOTICSEARCHS = 5\n",
    "ALPHA_CHAOTIC = 4\n",
    "\n",
    "# Call GFA Algorithm \n",
    "RESULTS_REP, BEST_REP, AVERAGE_REP, WORST_REP = FA_ALGORITHM_0002(OBJ, N_REP, N_ITER, N_POPMALE, N_POPFEMALE, D, TYPE_BOOT, X_L, X_U, BETA_0, GAMMA, N_CHAOTICSEARCHS, ALPHA_CHAOTIC)"
   ]
  },
  {
   "cell_type": "code",
   "execution_count": null,
   "metadata": {},
   "outputs": [],
   "source": [
    "DATASET = {'OF': BEST_REP[0]['OF'], \n",
    "           'FIT': BEST_REP[0]['FIT'], \n",
    "           'X': np.linspace(0, N_ITER + 1, N_ITER + 1, endpoint = False)}\n",
    "\n",
    "PLOT_SETUP = {'NAME': 'example_sphere2D',\n",
    "              'WIDTH': 0.40,\n",
    "              'HEIGHT': 0.20,\n",
    "              'EXTENSION': 'png',\n",
    "              'DPI': 600,\n",
    "              'COLOR OF': '#D2691E',\n",
    "              'MARKER OF': 'o',\n",
    "              'COLOR FIT': '#0000FF',\n",
    "              'MARKER FIT': 'o',\n",
    "              'MARKER SIZE': 5,\n",
    "              'LINE WIDTH': 4,\n",
    "              'LINE STYLE': '-',\n",
    "              'OF AXIS LABEL': '$OF$',\n",
    "              'X AXIS LABEL': 'Iteration',\n",
    "              'LABELS SIZE': 18,\n",
    "              'LABELS COLOR': '#000000',\n",
    "              'X AXIS SIZE': 18,\n",
    "              'Y AXIS SIZE': 18,\n",
    "              'AXISES COLOR': '#000000',\n",
    "              'ON GRID?': True}"
   ]
  },
  {
   "cell_type": "code",
   "execution_count": null,
   "metadata": {},
   "outputs": [],
   "source": [
    "META_PLOT_001(DATASET, PLOT_SETUP)"
   ]
  },
  {
   "cell_type": "code",
   "execution_count": null,
   "metadata": {},
   "outputs": [],
   "source": [
    "DATASET = {'Y': BEST_REP[0]['OF'], \n",
    "           'X': np.linspace(0, N_ITER + 1, N_ITER + 1, endpoint = False)}\n",
    "\n",
    "PLOT_SETUP = {'NAME': 'example_sphere2D2',\n",
    "              'WIDTH': 0.40,\n",
    "              'HEIGHT': 0.20,\n",
    "              'EXTENSION': 'png',\n",
    "              'DPI': 600,\n",
    "              'COLOR': '#D2691E',\n",
    "              'MARKER': 'o',\n",
    "              'MARKER SIZE': 5,\n",
    "              'LINE WIDTH': 4,\n",
    "              'LINE STYLE': '-',\n",
    "              'Y AXIS LABEL': '$OF$',\n",
    "              'X AXIS LABEL': 'Iteration',\n",
    "              'LABELS SIZE': 18,\n",
    "              'LABELS COLOR': '#000000',\n",
    "              'X AXIS SIZE': 18,\n",
    "              'Y AXIS SIZE': 18,\n",
    "              'AXISES COLOR': '#000000',\n",
    "              'ON GRID?': True}"
   ]
  },
  {
   "cell_type": "code",
   "execution_count": null,
   "metadata": {},
   "outputs": [],
   "source": [
    "META_PLOT_002(DATASET, PLOT_SETUP)"
   ]
  },
  {
   "cell_type": "code",
   "execution_count": null,
   "metadata": {},
   "outputs": [],
   "source": [
    "DATASET = {'OF BEST': BEST_REP[0]['OF'], \n",
    "           'OF WORST': WORST_REP[0]['OF'],\n",
    "           'OF AVERAGE': AVERAGE_REP[0]['OF'],\n",
    "           'X': np.linspace(0, N_ITER + 1, N_ITER + 1, endpoint = False)}\n",
    "\n",
    "PLOT_SETUP = {'NAME': 'example_sphere2D2',\n",
    "              'WIDTH': 0.40,\n",
    "              'HEIGHT': 0.20,\n",
    "              'EXTENSION': 'png',\n",
    "              'DPI': 600,\n",
    "              'COLOR OF BEST': '#D2691E',\n",
    "              'COLOR OF WORST': '#C0C0C0',\n",
    "              'COLOR OF AVERAGE': '#0000CD',\n",
    "              'MARKER OF BEST': 'o',\n",
    "              'MARKER OF WORST': 'v',\n",
    "              'MARKER OF AVERAGE': '^',\n",
    "              'MARKER SIZE': 5,\n",
    "              'LINE WIDTH': 4,\n",
    "              'LINE STYLE': '-',\n",
    "              'Y AXIS LABEL': '$OF$',\n",
    "              'X AXIS LABEL': 'Iteration',\n",
    "              'LABELS SIZE': 18,\n",
    "              'LABELS COLOR': '#000000',\n",
    "              'X AXIS SIZE': 18,\n",
    "              'Y AXIS SIZE': 18,\n",
    "              'AXISES COLOR': '#000000',\n",
    "              'LOC LEGEND': 'upper right',\n",
    "              'SIZE LEGEND': 20,\n",
    "              'ON GRID?': True}"
   ]
  },
  {
   "cell_type": "code",
   "execution_count": null,
   "metadata": {},
   "outputs": [],
   "source": [
    "META_PLOT_003(DATASET, PLOT_SETUP)"
   ]
  },
  {
   "cell_type": "code",
   "execution_count": null,
   "metadata": {},
   "outputs": [],
   "source": [
    "DATASET = {'DATASET': BEST_REP,\n",
    "           'NUMBER OF REPETITIONS': N_REP,\n",
    "           'DATA TYPE': 'OF'}\n",
    "\n",
    "PLOT_SETUP = {'NAME': 'WANDER',\n",
    "              'WIDTH': 0.40, \n",
    "              'HEIGHT': 0.20, \n",
    "              'X AXIS LABEL': 'OF',\n",
    "              'X AXIS SIZE': 20,\n",
    "              'Y AXIS SIZE': 20,\n",
    "              'AXISES COLOR': '#000000',\n",
    "              'LABELS SIZE': 16,\n",
    "              'LABELS COLOR': '#000000',  \n",
    "              'CHART COLOR': '#FEB625',\n",
    "              'KDE': False,\n",
    "              'BINS': 20,\n",
    "              'DPI': 600, \n",
    "              'EXTENSION': '.svg'}\n",
    "META_PLOT_004(DATASET, PLOT_SETUP)"
   ]
  },
  {
   "cell_type": "code",
   "execution_count": null,
   "metadata": {},
   "outputs": [],
   "source": []
  },
  {
   "cell_type": "code",
   "execution_count": null,
   "metadata": {},
   "outputs": [],
   "source": [
    "teste = np.shape(BEST_REP[0]['OF'])\n",
    "teste[0]"
   ]
  },
  {
   "cell_type": "code",
   "execution_count": null,
   "metadata": {},
   "outputs": [],
   "source": [
    "BEST_REP"
   ]
  },
  {
   "cell_type": "code",
   "execution_count": null,
   "metadata": {},
   "outputs": [],
   "source": [
    "RESULTS_REP"
   ]
  }
 ],
 "metadata": {
  "kernelspec": {
   "display_name": "Python 3",
   "language": "python",
   "name": "python3"
  },
  "language_info": {
   "codemirror_mode": {
    "name": "ipython",
    "version": 3
   },
   "file_extension": ".py",
   "mimetype": "text/x-python",
   "name": "python",
   "nbconvert_exporter": "python",
   "pygments_lexer": "ipython3",
   "version": "3.7.6"
  }
 },
 "nbformat": 4,
 "nbformat_minor": 4
}
