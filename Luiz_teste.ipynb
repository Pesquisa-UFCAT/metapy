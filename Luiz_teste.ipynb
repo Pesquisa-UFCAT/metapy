{
  "cells": [
    {
      "cell_type": "code",
      "execution_count": null,
      "metadata": {
        "colab": {
          "base_uri": "https://localhost:8080/"
        },
        "id": "SX9rfI6Ggoic",
        "outputId": "700cd097-2665-4f05-df6e-1befa87540ee"
      },
      "outputs": [
        {
          "data": {
            "text/plain": [
              "[[1, 0], [0, 1]]"
            ]
          },
          "execution_count": 17,
          "metadata": {},
          "output_type": "execute_result"
        }
      ],
      "source": [
        "X_IOLD = [3, 2]\n",
        "H_IDENTITY = [[1 if i == j else 0 for j in range(len(X_IOLD))] for i in range(len(X_IOLD))]\n",
        "\n",
        "H_IDENTITY\n"
      ]
    },
    {
      "cell_type": "code",
      "execution_count": null,
      "metadata": {
        "colab": {
          "base_uri": "https://localhost:8080/",
          "height": 245
        },
        "id": "hS0RbZkPyYTi",
        "outputId": "320c4e85-e8ed-4eb4-ad77-1a9d01d5be11"
      },
      "outputs": [
        {
          "ename": "TypeError",
          "evalue": "ignored",
          "output_type": "error",
          "traceback": [
            "\u001b[0;31m---------------------------------------------------------------------------\u001b[0m",
            "\u001b[0;31mTypeError\u001b[0m                                 Traceback (most recent call last)",
            "\u001b[0;32m<ipython-input-18-d5d9ea7a0d67>\u001b[0m in \u001b[0;36m<cell line: 11>\u001b[0;34m()\u001b[0m\n\u001b[1;32m      9\u001b[0m \u001b[0mnum_colunas_A\u001b[0m \u001b[0;34m=\u001b[0m \u001b[0mlen\u001b[0m\u001b[0;34m(\u001b[0m\u001b[0mA\u001b[0m\u001b[0;34m[\u001b[0m\u001b[0;36m0\u001b[0m\u001b[0;34m]\u001b[0m\u001b[0;34m)\u001b[0m\u001b[0;34m\u001b[0m\u001b[0;34m\u001b[0m\u001b[0m\n\u001b[1;32m     10\u001b[0m \u001b[0mnum_linhas_B\u001b[0m \u001b[0;34m=\u001b[0m \u001b[0mlen\u001b[0m\u001b[0;34m(\u001b[0m\u001b[0mB\u001b[0m\u001b[0;34m)\u001b[0m\u001b[0;34m\u001b[0m\u001b[0;34m\u001b[0m\u001b[0m\n\u001b[0;32m---> 11\u001b[0;31m \u001b[0mnum_colunas_B\u001b[0m \u001b[0;34m=\u001b[0m \u001b[0mlen\u001b[0m\u001b[0;34m(\u001b[0m\u001b[0mB\u001b[0m\u001b[0;34m[\u001b[0m\u001b[0;36m0\u001b[0m\u001b[0;34m]\u001b[0m\u001b[0;34m)\u001b[0m\u001b[0;34m\u001b[0m\u001b[0;34m\u001b[0m\u001b[0m\n\u001b[0m\u001b[1;32m     12\u001b[0m \u001b[0;34m\u001b[0m\u001b[0m\n\u001b[1;32m     13\u001b[0m \u001b[0;31m# Verifique se as dimensões das matrizes permitem a multiplicação\u001b[0m\u001b[0;34m\u001b[0m\u001b[0;34m\u001b[0m\u001b[0m\n",
            "\u001b[0;31mTypeError\u001b[0m: object of type 'int' has no len()"
          ]
        }
      ],
      "source": [
        "# Defina a matriz A (2x2) como uma lista de listas\n",
        "A = [[1, 2], [3, 4]]\n",
        "\n",
        "# Defina a matriz B (um vetor com 2 elementos) como uma lista de listas\n",
        "B = [[5,6]]\n",
        "\n",
        "# Determine o número de linhas e colunas das matrizes A e B\n",
        "num_linhas_A = len(A)\n",
        "num_colunas_A = len(A[0])\n",
        "num_linhas_B = len(B)\n",
        "num_colunas_B = len(B[0])\n",
        "\n",
        "# Verifique se as dimensões das matrizes permitem a multiplicação\n",
        "if num_colunas_A != num_linhas_B:\n",
        "    raise ValueError(\"As dimensões das matrizes não permitem a multiplicação.\")\n",
        "\n",
        "# Inicialize uma matriz vazia para armazenar o resultado da multiplicação\n",
        "C = []\n",
        "\n",
        "# Realize a multiplicação matricial manualmente\n",
        "for i in range(num_linhas_A):\n",
        "    linha_resultado = []\n",
        "    for j in range(num_colunas_B):\n",
        "        produto_ponto = 0\n",
        "        for k in range(num_colunas_A):\n",
        "            produto_ponto += A[i][k] * B[k][j]\n",
        "        linha_resultado.append(produto_ponto)\n",
        "    C.append(linha_resultado)\n",
        "\n",
        "# Imprima o resultado\n",
        "for linha in C:\n",
        "    print(linha)"
      ]
    },
    {
      "cell_type": "code",
      "execution_count": null,
      "metadata": {
        "colab": {
          "base_uri": "https://localhost:8080/"
        },
        "id": "nNa2guDXynZX",
        "outputId": "b127b288-0f91-4609-90fe-d5ab20f1ac24"
      },
      "outputs": [
        {
          "data": {
            "text/plain": [
              "array([[1],\n",
              "       [2],\n",
              "       [3],\n",
              "       [4],\n",
              "       [5]])"
            ]
          },
          "execution_count": 38,
          "metadata": {},
          "output_type": "execute_result"
        }
      ],
      "source": [
        "import numpy as np\n",
        "\n",
        "# Crie uma lista\n",
        "minha_lista = [1, 2, 3, 4, 5]\n",
        "\n",
        "# Transponha a lista para um array NumPy bidimensional (uma coluna)\n",
        "meu_array_transposto = np.array(minha_lista).reshape(-1, 1)\n",
        "\n",
        "# Imprima o array transposto\n",
        "meu_array_transposto\n",
        "\n"
      ]
    },
    {
      "cell_type": "code",
      "execution_count": 4,
      "metadata": {
        "colab": {
          "base_uri": "https://localhost:8080/"
        },
        "id": "rXmVrXZ65zK6",
        "outputId": "c4a2821d-5fc2-4a30-e9d1-4a5697d4342a"
      },
      "outputs": [
        {
          "data": {
            "text/plain": [
              "array([[ 0.6154],\n",
              "       [-2.6923]])"
            ]
          },
          "execution_count": 4,
          "metadata": {},
          "output_type": "execute_result"
        }
      ],
      "source": [
        "import numpy as np\n",
        "\n",
        "S_K = [-1.0961, -1.8077]\n",
        "S_K_MINUS1 = [-1, -2]\n",
        "\n",
        "Y_K = [-2, -4]\n",
        "Y_K_MINUS1 = [-2.6154, -1.3077]\n",
        "\n",
        "P = []\n",
        "Y = []\n",
        "\n",
        "for J in range(2):\n",
        "  P.append(S_K[J] - S_K_MINUS1[J])\n",
        "  Y.append(Y_K[J] - Y_K_MINUS1[J])\n",
        "\n",
        "P = np.array(P).reshape(-1, 1)\n",
        "Y = np.array(Y).reshape(-1, 1)\n",
        "Y"
      ]
    },
    {
      "cell_type": "code",
      "execution_count": 5,
      "metadata": {
        "colab": {
          "base_uri": "https://localhost:8080/"
        },
        "id": "Zpo5LIBcC5n4",
        "outputId": "31f18fba-16b1-4ce1-d5d4-9efdef2a5106"
      },
      "outputs": [
        {
          "data": {
            "text/plain": [
              "-0.5768692299999999"
            ]
          },
          "execution_count": 5,
          "metadata": {},
          "output_type": "execute_result"
        }
      ],
      "source": [
        "SIGMA = np.dot(P.T, Y)[0,0]\n",
        "SIGMA"
      ]
    },
    {
      "cell_type": "code",
      "execution_count": 6,
      "metadata": {
        "colab": {
          "base_uri": "https://localhost:8080/"
        },
        "id": "SoYQaWPcDPN3",
        "outputId": "a7bc3585-35d8-479e-8820-ccb48c78434e"
      },
      "outputs": [
        {
          "data": {
            "text/plain": [
              "array([[ 0.0923521, -0.1848003],\n",
              "       [-0.1848003,  0.3697929]])"
            ]
          },
          "execution_count": 6,
          "metadata": {},
          "output_type": "execute_result"
        }
      ],
      "source": [
        "PP_T = np.dot(P, P.T) * 10\n",
        "PP_T"
      ]
    },
    {
      "cell_type": "code",
      "execution_count": 32,
      "metadata": {
        "colab": {
          "base_uri": "https://localhost:8080/"
        },
        "id": "Qyizcth_Dk6W",
        "outputId": "32b4ae8d-4a37-4191-b023-25429d53d1ee"
      },
      "outputs": [
        {
          "data": {
            "text/plain": [
              "array([[ 0.00923521, -0.01848003],\n",
              "       [-0.01848003,  0.03697929]])"
            ]
          },
          "execution_count": 32,
          "metadata": {},
          "output_type": "execute_result"
        }
      ],
      "source": [
        "D_Q1 = np.dot(P, P.T)\n",
        "D_Q1"
      ]
    },
    {
      "cell_type": "code",
      "execution_count": 33,
      "metadata": {
        "colab": {
          "base_uri": "https://localhost:8080/"
        },
        "id": "rotrP25FuYAv",
        "outputId": "c4f45fcf-0a88-46b9-f1b2-f28c3d203c75"
      },
      "outputs": [
        {
          "data": {
            "text/plain": [
              "array([[7.62719645]])"
            ]
          },
          "execution_count": 33,
          "metadata": {},
          "output_type": "execute_result"
        }
      ],
      "source": [
        "TETA = 0\n",
        "H = np.eye(2)\n",
        "TAL = np.dot(np.dot(np.transpose(Y), H), Y)\n",
        "TAL"
      ]
    },
    {
      "cell_type": "code",
      "execution_count": 34,
      "metadata": {
        "colab": {
          "base_uri": "https://localhost:8080/"
        },
        "id": "tk7fzroYwIN-",
        "outputId": "b33f0208-6a44-469d-e012-31a1289b429e"
      },
      "outputs": [
        {
          "data": {
            "text/plain": [
              "array([[ 0.37871716, -1.65684142],\n",
              "       [-1.65684142,  7.24847929]])"
            ]
          },
          "execution_count": 34,
          "metadata": {},
          "output_type": "execute_result"
        }
      ],
      "source": [
        "D_Q2 = np.dot(np.dot(H, Y), np.transpose(np.dot(H, Y)))\n",
        "D_Q2"
      ]
    },
    {
      "cell_type": "code",
      "execution_count": 35,
      "metadata": {
        "colab": {
          "base_uri": "https://localhost:8080/"
        },
        "id": "11PPkXw9x3jK",
        "outputId": "ef0738b7-7f77-4af5-9bad-ef8758ea9f8e"
      },
      "outputs": [
        {
          "data": {
            "text/plain": [
              "array([[-0.11827988,  0.37707145],\n",
              "       [ 0.37707145, -1.03545858]])"
            ]
          },
          "execution_count": 35,
          "metadata": {},
          "output_type": "execute_result"
        }
      ],
      "source": [
        "D_Q3 = np.dot(np.dot(H, Y), P.T) + np.dot(P, np.transpose(np.dot(H, Y)))\n",
        "D_Q3"
      ]
    },
    {
      "cell_type": "code",
      "execution_count": 221,
      "metadata": {},
      "outputs": [],
      "source": [
        "import numpy as np\n",
        "\n"
      ]
    },
    {
      "cell_type": "code",
      "execution_count": 252,
      "metadata": {},
      "outputs": [
        {
          "data": {
            "text/plain": [
              "3"
            ]
          },
          "execution_count": 252,
          "metadata": {},
          "output_type": "execute_result"
        }
      ],
      "source": [
        "x = roulete_wheel_selection([1, 1.5, 3, 0.4], 1)\n",
        "x"
      ]
    },
    {
      "cell_type": "code",
      "execution_count": null,
      "metadata": {},
      "outputs": [],
      "source": []
    }
  ],
  "metadata": {
    "colab": {
      "provenance": []
    },
    "kernelspec": {
      "display_name": "Python 3",
      "name": "python3"
    },
    "language_info": {
      "codemirror_mode": {
        "name": "ipython",
        "version": 3
      },
      "file_extension": ".py",
      "mimetype": "text/x-python",
      "name": "python",
      "nbconvert_exporter": "python",
      "pygments_lexer": "ipython3",
      "version": "3.11.7"
    }
  },
  "nbformat": 4,
  "nbformat_minor": 0
}
