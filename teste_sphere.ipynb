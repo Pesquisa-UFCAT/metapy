{
 "cells": [
  {
   "cell_type": "code",
   "execution_count": 1,
   "id": "7cc90c0a",
   "metadata": {},
   "outputs": [],
   "source": [
    "from metapy_toolbox import *\n",
    "import random\n",
    "\n",
    "def obj(x, args=None):\n",
    "    return sum([xi**2 for xi in x])\n",
    "\n",
    "n_s = 10\n",
    "d = 2\n",
    "x_lower = [0, 0]\n",
    "x_upper = [5, 5]"
   ]
  },
  {
   "cell_type": "code",
   "execution_count": 2,
   "id": "3cdd1647",
   "metadata": {},
   "outputs": [
    {
     "data": {
      "text/plain": [
       "[[0.01119479831625303, 1.7128663327351845],\n",
       " [2.346904326310357, 2.3215837430771074],\n",
       " [0.3237052073978419, 0.8912138153983501],\n",
       " [3.5022344857638785, 0.17084915867212502],\n",
       " [3.827437703689225, 3.2967346794390826],\n",
       " [0.9571436556752855, 1.3566064127503603],\n",
       " [1.2791864336244902, 0.20092810316024334],\n",
       " [4.646375526400038, 0.03926190823487996],\n",
       " [4.707901827537668, 3.718590246130831],\n",
       " [3.5603503167787167, 1.9718565620564483]]"
      ]
     },
     "execution_count": 2,
     "metadata": {},
     "output_type": "execute_result"
    }
   ],
   "source": [
    "x = initial_population_01(n_s, d, x_lower, x_upper)\n",
    "x"
   ]
  },
  {
   "cell_type": "code",
   "execution_count": null,
   "id": "49990259",
   "metadata": {},
   "outputs": [
    {
     "name": "stdout",
     "output_type": "stream",
     "text": [
      "[0.41946304826720904, 0.4701838637262301] 0.3970221145701451\n"
     ]
    }
   ],
   "source": []
  },
  {
   "cell_type": "code",
   "execution_count": null,
   "id": "4fc6f5a4",
   "metadata": {},
   "outputs": [
    {
     "data": {
      "text/plain": [
       "[[3.933377404184808, 3.108890185221116],\n",
       " [3.4285760775951823, 1.9400312794737045],\n",
       " [1.170699729401099, 1.6320127381305471],\n",
       " [3.681502409464408, 1.7791195627883682],\n",
       " [2.87350015962692, 0.27709718493779123]]"
      ]
     },
     "execution_count": 201,
     "metadata": {},
     "output_type": "execute_result"
    }
   ],
   "source": []
  },
  {
   "cell_type": "code",
   "execution_count": null,
   "id": "c76c2c20",
   "metadata": {},
   "outputs": [],
   "source": [
    "of = []\n",
    "for i in x:\n",
    "    of.append(obj(i)) \n",
    "min_of = min(of)\n",
    "min_of_id = of.index(min_of)\n",
    "print(x[min_of_id], min_of)\n",
    "of_final = [min_of]\n",
    "pop_method_a = x[:5]\n",
    "pop_method_b = x[5:]\n",
    "n_simulations = 1000\n",
    "of_hipoteste_blend_1 = []\n",
    "for i in range(n_simulations):\n",
    "    of = []\n",
    "    a, b = [], []\n",
    "    for i in range(len(pop_method_a)):\n",
    "        random_x_a = random.sample(pop_method_a, 2)\n",
    "        x_i_new_a, of_i_new_a, fit_i_new_a, neof_a, _ = blxalpha_crossover(obj, random_x_a[0], random_x_a[1], d, x_lower, x_upper)\n",
    "        # print(f\"x_i_new_a: {x_i_new_a}, of_i_new_a: {of_i_new_a}, fit_i_new_a: {fit_i_new_a}, neof_a: {neof_a}\")\n",
    "        a.append(x_i_new_a)\n",
    "\n",
    "    for i in range(len(pop_method_b)):\n",
    "        random_x_b = random.sample(pop_method_b, 2)\n",
    "        x_i_new_b, of_i_new_b, fit_i_new_b, neof_b, _ = linear_crossover(obj, random_x_b[0], random_x_b[1], d, x_lower, x_upper)\n",
    "        # print(f\"x_i_new_b: {x_i_new_b}, of_i_new_b: {of_i_new_b}, fit_i_new_b: {fit_i_new_b}, neof_b: {neof_b}\")\n",
    "        b.append(x_i_new_b)\n",
    "\n",
    "    x_new = a + b\n",
    "\n",
    "    for i in x_new:\n",
    "        of.append(obj(i))\n",
    "\n",
    "    min_of = min(of)\n",
    "    min_of_id = of.index(min_of)\n",
    "\n",
    "    if min_of < of_final[-1]:\n",
    "        of_hipoteste_blend_1.append(1)\n",
    "    else:\n",
    "        of_hipoteste_blend_1.append(0)"
   ]
  },
  {
   "cell_type": "code",
   "execution_count": null,
   "id": "b6169598",
   "metadata": {},
   "outputs": [
    {
     "name": "stdout",
     "output_type": "stream",
     "text": [
      "salvei\n"
     ]
    }
   ],
   "source": []
  },
  {
   "cell_type": "code",
   "execution_count": 197,
   "id": "bc5435ca",
   "metadata": {},
   "outputs": [
    {
     "name": "stdout",
     "output_type": "stream",
     "text": [
      "x_i_new_a: [0.0, 1.2316942190979492], of_i_new_a: 1.517070649359307, fit_i_new_a: 0.39728721967122343, neof_a: 2\n",
      "x_i_new_a: [3.849900343817231, 0.7614379845725221], of_i_new_a: 15.401520461673899, fit_i_new_a: 0.060969957165662836, neof_a: 2\n",
      "x_i_new_a: [0.647391718395519, 1.104004096983843], of_i_new_a: 1.6379410832042134, fit_i_new_a: 0.37908352327010103, neof_a: 2\n",
      "x_i_new_a: [0.0, 1.207030880669633], of_i_new_a: 1.4569235468901098, fit_i_new_a: 0.4070130718010196, neof_a: 2\n",
      "x_i_new_a: [3.889527834021565, 0.9321060318406131], of_i_new_a: 15.997248426222141, fit_i_new_a: 0.058833051969592404, neof_a: 2\n",
      "x_i_new_b: [1.6936711509368827, 0.0], of_i_new_b: 2.868521967515865, fit_i_new_b: 0.2584966579993704, neof_b: 2\n",
      "x_i_new_b: [2.5738394780735967, 0.0], of_i_new_b: 6.624649658890164, fit_i_new_b: 0.1311535670145871, neof_b: 2\n",
      "x_i_new_b: [2.7304193730505273, 0.0], of_i_new_b: 7.455189952729635, fit_i_new_b: 0.11827055401365225, neof_b: 2\n",
      "x_i_new_b: [2.6219101582657185, 0.0], of_i_new_b: 6.874412878016965, fit_i_new_b: 0.1269935950135031, neof_b: 2\n",
      "x_i_new_b: [2.0471578088751943, 0.3456329024015098], of_i_new_b: 4.310317197661178, fit_i_new_b: 0.18831266810962438, neof_b: 2\n",
      "[0.0, 1.207030880669633] 1.4569235468901098\n"
     ]
    }
   ],
   "source": [
    "a, b = [], []\n",
    "for i in range(len(pop_method_a)):\n",
    "    random_x_a = random.sample(pop_method_a, 2)\n",
    "    x_i_new_a, of_i_new_a, fit_i_new_a, neof_a, _ = blxalpha_crossover(obj, random_x_a[0], random_x_a[1], d, x_lower, x_upper)\n",
    "    print(f\"x_i_new_a: {x_i_new_a}, of_i_new_a: {of_i_new_a}, fit_i_new_a: {fit_i_new_a}, neof_a: {neof_a}\")\n",
    "    a.append(x_i_new_a)\n",
    "\n",
    "for i in range(len(pop_method_b)):\n",
    "    random_x_b = random.sample(pop_method_b, 2)\n",
    "    x_i_new_b, of_i_new_b, fit_i_new_b, neof_b, _ = blxalpha_crossover(obj, random_x_b[0], random_x_b[1], d, x_lower, x_upper)\n",
    "    print(f\"x_i_new_b: {x_i_new_b}, of_i_new_b: {of_i_new_b}, fit_i_new_b: {fit_i_new_b}, neof_b: {neof_b}\")\n",
    "    b.append(x_i_new_b)\n",
    "\n",
    "x_new = a + b\n",
    "of = []\n",
    "for i in x_new:\n",
    "    of.append(obj(i))\n",
    "\n",
    "min_of = min(of)\n",
    "min_of_id = of.index(min_of)\n",
    "print(x_new[min_of_id], min_of)"
   ]
  },
  {
   "cell_type": "code",
   "execution_count": 198,
   "id": "28d07f79",
   "metadata": {},
   "outputs": [
    {
     "name": "stdout",
     "output_type": "stream",
     "text": [
      "x_i_new_a: [0.0, 1.7068903257344097], of_i_new_a: 2.9134745840857192, fit_i_new_a: 0.2555274037211165, neof_a: 3\n",
      "x_i_new_a: [0.7468682831362203, 1.474038333810118], of_i_new_a: 2.730601241896554, fit_i_new_a: 0.2680533070030348, neof_a: 3\n",
      "x_i_new_a: [0.0, 3.047825670845134], of_i_new_a: 9.289241319862592, fit_i_new_a: 0.09718889555730184, neof_a: 3\n",
      "x_i_new_a: [0.0, 2.6151737331018925], of_i_new_a: 6.839133654306089, fit_i_new_a: 0.12756511677163374, neof_a: 3\n",
      "x_i_new_a: [2.8773759953632982, 2.607428795268788], of_i_new_a: 15.077977541089773, fit_i_new_a: 0.06219687752668795, neof_a: 3\n",
      "x_i_new_b: [2.885174779851872, 0.3457631954409929], of_i_new_b: 8.443785697614866, fit_i_new_b: 0.10588973871490553, neof_b: 3\n",
      "x_i_new_b: [2.4497724910617413, 1.5148022674544308], of_i_new_b: 8.296011167447935, fit_i_new_b: 0.10757302051246712, neof_b: 3\n",
      "x_i_new_b: [1.7561702036410083, 1.2370712909489519], of_i_new_b: 4.614479163046607, fit_i_new_b: 0.1781109112634708, neof_b: 3\n",
      "x_i_new_b: [2.6525958811779846, 0.0], of_i_new_b: 7.0362649088424085, fit_i_new_b: 0.12443591784781594, neof_b: 3\n",
      "x_i_new_b: [2.6525958811779846, 0.0], of_i_new_b: 7.0362649088424085, fit_i_new_b: 0.12443591784781594, neof_b: 3\n",
      "[0.7468682831362203, 1.474038333810118] 2.730601241896554\n"
     ]
    }
   ],
   "source": [
    "a, b = [], []\n",
    "for i in range(len(pop_method_a)):\n",
    "    random_x_a = random.sample(pop_method_a, 2)\n",
    "    x_i_new_a, of_i_new_a, fit_i_new_a, neof_a, _ = linear_crossover(obj, random_x_a[0], random_x_a[1], d, x_lower, x_upper)\n",
    "    print(f\"x_i_new_a: {x_i_new_a}, of_i_new_a: {of_i_new_a}, fit_i_new_a: {fit_i_new_a}, neof_a: {neof_a}\")\n",
    "    a.append(x_i_new_a)\n",
    "\n",
    "for i in range(len(pop_method_b)):\n",
    "    random_x_b = random.sample(pop_method_b, 2)\n",
    "    x_i_new_b, of_i_new_b, fit_i_new_b, neof_b, _ = linear_crossover(obj, random_x_b[0], random_x_b[1], d, x_lower, x_upper)\n",
    "    print(f\"x_i_new_b: {x_i_new_b}, of_i_new_b: {of_i_new_b}, fit_i_new_b: {fit_i_new_b}, neof_b: {neof_b}\")\n",
    "    b.append(x_i_new_b)\n",
    "\n",
    "x_new = a + b\n",
    "of = []\n",
    "for i in x_new:\n",
    "    of.append(obj(i))\n",
    "\n",
    "min_of = min(of)\n",
    "min_of_id = of.index(min_of)\n",
    "print(x_new[min_of_id], min_of)"
   ]
  },
  {
   "cell_type": "markdown",
   "id": "270f97bb",
   "metadata": {},
   "source": []
  },
  {
   "cell_type": "code",
   "execution_count": null,
   "id": "6f370f6b",
   "metadata": {},
   "outputs": [],
   "source": [
    "print(\"Quantas a proposta 1 melhorou?: Resposta: \", sum(of_hipoteste_blend_1))"
   ]
  }
 ],
 "metadata": {
  "kernelspec": {
   "display_name": "env",
   "language": "python",
   "name": "python3"
  },
  "language_info": {
   "codemirror_mode": {
    "name": "ipython",
    "version": 3
   },
   "file_extension": ".py",
   "mimetype": "text/x-python",
   "name": "python",
   "nbconvert_exporter": "python",
   "pygments_lexer": "ipython3",
   "version": "3.10.11"
  }
 },
 "nbformat": 4,
 "nbformat_minor": 5
}
