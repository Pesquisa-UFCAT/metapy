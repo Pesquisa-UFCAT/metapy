{
 "cells": [
  {
   "cell_type": "code",
   "execution_count": 56,
   "id": "7cc90c0a",
   "metadata": {},
   "outputs": [],
   "source": [
    "from metapy_toolbox import sphere as sp\n",
    "from metapy_toolbox import rosenbrock as ros\n",
    "from metapy_toolbox import rastrigin as ras\n",
    "from metapy_toolbox import ackley as ack\n",
    "from metapy_toolbox import griewank as gri\n",
    "from metapy_toolbox import zakharov as zak\n",
    "from metapy_toolbox import easom as eas\n",
    "from metapy_toolbox import michalewicz as mic\n",
    "from metapy_toolbox import dixon_price as dix\n",
    "from metapy_toolbox import goldstein_price as gol\n",
    "from metapy_toolbox import powell as powe\n",
    "\n",
    "import random\n",
    "\n",
    "vector = [0]*48\n",
    "n_s = 10\n",
    "d = 2\n",
    "x_lower = [0, 0]\n",
    "x_upper = [5, 5]"
   ]
  },
  {
   "cell_type": "code",
   "execution_count": 57,
   "id": "3cdd1647",
   "metadata": {},
   "outputs": [
    {
     "data": {
      "text/plain": [
       "[[1.8097315692281808, 0.8318241646434893],\n",
       " [2.0625369570679792, 0.5994235052305252],\n",
       " [1.1562168138728979, 2.494342090700777],\n",
       " [2.3887614105716883, 2.870316687740853],\n",
       " [2.875172271213712, 2.7175335492998443],\n",
       " [4.241229746031611, 1.1098669899081304],\n",
       " [4.604171196986853, 0.9504065969749398],\n",
       " [0.35920990353146, 3.3242080232181803],\n",
       " [0.3450849418253549, 4.155745347880892],\n",
       " [1.6042228474614217, 3.297661614925456]]"
      ]
     },
     "execution_count": 57,
     "metadata": {},
     "output_type": "execute_result"
    }
   ],
   "source": [
    "x = initial_population_01(n_s, d, x_lower, x_upper)\n",
    "x"
   ]
  },
  {
   "cell_type": "code",
   "execution_count": null,
   "id": "49990259",
   "metadata": {},
   "outputs": [],
   "source": []
  },
  {
   "cell_type": "code",
   "execution_count": null,
   "id": "4fc6f5a4",
   "metadata": {},
   "outputs": [],
   "source": []
  },
  {
   "cell_type": "code",
   "execution_count": 58,
   "id": "c76c2c20",
   "metadata": {},
   "outputs": [
    {
     "name": "stdout",
     "output_type": "stream",
     "text": [
      "func <function sphere at 0x00000125425C8EE0> valor 995\n",
      "func <function rosenbrock at 0x0000012542C3E8C0> valor 654\n",
      "func <function rastrigin at 0x0000012542C3EDD0> valor 894\n",
      "func <function ackley at 0x0000012542C3F910> valor 987\n",
      "func <function griewank at 0x0000012542C3FD00> valor 1000\n",
      "func <function zakharov at 0x0000012542C3FD90> valor 993\n",
      "func <function easom at 0x0000012542C3FE20> valor 847\n",
      "func <function michalewicz at 0x0000012542C3FEB0> valor 973\n",
      "func <function dixon_price at 0x0000012542C3FF40> valor 654\n",
      "func <function goldstein_price at 0x0000012542C68040> valor 753\n",
      "func <function powell at 0x0000012542C680D0> valor 0\n"
     ]
    }
   ],
   "source": [
    "fun=[sp,ros,ras,ack,gri,zak,eas,mic,dix,gol,powe]\n",
    "for f in fun:\n",
    "    of = []\n",
    "    for i in x:\n",
    "        of.append(f(i))\n",
    "    min_of = min(of)\n",
    "    min_of_id = of.index(min_of)\n",
    "    of_final = [min_of]\n",
    "    pop_method_a = x[:5]\n",
    "    pop_method_b = x[5:]\n",
    "    n_simulations = 1000\n",
    "    of_hipoteste_blend_misturado = []\n",
    "    for i in range(n_simulations):\n",
    "        of = []\n",
    "        a, b = [], []\n",
    "        for i in range(len(pop_method_a)):\n",
    "            random_x_a = random.sample(pop_method_a, 2)\n",
    "            x_i_new_a, of_i_new_a, fit_i_new_a, neof_a, _ = blxalpha_crossover(f, random_x_a[0], random_x_a[1], d, x_lower, x_upper)\n",
    "            # print(f\"x_i_new_a: {x_i_new_a}, of_i_new_a: {of_i_new_a}, fit_i_new_a: {fit_i_new_a}, neof_a: {neof_a}\")\n",
    "            a.append(x_i_new_a)\n",
    "\n",
    "        for i in range(len(pop_method_b)):\n",
    "            random_x_b = random.sample(pop_method_b, 2)\n",
    "            x_i_new_b, of_i_new_b, fit_i_new_b, neof_b, _ = linear_crossover(f, random_x_b[0], random_x_b[1], d, x_lower, x_upper)\n",
    "            # print(f\"x_i_new_b: {x_i_new_b}, of_i_new_b: {of_i_new_b}, fit_i_new_b: {fit_i_new_b}, neof_b: {neof_b}\")\n",
    "            b.append(x_i_new_b)\n",
    "\n",
    "        x_new = a + b\n",
    "\n",
    "        for i in x_new:\n",
    "            of.append(f(i))\n",
    "\n",
    "        min_of = min(of)\n",
    "        min_of_id = of.index(min_of)\n",
    "        \n",
    "        if min_of < of_final[-1]:\n",
    "            of_hipoteste_blend_misturado.append(1)\n",
    "        else:\n",
    "            of_hipoteste_blend_misturado.append(0)\n",
    "    print(\"func\",f,\"valor\",sum(of_hipoteste_blend_misturado))"
   ]
  },
  {
   "cell_type": "code",
   "execution_count": null,
   "id": "b6169598",
   "metadata": {},
   "outputs": [],
   "source": []
  },
  {
   "cell_type": "code",
   "execution_count": 59,
   "id": "bc5435ca",
   "metadata": {},
   "outputs": [
    {
     "name": "stdout",
     "output_type": "stream",
     "text": [
      "func <function sphere at 0x00000125425C8EE0> valor 1000\n",
      "func <function rosenbrock at 0x0000012542C3E8C0> valor 995\n",
      "func <function rastrigin at 0x0000012542C3EDD0> valor 998\n",
      "func <function ackley at 0x0000012542C3F910> valor 1000\n",
      "func <function griewank at 0x0000012542C3FD00> valor 1000\n",
      "func <function zakharov at 0x0000012542C3FD90> valor 1000\n",
      "func <function easom at 0x0000012542C3FE20> valor 870\n",
      "func <function michalewicz at 0x0000012542C3FEB0> valor 694\n",
      "func <function dixon_price at 0x0000012542C3FF40> valor 808\n",
      "func <function goldstein_price at 0x0000012542C68040> valor 782\n",
      "func <function powell at 0x0000012542C680D0> valor 0\n"
     ]
    }
   ],
   "source": [
    "fun=[sp,ros,ras,ack,gri,zak,eas,mic,dix,gol,powe]\n",
    "for f in fun:\n",
    "    of = []\n",
    "    for i in x:\n",
    "        of.append(f(i)) \n",
    "    min_of = min(of)\n",
    "    min_of_id = of.index(min_of)\n",
    "    of_final = [min_of]\n",
    "    pop_method_a = x[:5]\n",
    "    pop_method_b = x[5:]\n",
    "    n_simulations = 1000\n",
    "    of_hipoteste_blend_blxalpha = []\n",
    "    for i in range(n_simulations):\n",
    "        of = []\n",
    "        a, b = [], []\n",
    "        for i in range(len(pop_method_a)):\n",
    "            random_x_a = random.sample(pop_method_a, 2)\n",
    "            x_i_new_a, of_i_new_a, fit_i_new_a, neof_a, _ = blxalpha_crossover(f, random_x_a[0], random_x_a[1], d, x_lower, x_upper)\n",
    "            # print(f\"x_i_new_a: {x_i_new_a}, of_i_new_a: {of_i_new_a}, fit_i_new_a: {fit_i_new_a}, neof_a: {neof_a}\")\n",
    "            a.append(x_i_new_a)\n",
    "\n",
    "        for i in range(len(pop_method_b)):\n",
    "            random_x_b = random.sample(pop_method_b, 2)\n",
    "            x_i_new_b, of_i_new_b, fit_i_new_b, neof_b, _ = blxalpha_crossover(f, random_x_b[0], random_x_b[1], d, x_lower, x_upper)\n",
    "            # print(f\"x_i_new_b: {x_i_new_b}, of_i_new_b: {of_i_new_b}, fit_i_new_b: {fit_i_new_b}, neof_b: {neof_b}\")\n",
    "            b.append(x_i_new_b)\n",
    "\n",
    "        x_new = a + b\n",
    "\n",
    "        for i in x_new:\n",
    "            of.append(f(i))\n",
    "\n",
    "        min_of = min(of)\n",
    "        min_of_id = of.index(min_of)\n",
    "\n",
    "        if min_of < of_final[-1]:\n",
    "            of_hipoteste_blend_blxalpha.append(1)\n",
    "        else:\n",
    "            of_hipoteste_blend_blxalpha.append(0)\n",
    "    print(\"func\",f,\"valor\",sum(of_hipoteste_blend_blxalpha))"
   ]
  },
  {
   "cell_type": "code",
   "execution_count": 60,
   "id": "28d07f79",
   "metadata": {},
   "outputs": [
    {
     "name": "stdout",
     "output_type": "stream",
     "text": [
      "func <function sphere at 0x00000125425C8EE0> valor 967\n",
      "func <function rosenbrock at 0x0000012542C3E8C0> valor 669\n",
      "func <function rastrigin at 0x0000012542C3EDD0> valor 922\n",
      "func <function ackley at 0x0000012542C3F910> valor 975\n",
      "func <function griewank at 0x0000012542C3FD00> valor 1000\n",
      "func <function zakharov at 0x0000012542C3FD90> valor 956\n",
      "func <function easom at 0x0000012542C3FE20> valor 411\n",
      "func <function michalewicz at 0x0000012542C3FEB0> valor 973\n",
      "func <function dixon_price at 0x0000012542C3FF40> valor 428\n",
      "func <function goldstein_price at 0x0000012542C68040> valor 914\n",
      "func <function powell at 0x0000012542C680D0> valor 0\n"
     ]
    }
   ],
   "source": [
    "fun=[sp,ros,ras,ack,gri,zak,eas,mic,dix,gol,powe]\n",
    "for f in fun:\n",
    "    of = []\n",
    "    for i in x:\n",
    "        of.append(f(i)) \n",
    "    min_of = min(of)\n",
    "    min_of_id = of.index(min_of)\n",
    "    of_final = [min_of]\n",
    "    pop_method_a = x[:5]\n",
    "    pop_method_b = x[5:]\n",
    "    n_simulations = 1000\n",
    "    of_hipoteste_blend_linear = []\n",
    "    for i in range(n_simulations):\n",
    "        of = []\n",
    "        a, b = [], []\n",
    "        for i in range(len(pop_method_a)):\n",
    "            random_x_a = random.sample(pop_method_a, 2)\n",
    "            x_i_new_a, of_i_new_a, fit_i_new_a, neof_a, _ = linear_crossover(f, random_x_a[0], random_x_a[1], d, x_lower, x_upper)\n",
    "            # print(f\"x_i_new_a: {x_i_new_a}, of_i_new_a: {of_i_new_a}, fit_i_new_a: {fit_i_new_a}, neof_a: {neof_a}\")\n",
    "            a.append(x_i_new_a)\n",
    "\n",
    "        for i in range(len(pop_method_b)):\n",
    "            random_x_b = random.sample(pop_method_b, 2)\n",
    "            x_i_new_b, of_i_new_b, fit_i_new_b, neof_b, _ = linear_crossover(f, random_x_b[0], random_x_b[1], d, x_lower, x_upper)\n",
    "            # print(f\"x_i_new_b: {x_i_new_b}, of_i_new_b: {of_i_new_b}, fit_i_new_b: {fit_i_new_b}, neof_b: {neof_b}\")\n",
    "            b.append(x_i_new_b)\n",
    "\n",
    "        x_new = a + b\n",
    "\n",
    "        for i in x_new:\n",
    "            of.append(f(i))\n",
    "\n",
    "        min_of = min(of)\n",
    "        min_of_id = of.index(min_of)\n",
    "\n",
    "        if min_of < of_final[-1]:\n",
    "            of_hipoteste_blend_linear.append(1)\n",
    "        else:\n",
    "            of_hipoteste_blend_linear.append(0)\n",
    "    print(\"func\",f,\"valor\",sum(of_hipoteste_blend_linear))"
   ]
  },
  {
   "cell_type": "markdown",
   "id": "270f97bb",
   "metadata": {},
   "source": []
  },
  {
   "cell_type": "code",
   "execution_count": 61,
   "id": "6f370f6b",
   "metadata": {},
   "outputs": [],
   "source": [
    "#print(\"Quantas a proposta misturado melhorou?: Refosta: \", sum(of_hipoteste_blend_misturado))\n",
    "#print(\"Quantas a proposta blxalpha melhorou?: Refosta: \", sum(of_hipoteste_blend_blxalpha))\n",
    "#print(\"Quantas a proposta linear melhorou?: Refosta: \", sum(of_hipoteste_blend_linear))\n",
    "#print()"
   ]
  }
 ],
 "metadata": {
  "kernelspec": {
   "display_name": "env",
   "language": "python",
   "name": "python3"
  },
  "language_info": {
   "codemirror_mode": {
    "name": "ipython",
    "version": 3
   },
   "file_extension": ".py",
   "mimetype": "text/x-python",
   "name": "python",
   "nbconvert_exporter": "python",
   "pygments_lexer": "ipython3",
   "version": "3.10.0"
  }
 },
 "nbformat": 4,
 "nbformat_minor": 5
}
