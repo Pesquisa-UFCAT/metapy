{
 "cells": [
  {
   "cell_type": "code",
   "execution_count": 205,
   "id": "7cc90c0a",
   "metadata": {},
   "outputs": [],
   "source": [
    "from metapy_toolbox import sphere as sp\n",
    "from metapy_toolbox import rosenbrock as ros\n",
    "from metapy_toolbox import rastrigin as ras\n",
    "from metapy_toolbox import ackley as ack\n",
    "from metapy_toolbox import griewank as gri\n",
    "from metapy_toolbox import zakharov as zak\n",
    "from metapy_toolbox import easom as eas\n",
    "from metapy_toolbox import michalewicz as mic\n",
    "from metapy_toolbox import dixon_price as dix\n",
    "from metapy_toolbox import goldstein_price as gol\n",
    "from metapy_toolbox import powell as powe\n",
    "\n",
    "import random\n",
    "\n",
    "vector = [0]*33\n",
    "n_s = 10\n",
    "d = 2\n",
    "x_lower = [0, 0]\n",
    "x_upper = [5, 5]\n",
    "fun=[sp,ros,ras,ack,gri,zak,eas,mic,dix,powe,gol]\n",
    "dic={sp:0,ros:1,ras:2,ack:3,gri:4,zak:5,eas:6,mic:7,dix:8,powe:9,gol:10}"
   ]
  },
  {
   "cell_type": "code",
   "execution_count": 206,
   "id": "3cdd1647",
   "metadata": {},
   "outputs": [
    {
     "data": {
      "text/plain": [
       "[[2.8138047733403693, 1.4085014038926436],\n",
       " [2.015146700395694, 2.0391973194694457],\n",
       " [1.274149250563742, 2.9414003858668885],\n",
       " [1.660900303821664, 4.984639569696211],\n",
       " [3.6458369896673783, 3.201541938775649],\n",
       " [2.0768671921129567, 4.247561708753352],\n",
       " [3.582624410611594, 0.6498168201137561],\n",
       " [2.0824085916798762, 1.3431589658486627],\n",
       " [4.9070903815951, 0.44519597373903264],\n",
       " [3.4047950967312914, 1.9274348113738315]]"
      ]
     },
     "execution_count": 206,
     "metadata": {},
     "output_type": "execute_result"
    }
   ],
   "source": [
    "x = initial_population_01(n_s, d, x_lower, x_upper)\n",
    "x"
   ]
  },
  {
   "cell_type": "code",
   "execution_count": 207,
   "id": "c76c2c20",
   "metadata": {},
   "outputs": [
    {
     "name": "stdout",
     "output_type": "stream",
     "text": [
      "1000\n",
      "554\n",
      "677\n",
      "999\n",
      "999\n",
      "1000\n",
      "504\n",
      "817\n",
      "965\n",
      "0\n",
      "999\n"
     ]
    }
   ],
   "source": [
    "\n",
    "for f in fun:\n",
    "    of = []\n",
    "    for i in x:\n",
    "        of.append(f(i))\n",
    "    min_of = min(of)\n",
    "    min_of_id = of.index(min_of)\n",
    "    of_final = [min_of]\n",
    "    pop_method_a = x[:5]\n",
    "    pop_method_b = x[5:]\n",
    "    n_simulations = 1000\n",
    "    of_hipoteste_blend_misturado = []\n",
    "    for i in range(n_simulations):\n",
    "        of = []\n",
    "        a, b = [], []\n",
    "        for i in range(len(pop_method_a)):\n",
    "            random_x_a = random.sample(pop_method_a, 2)\n",
    "            x_i_new_a, of_i_new_a, fit_i_new_a, neof_a, _ = blxalpha_crossover(f, random_x_a[0], random_x_a[1], d, x_lower, x_upper)\n",
    "            # print(f\"x_i_new_a: {x_i_new_a}, of_i_new_a: {of_i_new_a}, fit_i_new_a: {fit_i_new_a}, neof_a: {neof_a}\")\n",
    "            a.append(x_i_new_a)\n",
    "\n",
    "        for i in range(len(pop_method_b)):\n",
    "            random_x_b = random.sample(pop_method_b, 2)\n",
    "            x_i_new_b, of_i_new_b, fit_i_new_b, neof_b, _ = linear_crossover(f, random_x_b[0], random_x_b[1], d, x_lower, x_upper)\n",
    "            # print(f\"x_i_new_b: {x_i_new_b}, of_i_new_b: {of_i_new_b}, fit_i_new_b: {fit_i_new_b}, neof_b: {neof_b}\")\n",
    "            b.append(x_i_new_b)\n",
    "\n",
    "        x_new = a + b\n",
    "\n",
    "        for i in x_new:\n",
    "            of.append(f(i))\n",
    "\n",
    "        min_of = min(of)\n",
    "        min_of_id = of.index(min_of)\n",
    "        \n",
    "        if min_of < of_final[-1]:\n",
    "            of_hipoteste_blend_misturado.append(1)\n",
    "        else:\n",
    "            of_hipoteste_blend_misturado.append(0)\n",
    "    print(sum(of_hipoteste_blend_misturado))\n",
    "    vector[(3*(dic[f]))]=sum(of_hipoteste_blend_misturado)"
   ]
  },
  {
   "cell_type": "code",
   "execution_count": 208,
   "id": "bc5435ca",
   "metadata": {},
   "outputs": [
    {
     "name": "stdout",
     "output_type": "stream",
     "text": [
      "1000\n",
      "511\n",
      "878\n",
      "1000\n",
      "1000\n",
      "1000\n",
      "166\n",
      "672\n",
      "999\n",
      "0\n",
      "1000\n"
     ]
    }
   ],
   "source": [
    "\n",
    "for f in fun:\n",
    "    of = []\n",
    "    for i in x:\n",
    "        of.append(f(i)) \n",
    "    min_of = min(of)\n",
    "    min_of_id = of.index(min_of)\n",
    "    of_final = [min_of]\n",
    "    pop_method_a = x[:5]\n",
    "    pop_method_b = x[5:]\n",
    "    n_simulations = 1000\n",
    "    of_hipoteste_blend_blxalpha = []\n",
    "    for i in range(n_simulations):\n",
    "        of = []\n",
    "        a, b = [], []\n",
    "        for i in range(len(pop_method_a)):\n",
    "            random_x_a = random.sample(pop_method_a, 2)\n",
    "            x_i_new_a, of_i_new_a, fit_i_new_a, neof_a, _ = blxalpha_crossover(f, random_x_a[0], random_x_a[1], d, x_lower, x_upper)\n",
    "            # print(f\"x_i_new_a: {x_i_new_a}, of_i_new_a: {of_i_new_a}, fit_i_new_a: {fit_i_new_a}, neof_a: {neof_a}\")\n",
    "            a.append(x_i_new_a)\n",
    "\n",
    "        for i in range(len(pop_method_b)):\n",
    "            random_x_b = random.sample(pop_method_b, 2)\n",
    "            x_i_new_b, of_i_new_b, fit_i_new_b, neof_b, _ = blxalpha_crossover(f, random_x_b[0], random_x_b[1], d, x_lower, x_upper)\n",
    "            # print(f\"x_i_new_b: {x_i_new_b}, of_i_new_b: {of_i_new_b}, fit_i_new_b: {fit_i_new_b}, neof_b: {neof_b}\")\n",
    "            b.append(x_i_new_b)\n",
    "\n",
    "        x_new = a + b\n",
    "\n",
    "        for i in x_new:\n",
    "            of.append(f(i))\n",
    "\n",
    "        min_of = min(of)\n",
    "        min_of_id = of.index(min_of)\n",
    "\n",
    "        if min_of < of_final[-1]:\n",
    "            of_hipoteste_blend_blxalpha.append(1)\n",
    "        else:\n",
    "            of_hipoteste_blend_blxalpha.append(0)\n",
    "    print(sum(of_hipoteste_blend_blxalpha))\n",
    "    vector[(3*(dic[f]))+1]=sum(of_hipoteste_blend_blxalpha)"
   ]
  },
  {
   "cell_type": "code",
   "execution_count": 209,
   "id": "28d07f79",
   "metadata": {},
   "outputs": [
    {
     "name": "stdout",
     "output_type": "stream",
     "text": [
      "989\n",
      "633\n",
      "663\n",
      "944\n",
      "999\n",
      "994\n",
      "422\n",
      "975\n",
      "434\n",
      "0\n",
      "998\n"
     ]
    }
   ],
   "source": [
    "\n",
    "for f in fun:\n",
    "    of = []\n",
    "    for i in x:\n",
    "        of.append(f(i)) \n",
    "    min_of = min(of)\n",
    "    min_of_id = of.index(min_of)\n",
    "    of_final = [min_of]\n",
    "    pop_method_a = x[:5]\n",
    "    pop_method_b = x[5:]\n",
    "    n_simulations = 1000\n",
    "    of_hipoteste_blend_linear = []\n",
    "    for i in range(n_simulations):\n",
    "        of = []\n",
    "        a, b = [], []\n",
    "        for i in range(len(pop_method_a)):\n",
    "            random_x_a = random.sample(pop_method_a, 2)\n",
    "            x_i_new_a, of_i_new_a, fit_i_new_a, neof_a, _ = linear_crossover(f, random_x_a[0], random_x_a[1], d, x_lower, x_upper)\n",
    "            # print(f\"x_i_new_a: {x_i_new_a}, of_i_new_a: {of_i_new_a}, fit_i_new_a: {fit_i_new_a}, neof_a: {neof_a}\")\n",
    "            a.append(x_i_new_a)\n",
    "\n",
    "        for i in range(len(pop_method_b)):\n",
    "            random_x_b = random.sample(pop_method_b, 2)\n",
    "            x_i_new_b, of_i_new_b, fit_i_new_b, neof_b, _ = linear_crossover(f, random_x_b[0], random_x_b[1], d, x_lower, x_upper)\n",
    "            # print(f\"x_i_new_b: {x_i_new_b}, of_i_new_b: {of_i_new_b}, fit_i_new_b: {fit_i_new_b}, neof_b: {neof_b}\")\n",
    "            b.append(x_i_new_b)\n",
    "\n",
    "        x_new = a + b\n",
    "\n",
    "        for i in x_new:\n",
    "            of.append(f(i))\n",
    "\n",
    "        min_of = min(of)\n",
    "        min_of_id = of.index(min_of)\n",
    "\n",
    "        if min_of < of_final[-1]:\n",
    "            of_hipoteste_blend_linear.append(1)\n",
    "        else:\n",
    "            of_hipoteste_blend_linear.append(0)\n",
    "    print(sum(of_hipoteste_blend_linear))\n",
    "    vector[(3*(dic[f]))+2]=sum(of_hipoteste_blend_linear)"
   ]
  },
  {
   "cell_type": "markdown",
   "id": "270f97bb",
   "metadata": {},
   "source": []
  },
  {
   "cell_type": "code",
   "execution_count": 210,
   "id": "6f370f6b",
   "metadata": {},
   "outputs": [
    {
     "name": "stdout",
     "output_type": "stream",
     "text": [
      "Função: <function sphere at 0x00000125425C8EE0> melhora de : 1000\n",
      "Função: <function sphere at 0x00000125425C8EE0> melhora de : 1000\n",
      "Função: <function sphere at 0x00000125425C8EE0> melhora de : 989\n",
      "Função: <function rosenbrock at 0x0000012542C3E8C0> melhora de : 554\n",
      "Função: <function rosenbrock at 0x0000012542C3E8C0> melhora de : 511\n",
      "Função: <function rosenbrock at 0x0000012542C3E8C0> melhora de : 633\n",
      "Função: <function rastrigin at 0x0000012542C3EDD0> melhora de : 677\n",
      "Função: <function rastrigin at 0x0000012542C3EDD0> melhora de : 878\n",
      "Função: <function rastrigin at 0x0000012542C3EDD0> melhora de : 663\n",
      "Função: <function ackley at 0x0000012542C3F910> melhora de : 999\n",
      "Função: <function ackley at 0x0000012542C3F910> melhora de : 1000\n",
      "Função: <function ackley at 0x0000012542C3F910> melhora de : 944\n",
      "Função: <function griewank at 0x0000012542C3FD00> melhora de : 999\n",
      "Função: <function griewank at 0x0000012542C3FD00> melhora de : 1000\n",
      "Função: <function griewank at 0x0000012542C3FD00> melhora de : 999\n",
      "Função: <function zakharov at 0x0000012542C3FD90> melhora de : 1000\n",
      "Função: <function zakharov at 0x0000012542C3FD90> melhora de : 1000\n",
      "Função: <function zakharov at 0x0000012542C3FD90> melhora de : 994\n",
      "Função: <function easom at 0x0000012542C3FE20> melhora de : 504\n",
      "Função: <function easom at 0x0000012542C3FE20> melhora de : 166\n",
      "Função: <function easom at 0x0000012542C3FE20> melhora de : 422\n",
      "Função: <function michalewicz at 0x0000012542C3FEB0> melhora de : 817\n",
      "Função: <function michalewicz at 0x0000012542C3FEB0> melhora de : 672\n",
      "Função: <function michalewicz at 0x0000012542C3FEB0> melhora de : 975\n",
      "Função: <function dixon_price at 0x0000012542C3FF40> melhora de : 965\n",
      "Função: <function dixon_price at 0x0000012542C3FF40> melhora de : 999\n",
      "Função: <function dixon_price at 0x0000012542C3FF40> melhora de : 434\n",
      "Função: <function powell at 0x0000012542C680D0> melhora de : 0\n",
      "Função: <function powell at 0x0000012542C680D0> melhora de : 0\n",
      "Função: <function powell at 0x0000012542C680D0> melhora de : 0\n",
      "Função: <function goldstein_price at 0x0000012542C68040> melhora de : 999\n",
      "Função: <function goldstein_price at 0x0000012542C68040> melhora de : 1000\n",
      "Função: <function goldstein_price at 0x0000012542C68040> melhora de : 998\n"
     ]
    }
   ],
   "source": [
    "for f in range(len(vector)):\n",
    "    print(\"Função:\",fun[(int)(f/3)],\"melhora de :\", vector[f])"
   ]
  }
 ],
 "metadata": {
  "kernelspec": {
   "display_name": "env",
   "language": "python",
   "name": "python3"
  },
  "language_info": {
   "codemirror_mode": {
    "name": "ipython",
    "version": 3
   },
   "file_extension": ".py",
   "mimetype": "text/x-python",
   "name": "python",
   "nbconvert_exporter": "python",
   "pygments_lexer": "ipython3",
   "version": "3.10.0"
  }
 },
 "nbformat": 4,
 "nbformat_minor": 5
}
