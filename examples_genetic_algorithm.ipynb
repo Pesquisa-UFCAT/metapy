{
 "cells": [
  {
   "cell_type": "markdown",
   "metadata": {},
   "source": [
    "### `single_point_crossover`"
   ]
  },
  {
   "cell_type": "code",
   "execution_count": 10,
   "metadata": {},
   "outputs": [
    {
     "name": "stdout",
     "output_type": "stream",
     "text": [
      "x new  [1.3, 3.9, 1.8, 3.7, 3.1]\n",
      "of new  16.9\n",
      "fit new 0.0558659217877095\n",
      "number of evalutions objective function 2\n"
     ]
    }
   ],
   "source": [
    "# Import\n",
    "from metapy_toolbox import single_point_crossover\n",
    "\n",
    "# Data\n",
    "father1 = [3.7, 3.9, 1.8, 3.7, 3.1]\n",
    "father2 = [1.3, 4.9, 1.7, 3.9, 3.4]\n",
    "nDimensions = len(father1)\n",
    "xUpper = [5, 5, 5, 5, 5]\n",
    "xLower = [1, 1, 1, 1, 1]\n",
    "noneVariable = None\n",
    "\n",
    "# Objective function\n",
    "def objFunction(x, _):\n",
    "    \"\"\"Example objective function\"\"\"\n",
    "    x0 = x[0]\n",
    "    x1 = x[1]\n",
    "    of = x0 ** 2 + x1 ** 2\n",
    "    return of\n",
    "\n",
    "# Call function\n",
    "xNew, ofNew, fitNew, neof, report = single_point_crossover(objFunction, father1, father2, nDimensions, xUpper, xLower, noneVariable)\n",
    "\n",
    "# Output details\n",
    "print('x new ', xNew)\n",
    "print('of new ', ofNew)\n",
    "print('fit new', fitNew)\n",
    "print('number of evalutions objective function', neof)"
   ]
  },
  {
   "cell_type": "code",
   "execution_count": 11,
   "metadata": {},
   "outputs": [
    {
     "name": "stdout",
     "output_type": "stream",
     "text": [
      "    Crossover operator - Single point\n",
      "    current p0 = [3.7, 3.9, 1.8, 3.7, 3.1]\n",
      "    current p1 = [1.3, 4.9, 1.7, 3.9, 3.4]\n",
      "    cut position 1\n",
      "    cut parent_0 -> of_a [3.7]\n",
      "    cut parent_1 -> of_a [4.9, 1.7, 3.9, 3.4]\n",
      "    cut parent_1 -> of_b [1.3]\n",
      "    cut parent_0 -> of_b [3.9, 1.8, 3.7, 3.1]\n",
      "    offspring a = [3.7, 4.9, 1.7, 3.9, 3.4], of_a = 37.7\n",
      "    offspring b = [1.3, 3.9, 1.8, 3.7, 3.1], of_b = 16.9\n",
      "    update n_dimensions = [1.3, 3.9, 1.8, 3.7, 3.1], of = 16.9, fit = 0.0558659217877095\n",
      "\n"
     ]
    }
   ],
   "source": [
    "print(report)"
   ]
  },
  {
   "cell_type": "markdown",
   "metadata": {},
   "source": [
    "### `uniform_crossover`"
   ]
  },
  {
   "cell_type": "code",
   "execution_count": 4,
   "metadata": {},
   "outputs": [
    {
     "name": "stdout",
     "output_type": "stream",
     "text": [
      "x new  [3.9, 1.2, 1.5, 2.7, 3.5]\n",
      "of new  16.65\n",
      "fit new 0.056657223796034\n",
      "number of evalutions objective function 2\n"
     ]
    }
   ],
   "source": [
    "# Import\n",
    "from metapy_toolbox import uniform_crossover\n",
    "\n",
    "# Data\n",
    "father1 = [2.9, 4.3, 1.5, 5.0, 3.5]\n",
    "father2 = [3.9, 1.2, 2.4, 2.7, 2.7]\n",
    "nDimensions = len(father1)\n",
    "xUpper = [5, 5, 5, 5, 5]\n",
    "xLower = [1, 1, 1, 1, 1]\n",
    "noneVariable = None\n",
    "\n",
    "# Objective function\n",
    "def objFunction(x, _):\n",
    "    \"\"\"Example objective function\"\"\"\n",
    "    x0 = x[0]\n",
    "    x1 = x[1]\n",
    "    of = x0 ** 2 + x1 ** 2\n",
    "    return of\n",
    "\n",
    "# Call function\n",
    "xNew, ofNew, fitNew, neof, report = uniform_crossover(objFunction, father1, father2, nDimensions, xUpper, xLower, noneVariable)\n",
    "\n",
    "# Output details\n",
    "print('x new ', xNew)\n",
    "print('of new ', ofNew)\n",
    "print('fit new', fitNew)\n",
    "print('number of evalutions objective function', neof)"
   ]
  },
  {
   "cell_type": "code",
   "execution_count": 5,
   "metadata": {},
   "outputs": [
    {
     "name": "stdout",
     "output_type": "stream",
     "text": [
      "    Crossover operator - uniform crossover\n",
      "    current p0 = [2.9, 4.3, 1.5, 5.0, 3.5]\n",
      "    current p1 = [3.9, 1.2, 2.4, 2.7, 2.7]\n",
      "    random number = 0.23851568162300685 < 0.50\n",
      "    cut parent_0 -> of_a 2.9\n",
      "    cut parent_1 -> of_b 3.9\n",
      "    random number = 0.26714707277389294 < 0.50\n",
      "    cut parent_0 -> of_a 4.3\n",
      "    cut parent_1 -> of_b 1.2\n",
      "    random number = 0.7958990231757312 >= 0.50\n",
      "    cut parent_1 -> of_a 2.4\n",
      "    cut parent_0 -> of_b 1.5\n",
      "    random number = 0.15613086364369877 < 0.50\n",
      "    cut parent_0 -> of_a 5.0\n",
      "    cut parent_1 -> of_b 2.7\n",
      "    random number = 0.7254672965043522 >= 0.50\n",
      "    cut parent_1 -> of_a 2.7\n",
      "    cut parent_0 -> of_b 3.5\n",
      "    offspring a = [2.9, 4.3, 2.4, 5.0, 2.7], of_a = 26.9\n",
      "    offspring b = [3.9, 1.2, 1.5, 2.7, 3.5], of_b = 16.65\n",
      "    update pos = [3.9, 1.2, 1.5, 2.7, 3.5], of = 16.65, fit = 0.056657223796034\n",
      "\n"
     ]
    }
   ],
   "source": [
    "print(report)"
   ]
  },
  {
   "cell_type": "markdown",
   "metadata": {},
   "source": [
    "### `linear_crossover`"
   ]
  },
  {
   "cell_type": "code",
   "execution_count": 20,
   "metadata": {},
   "outputs": [
    {
     "name": "stdout",
     "output_type": "stream",
     "text": [
      "x new  [1.0, 1.0, 1.0, 1.0, 1.0]\n",
      "of new  2.0\n",
      "fit new 0.3333333333333333\n",
      "number of evalutions objective function 3\n"
     ]
    }
   ],
   "source": [
    "# Import\n",
    "from metapy_toolbox import linear_crossover\n",
    "\n",
    "# Data\n",
    "father1 = [1.2, 1.4, 2.5, 4.8, 2.4]\n",
    "father2 = [2.3, 1.5, 3.5, 4.8, 2.4]\n",
    "nDimensions = len(father1)\n",
    "xUpper = [5, 5, 5, 5, 5]\n",
    "xLower = [1, 1, 1, 1, 1]\n",
    "noneVariable = None\n",
    "\n",
    "def objFunction(x, _):\n",
    "    \"\"\"Example objective function\"\"\"\n",
    "    x0 = x[0]\n",
    "    x1 = x[1]\n",
    "    of = x0 ** 2 + x1 ** 2\n",
    "    return of\n",
    "\n",
    "# Call function\n",
    "xNew, ofNew, fitNew, neof, report = linear_crossover(objFunction, father1, father2, nDimensions, xUpper, xLower, noneVariable)\n",
    "\n",
    "# Output details\n",
    "print('x new ', xNew)\n",
    "print('of new ', ofNew)\n",
    "print('fit new', fitNew)\n",
    "print('number of evalutions objective function', neof)"
   ]
  },
  {
   "cell_type": "code",
   "execution_count": 21,
   "metadata": {},
   "outputs": [
    {
     "name": "stdout",
     "output_type": "stream",
     "text": [
      "    Crossover operator - Linear crossover\n",
      "    current p0 = [1.2, 1.4, 2.5, 4.8, 2.4]\n",
      "    current p1 = [2.3, 1.5, 3.5, 4.8, 2.4]\n",
      "    Dimension 0: alpha_a = 0.6, beta_a = 1.15, neighbor_a = 1.75\n",
      "    Dimension 0: alpha_b = 1.7999999999999998, beta_b = 1.15, neighbor_b = 0.6499999999999999\n",
      "    Dimension 0: alpha_c = 0.6, beta_c = 3.4499999999999997, neighbor_c = 2.8499999999999996\n",
      "    Dimension 1: alpha_a = 0.7, beta_a = 0.75, neighbor_a = 1.45\n",
      "    Dimension 1: alpha_b = 2.0999999999999996, beta_b = 0.75, neighbor_b = 1.3499999999999996\n",
      "    Dimension 1: alpha_c = 0.7, beta_c = 2.25, neighbor_c = 1.55\n",
      "    Dimension 2: alpha_a = 1.25, beta_a = 1.75, neighbor_a = 3.0\n",
      "    Dimension 2: alpha_b = 3.75, beta_b = 1.75, neighbor_b = 2.0\n",
      "    Dimension 2: alpha_c = 1.25, beta_c = 5.25, neighbor_c = 4.0\n",
      "    Dimension 3: alpha_a = 2.4, beta_a = 2.4, neighbor_a = 4.8\n",
      "    Dimension 3: alpha_b = 7.199999999999999, beta_b = 2.4, neighbor_b = 4.799999999999999\n",
      "    Dimension 3: alpha_c = 2.4, beta_c = 7.199999999999999, neighbor_c = 4.799999999999999\n",
      "    Dimension 4: alpha_a = 1.2, beta_a = 1.2, neighbor_a = 2.4\n",
      "    Dimension 4: alpha_b = 3.5999999999999996, beta_b = 1.2, neighbor_b = 2.3999999999999995\n",
      "    Dimension 4: alpha_c = 1.2, beta_c = 3.5999999999999996, neighbor_c = 2.3999999999999995\n",
      "    offspring a = [1.0, 1.0, 1.0, 1.0, 1.0], of_a 2.0\n",
      "    offspring b = [1.0, 1.0, 1.0, 1.0, 1.0], of_b 2.0\n",
      "    offspring c = [1.0, 1.0, 1.0, 1.0, 1.0], of_c 2.0\n",
      "    update x = [1.0, 1.0, 1.0, 1.0, 1.0], of = 2.0, fit = 0.3333333333333333\n",
      "\n"
     ]
    }
   ],
   "source": [
    "print(report)"
   ]
  },
  {
   "cell_type": "markdown",
   "metadata": {},
   "source": [
    "### `blxalpha_crossover`"
   ]
  },
  {
   "cell_type": "code",
   "execution_count": 23,
   "metadata": {},
   "outputs": [
    {
     "name": "stdout",
     "output_type": "stream",
     "text": [
      "x new  [1.0, 1.0, 1.0, 1.0, 1.0]\n",
      "of new  2.0\n",
      "fit new 0.3333333333333333\n",
      "number of evalutions objective function 2\n"
     ]
    }
   ],
   "source": [
    "# Import\n",
    "from metapy_toolbox import blxalpha_crossover\n",
    "\n",
    "# Data\n",
    "#father1 = [1, 1, 1, 1, 1]\n",
    "#father2 = [10, 10, 10, 10, 10]\n",
    "# gere father 1 e father 2 com valores aleatórios\n",
    "father1 = [1.5, 2.3, 1.8, 3.8, 2.4]\n",
    "father2 = [2.3, 1.5, 1.5, 2.8, 4.4]\n",
    "nDimensions = len(father1)\n",
    "xUpper = [5, 5, 5, 5, 5]\n",
    "xLower = [1, 1, 1, 1, 1]\n",
    "noneVariable = None\n",
    "\n",
    "# Objective function\n",
    "def objFunction(x, _):\n",
    "    \"\"\"Example objective function\"\"\"\n",
    "    x0 = x[0]\n",
    "    x1 = x[1]\n",
    "    of = x0 ** 2 + x1 ** 2\n",
    "    return of\n",
    "\n",
    "# Call function\n",
    "xNew, ofNew, fitNew, neof, report = blxalpha_crossover(objFunction, father1, father2, nDimensions, xUpper, xLower, noneVariable)\n",
    "\n",
    "# Output details\n",
    "print('x new ', xNew)\n",
    "print('of new ', ofNew)\n",
    "print('fit new', fitNew)\n",
    "print('number of evalutions objective function', neof)"
   ]
  },
  {
   "cell_type": "code",
   "execution_count": 24,
   "metadata": {},
   "outputs": [
    {
     "name": "stdout",
     "output_type": "stream",
     "text": [
      "    Crossover operator - BLX-alpha\n",
      "    current p0 = [1.5, 2.3, 1.8, 3.8, 2.4]\n",
      "    current p1 = [2.3, 1.5, 1.5, 2.8, 4.4]\n",
      "    Dimension 0: min_val = 1.5, max_val = 2.3, r_ij = 0.7999999999999998\n",
      "    neighbor_a = 0.9591254809153907, neighbor_b = 2.840874519084609\n",
      "    Dimension 1: min_val = 1.5, max_val = 2.3, r_ij = 0.7999999999999998\n",
      "    neighbor_a = 0.7431857498245784, neighbor_b = 3.0568142501754214\n",
      "    Dimension 2: min_val = 1.5, max_val = 1.8, r_ij = 0.30000000000000004\n",
      "    neighbor_a = 1.473354543479718, neighbor_b = 1.826645456520282\n",
      "    Dimension 3: min_val = 2.8, max_val = 3.8, r_ij = 1.0\n",
      "    neighbor_a = 2.7797787480137583, neighbor_b = 3.8202212519862413\n",
      "    Dimension 4: min_val = 2.4, max_val = 4.4, r_ij = 2.0000000000000004\n",
      "    neighbor_a = 1.403318395158758, neighbor_b = 5.396681604841242\n",
      "    offspring a = [1.0, 1.0, 1.0, 1.0, 1.0], of_a 2.0\n",
      "    offspring b = [1.0, 1.0, 1.0, 1.0, 1.0], of_b 2.0\n",
      "    update x = [1.0, 1.0, 1.0, 1.0, 1.0], of = 2.0, fit = 0.3333333333333333\n",
      "\n"
     ]
    }
   ],
   "source": [
    "print(report)"
   ]
  },
  {
   "cell_type": "markdown",
   "metadata": {},
   "source": [
    "### `arithmetic_crossover`"
   ]
  },
  {
   "cell_type": "code",
   "execution_count": 1,
   "metadata": {},
   "outputs": [
    {
     "name": "stdout",
     "output_type": "stream",
     "text": [
      "x new  [2.099209543646729, 3.1226423497299867, 2.0, 3.5158093202927043, 3.0300633766390743]\n",
      "of new  14.157575952464722\n",
      "fit new 0.06597360970752011\n",
      "number of evalutions objective function 2\n"
     ]
    }
   ],
   "source": [
    "from metapy_toolbox import arithmetic_crossover\n",
    "\n",
    "# Data\n",
    "father1 = [2.0, 1.5, 1.6, 3.7, 3.4]\n",
    "father2 = [2.6, 4.9, 1.9, 3.2, 2.9]\n",
    "alpha = 0.5\n",
    "nDimensions = len(father1)\n",
    "xUpper = [5, 5, 5, 5, 5]\n",
    "xLower = [2, 2, 2, 2, 2]\n",
    "noneVariable = None\n",
    "\n",
    "# Objective function\n",
    "def objFunction(x, _):\n",
    "    \"\"\"Example objective function\"\"\"\n",
    "    x0 = x[0]\n",
    "    x1 = x[1]\n",
    "    of = x0 ** 2 + x1 ** 2\n",
    "    return of\n",
    "\n",
    "# Call function\n",
    "xNew, ofNew, fitNew, neof, report = arithmetic_crossover(objFunction, father1, father2, nDimensions, xUpper, xLower, noneVariable)\n",
    "\n",
    "# Output details\n",
    "print('x new ', xNew)\n",
    "print('of new ', ofNew)\n",
    "print('fit new', fitNew)\n",
    "print('number of evalutions objective function', neof)"
   ]
  },
  {
   "cell_type": "code",
   "execution_count": 2,
   "metadata": {},
   "outputs": [
    {
     "name": "stdout",
     "output_type": "stream",
     "text": [
      "    Crossover operator - Arithmetic crossover\n",
      "    current p0 = [2.0, 1.5, 1.6, 3.7, 3.4]\n",
      "    current p1 = [2.6, 4.9, 1.9, 3.2, 2.9]\n",
      "    neighbor_a = 2.099209543646729, neighbor_b = 2.500790456353271\n",
      "    neighbor_a = 3.1226423497299867, neighbor_b = 3.2773576502700137\n",
      "    neighbor_a = 1.8636934930092481, neighbor_b = 1.6363065069907519\n",
      "    neighbor_a = 3.5158093202927043, neighbor_b = 3.384190679707296\n",
      "    neighbor_a = 3.0300633766390743, neighbor_b = 3.2699366233609255\n",
      "    offspring a = [2.099209543646729, 3.1226423497299867, 2.0, 3.5158093202927043, 3.0300633766390743], of_a = 14.157575952464722\n",
      "    offspring b = [2.500790456353271, 3.2773576502700137, 2.0, 3.384190679707296, 3.2699366233609255], of_b = 16.995026074370987\n",
      "    update pos = [2.099209543646729, 3.1226423497299867, 2.0, 3.5158093202927043, 3.0300633766390743], of = 14.157575952464722, fit = 0.06597360970752011\n",
      "\n"
     ]
    }
   ],
   "source": [
    "print(report)"
   ]
  },
  {
   "cell_type": "markdown",
   "metadata": {},
   "source": [
    "### `heuristicc_crossover`"
   ]
  },
  {
   "cell_type": "code",
   "execution_count": 25,
   "metadata": {},
   "outputs": [
    {
     "name": "stdout",
     "output_type": "stream",
     "text": [
      "x new  [1.437692380167753, 1.7086497918174648, 3.2232816656355117, 4.536070168960613, 5.0]\n",
      "of new  4.986443491070284\n",
      "fit new 0.167044089114289\n",
      "number of evalutions objective function 2\n"
     ]
    }
   ],
   "source": [
    "from metapy_toolbox import heuristic_crossover\n",
    "\n",
    "# Data\n",
    "father1 = [1.8, 1.9, 3.0, 4.1, 4.5]\n",
    "father2 = [2.7, 4.6, 2.7, 3.5, 3.7]\n",
    "nDimensions = len(father1)\n",
    "xUpper = [5, 5, 5, 5, 5]\n",
    "xLower = [1, 1, 1, 1, 1]\n",
    "noneVariable = None\n",
    "\n",
    "# Objective function\n",
    "def objFunction(x, _):\n",
    "    \"\"\"Example objective function\"\"\"\n",
    "    x0 = x[0]\n",
    "    x1 = x[1]\n",
    "    of = x0 ** 2 + x1 ** 2\n",
    "    return of\n",
    "\n",
    "# Call function\n",
    "xNew, ofNew, fitNew, neof, report = heuristic_crossover(objFunction, father1, father2, nDimensions, xUpper, xLower, noneVariable)\n",
    "\n",
    "# Output details\n",
    "print('x new ', xNew)\n",
    "print('of new ', ofNew)\n",
    "print('fit new', fitNew)\n",
    "print('number of evalutions objective function', neof)"
   ]
  },
  {
   "cell_type": "code",
   "execution_count": 9,
   "metadata": {},
   "outputs": [
    {
     "name": "stdout",
     "output_type": "stream",
     "text": [
      "    Crossover operator - Heuristic crossover\n",
      "    current p0 = [1, 1, 1, 1, 1]\n",
      "    current p1 = [10, 10, 10, 10, 10]\n",
      "    random number = 0.7812494156747201\n",
      "    neighbor_a = -6.031244741072481, neighbor_b = 17.03124474107248\n",
      "    random number = 0.11545651624084319\n",
      "    neighbor_a = -0.03910864616758869, neighbor_b = 11.03910864616759\n",
      "    random number = 0.9377837297687475\n",
      "    neighbor_a = -7.440053567918728, neighbor_b = 18.440053567918728\n",
      "    random number = 0.3386905662828823\n",
      "    neighbor_a = -2.048215096545941, neighbor_b = 13.048215096545942\n",
      "    random number = 0.37050392454406256\n",
      "    neighbor_a = -2.334535320896563, neighbor_b = 13.334535320896563\n",
      "    offspring a = [1.0, 1.0, 1.0, 1.0, 1.0], of_a = 5.0\n",
      "    offspring b = [10.0, 10.0, 10.0, 10.0, 10.0], of_b = 50.0\n",
      "    update pos = [1.0, 1.0, 1.0, 1.0, 1.0], of = 5.0, fit = 0.16666666666666666\n",
      "\n"
     ]
    }
   ],
   "source": [
    "print(report)"
   ]
  },
  {
   "cell_type": "markdown",
   "metadata": {},
   "source": [
    "### `laplace_crossover`"
   ]
  },
  {
   "cell_type": "code",
   "execution_count": 12,
   "metadata": {},
   "outputs": [
    {
     "name": "stdout",
     "output_type": "stream",
     "text": [
      "x new  [7.548562129830823, 9.716816253769316, 9.401494014953634, 10.0, 10.0]\n",
      "of new  46.66687239855378\n",
      "fit new 0.02097893043283327\n",
      "number of evalutions objective function 2\n"
     ]
    }
   ],
   "source": [
    "from metapy_toolbox import laplace_crossover\n",
    "\n",
    "# Data\n",
    "father1 = [3.1, 1.7, 1.2, 3.4, 4.7]\n",
    "father2 = [4.2, 1.6, 3.3, 3.0, 3.7]\n",
    "mu = 0.75\n",
    "sigma = 0.25\n",
    "nDimensions = len(father1)\n",
    "xUpper = [5, 5, 5, 5, 5]\n",
    "xLower = [1, 1, 1, 1, 1]\n",
    "noneVariable = None\n",
    "\n",
    "# Objective function\n",
    "def objFunction(x, _):\n",
    "    \"\"\"Example objective function\"\"\"\n",
    "    x0 = x[0]\n",
    "    x1 = x[1]\n",
    "    of = x0 ** 2 + x1 ** 2\n",
    "    return of\n",
    "\n",
    "# Call function\n",
    "xNew, ofNew, fitNew, neof, report = laplace_crossover(objFunction, father1, father2, mu, sigma, nDimensions, xUpper, xLower, noneVariable)\n",
    "\n",
    "# Output details\n",
    "print('x new ', xNew)\n",
    "print('of new ', ofNew)\n",
    "print('fit new', fitNew)\n",
    "print('number of evalutions objective function', neof)"
   ]
  },
  {
   "cell_type": "code",
   "execution_count": 3,
   "metadata": {},
   "outputs": [
    {
     "name": "stdout",
     "output_type": "stream",
     "text": [
      "    Crossover operator - Arithmetic crossover\n",
      "    current p0 = [2.0, 1.5, 1.6, 3.7, 3.4]\n",
      "    current p1 = [2.6, 4.9, 1.9, 3.2, 2.9]\n",
      "    neighbor_a = 2.099209543646729, neighbor_b = 2.500790456353271\n",
      "    neighbor_a = 3.1226423497299867, neighbor_b = 3.2773576502700137\n",
      "    neighbor_a = 1.8636934930092481, neighbor_b = 1.6363065069907519\n",
      "    neighbor_a = 3.5158093202927043, neighbor_b = 3.384190679707296\n",
      "    neighbor_a = 3.0300633766390743, neighbor_b = 3.2699366233609255\n",
      "    offspring a = [2.099209543646729, 3.1226423497299867, 2.0, 3.5158093202927043, 3.0300633766390743], of_a = 14.157575952464722\n",
      "    offspring b = [2.500790456353271, 3.2773576502700137, 2.0, 3.384190679707296, 3.2699366233609255], of_b = 16.995026074370987\n",
      "    update pos = [2.099209543646729, 3.1226423497299867, 2.0, 3.5158093202927043, 3.0300633766390743], of = 14.157575952464722, fit = 0.06597360970752011\n",
      "\n"
     ]
    }
   ],
   "source": [
    "print(report)"
   ]
  },
  {
   "cell_type": "markdown",
   "metadata": {},
   "source": [
    "### `multi_point_crossover`"
   ]
  },
  {
   "cell_type": "code",
   "execution_count": 6,
   "metadata": {},
   "outputs": [
    {
     "name": "stdout",
     "output_type": "stream",
     "text": [
      "x new  [1.7, 1.6, 1.7, 1.6, 1.7]\n",
      "of new  5.45\n",
      "fit new 0.15503875968992248\n",
      "number of evalutions objective function 2\n"
     ]
    }
   ],
   "source": [
    "from metapy_toolbox import multi_point_crossover\n",
    "\n",
    "# Data\n",
    "father1 = [1.7, 3.6, 2.7, 1.5, 1.3]\n",
    "father2 = [3.9, 1.6, 2.5, 3.2, 3.3]\n",
    "nDimensions = len(father1)\n",
    "xUpper = [5, 5, 5, 5, 5]\n",
    "xLower = [1, 1, 1, 1, 1]\n",
    "noneVariable = None\n",
    "\n",
    "# Objective function\n",
    "def objFunction(x, _):\n",
    "    \"\"\"Example objective function\"\"\"\n",
    "    x0 = x[0]\n",
    "    x1 = x[1]\n",
    "    of = x0 ** 2 + x1 ** 2\n",
    "    return of\n",
    "\n",
    "# Call function\n",
    "xNew, ofNew, fitNew, neof, report = multi_point_crossover(objFunction, father1, father2, nDimensions, xUpper, xLower, noneVariable)\n",
    "\n",
    "# Output details\n",
    "print('x new ', xNew)\n",
    "print('of new ', ofNew)\n",
    "print('fit new', fitNew)\n",
    "print('number of evalutions objective function', neof)"
   ]
  },
  {
   "cell_type": "code",
   "execution_count": 7,
   "metadata": {},
   "outputs": [
    {
     "name": "stdout",
     "output_type": "stream",
     "text": [
      "    Crossover operator - multi point crossover\n",
      "    current p0 = [1.7, 3.6, 2.7, 1.5, 1.3]\n",
      "    current p1 = [3.9, 1.6, 2.5, 3.2, 3.3]\n",
      "    cut mask = [0, 1, 0, 1, 0]\n",
      "    offspring a = [1.7, 1.6, 1.7, 1.6, 1.7], of_a = 5.45\n",
      "    offspring b = [3.9, 3.6, 3.9, 3.6, 3.9], of_b = 28.17\n",
      "    update pos = [1.7, 1.6, 1.7, 1.6, 1.7], of = 5.45, fit = 0.15503875968992248\n",
      "\n"
     ]
    }
   ],
   "source": [
    "print(report)"
   ]
  },
  {
   "cell_type": "markdown",
   "metadata": {},
   "source": [
    "### `simulated_binary_crossover`"
   ]
  },
  {
   "cell_type": "code",
   "execution_count": 2,
   "metadata": {},
   "outputs": [
    {
     "name": "stdout",
     "output_type": "stream",
     "text": [
      "x new  [3.6371818435745453, 2.81116885353825, 2.4485231406036525, 3.520665834632936, 5.0]\n",
      "of new  21.13176208633189\n",
      "fit new 0.04518393050219797\n",
      "number of evalutions objective function 2\n"
     ]
    }
   ],
   "source": [
    "from metapy_toolbox import simulated_binary_crossover\n",
    "\n",
    "# Data\n",
    "father1 = [3.8, 3.0, 2.7, 3.6, 4.5]\n",
    "father2 = [4.3, 2.5, 2.1, 1.1, 1.8]\n",
    "eta_c = 0.30\n",
    "nDimensions = len(father1)\n",
    "xUpper = [5, 5, 5, 5, 5]\n",
    "xLower = [1, 1, 1, 1, 1]\n",
    "noneVariable = None\n",
    "\n",
    "# Objective function\n",
    "def objFunction(x, _):\n",
    "    \"\"\"Example objective function\"\"\"\n",
    "    x0 = x[0]\n",
    "    x1 = x[1]\n",
    "    of = x0 ** 2 + x1 ** 2\n",
    "    return of\n",
    "    \n",
    "# Call function\n",
    "xNew, ofNew, fitNew, neof, report = simulated_binary_crossover(objFunction, father1, father2, eta_c, nDimensions, xUpper, xLower, noneVariable)\n",
    "\n",
    "# Output details\n",
    "print('x new ', xNew)\n",
    "print('of new ', ofNew)\n",
    "print('fit new', fitNew)\n",
    "print('number of evalutions objective function', neof)"
   ]
  },
  {
   "cell_type": "code",
   "execution_count": 3,
   "metadata": {},
   "outputs": [
    {
     "name": "stdout",
     "output_type": "stream",
     "text": [
      "    Crossover operator - simulated binary crossover\n",
      "    current p0 = [3.8, 3.0, 2.7, 3.6, 4.5]\n",
      "    current p1 = [4.3, 2.5, 2.1, 1.1, 1.8]\n",
      "    random number = 0.7395012830572558 > 0.50, beta = 1.6512726257018162\n",
      "    neighbor_a 3.6371818435745453\n",
      "    neighbor_b 3.6371818435745453\n",
      "    random number = 0.08019318011743659 <= 0.50, beta = 0.24467541415300118\n",
      "    neighbor_a 2.81116885353825\n",
      "    neighbor_b 2.81116885353825\n",
      "    random number = 0.04682156719983155 <= 0.50, beta = 0.16174380201217442\n",
      "    neighbor_a 2.4485231406036525\n",
      "    neighbor_b 2.4485231406036525\n",
      "    random number = 0.4591449525617629 <= 0.50, beta = 0.9365326677063486\n",
      "    neighbor_a 3.520665834632936\n",
      "    neighbor_b 3.520665834632936\n",
      "    random number = 0.8856693688660848 > 0.50, beta = 3.1112060299510342\n",
      "    neighbor_a 7.350128140433897\n",
      "    neighbor_b 7.350128140433897\n",
      "    offspring a = [3.6371818435745453, 2.81116885353825, 2.4485231406036525, 3.520665834632936, 5.0], of_a = 21.13176208633189\n",
      "    offspring b = [3.6371818435745453, 2.81116885353825, 2.4485231406036525, 3.520665834632936, 5.0], of_b = 21.13176208633189\n",
      "    update pos = [3.6371818435745453, 2.81116885353825, 2.4485231406036525, 3.520665834632936, 5.0], of = 21.13176208633189, fit = 0.04518393050219797\n",
      "\n"
     ]
    }
   ],
   "source": [
    "print(report)"
   ]
  },
  {
   "cell_type": "markdown",
   "metadata": {},
   "source": [
    "### `binomial_crossover`"
   ]
  },
  {
   "cell_type": "code",
   "execution_count": 8,
   "metadata": {},
   "outputs": [
    {
     "name": "stdout",
     "output_type": "stream",
     "text": [
      "x new  [4.3, 3.1, 1.6, 1.7, 4.2]\n",
      "of new  28.1\n",
      "fit new 0.034364261168384876\n",
      "number of evalutions objective function 2\n"
     ]
    }
   ],
   "source": [
    "from metapy_toolbox import binomial_crossover\n",
    "\n",
    "# Data\n",
    "father1 = [4.3, 3.1, 4.8, 3.5, 4.8]\n",
    "father2 = [3.9, 4.0, 1.6, 1.7, 4.2]\n",
    "p_c = 0.30\n",
    "nDimensions = len(father1)\n",
    "xUpper = [5, 5, 5, 5, 5]\n",
    "xLower = [1, 1, 1, 1, 1]\n",
    "noneVariable = None\n",
    "\n",
    "# Objective function\n",
    "def objFunction(x, _):\n",
    "    \"\"\"Example objective function\"\"\"\n",
    "    x0 = x[0]\n",
    "    x1 = x[1]\n",
    "    of = x0 ** 2 + x1 ** 2\n",
    "    return of\n",
    "\n",
    "# Call function\n",
    "xNew, ofNew, fitNew, neof, report = binomial_crossover(objFunction, father1, father2, p_c, nDimensions, xUpper, xLower, noneVariable)\n",
    "\n",
    "# Output details\n",
    "print('x new ', xNew)\n",
    "print('of new ', ofNew)\n",
    "print('fit new', fitNew)\n",
    "print('number of evalutions objective function', neof)"
   ]
  },
  {
   "cell_type": "code",
   "execution_count": 9,
   "metadata": {},
   "outputs": [
    {
     "name": "stdout",
     "output_type": "stream",
     "text": [
      "    Crossover operator - uniform crossover\n",
      "    current p0 = [4.3, 3.1, 4.8, 3.5, 4.8]\n",
      "    current p1 = [3.9, 4.0, 1.6, 1.7, 4.2]\n",
      "    random number = 0.24575911573158438 < p_c = 0.3\n",
      "    cut parent_0 -> of_a 4.3\n",
      "    cut parent_1 -> of_b 3.9\n",
      "    random number = 0.2597531030020548 < p_c = 0.3\n",
      "    cut parent_0 -> of_a 3.1\n",
      "    cut parent_1 -> of_b 4.0\n",
      "    random number = 0.4561316060102293 >= 0.50\n",
      "    cut parent_1 -> of_a 1.6\n",
      "    cut parent_0 -> of_b 4.8\n",
      "    random number = 0.506621634648928 >= 0.50\n",
      "    cut parent_1 -> of_a 1.7\n",
      "    cut parent_0 -> of_b 3.5\n",
      "    random number = 0.5382296135101402 >= 0.50\n",
      "    cut parent_1 -> of_a 4.2\n",
      "    cut parent_0 -> of_b 4.8\n",
      "    offspring a = [4.3, 3.1, 1.6, 1.7, 4.2], of_a = 28.1\n",
      "    offspring b = [3.9, 4.0, 4.8, 3.5, 4.8], of_b = 31.21\n",
      "    update pos = [4.3, 3.1, 1.6, 1.7, 4.2], of = 28.1, fit = 0.034364261168384876\n",
      "\n"
     ]
    }
   ],
   "source": [
    "print(report)"
   ]
  }
 ],
 "metadata": {
  "kernelspec": {
   "display_name": "Python 3",
   "language": "python",
   "name": "python3"
  },
  "language_info": {
   "codemirror_mode": {
    "name": "ipython",
    "version": 3
   },
   "file_extension": ".py",
   "mimetype": "text/x-python",
   "name": "python",
   "nbconvert_exporter": "python",
   "pygments_lexer": "ipython3",
   "version": "3.10.12"
  }
 },
 "nbformat": 4,
 "nbformat_minor": 2
}
