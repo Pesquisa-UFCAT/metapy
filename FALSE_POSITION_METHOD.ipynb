{
  "cells": [
    {
      "cell_type": "markdown",
      "metadata": {
        "id": "4APaiuTJebDW"
      },
      "source": [
        "# FALSE POSITION METHOD\n",
        "\n",
        "The false position method is a quite ancient way of solving problems related to systems of linear equations. Its origin dates back to Ancient Egypt, the beginnings of Chinese civilization, and some other locations, all independently from each other, as they attempted to develop practical methodologies for solving problems related to trade, tax collection, and surveying, for example (MEDEIROS & MEDEIROS, 2004).\n",
        "\n",
        "Essentially, this method is an attempt to solve a specific mathematical problem by initially adopting a temporary and convenient solution. Later on, the actual value will be calculated through a proportion between the data presented in the problem and the results obtained using the initially proposed value (CARVALHO, CAVALARI & CRISTÓVÃO, 2021).\n",
        "\n",
        "## Numerial Method\n",
        "\n",
        "In order to formulate the false position method for estimating the roots of a function, we utilize an initial interval where the function changes sign. This means that the function has positive values at one end of the interval and negative values at the other end. Iteratively, we narrow down the initial interval until the root of the function is found with satisfactory precision.\n",
        "\n",
        "The step-by-step procedure for this method is as follows:\n",
        "\n",
        "**Step 1**: In a given interval $[a, b]$, where the function $f(x)$ is continuous and $f(a) * f(b) < 0$ (indicating a sign change of the function), we determine the midpoint c of the interval using Equation (1):\n",
        "\n",
        "$$\n",
        "c = \\frac{{a \\cdot f(b) - b \\cdot f(a)}}{{f(b) - f(a)}}\n",
        "\\tag{1}\n",
        "$$\n",
        "\n",
        "**Step 2**: We calculate the function value at the midpoint, $f(c)$.\n",
        "\n",
        "**Step 3**: If the value of $f(c)$ is sufficiently close to our acceptable tolerance, we consider c as an approximate root of the function.\n",
        "\n",
        "**Step 4**: If the acceptable tolerance is not met and the value of $f(c)$ has the same sign as $f(a)$, we update the interval to $[c, b]$. Otherwise, we update the interval to $[a, c]$.\n",
        "\n",
        "**Step 5**: Steps **1** to **4** are repeated until the stopping condition is met or a maximum number of iterations is reached.\n",
        "\n",
        "It is important to note that the false position method can exhibit slow convergence in some cases, particularly when the function has flat or nearly flat regions. Therefore, it may be necessary to employ additional strategies such as defining appropriate stopping criteria or combining it with other numerical methods to enhance the efficiency and reliability of the root approximation.\n",
        "\n",
        "\n",
        "\n",
        "### _Algorithm steps_\n",
        "\n",
        "```python\n",
        "# Step 1: Initialize interval boundaries, maximum iterations, and function theta(x)\n",
        "X_L = EQ(1)\n",
        "X_U = EQ(2)\n",
        "N_ITER = EQ(3)\n",
        "\n",
        "for I in range(N_ITER):\n",
        "    # Step 2: Calculate function values at interval boundaries\n",
        "    U_I = EQ(3)\n",
        "    V_I = EQ(4)\n",
        "\n",
        "    # Step 3: Calculate theta values for the function\n",
        "    THETA_U = THETA(U_I)\n",
        "    THETA_V = THETA(V_I)\n",
        "\n",
        "    if THETA_U <= THETA_V:\n",
        "        # Step 5: Update interval boundaries when theta(U) is less than or equal to theta(V)\n",
        "        X_L = X_L\n",
        "        X_U = V_I\n",
        "    elif THETA_U > THETA_V:\n",
        "        # Step 7: Update interval boundaries when theta(U) is greater than theta(V)\n",
        "        X_L = U_I\n",
        "        X_U = X_U\n",
        "\n",
        "```\n",
        "\n",
        "### _Example_\n",
        "\n",
        "For the application example of the False Position Method, let's consider the function $f(x) = x^2 - 4$. We will start with an interval $[a, b]$ where the function changes sign. In this case, we choose $[1, 3]$ as our initial estimates. Thus, we begin the first iteration.    \n",
        "\n",
        "  \n",
        "**Iteration 1**:\n",
        "**Step 1**: Calculate the midpoint c of the interval using the false position formula given in Equation **1**:\n",
        "\n",
        "$$\n",
        "c = \\frac{{a \\cdot f(b) - b \\cdot f(a)}}{{f(b) - f(a)}}\n",
        "\\tag{1}\n",
        "$$\n",
        "\\\n",
        "\\\n",
        "$$\n",
        "c = \\frac{{1 \\cdot f(3) - 3 \\cdot f(1)}}{{f(3) - f(1)}}\\\n",
        "$$\n",
        "\\\n",
        "\\\n",
        "$$\n",
        "c = \\frac{{1 \\cdot (3^2-4) - 3 \\cdot (1^2-4)}}{{(3^2-4) - (1^2-4)}}\\\n",
        "$$\n",
        "\\\n",
        "\\\n",
        "$$\n",
        "c = 1.75\n",
        "$$\n",
        "\\\n",
        "\\\n",
        "**Step 2**: Calculate the function value at the midpoint:\n",
        "\\\n",
        "\\\n",
        "$$f(c) = (1.75)^2 - 4$$\n",
        "\\\n",
        "\\\n",
        "$$f(c) = -0.9375$$\n",
        "\\\n",
        "\\\n",
        "**Step 3**: Check if the value of $f(c)$ is sufficiently close to the acceptable tolerance $(e.g., 0.001)$. If yes, consider $c$ as an approximate root. Otherwise, proceed to the next step.\n",
        "**Step 4**: Check if $f(c)$ has the same sign as $f(a)$. In this case, $f(c)$ is negative, while $f(a)$ is positive. Therefore, update the interval to $[c, b]$.\n",
        "\n",
        "**Iteration 2**:\n",
        "**Step 1**: Calculate the new midpoint $c$ of the updated interval:\n",
        "\\\n",
        "\\\n",
        "$$\n",
        "c = \\frac{{a \\cdot f(b) - b \\cdot f(a)}}{{f(b) - f(a)}}\n",
        "\\tag{1}\n",
        "$$\n",
        "\\\n",
        "\\\n",
        "$$\n",
        "c = \\frac{{1.75 \\cdot f(3) - 3 \\cdot f(1.75)}}{{f(3) - f(1.75)}}\\\n",
        "$$\n",
        "\\\n",
        "\\\n",
        "$$\n",
        "c = \\frac{{1.75 \\cdot (3^2-4) - 3 \\cdot (1.75^2-4)}}{{(3^2-4) - (1.75^2-4)}}\\\n",
        "$$\n",
        "\\\n",
        "\\\n",
        "$$\n",
        "c = 1.9496\n",
        "$$\n",
        "\\\n",
        "\\\n",
        "**Step 2**: Calculate the function value at the new midpoint:\n",
        "\n",
        "$f(c) = (1.9496)^2 - 4$\n",
        "\n",
        "$f(c) = -1.1998$\n",
        "\n",
        "**Step 3**: Check if the value of $f(c)$ is sufficiently close to the acceptable tolerance. In this case, it is not close enough.\n",
        "**Step 4**: Check if $f(c)$ has the same sign as $f(a)$. In this case, $f(c)$ is negative, while $f(a)$ is positive. Therefore, update the interval to $[c, b]$.\n",
        "\n",
        "These steps are repeated until the stopping condition is met or a maximum number of iterations is reached. However, for demonstration purposes, only 2 iterations were performed."
      ]
    },
    {
      "cell_type": "markdown",
      "metadata": {
        "id": "OonE0PvnebDd"
      },
      "source": [
        "## ALGORITHM IMPLEMENTATION"
      ]
    },
    {
      "cell_type": "code",
      "execution_count": 5,
      "metadata": {
        "id": "nwe8-rrwebDe"
      },
      "outputs": [],
      "source": [
        "def false_position_method(f, a, b, tol, max_iter):\n",
        "    # Check if the function changes sign in the interval limits\n",
        "    if f(a) * f(b) >= 0:\n",
        "        print(\"Error: The function does not change sign in the interval.\")\n",
        "        return None\n",
        "\n",
        "    # Initialization of variables\n",
        "    c = a  # Initial approximation of the root\n",
        "    iterations = 0\n",
        "\n",
        "    # False Position method iteration\n",
        "    while abs(f(c)) > tol and iterations < max_iter:\n",
        "        # Calculate the false position\n",
        "        c = (a * f(b) - b * f(a)) / (f(b) - f(a))\n",
        "\n",
        "        # Update the interval limits\n",
        "        if f(c) * f(a) < 0:\n",
        "            b = c\n",
        "        else:\n",
        "            a = c\n",
        "\n",
        "        iterations += 1\n",
        "\n",
        "    # Check if the maximum number of iterations was reached\n",
        "    if iterations == max_iter:\n",
        "        print(\"Maximum number of iterations reached.\")\n",
        "\n",
        "    return c"
      ]
    },
    {
      "cell_type": "markdown",
      "metadata": {
        "id": "53WEojulebDg"
      },
      "source": [
        "### _Algorithm example_"
      ]
    },
    {
      "cell_type": "code",
      "execution_count": 6,
      "metadata": {
        "colab": {
          "base_uri": "https://localhost:8080/"
        },
        "id": "neqTgunuebDh",
        "outputId": "129567c8-990a-4854-fb6b-34f973139adc"
      },
      "outputs": [
        {
          "output_type": "stream",
          "name": "stdout",
          "text": [
            "Approximation of the root: 1.999999863466671\n"
          ]
        }
      ],
      "source": [
        "def f(x):\n",
        "    # Define your function here\n",
        "    return x**2 - 4\n",
        "\n",
        "# Initial interval\n",
        "a = 1\n",
        "b = 3\n",
        "\n",
        "# Tolerance and maximum number of iterations\n",
        "tolerance = 1e-6\n",
        "max_iterations = 100\n",
        "\n",
        "# Call the false position method function\n",
        "root = false_position_method(f, a, b, tolerance, max_iterations)\n",
        "\n",
        "# Check if a root was found\n",
        "if root is not None:\n",
        "    print(\"Approximation of the root:\", root)"
      ]
    }
  ],
  "metadata": {
    "kernelspec": {
      "display_name": "Python 3",
      "language": "python",
      "name": "python3"
    },
    "language_info": {
      "codemirror_mode": {
        "name": "ipython",
        "version": 3
      },
      "file_extension": ".py",
      "mimetype": "text/x-python",
      "name": "python",
      "nbconvert_exporter": "python",
      "pygments_lexer": "ipython3",
      "version": "3.11.0"
    },
    "orig_nbformat": 4,
    "colab": {
      "provenance": []
    }
  },
  "nbformat": 4,
  "nbformat_minor": 0
}